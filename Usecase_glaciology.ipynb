{
 "cells": [
  {
   "cell_type": "markdown",
   "metadata": {},
   "source": [
    "# Usecase in Glaciology:\n",
    "\n",
    "\n",
    "The task it to predict glacier ice thickness from all other attributes available in the database is *Glatilda* for [*Glacier Ice Thickness Database*](!https://www.gtn-g.ch/data_catalogue_glathida/).\n",
    "\n",
    "\n",
    "We will perform the full end-to-end ML workflow to predict ice thickness:\n",
    "- Data preparation\n",
    "- Data exploration: look at correlations among attributes (e.g, homework 3)\n",
    "- Toy problem of a multi variate regression problem: \n",
    "    - use all numerical attributes to predict ice thickness.\n",
    "    - use a regression model of your choice to set up the problem.\n",
    "    - train, validate, test, discuss performance\n",
    "    - models can be: Decision trees, RF, SVM, GB(gradient boosting regressor), XGBoost\n",
    "    - discuss importance feature if you can.\n",
    "\n",
    "- Perform a hyperparameter search of the chosen regression models. grid search or random.\n",
    "- Use ensemble learning with Voting or Bagging\n",
    "- Use ensemble learning with XGBoost (some hyperparameter tuning can be foujnd there: https://www.kaggle.com/code/prashant111/a-guide-on-xgboost-hyperparameters-tuning/notebook). There is an example or randomizedsearch here: https://stackoverflow.com/questions/69786993/tuning-xgboost-hyperparameters-with-randomizedsearchcv\n",
    "- Be adventurous and try ``auto-sklearn``"
   ]
  },
  {
   "cell_type": "code",
   "execution_count": null,
   "metadata": {},
   "outputs": [],
   "source": [
    "# solution\n",
    "import pandas as pd\n",
    "import matplotlib.pyplot as plt\n",
    "import numpy as np\n",
    "import sklearn\n"
   ]
  },
  {
   "cell_type": "code",
   "execution_count": null,
   "metadata": {},
   "outputs": [],
   "source": [
    "!git clone https://gitlab.com/wgms/glathida.git"
   ]
  },
  {
   "cell_type": "code",
   "execution_count": null,
   "metadata": {},
   "outputs": [],
   "source": [
    "t_path = \"glathida/data/glacier.csv\"\n",
    "G = pd.read_csv(t_path, index_col=0)\n",
    "G.head()"
   ]
  }
 ],
 "metadata": {
  "kernelspec": {
   "display_name": "Python 3 (ipykernel)",
   "language": "python",
   "name": "python3"
  },
  "language_info": {
   "codemirror_mode": {
    "name": "ipython",
    "version": 3
   },
   "file_extension": ".py",
   "mimetype": "text/x-python",
   "name": "python",
   "nbconvert_exporter": "python",
   "pygments_lexer": "ipython3",
   "version": "3.8.13"
  },
  "vscode": {
   "interpreter": {
    "hash": "f625eed87f201675869c1975f26c79747f846dd12cd9c70305bdb23b2c204f1d"
   }
  }
 },
 "nbformat": 4,
 "nbformat_minor": 4
}
