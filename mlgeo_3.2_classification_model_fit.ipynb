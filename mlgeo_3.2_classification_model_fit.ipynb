{
 "cells": [
  {
   "cell_type": "markdown",
   "id": "2dfc3a0d-777c-4e95-b242-8c130d51bd3d",
   "metadata": {},
   "source": [
    "# **Classification**\n",
    "\n",
    "Problems that need a *quantitative* response (numeric value) are **regression** ; problems that need a *qualitative* response (boolean or category) are **classification**. Many statistical methods can be applied to both types of problems.\n",
    "\n",
    "**Binary** classification have two output classes. They usually end up being \"A\" and \"not A\". Examples are \"earthquake\" or \"no earthquake=noise\". **Multiclass** classification refers to one with more than two classes.\n",
    "\n",
    "Classification here requires that we know the labeled, it is a form of *supervised learning*.\n",
    "\n",
    "There are several classifier algorithms, which we will summarize below before practicing.\n",
    "\n",
    "* **Linear Discriminant Analysis (LDA)**: The LDA optimiziation methods produces an optimal dimensionality reductions to a decision line for classificaiton. It is based on variance reduction and has analogy to a PCA coordinate system.\n",
    "\n",
    "* **Stochastic Gradient Descent (SGD)**:\n",
    "\n",
    "* **Naive Bayes (NB)**: Simple algorithm that requires little hyper-parameters, provides interpretable results. The algorithm computes conditional probabilities and uses the product as a decision rule to maximize the probability in each class.\n",
    "\n",
    "* **K-nearest neighbors (KNN)**: Choose *K* as the numbers of nearest data points to consider. Gather each data sample and the K nearest ones, assign the class that is most represented in that group (the mode of the K labels).\n",
    "\n",
    "* **Support Vector Machine (SVM)**: Finds the hyperplanes that separate the classes with sufficient margins. The hyperplanes can be linear and more complex (kernels SVM such as radial basis function and polynomial kernels). SVM was very popular for limited training data.\n",
    "\n",
    "* **Random Forest (RF)**: Decision trees are common for prediction pipelines. *Decision tree learning* is a method to create a predictive model of trees based on the data. More on that this monday.\n",
    "\n",
    " Some classifiers can handle multi class nateively (Stochastic Gradient Descent - SGD; Random Forest classification;  Naive Bayes). Others are strictly binary classifiers (Logistic Regression, Support Vector Machine classifier - SVM). \n",
    "\n",
    " We can compare them all in one [exercise](!https://scikit-learn.org/stable/auto_examples/classification/plot_classifier_comparison.html).\n"
   ]
  },
  {
   "cell_type": "code",
   "execution_count": 1,
   "id": "6107cdf4",
   "metadata": {},
   "outputs": [],
   "source": [
    "# Code source: Gaël Varoquaux\n",
    "#              Andreas Müller\n",
    "# Modified for documentation by Jaques Grobler\n",
    "# License: BSD 3 clause\n",
    "\n",
    "# basic tools\n",
    "import numpy as np\n",
    "import matplotlib.pyplot as plt\n",
    "from matplotlib.colors import ListedColormap\n",
    "from sklearn.model_selection import train_test_split\n",
    "from sklearn.preprocessing import StandardScaler\n",
    "from sklearn.datasets import make_moons, make_circles, make_classification\n",
    "\n",
    "# classifiers from sklearns\n",
    "from sklearn.neighbors import KNeighborsClassifier\n",
    "from sklearn.svm import SVC\n",
    "from sklearn.gaussian_process import GaussianProcessClassifier\n",
    "from sklearn.gaussian_process.kernels import RBF\n",
    "from sklearn.tree import DecisionTreeClassifier\n",
    "from sklearn.ensemble import RandomForestClassifier, AdaBoostClassifier\n",
    "from sklearn.naive_bayes import GaussianNB\n",
    "from sklearn.discriminant_analysis import QuadraticDiscriminantAnalysis\n",
    "from sklearn.inspection import DecisionBoundaryDisplay\n"
   ]
  },
  {
   "cell_type": "code",
   "execution_count": 2,
   "id": "21d83bb1",
   "metadata": {},
   "outputs": [],
   "source": [
    "# define models\n",
    "names = [\n",
    "    \"Nearest Neighbors\",\n",
    "    \"Linear SVM\",\n",
    "    \"RBF SVM\",\n",
    "    \"Gaussian Process\",\n",
    "    \"Decision Tree\",\n",
    "    \"Random Forest\",\n",
    "    \"Neural Net\",\n",
    "    \"AdaBoost\",\n",
    "    \"Naive Bayes\",\n",
    "    \"QDA\",\n",
    "]\n",
    "\n",
    "classifiers = [\n",
    "    KNeighborsClassifier(3),\n",
    "    SVC(kernel=\"linear\", C=0.025),\n",
    "    SVC(gamma=2, C=1),\n",
    "    GaussianProcessClassifier(1.0 * RBF(1.0)),\n",
    "    DecisionTreeClassifier(max_depth=5),\n",
    "    RandomForestClassifier(max_depth=5, n_estimators=10, max_features=1),\n",
    "    AdaBoostClassifier(),\n",
    "    GaussianNB(),\n",
    "    QuadraticDiscriminantAnalysis(),\n",
    "]\n",
    "\n"
   ]
  },
  {
   "cell_type": "code",
   "execution_count": 18,
   "id": "d396cc63",
   "metadata": {},
   "outputs": [],
   "source": [
    "# make 3 types of data sets\n",
    "X, y = make_classification(\n",
    "    n_features=2, n_redundant=0, n_informative=2, random_state=1, n_clusters_per_class=1\n",
    ")\n",
    "rng = np.random.RandomState(2)\n",
    "X += 2 * rng.uniform(size=X.shape)\n",
    "linearly_separable = (X, y)\n",
    "\n",
    "datasets = [\n",
    "    make_moons(noise=0.3, random_state=0),\n",
    "    make_circles(noise=0.2, factor=0.5, random_state=1),\n",
    "    linearly_separable,\n",
    "]"
   ]
  },
  {
   "cell_type": "code",
   "execution_count": 21,
   "id": "e7e1d400-b37b-4fa8-a813-2bfe15f655e2",
   "metadata": {},
   "outputs": [
    {
     "name": "stdout",
     "output_type": "stream",
     "text": [
      "[(array([[ 0.03159499,  0.98698776],\n",
      "       [ 2.11509784, -0.04624397],\n",
      "       [ 0.88248972, -0.07575606],\n",
      "       [-0.0551441 , -0.03733246],\n",
      "       [ 0.82954503, -0.53932149],\n",
      "       [ 2.11285708,  0.66208353],\n",
      "       [ 0.5696927 ,  0.33744136],\n",
      "       [ 0.95217454, -0.75307471],\n",
      "       [-0.02922115,  0.39287336],\n",
      "       [ 1.71579557,  0.36069454],\n",
      "       [-0.27883014,  0.61420539],\n",
      "       [ 2.00344509, -0.3091496 ],\n",
      "       [ 1.50009616, -0.74636376],\n",
      "       [ 1.22540835,  1.19793017],\n",
      "       [ 0.46730819,  0.54703192],\n",
      "       [-0.36653222,  1.11971633],\n",
      "       [ 0.30124459,  1.23315697],\n",
      "       [ 0.30430746,  0.82373935],\n",
      "       [-0.23712492,  0.77876034],\n",
      "       [ 1.16339832,  0.55290238],\n",
      "       [-0.59702417,  0.6572361 ],\n",
      "       [ 0.46356735, -0.1951543 ],\n",
      "       [ 0.68451111,  0.75287685],\n",
      "       [ 0.70515699, -0.45892444],\n",
      "       [-0.65805008, -0.12944211],\n",
      "       [-0.74662946, -0.3829632 ],\n",
      "       [ 0.60585226,  0.31252842],\n",
      "       [ 2.18137168, -0.02291747],\n",
      "       [ 1.91980633,  0.17247329],\n",
      "       [ 1.4834364 , -0.10517023],\n",
      "       [ 0.47404723, -0.14575067],\n",
      "       [ 1.05614605, -1.03570207],\n",
      "       [ 1.86500732, -0.01107874],\n",
      "       [ 0.4194721 , -0.32478101],\n",
      "       [ 0.06873258,  0.56648467],\n",
      "       [-0.17332432,  1.00215131],\n",
      "       [ 0.12412421,  1.00062892],\n",
      "       [ 0.18121142,  0.24717743],\n",
      "       [-0.25451559,  0.19317272],\n",
      "       [ 1.02580668, -0.62574566],\n",
      "       [ 1.52002143, -0.04515581],\n",
      "       [ 0.64174037, -0.39369468],\n",
      "       [-0.87615589,  0.0465662 ],\n",
      "       [-1.06964997,  0.13666025],\n",
      "       [ 1.02658765,  0.37782458],\n",
      "       [ 0.93131325,  1.38517841],\n",
      "       [ 0.67680544,  1.57189931],\n",
      "       [-0.36885733,  0.72886601],\n",
      "       [-1.02465495,  0.16190215],\n",
      "       [ 0.77455385,  0.15375803],\n",
      "       [ 1.4045116 , -0.00705701],\n",
      "       [-0.38147174, -0.23488747],\n",
      "       [ 0.72155224,  0.44721658],\n",
      "       [-0.51346686,  0.67869095],\n",
      "       [ 0.32118546,  0.28668667],\n",
      "       [ 0.1953628 ,  0.16085107],\n",
      "       [ 0.52824196,  0.98300993],\n",
      "       [-0.2216539 ,  0.25160139],\n",
      "       [ 0.22334676,  1.32217183],\n",
      "       [-0.10704572,  0.56178326],\n",
      "       [ 0.63651685,  0.75444825],\n",
      "       [-0.37227848,  0.99291317],\n",
      "       [ 0.20718083, -0.09767143],\n",
      "       [ 0.12733142, -0.3796549 ],\n",
      "       [ 0.71435231, -0.79994161],\n",
      "       [ 1.09487814, -0.36841845],\n",
      "       [-0.14814362,  0.96158657],\n",
      "       [ 1.586188  , -0.62984517],\n",
      "       [ 0.74444551,  0.57661371],\n",
      "       [ 2.18011028, -0.69977751],\n",
      "       [ 0.24575594,  0.8496383 ],\n",
      "       [-0.95003581,  0.90361699],\n",
      "       [-0.88230758,  0.07249044],\n",
      "       [ 2.02297079,  0.12325148],\n",
      "       [ 2.14577321,  0.46296362],\n",
      "       [ 0.35536468, -0.67847989],\n",
      "       [ 0.34665026,  1.11570676],\n",
      "       [ 1.7392373 ,  0.45900352],\n",
      "       [ 0.63856467, -0.44718443],\n",
      "       [ 1.2876687 , -0.4910366 ],\n",
      "       [-0.13772607,  1.2453262 ],\n",
      "       [-0.56175303,  1.05486051],\n",
      "       [ 1.29003748, -0.20691405],\n",
      "       [-0.87539365,  0.50543423],\n",
      "       [-0.92858249, -0.45631991],\n",
      "       [ 0.02493632,  0.10747958],\n",
      "       [ 0.1972559 , -0.06801668],\n",
      "       [ 0.73346056,  0.28161929],\n",
      "       [ 1.68294434, -0.2020423 ],\n",
      "       [ 0.50764124, -0.11731979],\n",
      "       [ 1.66760217, -0.42485665],\n",
      "       [-0.82172282,  0.63141066],\n",
      "       [ 0.30170903,  0.78603534],\n",
      "       [ 1.37671505, -0.80915107],\n",
      "       [ 1.17037551,  0.59840653],\n",
      "       [ 1.69945309,  0.58771967],\n",
      "       [ 0.21862323, -0.65252119],\n",
      "       [ 0.95291428, -0.41976564],\n",
      "       [-1.31850034,  0.42311235],\n",
      "       [-1.29681764,  0.18414709]]), array([0, 1, 0, 1, 1, 1, 0, 1, 1, 1, 1, 1, 1, 0, 0, 0, 0, 0, 0, 0, 0, 1,\n",
      "       0, 1, 0, 0, 0, 1, 1, 1, 1, 1, 1, 1, 1, 0, 0, 1, 1, 1, 0, 1, 0, 0,\n",
      "       0, 0, 0, 0, 0, 0, 1, 1, 0, 0, 0, 1, 0, 0, 0, 1, 0, 0, 1, 1, 1, 1,\n",
      "       0, 1, 0, 1, 0, 0, 0, 1, 1, 1, 0, 1, 1, 1, 0, 0, 1, 0, 0, 1, 1, 0,\n",
      "       1, 1, 1, 0, 0, 1, 0, 1, 1, 1, 0, 0])), (array([[-0.38289117, -0.09084004],\n",
      "       [-0.02096229, -0.47787416],\n",
      "       [-0.39611596, -1.28942694],\n",
      "       [-0.61813018, -0.06383715],\n",
      "       [ 0.70347838, -0.18703837],\n",
      "       [-0.45970463,  0.69477465],\n",
      "       [-0.45091682, -0.71570524],\n",
      "       [-0.45562004, -0.13406016],\n",
      "       [-0.26513904,  0.40812871],\n",
      "       [-0.15474648,  0.41406973],\n",
      "       [ 0.231206  , -0.53275899],\n",
      "       [ 0.15623875, -0.8678088 ],\n",
      "       [ 0.51647541,  0.48940995],\n",
      "       [ 0.68707007, -0.02334129],\n",
      "       [ 0.54759869, -0.16482373],\n",
      "       [-0.32179572, -0.80553536],\n",
      "       [-1.07478639, -0.733362  ],\n",
      "       [ 0.76758455, -0.43498783],\n",
      "       [-0.47475234, -0.33813186],\n",
      "       [ 0.15420656,  1.07306032],\n",
      "       [ 0.65916696,  0.20773634],\n",
      "       [-0.77795003,  0.1326555 ],\n",
      "       [ 0.47025454, -0.31228748],\n",
      "       [-0.04246799,  0.26555446],\n",
      "       [-0.72405954,  0.48807185],\n",
      "       [-0.36960005, -1.06514028],\n",
      "       [ 0.17833327, -0.49718972],\n",
      "       [-0.93927864, -0.41951638],\n",
      "       [ 0.50914152, -0.70977467],\n",
      "       [-0.05569852, -0.82162607],\n",
      "       [-0.11214579,  0.72197044],\n",
      "       [ 0.80463921, -0.15221296],\n",
      "       [ 0.08261487, -0.11749021],\n",
      "       [ 0.20349541, -0.37396789],\n",
      "       [ 0.13864693, -0.23905642],\n",
      "       [ 0.32785307, -1.00769037],\n",
      "       [ 0.88944061, -0.39117628],\n",
      "       [-0.05837947,  0.28487039],\n",
      "       [-1.0673653 ,  0.2204006 ],\n",
      "       [-0.60071345, -0.69545189],\n",
      "       [-0.03972324, -0.40936056],\n",
      "       [ 0.39742085,  0.20621162],\n",
      "       [-0.36941154,  0.0129811 ],\n",
      "       [ 0.03573703,  0.46666229],\n",
      "       [-0.56814999, -0.41288419],\n",
      "       [ 0.41047299, -0.73640868],\n",
      "       [ 0.88249707, -0.69004404],\n",
      "       [ 0.06579822, -0.50458395],\n",
      "       [-0.75737223, -0.0724028 ],\n",
      "       [ 0.18316966,  0.08722007],\n",
      "       [ 0.67248314, -0.41892665],\n",
      "       [ 0.25898723,  0.39688645],\n",
      "       [-1.1312983 ,  0.4810614 ],\n",
      "       [ 1.0592844 ,  0.64490287],\n",
      "       [ 0.41019663,  0.38790198],\n",
      "       [ 0.95142029, -0.04089983],\n",
      "       [-0.60492988,  0.43950906],\n",
      "       [ 0.23314762, -0.81785711],\n",
      "       [ 0.91067331,  0.30702075],\n",
      "       [-0.45026472, -0.03724104],\n",
      "       [-0.81396121, -0.64733959],\n",
      "       [-0.23191338,  0.50533992],\n",
      "       [-0.59760983,  0.28023168],\n",
      "       [ 0.73960166, -0.84270281],\n",
      "       [ 0.57294659, -0.31198928],\n",
      "       [ 0.24821133, -0.54784509],\n",
      "       [ 0.52127802,  0.94108005],\n",
      "       [ 0.33973198,  0.10609978],\n",
      "       [ 1.05339036, -0.02197593],\n",
      "       [ 0.01327466, -0.63379502],\n",
      "       [ 0.2422589 ,  0.49032064],\n",
      "       [-0.89266612,  0.6345076 ],\n",
      "       [ 0.1672566 ,  0.23548462],\n",
      "       [-0.05611705,  0.38834099],\n",
      "       [ 0.84695486,  0.81435811],\n",
      "       [ 0.29976195, -0.07943031],\n",
      "       [-0.1404762 ,  0.72486032],\n",
      "       [-0.05482024,  0.18417328],\n",
      "       [-0.24643884, -0.43283337],\n",
      "       [-0.23460645,  0.6409442 ],\n",
      "       [-1.13184893, -0.61964942],\n",
      "       [-0.92413821, -0.45302089],\n",
      "       [ 0.2225745 ,  0.77052597],\n",
      "       [-0.69453765,  0.53014147],\n",
      "       [-1.0362509 ,  0.77339965],\n",
      "       [ 0.51880585,  0.30152232],\n",
      "       [-0.77429541,  0.02553767],\n",
      "       [ 0.71468326,  0.56869015],\n",
      "       [-0.33875274,  0.46826063],\n",
      "       [-0.34749244,  0.13441418],\n",
      "       [ 1.12980796,  0.04281936],\n",
      "       [-0.38308979,  0.79116812],\n",
      "       [-0.07425141,  0.2184625 ],\n",
      "       [-0.44945202, -0.05722266],\n",
      "       [ 0.85783288,  0.63778888],\n",
      "       [-0.47486203, -0.22498112],\n",
      "       [ 0.12627243,  0.86978412],\n",
      "       [-0.64736458, -0.36342437],\n",
      "       [ 0.47440459,  1.01101585],\n",
      "       [-0.38565772, -0.81031183]]), array([1, 1, 0, 1, 1, 0, 0, 1, 1, 1, 1, 0, 1, 1, 1, 0, 0, 0, 1, 0, 0, 1,\n",
      "       1, 1, 0, 0, 1, 0, 0, 0, 1, 1, 1, 1, 1, 0, 0, 1, 0, 0, 1, 1, 1, 0,\n",
      "       1, 0, 0, 1, 0, 1, 0, 1, 0, 0, 1, 0, 0, 1, 0, 1, 0, 1, 1, 0, 0, 1,\n",
      "       0, 1, 0, 1, 1, 0, 1, 1, 0, 1, 0, 1, 1, 0, 0, 0, 0, 0, 0, 1, 0, 0,\n",
      "       1, 1, 0, 0, 1, 1, 0, 1, 0, 1, 0, 0])), (array([[-0.17749658,  0.93049627],\n",
      "       [ 1.97742406,  1.76615529],\n",
      "       [ 1.80002379,  1.7003428 ],\n",
      "       [-0.77083686,  2.35916348],\n",
      "       [-0.30800901,  1.59406316],\n",
      "       [ 0.61472141,  2.43489824],\n",
      "       [ 1.0909431 ,  2.21663402],\n",
      "       [-0.83488954,  2.35868875],\n",
      "       [ 2.47946499,  1.33418967],\n",
      "       [ 1.19926597,  1.82681392],\n",
      "       [ 2.18506184,  0.8226875 ],\n",
      "       [ 1.68423203,  1.0411311 ],\n",
      "       [ 1.14621135,  2.07048527],\n",
      "       [ 1.35596945,  0.56802498],\n",
      "       [ 1.38520748,  1.82607238],\n",
      "       [ 1.86729217,  1.18692699],\n",
      "       [ 0.31227376,  2.24605353],\n",
      "       [-0.08183484,  1.70065511],\n",
      "       [ 0.90484472,  2.60683016],\n",
      "       [-0.4358609 ,  2.0151414 ],\n",
      "       [ 0.81441196,  2.13546784],\n",
      "       [ 3.10874312,  2.26786504],\n",
      "       [-0.25574217,  1.71281146],\n",
      "       [ 1.88663027,  2.72089513],\n",
      "       [ 2.29503547,  3.89267759],\n",
      "       [-0.11415626,  0.85593357],\n",
      "       [ 1.69703537,  3.47717799],\n",
      "       [ 1.83855775,  0.92667213],\n",
      "       [ 1.60298807,  1.3018436 ],\n",
      "       [ 1.13803215,  2.82955007],\n",
      "       [ 0.57002738,  1.82202469],\n",
      "       [ 0.25130172,  1.32225048],\n",
      "       [-0.39833078,  1.984345  ],\n",
      "       [ 1.6291326 ,  0.88168182],\n",
      "       [ 3.10503585,  1.74000633],\n",
      "       [-0.00566874,  1.12039041],\n",
      "       [ 1.36866557,  2.13964438],\n",
      "       [ 2.69839961,  3.54932382],\n",
      "       [ 2.00170838,  1.09862314],\n",
      "       [ 2.43627708,  1.43769476],\n",
      "       [-0.30996938,  0.91256444],\n",
      "       [ 0.08528148,  1.72286096],\n",
      "       [ 2.06235803,  1.60351529],\n",
      "       [ 1.61026984,  2.06899308],\n",
      "       [ 1.39875914,  0.69295034],\n",
      "       [ 1.68417195,  1.05499076],\n",
      "       [ 0.6032637 ,  2.18625056],\n",
      "       [-0.80090405,  1.89873999],\n",
      "       [ 2.28622906,  2.00485199],\n",
      "       [-1.08107738,  2.77507784],\n",
      "       [ 0.6731465 ,  1.08374453],\n",
      "       [ 2.96970576,  2.12322913],\n",
      "       [ 0.67950668,  2.09864274],\n",
      "       [-0.44781177,  3.18420372],\n",
      "       [-0.50033854,  2.02105531],\n",
      "       [ 1.85307118,  3.66612496],\n",
      "       [ 1.72186424,  1.78055874],\n",
      "       [ 2.25033483,  3.12143112],\n",
      "       [ 0.31356908,  1.35127949],\n",
      "       [-0.28410691,  1.85727304],\n",
      "       [ 2.12915656,  2.58463127],\n",
      "       [ 1.5764227 ,  2.01987282],\n",
      "       [-1.07819549,  1.40147405],\n",
      "       [ 1.19768119,  2.40249075],\n",
      "       [ 1.37690112,  1.14985842],\n",
      "       [-1.66006488,  1.46313474],\n",
      "       [ 1.24390011,  1.46004628],\n",
      "       [ 1.87922305,  1.72262314],\n",
      "       [ 2.90850791,  2.94159145],\n",
      "       [-0.48122613,  1.79143762],\n",
      "       [ 2.4374304 ,  1.34535331],\n",
      "       [ 2.56579874,  0.99334358],\n",
      "       [ 2.44899241,  2.49072727],\n",
      "       [ 0.46034247,  0.68402612],\n",
      "       [-0.39068268,  2.13223301],\n",
      "       [-1.26676594,  1.15606381],\n",
      "       [ 1.41882694,  2.57154527],\n",
      "       [-0.56760436,  0.99010229],\n",
      "       [-1.80173745,  1.23149132],\n",
      "       [ 0.18035906,  1.25587797],\n",
      "       [ 2.85271766,  1.84520561],\n",
      "       [ 1.84588723,  1.15083733],\n",
      "       [ 2.2332857 ,  3.1528139 ],\n",
      "       [-0.55018044,  1.08169147],\n",
      "       [-0.79089021,  1.65085521],\n",
      "       [-0.13199329,  1.94007796],\n",
      "       [ 0.70257257,  1.35701296],\n",
      "       [ 0.27672155,  2.67298668],\n",
      "       [ 0.61021587,  2.1651486 ],\n",
      "       [-0.53000368,  2.01943164],\n",
      "       [ 1.83727888,  2.1110129 ],\n",
      "       [ 0.28416019,  2.64492964],\n",
      "       [ 1.89688379,  2.26044693],\n",
      "       [ 2.06813613,  2.6101669 ],\n",
      "       [-1.72274127,  1.27907652],\n",
      "       [ 2.63238161,  1.27130508],\n",
      "       [-0.04025574,  1.7827081 ],\n",
      "       [-0.78745318,  1.40035688],\n",
      "       [ 2.70244116,  1.58744358],\n",
      "       [ 1.2909693 ,  2.75193673]]), array([1, 0, 0, 1, 1, 1, 0, 1, 0, 1, 0, 0, 0, 0, 0, 0, 1, 1, 1, 1, 1, 0,\n",
      "       1, 0, 0, 1, 0, 0, 0, 1, 1, 1, 1, 0, 0, 1, 0, 0, 0, 0, 1, 1, 0, 0,\n",
      "       1, 0, 1, 1, 0, 1, 1, 0, 1, 1, 1, 0, 0, 0, 1, 1, 0, 0, 1, 0, 0, 1,\n",
      "       0, 0, 0, 1, 0, 0, 0, 1, 1, 1, 0, 1, 1, 1, 0, 0, 0, 1, 1, 1, 0, 1,\n",
      "       1, 1, 0, 1, 0, 0, 1, 0, 1, 1, 0, 1]))]\n"
     ]
    }
   ],
   "source": [
    "print(datasets) "
   ]
  },
  {
   "cell_type": "code",
   "execution_count": 23,
   "id": "31d19813",
   "metadata": {},
   "outputs": [
    {
     "name": "stdout",
     "output_type": "stream",
     "text": [
      "[0 1 0 1 1 1 0 1 1 1 1 1 1 0 0 0 0 0 0 0 0 1 0 1 0 0 0 1 1 1 1 1 1 1 1 0 0\n",
      " 1 1 1 0 1 0 0 0 0 0 0 0 0 1 1 0 0 0 1 0 0 0 1 0 0 1 1 1 1 0 1 0 1 0 0 0 1\n",
      " 1 1 0 1 1 1 0 0 1 0 0 1 1 0 1 1 1 0 0 1 0 1 1 1 0 0]\n"
     ]
    }
   ],
   "source": [
    "# choose the first data sets, and use sklearn to classify\n",
    "\n",
    "\n",
    "# preprocess dataset, split into training and test part\n",
    "X, y = datasets[0]\n",
    "X = StandardScaler().fit_transform(X)\n",
    "X_train, X_test, y_train, y_test = train_test_split(\n",
    "    X, y, test_size=0.4, random_state=42\n",
    ")\n",
    "x_min, x_max = X[:, 0].min() - 0.5, X[:, 0].max() + 0.5\n",
    "y_min, y_max = X[:, 1].min() - 0.5, X[:, 1].max() + 0.5\n",
    "\n",
    "# random labels\n",
    "print(y)"
   ]
  },
  {
   "cell_type": "code",
   "execution_count": 28,
   "id": "13ca7f95",
   "metadata": {},
   "outputs": [
    {
     "name": "stdout",
     "output_type": "stream",
     "text": [
      "KNeighborsClassifier(n_neighbors=12)\n",
      "0.95\n"
     ]
    }
   ],
   "source": [
    "#KNN play with K\n",
    "K=12\n",
    "clf= KNeighborsClassifier(K)\n",
    "#clf = classifiers[0]\n",
    "print(clf)\n",
    "clf.fit(X_train, y_train)\n",
    "score = clf.score(X_test, y_test)\n",
    "print(score)\n",
    "\n"
   ]
  },
  {
   "cell_type": "code",
   "execution_count": 45,
   "id": "b430fb6b-1c2d-4c20-b855-5aaca5f1e526",
   "metadata": {},
   "outputs": [
    {
     "name": "stdout",
     "output_type": "stream",
     "text": [
      "0.925\n"
     ]
    }
   ],
   "source": [
    "#svm\n",
    "clf=classifiers[5]\n",
    "clf.fit(X_train, y_train)\n",
    "score = clf.score(X_test, y_test)\n",
    "print(score)"
   ]
  },
  {
   "cell_type": "code",
   "execution_count": 46,
   "id": "e7a19f61",
   "metadata": {},
   "outputs": [
    {
     "data": {
      "text/plain": [
       "[]"
      ]
     },
     "execution_count": 46,
     "metadata": {},
     "output_type": "execute_result"
    },
    {
     "data": {
      "image/png": "[encoded data removed]",
      "text/plain": [
       "<Figure size 640x480 with 1 Axes>"
      ]
     },
     "metadata": {},
     "output_type": "display_data"
    }
   ],
   "source": [
    "ax = plt.subplot(1,1 + 1, 1)\n",
    "cm = plt.cm.RdBu\n",
    "cm_bright = ListedColormap([\"#FF0000\", \"#0000FF\"])\n",
    "ax.scatter(X_train[:, 0], X_train[:, 1], c=y_train, cmap=cm_bright, edgecolors=\"k\")\n",
    "# Plot the testing points\n",
    "ax.scatter(\n",
    "    X_test[:, 0], X_test[:, 1], c=y_test, cmap=cm_bright, alpha=0.6, edgecolors=\"k\"\n",
    ")\n",
    "ax.set_xlim(x_min, x_max)\n",
    "ax.set_ylim(y_min, y_max)\n",
    "ax.set_xticks(())\n",
    "ax.set_yticks(())\n",
    "\n",
    "DecisionBoundaryDisplay.from_estimator(\n",
    "clf, X, cmap=cm, alpha=0.8, ax=ax, eps=0.5\n",
    ")\n",
    "\n",
    "# Plot the training points\n",
    "ax.scatter(\n",
    "    X_train[:, 0], X_train[:, 1], c=y_train, cmap=cm_bright, edgecolors=\"k\"\n",
    ")\n",
    "# Plot the testing points\n",
    "ax.scatter(\n",
    "    X_test[:, 0],\n",
    "    X_test[:, 1],\n",
    "    c=y_test,\n",
    "    cmap=cm_bright,\n",
    "    edgecolors=\"k\",\n",
    "    alpha=0.6,\n",
    ")\n",
    "\n",
    "ax.set_xlim(x_min, x_max)\n",
    "ax.set_ylim(y_min, y_max)\n",
    "ax.set_xticks(())\n",
    "ax.set_yticks(())\n"
   ]
  },
  {
   "cell_type": "markdown",
   "id": "a4ed4b70-5e28-45c1-8bbc-d7926603d142",
   "metadata": {},
   "source": [
    "## Classifier Performance Metrics\n",
    "\n",
    "In a binary classifier, we label one of the two classes as *positive*, the other class is negative. Let's consider *N* data samples.\n",
    "\n",
    "| True Class      | Positive            | Negative           | Total |\n",
    "|  -------------  |  -----------------  |  --------------- | ----- |\n",
    "| Positive        | True positive   | False negative | p     |\n",
    "| Negative        | False positive  | True negative  | n     |\n",
    "| **Total**       | p'                  | n'                 | N     |\n",
    "\n",
    "**True positive (TP)**: the label is predicted as *positive* and it is *correct/true*.\n",
    "\n",
    "**True negative (TN)**: the label is predicted as *negative* (i.e., the other class) and it is *correct/true*.\n",
    "\n",
    "**False positive (FP)**: the label is predicted as *positive* and it is *incorrect/false*, it should have been the other class.\n",
    "\n",
    "**False negative (FN)**: the label is predicted as *negative* and it is *incorrect/false*, it should have been the other class.\n",
    "\n",
    "\n",
    "**Confusion matrix:**\n",
    "Count the instances that an element of class *A* is classified in class *B*. A 2-class confusion matrix is:\n",
    "\n",
    "$ C = \\begin{array}{|cc|} TP & FN \\\\ FP  & TN \\end{array}$\n",
    "\n",
    "The confusion matrix can be extended for a multi-class classification and the matrix is KxK instead of 2x2. The best confusion matrix is one that is close to identity, with little off diagnoal terms.\n",
    "\n",
    "**Other model performance metics**\n",
    "Model peformance can be assessed wih the following:\n",
    "* **error** : the proportion of the data that was misclassified \n",
    "\n",
    "    $err = \\frac{FP+FN}{N}$  -> 0\n",
    "* **accuracy**: the proportion of the data that was correctly classified: \n",
    "    \n",
    "    $acc = \\frac{TP + TN}{N} = 1 - err $ --> 1\n",
    "* **TP-rate**: the ratio of samples correctly class in the *positive* class:\n",
    "\n",
    "    $TPR = \\frac{TP}{P}$ --> 1\n",
    "* **FP-rate**: the ratio of samples that were correctly classified in the *negative* class:\n",
    "\n",
    "    $FPR = \\frac{fp}{n}$ --> 0\n",
    "* **precision**: the fraction of correctly classified in the first/positive class:\n",
    "\n",
    "    $Pr = \\frac{TP}{TP+FP}$ --> 1\n",
    "* **recall** or **sensitivity**: fraction of positive samples.\n",
    "\n",
    "    $Pr = \\frac{TP}{TP+FN}$ --> 1\n",
    "\n",
    "* **specificity**: fraction of well retrieved negative samples.\n",
    "\n",
    "    $Sp = \\frac{TN}{FP+FN}$ --> 1\n",
    "\n",
    "* **F1 score**:\n",
    "\n",
    "    $F_1 = \\frac{2}{(1/ precision + 1/recall)} = \\frac{TP}{TP + (FN+FP)/2} $ --> 1.\n",
    "\n",
    "    \n",
    "The harmonic mean of the F1 scores gives more weight to low values. F1 score is thus high if both recall and precision are high.\n",
    "\n",
    "A good way to evaluate a model is also to use cross-validation"
   ]
  },
  {
   "cell_type": "markdown",
   "id": "4d665ece",
   "metadata": {},
   "source": [
    "\n",
    "# 1. Data download\n",
    "\n",
    "We will practice with the MNIST data set. It is a data sets of images of handwritten numbers."
   ]
  },
  {
   "cell_type": "code",
   "execution_count": 47,
   "id": "0751b154-6566-427a-bb55-824c3111e1d9",
   "metadata": {},
   "outputs": [
    {
     "data": {
      "text/plain": [
       "dict_keys(['data', 'target', 'frame', 'feature_names', 'target_names', 'images', 'DESCR'])"
      ]
     },
     "execution_count": 47,
     "metadata": {},
     "output_type": "execute_result"
    }
   ],
   "source": [
    "import numpy as np\n",
    "from sklearn.datasets import load_digits,fetch_openml\n",
    "digits = load_digits()\n",
    "digits.keys()"
   ]
  },
  {
   "cell_type": "markdown",
   "id": "9148193a-5847-4ce8-9a79-898a56f68ffb",
   "metadata": {},
   "source": [
    "The data is vector of floats. The target is an integer that is the attribute of the data. How are the data balanced between the classes? How many samples are there per class?"
   ]
  },
  {
   "cell_type": "code",
   "execution_count": 48,
   "id": "5e7bf0df-9471-40ec-a5d3-33e4b84bf915",
   "metadata": {},
   "outputs": [
    {
     "name": "stdout",
     "output_type": "stream",
     "text": [
      "<class 'numpy.ndarray'> <class 'numpy.int64'>\n",
      "[ 0.  0.  5. 13.  9.  1.  0.  0.  0.  0. 13. 15. 10. 15.  5.  0.  0.  3.\n",
      " 15.  2.  0. 11.  8.  0.  0.  4. 12.  0.  0.  8.  8.  0.  0.  5.  8.  0.\n",
      "  0.  9.  8.  0.  0.  4. 11.  0.  1. 12.  7.  0.  0.  2. 14.  5. 10. 12.\n",
      "  0.  0.  0.  0.  6. 13. 10.  0.  0.  0.]\n",
      "0\n",
      "15.0\n"
     ]
    }
   ],
   "source": [
    "# explore data type\n",
    "data,y = digits[\"data\"].copy(),digits[\"target\"].copy()\n",
    "print(type(data[0][:]),type(y[0]))\n",
    "print(data[0][:])\n",
    "print(y[0])\n",
    "print(max(data[0]))\n",
    "# note that we do not modify the raw data that is stored on the digits dictionary."
   ]
  },
  {
   "cell_type": "markdown",
   "id": "24eea66f-d3bf-48f6-aa3e-5d7c0b92586e",
   "metadata": {},
   "source": [
    " **how many classes are there?**\n",
    " Since the classes are integers, we can count the number of classes using the function \"unique\""
   ]
  },
  {
   "cell_type": "code",
   "execution_count": 49,
   "id": "07a1ecff-34cf-4cce-bf99-3787d51b466b",
   "metadata": {},
   "outputs": [
    {
     "name": "stdout",
     "output_type": "stream",
     "text": [
      "[0 1 2 3 4 5 6 7 8 9]\n",
      "10\n"
     ]
    }
   ],
   "source": [
    "Nclasses = len(np.unique(y))\n",
    "print(np.unique(y))\n",
    "print(Nclasses)"
   ]
  },
  {
   "cell_type": "markdown",
   "id": "e37e39ff-6ba5-44e3-909c-0112f8c9f1cd",
   "metadata": {},
   "source": [
    "### 1.1 Data preparation\n",
    "First print and plot the data."
   ]
  },
  {
   "cell_type": "code",
   "execution_count": 50,
   "id": "3f1f78a0-23e9-41ee-8ed6-b58a2b557129",
   "metadata": {},
   "outputs": [
    {
     "data": {
      "image/png": "[encoded data removed]",
      "text/plain": [
       "<Figure size 1000x300 with 4 Axes>"
      ]
     },
     "metadata": {},
     "output_type": "display_data"
    }
   ],
   "source": [
    "# plot the data\n",
    "import matplotlib.pyplot as plt\n",
    "# plot the first 4 data and their labels.\n",
    "_, axes = plt.subplots(nrows=1, ncols=4, figsize=(10, 3))\n",
    "for ax, image, label in zip(axes, digits.images, digits.target):\n",
    "    ax.set_axis_off()\n",
    "    ax.imshow(image, cmap=plt.cm.gray_r, interpolation='nearest')\n",
    "    ax.set_title('Training: %i' % label)"
   ]
  },
  {
   "cell_type": "markdown",
   "id": "306f80dd-f3b9-4d7b-a5dd-b7d581947017",
   "metadata": {},
   "source": [
    "We look at it and there is little noise and no gap. "
   ]
  },
  {
   "cell_type": "markdown",
   "id": "5b34c283-6190-417b-afae-13516867f8f6",
   "metadata": {},
   "source": [
    "### 1.2 Data re-scaling\n",
    "\n",
    "We could use MinMaxScaler from ``sklearn.preprocessing`` but since the formula for that is (x-min)/(max-min) and our min is 0, we could directly calculate x/max.\n",
    "(notes from https://www.kaggle.com/recepinanc/mnist-classification-sklearn)\n",
    "Note that the raw data is still stored in the dictionary ``digits`` and so we can modify the ``data`` variable in place."
   ]
  },
  {
   "cell_type": "code",
   "execution_count": 51,
   "id": "6d086c50-a54e-488d-8b33-b939e34ab8b6",
   "metadata": {},
   "outputs": [
    {
     "name": "stdout",
     "output_type": "stream",
     "text": [
      "0.0 15.0\n",
      "<class 'numpy.ndarray'>\n",
      "[[0.     0.     0.3125 ... 0.     0.     0.    ]\n",
      " [0.     0.     0.     ... 0.625  0.     0.    ]\n",
      " [0.     0.     0.     ... 1.     0.5625 0.    ]\n",
      " ...\n",
      " [0.     0.     0.0625 ... 0.375  0.     0.    ]\n",
      " [0.     0.     0.125  ... 0.75   0.     0.    ]\n",
      " [0.     0.     0.625  ... 0.75   0.0625 0.    ]]\n"
     ]
    }
   ],
   "source": [
    "print(min(data[0]),max(data[0]))\n",
    "from sklearn.preprocessing import MinMaxScaler\n",
    "scaler = MinMaxScaler()\n",
    "scaler.fit_transform(data)# fit the model for data normalization\n",
    "newdata = scaler.transform(data) # transform the data. watch that data was converted to a numpy array\n",
    "print(type(newdata))\n",
    "print(newdata)"
   ]
  },
  {
   "cell_type": "markdown",
   "id": "8c9b2c0b-8eca-46ce-864e-a5b41aa4bf4f",
   "metadata": {},
   "source": [
    "### Train-test split"
   ]
  },
  {
   "cell_type": "code",
   "execution_count": 52,
   "id": "b73c983d-97ec-4554-ba9f-718ff48b5606",
   "metadata": {},
   "outputs": [
    {
     "name": "stdout",
     "output_type": "stream",
     "text": [
      "There are 1797 data samples\n"
     ]
    }
   ],
   "source": [
    "# Split data into 50% train and 50% test subsets\n",
    "from sklearn.model_selection import train_test_split\n",
    "print(f\"There are {data.shape[0]} data samples\")\n",
    "X_train, X_test, y_train, y_test = train_test_split(\n",
    "    data, y, test_size=0.5, shuffle=False)\n"
   ]
  },
  {
   "cell_type": "markdown",
   "id": "3744f64e-81dc-433a-9f30-b9254d3a3248",
   "metadata": {},
   "source": [
    "## **Binary Classification**\n",
    "\n",
    "We will first attempt to identify two classes: \"5\" and \"not 5\"."
   ]
  },
  {
   "cell_type": "code",
   "execution_count": 13,
   "id": "c5d3e700-d253-4668-b956-bfff6883032b",
   "metadata": {},
   "outputs": [],
   "source": [
    "y_train_5 = (y_train==5)\n",
    "y_test_5 = (y_test==5)"
   ]
  },
  {
   "cell_type": "markdown",
   "id": "fc95d695-e065-4fca-94b9-2d1a8e6322ce",
   "metadata": {},
   "source": [
    "We will first use a classic classifier: ***Stochastic Gradient Descent SGD***.  To reproduce the results, you should set the random_state parameter."
   ]
  },
  {
   "cell_type": "code",
   "execution_count": 14,
   "id": "ccf74217-e876-4e17-ac66-6308e7ffbd72",
   "metadata": {},
   "outputs": [
    {
     "name": "stdout",
     "output_type": "stream",
     "text": [
      "[ 0.  0.  5. 13.  9.  1.  0.  0.  0.  0. 13. 15. 10. 15.  5.  0.  0.  3.\n",
      " 15.  2.  0. 11.  8.  0.  0.  4. 12.  0.  0.  8.  8.  0.  0.  5.  8.  0.\n",
      "  0.  9.  8.  0.  0.  4. 11.  0.  1. 12.  7.  0.  0.  2. 14.  5. 10. 12.\n",
      "  0.  0.  0.  0.  6. 13. 10.  0.  0.  0.]\n",
      "0\n",
      "Prediction of the first data '0' onto whether it belongs to the class 5 is False.\n"
     ]
    }
   ],
   "source": [
    "from sklearn.linear_model import SGDClassifier\n",
    "sgd_clf = SGDClassifier(random_state=42)\n",
    "sgd_clf.fit(X_train,y_train_5)\n",
    "# test on the first element of the data sample and its label:\n",
    "print(data[0])\n",
    "print(y[0])\n",
    "print(\"Prediction of the first data '%1.0f' onto whether it belongs to the class 5 is %s.\" %(y[0],sgd_clf.predict([data[0]])[0]))"
   ]
  },
  {
   "cell_type": "code",
   "execution_count": 15,
   "id": "4a66bc09-47be-44bd-997f-436a647fc603",
   "metadata": {},
   "outputs": [],
   "source": [
    "from sklearn.model_selection import cross_val_predict\n",
    "y_train_pred = cross_val_predict(sgd_clf,X_train,y_train_5,cv=3) # predict using K-fold cross validation"
   ]
  },
  {
   "cell_type": "code",
   "execution_count": 16,
   "id": "68b3513b-ec13-4723-9473-6493ab3dce82",
   "metadata": {},
   "outputs": [
    {
     "name": "stdout",
     "output_type": "stream",
     "text": [
      "confusion matrix\n",
      "[[799   8]\n",
      " [ 10  81]]\n",
      "precison, recall\n",
      "0.9101123595505618 0.8901098901098901\n",
      "F1 score\n",
      "0.8999999999999999\n"
     ]
    }
   ],
   "source": [
    "from sklearn.metrics import confusion_matrix,precision_score,recall_score,f1_score \n",
    "\n",
    "print(\"confusion matrix\")\n",
    "print(confusion_matrix(y_train_5,y_train_pred))\n",
    "print(\"precison, recall\")\n",
    "print(precision_score(y_train_5,y_train_pred),recall_score(y_train_5,y_train_pred))\n",
    "print(\"F1 score\")\n",
    "print(f1_score(y_train_5,y_train_pred))"
   ]
  },
  {
   "cell_type": "code",
   "execution_count": 17,
   "id": "947e4b8b-822a-41f8-a071-f97164ad6ffd",
   "metadata": {},
   "outputs": [
    {
     "ename": "NameError",
     "evalue": "name 'metrics' is not defined",
     "output_type": "error",
     "traceback": [
      "\u001b[0;31m---------------------------------------------------------------------------\u001b[0m",
      "\u001b[0;31mNameError\u001b[0m                                 Traceback (most recent call last)",
      "Cell \u001b[0;32mIn [17], line 2\u001b[0m\n\u001b[1;32m      1\u001b[0m \u001b[38;5;28;01mfrom\u001b[39;00m \u001b[38;5;21;01msklearn\u001b[39;00m\u001b[38;5;21;01m.\u001b[39;00m\u001b[38;5;21;01mmetrics\u001b[39;00m \u001b[38;5;28;01mimport\u001b[39;00m classification_report\n\u001b[0;32m----> 2\u001b[0m \u001b[38;5;28mprint\u001b[39m(\u001b[38;5;124mf\u001b[39m\u001b[38;5;124m\"\u001b[39m\u001b[38;5;124mClassification report for classifier \u001b[39m\u001b[38;5;132;01m{\u001b[39;00msgd_clf\u001b[38;5;132;01m}\u001b[39;00m\u001b[38;5;124m:\u001b[39m\u001b[38;5;130;01m\\n\u001b[39;00m\u001b[38;5;124m\"\u001b[39m\n\u001b[1;32m      3\u001b[0m       \u001b[38;5;124mf\u001b[39m\u001b[38;5;124m\"\u001b[39m\u001b[38;5;132;01m{\u001b[39;00mmetrics\u001b[38;5;241m.\u001b[39mclassification_report(y_train_5, y_train_pred)\u001b[38;5;132;01m}\u001b[39;00m\u001b[38;5;130;01m\\n\u001b[39;00m\u001b[38;5;124m\"\u001b[39m)\n",
      "\u001b[0;31mNameError\u001b[0m: name 'metrics' is not defined"
     ]
    }
   ],
   "source": [
    "from sklearn.metrics import classification_report\n",
    "print(f\"Classification report for classifier {sgd_clf}:\\n\"\n",
    "      f\"{metrics.classification_report(y_train_5, y_train_pred)}\\n\")"
   ]
  },
  {
   "cell_type": "markdown",
   "id": "6441a469-3504-4d82-ab04-10f6f7e767ef",
   "metadata": {},
   "source": [
    "**Precision and recall trade off**: increasing precision reduces recall. The classifier uses a *threshold* value to decide whether a data belongs to a class. Increasing the threhold gives higher precision score, decreasing the thresholds gives higher recall scores. Let's look at the various score values."
   ]
  },
  {
   "cell_type": "code",
   "execution_count": null,
   "id": "5b6db181-f52d-423d-8137-f610c2305226",
   "metadata": {},
   "outputs": [],
   "source": [
    "y_score=sgd_clf.decision_function([data[0]])\n",
    "print(y_score)"
   ]
  },
  {
   "cell_type": "code",
   "execution_count": null,
   "id": "2013ccee-4a79-4431-a8b1-3726a1e63208",
   "metadata": {},
   "outputs": [],
   "source": [
    "from sklearn.metrics import precision_recall_curve\n",
    "\n",
    "\n",
    "y_score=cross_val_predict(sgd_clf,X_train,y_train_5,cv=4,method=\"decision_function\")\n",
    "precisions,recalls,thresholds=precision_recall_curve(y_train_5,y_score)\n",
    "plt.plot(thresholds,precisions[:-1])\n",
    "plt.plot(thresholds,recalls[:-1],'g-')\n",
    "plt.legend(['Precision','Recall'])\n",
    "plt.grid(True)\n",
    "plt.xlabel('Score thresholds')"
   ]
  },
  {
   "cell_type": "code",
   "execution_count": null,
   "id": "96a9aa35-38d2-46a5-8be8-0265a906bc9e",
   "metadata": {},
   "outputs": [],
   "source": [
    "plt.plot(recalls[:-1],precisions[:-1])\n",
    "plt.grid(True)\n",
    "plt.ylabel('Precision')\n",
    "plt.xlabel('Recall')"
   ]
  },
  {
   "cell_type": "markdown",
   "id": "ffc91f31-6f28-48d7-8810-6438651f5811",
   "metadata": {},
   "source": [
    "Given the tradeoff, we can now choose a specific threshold to tune your classification. It seems that the precision drops below 90% when the recall value gets above 90% as well. So we can choose the threshold of 90%."
   ]
  },
  {
   "cell_type": "code",
   "execution_count": null,
   "id": "8958b3aa-d9ea-4396-b344-2a17db779bb0",
   "metadata": {},
   "outputs": [],
   "source": [
    "threshold_90_precision=thresholds[np.argmax(precisions>=0.9)]\n",
    "y_train_pred_90 = (y_score >=threshold_90_precision)\n",
    "\n",
    "print(precision_score(y_train_5,y_train_pred_90))\n",
    "print(recall_score(y_train_5,y_train_pred_90))"
   ]
  },
  {
   "cell_type": "markdown",
   "id": "269ad974-bf14-4d70-8b38-6ac123e53718",
   "metadata": {},
   "source": [
    "**Receiver Operating Characteristics ROC** \n",
    "\n",
    "It plots the true positive rate against the false positive rate.\n",
    "The ROC curve is visual, but we can quantify the classifier performance using the *area under the curve* (aka AUC). Ideally, AUC is 1.\n",
    "\n",
    "![ROC curve](roc-curve-v2-glassbox.png)\n",
    "\n",
    "[source: https://commons.wikimedia.org/wiki/File:Roc-draft-xkcd-style.svg]"
   ]
  },
  {
   "cell_type": "code",
   "execution_count": null,
   "id": "1ad16262-1eb7-41cc-b047-935ea5004344",
   "metadata": {},
   "outputs": [],
   "source": [
    "from sklearn.metrics import roc_curve\n",
    "fpr,tpr,thresholds=roc_curve(y_train_5,y_score)\n",
    "plt.plot(fpr,tpr,linewidth=2);plt.grid(True)\n",
    "plt.plot([0,1],[0,1],'k--')"
   ]
  },
  {
   "cell_type": "markdown",
   "id": "5ebcc0e1-f953-4615-893f-b785cddf2869",
   "metadata": {},
   "source": [
    "Compare with another classifier method. We will try ***Random Forest*** and compare the two classifiers. Instead of outputing scores, RF works with probabilities. So the value returned as between 0 and 1 with the probability of appartenance to the given class."
   ]
  },
  {
   "cell_type": "code",
   "execution_count": null,
   "id": "42d1e03c-84ed-4402-8ac5-169226d17f2a",
   "metadata": {},
   "outputs": [],
   "source": [
    "from sklearn.ensemble import RandomForestClassifier\n",
    "\n",
    "rf_clf = RandomForestClassifier(random_state=42) # model design\n",
    "y_rf_5 = cross_val_predict(rf_clf,X_train,y_train_5,cv=3,method=\"predict_proba\")\n",
    "y_scores_rf = y_rf_5[:,1] # score in the positive class\n",
    "fpr_rf,tpr_rf,threshold_rf = roc_curve(y_train_5,y_scores_rf)"
   ]
  },
  {
   "cell_type": "code",
   "execution_count": null,
   "id": "1c5a59c5-6519-478f-bdaf-808bcf217524",
   "metadata": {},
   "outputs": [],
   "source": [
    "plt.plot(fpr_rf,tpr_rf,'r',linewidth=2)\n",
    "plt.plot(fpr,tpr,linewidth=2);plt.grid(True)\n",
    "plt.plot([0,1],[0,1],'k--')"
   ]
  },
  {
   "cell_type": "markdown",
   "id": "07968685-de62-47ad-ad9e-f507b8f257ae",
   "metadata": {},
   "source": [
    "## Multiclass Classification\n",
    "\n",
    "Here we will use several well known classifiers: Support Vector Machine, k-nearest neighbors, Stochastic Gradient Descent"
   ]
  },
  {
   "cell_type": "code",
   "execution_count": null,
   "id": "aed564bd-be4a-45a5-b94b-245d5d23406c",
   "metadata": {},
   "outputs": [],
   "source": [
    "import sklearn\n",
    "from sklearn import metrics\n",
    "from sklearn.svm import SVC\n",
    "from sklearn.neighbors import KNeighborsClassifier\n",
    "from sklearn.ensemble import RandomForestClassifier\n",
    "\n",
    "# Support Vector Machine classifier\n",
    "clf = SVC(gamma=0.001) # model design\n",
    "clf.fit(X_train, y_train) # learn\n",
    "svc_prediction = clf.predict(X_test) # predict on test\n",
    "print(\"SVC Accuracy:\", metrics.accuracy_score(y_true=y_test ,y_pred=svc_prediction))\n",
    "\n",
    "# K-nearest Neighbors\n",
    "knn_clf = KNeighborsClassifier() # model design\n",
    "knn_clf.fit(X_train, y_train) # learn\n",
    "knn_prediction = knn_clf.predict(X_test) # predict on test\n",
    "print(\"K-nearest Neighbors Accuracy:\", metrics.accuracy_score(y_true=y_test ,y_pred=knn_prediction))\n",
    "\n",
    "# Random Forest\n",
    "rf_clf = RandomForestClassifier(random_state=42, verbose=True) # model design\n",
    "rf_clf.fit(X_train, y_train)# learn\n",
    "rf_prediction = rf_clf.predict(X_test) # predict on test\n",
    "print(\"Random Forest Accuracy:\", metrics.accuracy_score(y_true=y_test ,y_pred=rf_prediction))"
   ]
  },
  {
   "cell_type": "code",
   "execution_count": null,
   "id": "10b9b1b1-47be-43c8-9048-c992a205f9de",
   "metadata": {},
   "outputs": [],
   "source": [
    "_, axes = plt.subplots(nrows=1, ncols=4, figsize=(10, 3))\n",
    "for ax, image, prediction in zip(axes, X_test, rf_prediction):\n",
    "    ax.set_axis_off()\n",
    "    image = image.reshape(8, 8)\n",
    "    ax.imshow(image, cmap=plt.cm.gray_r, interpolation='nearest')\n",
    "    ax.set_title(f'Prediction: {prediction}')"
   ]
  },
  {
   "cell_type": "code",
   "execution_count": null,
   "id": "fabc33dd-91ae-4463-aa0e-1302a165ac4e",
   "metadata": {},
   "outputs": [],
   "source": [
    "print(\"Support Vector Machine\")\n",
    "print(f\"Classification report for classifier {clf}:\\n\"\n",
    "      f\"{metrics.classification_report(y_test, svc_prediction)}\\n\")\n",
    "disp = metrics.plot_confusion_matrix(clf, X_test, y_test)\n",
    "disp.figure_.suptitle(\"Confusion Matrix\")\n",
    "print(f\"Confusion matrix:\\n{disp.confusion_matrix}\")\n",
    "plt.show()"
   ]
  },
  {
   "cell_type": "code",
   "execution_count": null,
   "id": "d2c34db6-52e8-49bb-a692-5cb1f082bf56",
   "metadata": {},
   "outputs": [],
   "source": [
    "print(\"K-nearest neighbors\")\n",
    "print(f\"Classification report for classifier {knn_clf}:\\n\"\n",
    "      f\"{metrics.classification_report(y_test, knn_prediction)}\\n\")\n",
    "disp = metrics.plot_confusion_matrix(knn_clf, X_test, y_test)\n",
    "disp.figure_.suptitle(\"Confusion Matrix\")\n",
    "print(f\"Confusion matrix:\\n{disp.confusion_matrix}\")\n",
    "plt.show()"
   ]
  },
  {
   "cell_type": "code",
   "execution_count": null,
   "id": "a75ca81d-e55b-487e-9577-3ffbaa124035",
   "metadata": {},
   "outputs": [],
   "source": [
    "print(\"Random Forest\")\n",
    "print(f\"Classification report for classifier {rf_clf}:\\n\"\n",
    "      f\"{metrics.classification_report(y_test, rf_prediction)}\\n\")\n",
    "disp = metrics.plot_confusion_matrix(rf_clf, X_test, y_test)\n",
    "disp.figure_.suptitle(\"Confusion Matrix\")\n",
    "print(f\"Confusion matrix:\\n{disp.confusion_matrix}\")\n",
    "plt.show()"
   ]
  },
  {
   "cell_type": "code",
   "execution_count": null,
   "id": "51b8d197-950f-4863-83c2-345bf078cbea",
   "metadata": {},
   "outputs": [],
   "source": [
    "from sklearn.metrics import roc_curve,roc_auc_score, precision_recall_curve, RocCurveDisplay, PrecisionRecallDisplay"
   ]
  },
  {
   "cell_type": "markdown",
   "id": "516d7365-289b-4429-8141-b9f8ba7752cb",
   "metadata": {},
   "source": [
    "### Multiclass classification"
   ]
  },
  {
   "cell_type": "code",
   "execution_count": null,
   "id": "6d3511fe-308a-4a29-ae5b-61caac356fb7",
   "metadata": {},
   "outputs": [],
   "source": [
    "\n",
    "from sklearn.multiclass import OneVsRestClassifier\n",
    "from sklearn.preprocessing import label_binarize\n",
    "from sklearn import svm\n",
    "\n",
    "from sklearn.metrics import roc_curve, auc\n",
    "\n",
    "random_state = np.random.RandomState(0)\n",
    "classifier = OneVsRestClassifier(svm.SVC(kernel='linear', probability=True,\n",
    "                                 random_state=random_state))\n",
    "\n",
    "y = label_binarize(y, classes=[0,1,2,3,4,5,6,7,8,9])\n",
    "\n",
    "X_train, X_test, y_train, y_test = train_test_split(\n",
    "    data, y, test_size=0.5, shuffle=False)\n",
    "\n",
    "y_score = classifier.fit(X_train, y_train).decision_function(X_test)\n",
    "\n",
    "\n",
    "# Compute ROC curve and ROC area for each class\n",
    "fpr = dict()\n",
    "tpr = dict()\n",
    "roc_auc = dict()\n",
    "for i in range(Nclasses):\n",
    "    fpr[i], tpr[i], _ = roc_curve(y_test[:,i], y_score[:, i])\n",
    "    roc_auc[i] = auc(fpr[i], tpr[i])\n",
    "\n",
    "\n",
    "# Plot of a ROC curve for a specific class\n",
    "plt.figure()\n",
    "plt.plot([0, 1], [0, 1], 'k--')\n",
    "for i in range(Nclasses):\n",
    "    plt.plot(fpr[i], tpr[i], label='ROC label %1.0f (area = %0.2f)' % (i,roc_auc[i]))\n",
    "plt.xlim([0.0, 1.0])\n",
    "plt.ylim([0.0, 1.05])\n",
    "plt.grid(True)\n",
    "plt.xlabel('False Positive Rate')\n",
    "plt.ylabel('True Positive Rate')\n",
    "plt.title('Receiver operating characteristic example')\n",
    "plt.legend(loc=\"lower right\")"
   ]
  },
  {
   "cell_type": "code",
   "execution_count": null,
   "id": "b61aee5c-b10a-4661-a724-4edf56b4c140",
   "metadata": {},
   "outputs": [],
   "source": []
  }
 ],
 "metadata": {
  "kernelspec": {
   "display_name": "Python 3 (ipykernel)",
   "language": "python",
   "name": "python3"
  },
  "language_info": {
   "codemirror_mode": {
    "name": "ipython",
    "version": 3
   },
   "file_extension": ".py",
   "mimetype": "text/x-python",
   "name": "python",
   "nbconvert_exporter": "python",
   "pygments_lexer": "ipython3",
   "version": "3.8.13"
  },
  "vscode": {
   "interpreter": {
    "hash": "f625eed87f201675869c1975f26c79747f846dd12cd9c70305bdb23b2c204f1d"
   }
  }
 },
 "nbformat": 4,
 "nbformat_minor": 5
}
