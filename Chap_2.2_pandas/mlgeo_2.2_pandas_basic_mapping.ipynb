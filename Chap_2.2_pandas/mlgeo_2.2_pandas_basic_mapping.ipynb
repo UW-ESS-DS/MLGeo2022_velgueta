{
 "cells": [
  {
   "cell_type": "markdown",
   "id": "21a438f0",
   "metadata": {},
   "source": [
    "# 2.2 Pandas, Basic Mapping\n",
    "\n",
    "This section aims to provide new skills in python to handle structured \"table\" data. \n",
    "\n",
    "Learning outcome:\n",
    "-   Manipulation of data frames (describing, filtering, ...) \n",
    "-   Learn about Lambda functions\n",
    "-   Intro to datetime objects\n",
    "-   Plotting data from data frames (histograms and maps)\n",
    "-   Introduction to Plotly, an interactive plotting package\n",
    "-   Introduction to CSV & Parquet\n",
    "\n",
    "\n",
    "We will work on several structured data sets: sensor metadata, seismic data product (earthquake catalog).\n",
    "\n",
    "First, we import all the modules we need:"
   ]
  },
  {
   "cell_type": "code",
   "execution_count": 2,
   "id": "98dba5c7",
   "metadata": {},
   "outputs": [],
   "source": [
    "import numpy as np\n",
    "import pandas as pd\n",
    "import io\n",
    "import requests\n",
    "import time\n",
    "from datetime import datetime, timedelta\n",
    "import matplotlib.pyplot as plt\n",
    "\n",
    "\n",
    "import plotly.express as px\n",
    "import plotly.io as pio\n",
    "pio.renderers.default = 'vscode' # writes as standalone html, \n",
    "# pio.renderers.default = 'iframe' # writes files as standalone html, \n",
    "# pio.renderers.default = 'png' # writes files as standalone html, \n",
    "# try notebook, jupyterlab, png, vscode, iframe\n"
   ]
  },
  {
   "cell_type": "code",
   "execution_count": null,
   "id": "e821d3c1-7555-490b-b947-c4ec60b5dfaa",
   "metadata": {},
   "outputs": [],
   "source": []
  },
  {
   "cell_type": "markdown",
   "id": "eab98dcb",
   "metadata": {},
   "source": [
    "# The Basics of Pandas \n",
    "\n",
    "Pandas are composed of ``Series`` and ``DataFrame``. ``Series`` are columns with attributes or keys. The ``DataFrame`` is a multi-dimensional table made up of ``Series``.\n",
    "\n",
    "We can create a DataFrame composed of series from scratch using Python dictionary:"
   ]
  },
  {
   "cell_type": "code",
   "execution_count": 3,
   "id": "b4170fd6",
   "metadata": {},
   "outputs": [
    {
     "name": "stdout",
     "output_type": "stream",
     "text": [
      "   temperature  precipitation\n",
      "0           36              3\n",
      "1           37              1\n",
      "2           30              0\n",
      "3           50              0\n"
     ]
    }
   ],
   "source": [
    "data = {\n",
    "    'temperature' : [36,37,30,50],\n",
    "    'precipitation':[3,1,0,0]\n",
    "}\n",
    "my_pd = pd.DataFrame(data)\n",
    "print(my_pd)"
   ]
  },
  {
   "cell_type": "code",
   "execution_count": null,
   "id": "2d20bd25-5283-463d-b332-eccf3cd4100d",
   "metadata": {},
   "outputs": [],
   "source": []
  },
  {
   "cell_type": "markdown",
   "id": "0703b38e",
   "metadata": {},
   "source": [
    "Each (key,value) item in the dataframe correspond to a value in ``data``. To get the keys of the dataframe, type:"
   ]
  },
  {
   "cell_type": "code",
   "execution_count": 4,
   "id": "b911a081",
   "metadata": {},
   "outputs": [
    {
     "data": {
      "text/plain": [
       "Index(['temperature', 'precipitation'], dtype='object')"
      ]
     },
     "execution_count": 4,
     "metadata": {},
     "output_type": "execute_result"
    }
   ],
   "source": [
    "my_pd.keys()"
   ]
  },
  {
   "cell_type": "code",
   "execution_count": null,
   "id": "982824c0-908a-42e1-b577-f2a7b66c5109",
   "metadata": {},
   "outputs": [],
   "source": []
  },
  {
   "cell_type": "markdown",
   "id": "421b5487",
   "metadata": {},
   "source": [
    "get a specific ``Series`` (different from the array)"
   ]
  },
  {
   "cell_type": "code",
   "execution_count": 5,
   "id": "34cc604e",
   "metadata": {},
   "outputs": [
    {
     "name": "stdout",
     "output_type": "stream",
     "text": [
      "0    36\n",
      "1    37\n",
      "2    30\n",
      "3    50\n",
      "Name: temperature, dtype: int64\n",
      "<class 'pandas.core.series.Series'>\n"
     ]
    }
   ],
   "source": [
    "print(my_pd.temperature[:])\n",
    "print(type(my_pd.temperature[:]))"
   ]
  },
  {
   "cell_type": "code",
   "execution_count": null,
   "id": "bd53daff-13aa-4012-8410-eb806f46c488",
   "metadata": {},
   "outputs": [],
   "source": []
  },
  {
   "cell_type": "markdown",
   "id": "63ac46bd",
   "metadata": {},
   "source": [
    "to get the _value_ of a specific key (e.g., temperature), at a specific index (e.g., 2) type:"
   ]
  },
  {
   "cell_type": "code",
   "execution_count": 6,
   "id": "03f1bf70",
   "metadata": {},
   "outputs": [
    {
     "name": "stdout",
     "output_type": "stream",
     "text": [
      "30\n",
      "<class 'numpy.int64'>\n"
     ]
    }
   ],
   "source": [
    "print(my_pd.temperature[2])\n",
    "print(type(my_pd.temperature[2]))"
   ]
  },
  {
   "cell_type": "code",
   "execution_count": null,
   "id": "9df04857-7fb7-4330-959d-f5addfca1531",
   "metadata": {},
   "outputs": [],
   "source": []
  },
  {
   "cell_type": "markdown",
   "id": "a9e6792c",
   "metadata": {},
   "source": [
    "# Reading a DataFrame from a CSV file\n",
    "\n",
    "We can read a pandas directly from a standard file. Here you will read a catatalog of earthquakes."
   ]
  },
  {
   "cell_type": "code",
   "execution_count": 7,
   "id": "4f82af7a",
   "metadata": {},
   "outputs": [],
   "source": [
    "quake = pd.read_csv(\"Global_Quakes_IRIS.csv\")"
   ]
  },
  {
   "cell_type": "code",
   "execution_count": null,
   "id": "d9d19f36-673d-4257-a3eb-64fcebf4499e",
   "metadata": {},
   "outputs": [],
   "source": []
  },
  {
   "cell_type": "markdown",
   "id": "0fce4345",
   "metadata": {},
   "source": [
    "Now you use the ``head`` function to display what is in the file"
   ]
  },
  {
   "cell_type": "code",
   "execution_count": 8,
   "id": "c3fa7d0b",
   "metadata": {
    "tags": []
   },
   "outputs": [
    {
     "data": {
      "text/html": [
       "<div>\n",
       "<style scoped>\n",
       "    .dataframe tbody tr th:only-of-type {\n",
       "        vertical-align: middle;\n",
       "    }\n",
       "\n",
       "    .dataframe tbody tr th {\n",
       "        vertical-align: top;\n",
       "    }\n",
       "\n",
       "    .dataframe thead th {\n",
       "        text-align: right;\n",
       "    }\n",
       "</style>\n",
       "<table border=\"1\" class=\"dataframe\">\n",
       "  <thead>\n",
       "    <tr style=\"text-align: right;\">\n",
       "      <th></th>\n",
       "      <th>time</th>\n",
       "      <th>latitude</th>\n",
       "      <th>longitude</th>\n",
       "      <th>depth</th>\n",
       "      <th>magnitude</th>\n",
       "      <th>description</th>\n",
       "    </tr>\n",
       "  </thead>\n",
       "  <tbody>\n",
       "    <tr>\n",
       "      <th>0</th>\n",
       "      <td>2010-07-02 06:04:03.570</td>\n",
       "      <td>-13.6098</td>\n",
       "      <td>166.6541</td>\n",
       "      <td>34400.0</td>\n",
       "      <td>6.3</td>\n",
       "      <td>VANUATU ISLANDS</td>\n",
       "    </tr>\n",
       "    <tr>\n",
       "      <th>1</th>\n",
       "      <td>2010-07-04 21:55:52.370</td>\n",
       "      <td>39.6611</td>\n",
       "      <td>142.5792</td>\n",
       "      <td>30100.0</td>\n",
       "      <td>6.3</td>\n",
       "      <td>NEAR EAST COAST OF HONSHU</td>\n",
       "    </tr>\n",
       "    <tr>\n",
       "      <th>2</th>\n",
       "      <td>2010-07-10 11:43:33.000</td>\n",
       "      <td>11.1664</td>\n",
       "      <td>146.0823</td>\n",
       "      <td>16900.0</td>\n",
       "      <td>6.3</td>\n",
       "      <td>SOUTH OF MARIANA ISLANDS</td>\n",
       "    </tr>\n",
       "    <tr>\n",
       "      <th>3</th>\n",
       "      <td>2010-07-12 00:11:20.060</td>\n",
       "      <td>-22.2789</td>\n",
       "      <td>-68.3159</td>\n",
       "      <td>109400.0</td>\n",
       "      <td>6.2</td>\n",
       "      <td>NORTHERN CHILE</td>\n",
       "    </tr>\n",
       "    <tr>\n",
       "      <th>4</th>\n",
       "      <td>2010-07-14 08:32:21.850</td>\n",
       "      <td>-38.0635</td>\n",
       "      <td>-73.4649</td>\n",
       "      <td>25700.0</td>\n",
       "      <td>6.6</td>\n",
       "      <td>NEAR COAST OF CENTRAL CHILE</td>\n",
       "    </tr>\n",
       "  </tbody>\n",
       "</table>\n",
       "</div>"
      ],
      "text/plain": [
       "                      time  latitude  longitude     depth  magnitude  \\\n",
       "0  2010-07-02 06:04:03.570  -13.6098   166.6541   34400.0        6.3   \n",
       "1  2010-07-04 21:55:52.370   39.6611   142.5792   30100.0        6.3   \n",
       "2  2010-07-10 11:43:33.000   11.1664   146.0823   16900.0        6.3   \n",
       "3  2010-07-12 00:11:20.060  -22.2789   -68.3159  109400.0        6.2   \n",
       "4  2010-07-14 08:32:21.850  -38.0635   -73.4649   25700.0        6.6   \n",
       "\n",
       "                   description  \n",
       "0              VANUATU ISLANDS  \n",
       "1    NEAR EAST COAST OF HONSHU  \n",
       "2     SOUTH OF MARIANA ISLANDS  \n",
       "3               NORTHERN CHILE  \n",
       "4  NEAR COAST OF CENTRAL CHILE  "
      ]
     },
     "execution_count": 8,
     "metadata": {},
     "output_type": "execute_result"
    }
   ],
   "source": [
    "# enter answer here\n",
    "quake.head()"
   ]
  },
  {
   "cell_type": "code",
   "execution_count": null,
   "id": "b64ed22f-aa2b-48d0-a057-e8228d40dc88",
   "metadata": {},
   "outputs": [],
   "source": []
  },
  {
   "cell_type": "code",
   "execution_count": null,
   "id": "9641d26a-3d15-4b3b-9779-6fd87e4aaaed",
   "metadata": {},
   "outputs": [],
   "source": []
  },
  {
   "cell_type": "markdown",
   "id": "d906162b",
   "metadata": {},
   "source": [
    "Display the depth using two ways to use the pandas object"
   ]
  },
  {
   "cell_type": "code",
   "execution_count": 9,
   "id": "ebf5cdf1",
   "metadata": {},
   "outputs": [
    {
     "name": "stdout",
     "output_type": "stream",
     "text": [
      "0        34400.0\n",
      "1        30100.0\n",
      "2        16900.0\n",
      "3       109400.0\n",
      "4        25700.0\n",
      "          ...   \n",
      "1780     10000.0\n",
      "1781    105000.0\n",
      "1782    608510.0\n",
      "1783     10000.0\n",
      "1784     35440.0\n",
      "Name: depth, Length: 1785, dtype: float64\n",
      "0        34400.0\n",
      "1        30100.0\n",
      "2        16900.0\n",
      "3       109400.0\n",
      "4        25700.0\n",
      "          ...   \n",
      "1780     10000.0\n",
      "1781    105000.0\n",
      "1782    608510.0\n",
      "1783     10000.0\n",
      "1784     35440.0\n",
      "Name: depth, Length: 1785, dtype: float64\n"
     ]
    }
   ],
   "source": [
    "print(quake.depth)\n",
    "print(quake['depth'])"
   ]
  },
  {
   "cell_type": "code",
   "execution_count": null,
   "id": "4e709067-0377-4fb0-a327-ae387a888fe7",
   "metadata": {},
   "outputs": [],
   "source": []
  },
  {
   "cell_type": "markdown",
   "id": "112525e6",
   "metadata": {},
   "source": [
    "Calculate basic statitics of the data using the function ``describe``."
   ]
  },
  {
   "cell_type": "code",
   "execution_count": null,
   "id": "45616ad0",
   "metadata": {},
   "outputs": [],
   "source": [
    "quake.describe()"
   ]
  },
  {
   "cell_type": "markdown",
   "id": "fb0caf7d",
   "metadata": {},
   "source": [
    "Calculate mean and median of specific ``Series``, for example depth."
   ]
  },
  {
   "cell_type": "code",
   "execution_count": null,
   "id": "71e77418",
   "metadata": {},
   "outputs": [],
   "source": [
    "# answer it here\n",
    "print(quake.depth.mean())\n",
    "print(quake.depth.median())\n"
   ]
  },
  {
   "cell_type": "markdown",
   "id": "74d6b47f",
   "metadata": {},
   "source": [
    "## Simple Python Functions\n",
    "We will now practice how to modify the content of the DataFrame using functions. We will take the example that we want to change the depth values from meters to kilometers. First we can define this operation as a function"
   ]
  },
  {
   "cell_type": "code",
   "execution_count": null,
   "id": "72f06004",
   "metadata": {},
   "outputs": [],
   "source": [
    "# this function converts a value in meters to a value in kilometers\n",
    "m2km = 1000 # this is defined as a global variable\n",
    "def meters2kilometers(x):\n",
    "    return x/m2km\n"
   ]
  },
  {
   "cell_type": "code",
   "execution_count": null,
   "id": "3987d60f",
   "metadata": {},
   "outputs": [],
   "source": [
    "# now test it using the first element of the quake DataFrame\n",
    "meters2kilometers(quake.depth[0])"
   ]
  },
  {
   "cell_type": "markdown",
   "id": "e4aee24d",
   "metadata": {},
   "source": [
    "Let's define another function that uses a local instead of global variable"
   ]
  },
  {
   "cell_type": "code",
   "execution_count": null,
   "id": "822787a2",
   "metadata": {},
   "outputs": [],
   "source": [
    "def meters2kilometers2(x):\n",
    "    m2km2=1000\n",
    "    return x/m2km2\n",
    "# m2km2 is a local variable and cannot be called outside of the function. Prove it next by inquiring its value in the next cell."
   ]
  },
  {
   "cell_type": "code",
   "execution_count": null,
   "id": "4618282f",
   "metadata": {},
   "outputs": [],
   "source": [
    "print(m2km2)"
   ]
  },
  {
   "cell_type": "markdown",
   "id": "98c71928",
   "metadata": {},
   "source": [
    "We now discuss the **lambda** functions."
   ]
  },
  {
   "cell_type": "code",
   "execution_count": null,
   "id": "23a8c3df",
   "metadata": {},
   "outputs": [],
   "source": [
    "# now we apply it on the entire Series\n",
    "meters2kilometers(quake.depth)"
   ]
  },
  {
   "cell_type": "markdown",
   "id": "9c6d351e",
   "metadata": {},
   "source": [
    "We can also define this very basic function as a **lambda** function. There are several ways of doing an operation on all rows of a column. The first option is to use the map function.\n",
    "\n",
    "If you are not familiar with lambda function in Python, look at:\n",
    "\n",
    "https://realpython.com/python-lambda/\n",
    "\n",
    "We will practice a bit lambda functions\n",
    "\n"
   ]
  },
  {
   "cell_type": "code",
   "execution_count": 11,
   "id": "8587aea8",
   "metadata": {},
   "outputs": [],
   "source": [
    "# Now the equivalent in lambda is:\n",
    "lambda_meters2kilometers = lambda x:x/1000\n",
    "# x is the variable"
   ]
  },
  {
   "cell_type": "code",
   "execution_count": 12,
   "id": "5a463e05",
   "metadata": {},
   "outputs": [
    {
     "data": {
      "text/plain": [
       "0        34.40\n",
       "1        30.10\n",
       "2        16.90\n",
       "3       109.40\n",
       "4        25.70\n",
       "         ...  \n",
       "1780     10.00\n",
       "1781    105.00\n",
       "1782    608.51\n",
       "1783     10.00\n",
       "1784     35.44\n",
       "Name: depth, Length: 1785, dtype: float64"
      ]
     },
     "execution_count": 12,
     "metadata": {},
     "output_type": "execute_result"
    }
   ],
   "source": [
    "# apply it to the entire series\n",
    "lambda_meters2kilometers(quake.depth)"
   ]
  },
  {
   "cell_type": "code",
   "execution_count": 13,
   "id": "24982f5b",
   "metadata": {},
   "outputs": [
    {
     "data": {
      "text/plain": [
       "1"
      ]
     },
     "execution_count": 13,
     "metadata": {},
     "output_type": "execute_result"
    }
   ],
   "source": [
    "# you can add several variables into lambda functions\n",
    "remove_anything = lambda x,y:x-y\n",
    "remove_anything(3,2)"
   ]
  },
  {
   "cell_type": "markdown",
   "id": "6e5fe1c1",
   "metadata": {},
   "source": [
    "We will now use a lambda function to scale the depth values to km. "
   ]
  },
  {
   "cell_type": "code",
   "execution_count": 14,
   "id": "91efd2bf",
   "metadata": {},
   "outputs": [
    {
     "data": {
      "text/plain": [
       "0        34.40\n",
       "1        30.10\n",
       "2        16.90\n",
       "3       109.40\n",
       "4        25.70\n",
       "         ...  \n",
       "1780     10.00\n",
       "1781    105.00\n",
       "1782    608.51\n",
       "1783     10.00\n",
       "1784     35.44\n",
       "Name: depth, Length: 1785, dtype: float64"
      ]
     },
     "execution_count": 14,
     "metadata": {},
     "output_type": "execute_result"
    }
   ],
   "source": [
    "quake.depth.map(lambda p: p/1000)"
   ]
  },
  {
   "cell_type": "markdown",
   "id": "92cc0072",
   "metadata": {},
   "source": [
    "This did not affect the values of the DataFrame, check it:"
   ]
  },
  {
   "cell_type": "code",
   "execution_count": 15,
   "id": "d295efaa",
   "metadata": {},
   "outputs": [
    {
     "data": {
      "text/plain": [
       "0        34400.0\n",
       "1        30100.0\n",
       "2        16900.0\n",
       "3       109400.0\n",
       "4        25700.0\n",
       "          ...   \n",
       "1780     10000.0\n",
       "1781    105000.0\n",
       "1782    608510.0\n",
       "1783     10000.0\n",
       "1784     35440.0\n",
       "Name: depth, Length: 1785, dtype: float64"
      ]
     },
     "execution_count": 15,
     "metadata": {},
     "output_type": "execute_result"
    }
   ],
   "source": [
    "quake.depth"
   ]
  },
  {
   "cell_type": "markdown",
   "id": "bfd2f975",
   "metadata": {},
   "source": [
    "Instead, you could overwrite ``quake.depth=X``. Try two approaches but just do it once!"
   ]
  },
  {
   "cell_type": "code",
   "execution_count": 16,
   "id": "af325f8b",
   "metadata": {},
   "outputs": [],
   "source": [
    "#type answer below\n",
    "quake.depth=quake.depth.map(lambda x:x/1000)"
   ]
  },
  {
   "cell_type": "code",
   "execution_count": null,
   "id": "663d7f14-4652-4ede-8b2a-443d17345b94",
   "metadata": {},
   "outputs": [],
   "source": []
  },
  {
   "cell_type": "code",
   "execution_count": 17,
   "id": "8ed5e696",
   "metadata": {},
   "outputs": [],
   "source": [
    "# or like this\n",
    "# quake.depth=quake.depth.apply(lambda x:x/1000)"
   ]
  },
  {
   "cell_type": "code",
   "execution_count": null,
   "id": "b093817e-ac08-4909-9a9f-ee5f84bc44c4",
   "metadata": {},
   "outputs": [],
   "source": []
  },
  {
   "cell_type": "markdown",
   "id": "f4ccc622",
   "metadata": {},
   "source": [
    "Plot a histogram of the depth distributions using matplotlib function ``hist``."
   ]
  },
  {
   "cell_type": "code",
   "execution_count": 18,
   "id": "804b1b1d",
   "metadata": {},
   "outputs": [
    {
     "data": {
      "image/png": "[encoded data removed]",
      "text/plain": [
       "<Figure size 432x288 with 1 Axes>"
      ]
     },
     "metadata": {
      "needs_background": "light"
     },
     "output_type": "display_data"
    }
   ],
   "source": [
    "# answer here\n",
    "plt.hist(quake.depth,100)\n",
    "plt.grid(True)\n",
    "plt.xlabel('Quake depth (km)')\n",
    "plt.show()"
   ]
  },
  {
   "cell_type": "code",
   "execution_count": null,
   "id": "6fb27ec3-3490-4c2f-8d83-5abe61d343f2",
   "metadata": {},
   "outputs": [],
   "source": []
  },
  {
   "cell_type": "markdown",
   "id": "d5f708b5",
   "metadata": {},
   "source": [
    "You can use the interactive plotting package Plotly. First we will show a histogram of the event depth using the function ``histogram``"
   ]
  },
  {
   "cell_type": "code",
   "execution_count": 19,
   "id": "bf7d7361",
   "metadata": {},
   "outputs": [
    {
     "data": {
      "application/vnd.plotly.v1+json": {
       "config": {
        "plotlyServerURL": "https://plot.ly"
       },
       "data": [
        {
         "alignmentgroup": "True",
         "bingroup": "x",
         "hovertemplate": "depth=%{x}<br>count=%{y}<extra></extra>",
         "legendgroup": "",
         "marker": {
          "color": "#636efa",
          "pattern": {
           "shape": ""
          }
         },
         "name": "",
         "nbinsx": 50,
         "offsetgroup": "",
         "orientation": "v",
         "showlegend": false,
         "type": "histogram",
         "x": [
          34.4,
          30.1,
          16.9,
          109.4,
          25.7,
          21.5,
          45.8,
          43.1,
          35.6,
          41.1,
          111.9,
          610.2,
          584.7,
          633.7,
          564.7,
          615.8,
          30.3,
          50.6,
          219.7,
          33.3,
          46,
          32,
          33.5,
          206.5,
          16.4,
          21.6,
          28.4,
          180.8,
          14.7,
          600.8,
          18.3,
          23.5,
          33.2,
          30,
          45.8,
          4,
          64.9,
          14.7,
          50,
          18.6,
          215.4,
          20.4,
          18.3,
          20.5,
          32.8,
          24.4,
          32.4,
          140.8,
          13.9,
          20,
          22.6,
          10,
          24.6,
          33.1,
          15.3,
          22.8,
          73,
          485,
          15,
          30.7,
          29,
          144.8,
          140.4,
          14.5,
          13.8,
          31.9,
          26.4,
          10,
          15.7,
          550.9,
          34.9,
          584.3,
          24.4,
          123.2,
          20.7,
          30,
          524.5,
          14.8,
          29.7,
          39.1,
          23.7,
          79.9,
          101.9,
          23.8,
          18.5,
          6.4,
          69.3,
          86.5,
          414.8,
          532.8,
          531.2,
          12.8,
          16.5,
          10,
          85.9,
          17,
          26.8,
          39.1,
          551.8,
          4.8,
          130.6,
          3.8,
          114.5,
          92,
          101.2,
          44.1,
          26.2,
          25,
          29.4,
          14.7,
          51,
          518.6,
          19.7,
          33,
          35,
          35,
          9.5,
          14,
          19.5,
          29.2,
          20,
          26,
          35,
          28.2,
          35,
          25.4,
          23,
          23,
          23,
          23.1,
          19.8,
          35,
          35,
          9,
          14,
          35,
          33.4,
          30,
          24.7,
          28.4,
          25.3,
          33.8,
          27.1,
          34.6,
          24.6,
          26,
          24,
          23,
          29.1,
          4.2,
          28.1,
          18.9,
          19.2,
          19,
          14.6,
          24.2,
          33,
          11.2,
          14.7,
          24.8,
          33.8,
          24,
          18.8,
          30.9,
          14.9,
          22.9,
          27.5,
          37.7,
          39.9,
          16.4,
          28.4,
          19.2,
          12.8,
          39,
          22,
          19.8,
          19.8,
          19.4,
          41.7,
          75.5,
          547.2,
          31.9,
          165.1,
          53.2,
          26.2,
          13.3,
          16.7,
          16.2,
          98.1,
          43.4,
          85.6,
          31.7,
          28.3,
          10,
          19.7,
          33.4,
          76.8,
          38.6,
          207.6,
          18.9,
          46.9,
          10,
          19.6,
          14.4,
          8.7,
          66,
          26.9,
          126.2,
          18.7,
          32.1,
          49.8,
          49.8,
          25.3,
          25.4,
          23.8,
          24.7,
          21.6,
          8.6,
          20.5,
          40.9,
          19.5,
          30.8,
          45.9,
          41.1,
          29.7,
          17,
          522.8,
          48.1,
          22.8,
          19.6,
          23.1,
          49.8,
          11.7,
          38.7,
          23.1,
          405.9,
          48.6,
          34.6,
          31.5,
          31.5,
          33.4,
          149.3,
          18.9,
          467.2,
          52,
          46,
          592.7,
          96.3,
          136.6,
          34.6,
          106.6,
          15,
          15.4,
          19.4,
          42,
          24.3,
          629,
          29.7,
          25.4,
          29.6,
          12.7,
          41.7,
          63.2,
          43.2,
          13.9,
          29.8,
          189,
          34.8,
          7.6,
          10.1,
          606,
          29,
          30,
          10,
          177.2,
          228.2,
          6.4,
          24.4,
          19.6,
          560.3,
          42.7,
          48.2,
          43.2,
          21.1,
          13.8,
          65.4,
          130.6,
          167.4,
          128.5,
          66.9,
          12.8,
          359.7,
          33.3,
          20.9,
          17.3,
          23,
          63.5,
          18.7,
          23.5,
          579,
          34.2,
          27.3,
          24.7,
          158.8,
          19.5,
          17.5,
          12.6,
          577.4,
          69.3,
          17.2,
          13,
          17.4,
          551.9,
          33.7,
          19.2,
          14.4,
          19.7,
          46.6,
          69.2,
          19.4,
          117.7,
          28.2,
          10,
          14.4,
          16.3,
          93.4,
          26.3,
          10,
          21.6,
          16.4,
          27.6,
          17,
          10,
          8.4,
          11.4,
          25,
          29.7,
          208.2,
          13.6,
          24.4,
          24,
          113.8,
          132.5,
          28.7,
          108.7,
          35,
          17.7,
          12.8,
          64.1,
          19.1,
          8.2,
          481.6,
          591.1,
          539.4,
          15,
          9.5,
          20.8,
          5.8,
          106.7,
          32,
          44.9,
          45.1,
          20.2,
          101.9,
          16,
          17.1,
          239,
          164.8,
          37.7,
          37.9,
          28.6,
          23.7,
          16.2,
          58.8,
          148.8,
          61.1,
          12.3,
          8.7,
          18.9,
          14,
          590.7,
          27.9,
          80.2,
          90.9,
          16,
          11.1,
          44.4,
          34.8,
          27,
          20.7,
          32.3,
          54,
          23.3,
          8.1,
          26.8,
          155.2,
          18,
          17,
          29.6,
          12.1,
          34.6,
          338.4,
          43.5,
          22.3,
          7.4,
          5.1,
          9.5,
          55.5,
          38.7,
          11,
          128.6,
          14.2,
          18.6,
          19,
          35,
          61.5,
          57.9,
          50.8,
          22.9,
          25,
          40,
          35.3,
          31.9,
          171,
          161.5,
          43.8,
          15.8,
          38.8,
          58.5,
          46.4,
          198.1,
          3.1,
          10,
          24.6,
          14.3,
          46.1,
          36,
          22.2,
          14.8,
          30,
          30,
          105,
          7.5,
          23.8,
          34,
          9.9,
          29,
          15,
          25.3,
          13.7,
          12.7,
          22.4,
          144.2,
          17.9,
          35.7,
          8.9,
          116.4,
          585.6,
          52.8,
          58.3,
          58,
          28.9,
          52,
          30,
          11.7,
          193.7,
          18.6,
          16.2,
          571.3,
          69.4,
          12.8,
          269.3,
          47.1,
          63.1,
          16.3,
          109,
          24.6,
          18,
          113.9,
          32.8,
          431.3,
          31.5,
          24.4,
          355.4,
          15.1,
          210.3,
          611.7,
          45.6,
          35,
          23.4,
          45.9,
          177.7,
          151.6,
          607,
          632,
          17,
          53.6,
          20.6,
          210,
          21.5,
          41.4,
          25,
          17.5,
          25.4,
          55.2,
          26.1,
          387.1,
          65.9,
          19.9,
          13,
          16.3,
          5.1,
          3.2,
          168,
          141,
          17,
          29,
          104.8,
          341.4,
          12.8,
          18.6,
          13.8,
          10.9,
          18.9,
          485.1,
          30.2,
          27.6,
          135.2,
          2.5,
          414.4,
          10,
          30.3,
          30.2,
          10.4,
          189.4,
          74.1,
          13,
          31.1,
          550.1,
          15.5,
          10,
          38.2,
          18.7,
          37.8,
          578.4,
          11,
          118.4,
          12,
          10,
          152.9,
          82.1,
          46.9,
          23.2,
          58,
          15,
          157.7,
          10,
          14.7,
          10,
          11.9,
          14.8,
          19.8,
          8.5,
          19.3,
          556.8,
          60.5,
          10,
          24,
          7.9,
          56.1,
          531.1,
          370.1,
          43.1,
          10,
          25.9,
          21.6,
          34.1,
          22.7,
          194.8,
          30.9,
          32.9,
          10,
          87.8,
          13.8,
          142.9,
          32.6,
          14.5,
          124.6,
          4.1,
          28.3,
          271.2,
          70.4,
          118.9,
          33.1,
          648,
          6.1,
          269.4,
          10,
          16.3,
          83.4,
          10,
          26.5,
          9.4,
          5.3,
          19.3,
          4.4,
          13.9,
          495.6,
          109.7,
          17.1,
          10.8,
          24.6,
          10.6,
          12,
          13,
          19.3,
          71,
          12.6,
          10.4,
          57.8,
          45.5,
          142.3,
          47.5,
          15.3,
          34.2,
          36,
          10,
          10,
          21.4,
          24.4,
          40,
          39.8,
          32.5,
          9.8,
          39.4,
          116.4,
          522.8,
          627.3,
          161.4,
          15.2,
          10,
          41,
          24.9,
          172.3,
          23.3,
          7.1,
          13.1,
          27.2,
          16.7,
          30.1,
          32.9,
          45.1,
          8.2,
          10,
          23.1,
          59.6,
          20.8,
          26.5,
          19.6,
          102.1,
          106.4,
          109.4,
          105.9,
          23.2,
          59.8,
          15.1,
          11.9,
          26,
          26,
          527.4,
          10,
          12,
          35,
          49.1,
          20,
          20,
          53,
          110.2,
          114.6,
          20,
          12,
          20,
          50,
          10,
          227.3,
          233.8,
          10,
          61,
          615.4,
          10,
          13.7,
          99,
          9.8,
          12,
          0,
          2,
          28,
          10,
          19.5,
          50.6,
          55.6,
          10,
          5,
          32,
          13,
          70,
          74.4,
          14,
          32.4,
          10,
          10,
          39.9,
          142.2,
          204.5,
          19.7,
          106.9,
          57.9,
          12.8,
          7.1,
          4.2,
          10.5,
          26.1,
          63.9,
          1.6,
          8,
          435.3,
          10,
          7.4,
          53.4,
          10,
          10.7,
          47.8,
          34.5,
          12.2,
          45.2,
          2,
          9.9,
          47.7,
          614,
          15,
          116,
          23,
          0,
          20,
          256,
          2,
          31.3,
          71,
          10,
          35.2,
          8,
          588,
          10,
          7.9,
          223.9,
          485.7,
          16.8,
          34,
          172.7,
          203.6,
          16.9,
          30.5,
          18.1,
          10.8,
          29,
          13.4,
          13.3,
          12.2,
          10,
          559.1,
          33.5,
          13.1,
          162,
          32.1,
          55.7,
          9.7,
          615.9,
          127.1,
          41.3,
          5.9,
          15.2,
          15.8,
          48.5,
          31.2,
          22.6,
          12.6,
          28.1,
          31.4,
          84.3,
          50.8,
          6.4,
          13.4,
          10,
          14.7,
          13.4,
          584.1,
          54.7,
          63.6,
          45,
          29.6,
          14,
          30.4,
          12.3,
          13.8,
          39.3,
          158.5,
          17.8,
          198.6,
          18.5,
          19.6,
          8.3,
          11.7,
          15.1,
          64.6,
          685.5,
          37.9,
          10.3,
          18.1,
          60.7,
          121.8,
          43.1,
          656.1,
          27.1,
          17.4,
          570.9,
          472.3,
          44,
          19,
          50.8,
          51.1,
          20,
          19.4,
          11.8,
          27.8,
          47.8,
          121.2,
          272.3,
          20,
          11.3,
          15.4,
          19.2,
          224.5,
          8,
          535,
          17,
          20,
          10,
          41.5,
          41.55,
          6,
          22.44,
          26.7,
          19.1,
          35,
          28.41,
          42.32,
          27,
          23,
          23,
          8,
          10,
          6,
          18,
          18,
          30,
          30,
          35,
          58,
          58,
          18,
          18,
          46,
          219,
          10,
          12,
          12,
          12,
          135,
          11,
          10,
          10,
          231,
          20,
          13,
          46,
          10,
          15,
          12,
          10,
          12,
          11,
          12.59,
          82,
          586.88,
          606.21,
          620.56,
          602.75,
          34,
          35,
          22,
          21,
          10,
          85,
          10,
          14,
          12.28,
          206,
          10,
          55,
          55,
          10,
          13,
          238.81,
          582.56,
          46,
          10,
          125.6,
          12,
          163.22,
          10,
          391,
          23,
          31.62,
          29,
          28,
          13,
          10,
          10,
          24,
          19,
          17,
          26,
          30,
          6,
          11.4,
          26,
          24,
          29,
          27.59,
          212,
          136,
          17,
          9,
          8,
          16,
          22.41,
          10,
          20.59,
          14,
          14,
          10,
          10,
          16,
          16,
          24,
          10,
          16,
          29.95,
          10,
          567.48,
          405.69,
          78,
          246.4,
          50,
          429.62,
          43.83,
          10,
          31,
          19,
          10,
          30.4,
          111,
          13,
          15,
          10,
          354,
          13,
          27,
          8,
          21,
          12,
          167,
          72,
          14,
          207.62,
          270,
          510,
          16.44,
          114.09,
          10,
          10,
          10,
          10,
          532.4,
          4.44,
          82,
          10,
          499.06,
          19,
          13.73,
          8,
          10,
          121,
          18,
          14,
          9,
          9,
          10,
          65,
          202,
          596.4,
          442,
          35,
          614,
          5.7,
          10,
          10,
          10,
          90.79,
          42.4,
          22,
          24,
          13.99,
          6.29,
          9,
          115.79,
          11.35,
          10.34,
          17,
          10,
          26.87,
          526,
          13,
          12.08,
          41,
          12.26,
          21.06,
          157.05,
          22.37,
          94.54,
          26.5,
          39.11,
          12.43,
          622.53,
          11.33,
          152,
          35,
          38,
          79,
          551.62,
          12,
          31,
          612.71,
          28.65,
          36,
          135,
          24.05,
          15,
          222,
          595.98,
          414.89,
          17,
          37,
          10,
          8.37,
          10,
          15.52,
          29,
          13,
          155,
          628,
          21,
          28,
          26,
          8,
          2.53,
          10,
          10,
          10,
          169,
          17.39,
          10,
          10,
          533,
          12,
          8.19,
          12,
          94,
          34,
          511,
          46.82,
          38.27,
          19,
          414.61,
          13,
          6.96,
          10,
          34.78,
          10,
          10.99,
          44.92,
          10,
          7,
          12,
          10,
          9,
          20,
          172,
          31,
          10,
          544,
          8,
          43.14,
          0,
          35,
          451,
          56.67,
          51,
          10,
          11,
          197,
          9.62,
          98.07,
          9,
          10,
          10,
          111.84,
          82.43,
          9,
          10,
          549.19,
          9.1,
          18.47,
          10,
          9.93,
          10,
          10,
          110.57,
          12,
          10,
          19,
          19.36,
          8,
          4,
          16.51,
          10,
          10,
          6,
          52,
          10,
          9,
          39.53,
          16,
          12.79,
          20.27,
          10,
          10,
          8,
          10,
          90,
          10,
          9,
          39,
          10,
          116,
          43.91,
          25,
          31,
          11.17,
          10,
          10,
          191.19,
          10,
          10,
          12,
          17,
          10,
          25.98,
          24.43,
          23.64,
          9.91,
          19,
          10,
          16,
          10,
          10,
          22.53,
          33,
          10,
          169,
          39.97,
          35,
          83.52,
          559,
          34,
          17.59,
          76.08,
          34,
          10,
          10,
          2.06,
          18,
          10,
          116,
          10,
          28,
          45,
          35,
          169.16,
          10,
          10,
          37.96,
          29.62,
          577.48,
          14,
          31,
          2.2,
          1.7,
          35,
          20,
          20,
          529,
          15,
          600,
          575.76,
          21.41,
          415.6,
          25.21,
          146.18,
          11.14,
          10,
          43.91,
          609.48,
          10,
          14,
          55,
          26.68,
          35,
          617.87,
          93.53,
          10,
          68,
          115,
          12,
          576,
          10,
          5.19,
          10,
          564.13,
          29,
          20,
          9,
          53.14,
          45.05,
          121,
          20,
          461,
          10,
          10,
          10.96,
          10,
          10,
          14,
          24.69,
          10,
          227.28,
          102,
          581,
          10,
          35,
          10,
          50.21,
          15,
          10,
          8.84,
          540,
          10,
          18,
          46.7,
          136,
          10,
          10,
          10,
          164.66,
          10,
          61.97,
          10,
          16.56,
          42,
          113,
          10,
          60.21,
          31,
          571.18,
          60,
          35,
          35,
          10,
          45.06,
          54.82,
          16.77,
          27.01,
          13,
          361.92,
          588,
          67.93,
          20,
          18,
          144.32,
          10,
          368.12,
          132.36,
          267,
          29,
          30,
          578.68,
          30,
          359,
          119,
          122,
          45,
          8.96,
          41,
          18,
          10,
          7.9,
          58.6,
          539,
          44.83,
          18,
          17.48,
          20,
          10,
          20,
          79,
          54,
          385.58,
          10,
          10,
          146,
          22,
          19,
          10,
          20,
          19.95,
          20,
          30,
          122.4,
          25,
          177.85,
          90.21,
          10,
          430.3,
          11,
          13,
          46,
          31.52,
          16,
          12,
          10,
          10,
          14,
          28,
          212,
          10,
          10,
          26.22,
          10,
          410,
          97.09,
          10,
          10.71,
          8,
          35,
          495.17,
          251,
          10,
          10,
          58.97,
          10,
          10,
          367,
          181,
          25,
          10,
          52.76,
          38,
          36.88,
          10,
          115,
          16,
          4.74,
          591,
          610,
          10,
          10,
          8.97,
          129,
          33,
          73,
          11,
          12.76,
          231,
          10,
          14.95,
          10,
          8,
          53,
          10,
          10,
          10,
          10,
          582.92,
          10,
          33,
          23,
          14.16,
          486.81,
          10,
          5,
          20,
          20,
          71.76,
          28,
          32.44,
          266,
          10,
          7.51,
          18,
          212,
          10,
          10,
          581.63,
          11,
          6.38,
          10,
          17,
          8.07,
          117,
          10,
          44,
          5.57,
          121.72,
          93,
          10,
          10,
          17,
          21,
          15.18,
          10,
          85,
          592.42,
          43.64,
          16,
          34,
          144,
          10,
          10,
          10,
          176,
          20.68,
          10,
          55.39,
          59,
          14.53,
          38.76,
          10,
          31,
          10,
          453,
          38,
          12.94,
          16.99,
          107,
          466.17,
          107,
          2.7,
          10,
          10,
          186,
          96.84,
          90.47,
          106.86,
          10,
          165,
          622,
          10,
          10,
          109,
          20,
          10,
          10,
          538.73,
          73,
          10,
          16,
          605.2,
          28,
          17.67,
          10,
          10,
          41.26,
          480.6,
          10,
          178.9,
          10,
          17.55,
          10,
          22,
          26,
          627.76,
          10,
          23.31,
          23,
          22,
          10,
          10,
          23,
          16.53,
          14.52,
          28.24,
          10,
          10,
          120,
          10,
          51,
          34,
          344,
          10,
          10,
          10,
          28,
          109.22,
          633.92,
          103.49,
          31.08,
          454,
          21,
          10,
          10.82,
          28.17,
          417,
          43,
          19.5,
          589,
          189,
          23,
          10,
          105,
          73.17,
          114,
          14,
          35,
          11,
          109,
          10,
          10,
          21,
          37.14,
          148,
          224,
          113,
          217,
          160,
          10,
          18,
          20,
          80,
          9.8,
          10,
          24.92,
          10,
          11,
          10,
          10,
          10,
          11.69,
          12,
          10,
          51.89,
          5.59,
          14,
          12,
          14,
          2.41,
          8,
          15.48,
          173.3,
          43,
          28.94,
          10,
          25,
          17,
          14,
          13,
          10,
          10,
          15,
          10,
          14,
          10,
          13.23,
          8,
          8,
          10,
          43,
          20,
          595,
          10,
          10,
          18,
          67,
          300,
          9,
          9,
          301,
          246,
          10,
          34,
          10,
          47.3,
          10,
          384,
          22,
          10,
          10,
          32,
          11,
          10,
          9,
          10,
          10,
          44,
          26,
          25,
          600.72,
          10,
          7.45,
          4.070000000000001,
          10,
          10,
          110,
          10,
          10.67,
          35,
          33.67,
          10,
          47.23,
          55.73,
          35,
          35,
          10,
          20.68,
          10,
          16.61,
          33.52,
          93,
          28,
          11.2,
          14,
          37.36,
          16,
          10,
          20,
          193.38,
          35,
          18.8,
          21,
          18,
          8.71,
          401.2,
          364,
          527,
          10,
          10,
          535,
          35.06,
          69.1,
          10,
          33,
          96.48,
          487,
          69,
          22,
          8,
          34,
          20,
          12,
          10,
          10,
          9,
          10,
          10,
          34,
          10,
          42.72,
          126,
          22.07,
          10,
          10,
          10,
          10,
          149,
          7,
          10,
          15.06,
          15,
          10,
          10,
          10,
          27.04,
          10,
          639.16,
          164.28,
          104,
          19,
          544,
          17,
          13,
          7,
          10,
          21,
          22.32,
          11.23,
          33,
          379,
          39,
          21,
          29,
          11,
          6.2,
          10,
          8,
          119,
          110,
          10,
          10,
          15,
          69.6,
          535,
          14,
          251,
          4.94,
          24,
          20,
          581.81,
          11,
          33,
          28,
          57.18,
          59.85,
          21,
          47.57,
          10,
          24,
          115,
          10,
          10,
          20,
          31,
          17,
          149,
          200.93,
          19,
          19,
          27,
          10,
          18,
          27.02,
          10,
          220,
          10,
          129,
          602.01,
          12,
          252,
          15,
          10,
          49,
          237,
          10,
          105,
          608.51,
          10,
          35.44
         ],
         "xaxis": "x",
         "yaxis": "y"
        }
       ],
       "layout": {
        "barmode": "relative",
        "height": 400,
        "legend": {
         "tracegroupgap": 0
        },
        "margin": {
         "t": 60
        },
        "template": {
         "data": {
          "bar": [
           {
            "error_x": {
             "color": "#2a3f5f"
            },
            "error_y": {
             "color": "#2a3f5f"
            },
            "marker": {
             "line": {
              "color": "#E5ECF6",
              "width": 0.5
             },
             "pattern": {
              "fillmode": "overlay",
              "size": 10,
              "solidity": 0.2
             }
            },
            "type": "bar"
           }
          ],
          "barpolar": [
           {
            "marker": {
             "line": {
              "color": "#E5ECF6",
              "width": 0.5
             },
             "pattern": {
              "fillmode": "overlay",
              "size": 10,
              "solidity": 0.2
             }
            },
            "type": "barpolar"
           }
          ],
          "carpet": [
           {
            "aaxis": {
             "endlinecolor": "#2a3f5f",
             "gridcolor": "white",
             "linecolor": "white",
             "minorgridcolor": "white",
             "startlinecolor": "#2a3f5f"
            },
            "baxis": {
             "endlinecolor": "#2a3f5f",
             "gridcolor": "white",
             "linecolor": "white",
             "minorgridcolor": "white",
             "startlinecolor": "#2a3f5f"
            },
            "type": "carpet"
           }
          ],
          "choropleth": [
           {
            "colorbar": {
             "outlinewidth": 0,
             "ticks": ""
            },
            "type": "choropleth"
           }
          ],
          "contour": [
           {
            "colorbar": {
             "outlinewidth": 0,
             "ticks": ""
            },
            "colorscale": [
             [
              0,
              "#0d0887"
             ],
             [
              0.1111111111111111,
              "#46039f"
             ],
             [
              0.2222222222222222,
              "#7201a8"
             ],
             [
              0.3333333333333333,
              "#9c179e"
             ],
             [
              0.4444444444444444,
              "#bd3786"
             ],
             [
              0.5555555555555556,
              "#d8576b"
             ],
             [
              0.6666666666666666,
              "#ed7953"
             ],
             [
              0.7777777777777778,
              "#fb9f3a"
             ],
             [
              0.8888888888888888,
              "#fdca26"
             ],
             [
              1,
              "#f0f921"
             ]
            ],
            "type": "contour"
           }
          ],
          "contourcarpet": [
           {
            "colorbar": {
             "outlinewidth": 0,
             "ticks": ""
            },
            "type": "contourcarpet"
           }
          ],
          "heatmap": [
           {
            "colorbar": {
             "outlinewidth": 0,
             "ticks": ""
            },
            "colorscale": [
             [
              0,
              "#0d0887"
             ],
             [
              0.1111111111111111,
              "#46039f"
             ],
             [
              0.2222222222222222,
              "#7201a8"
             ],
             [
              0.3333333333333333,
              "#9c179e"
             ],
             [
              0.4444444444444444,
              "#bd3786"
             ],
             [
              0.5555555555555556,
              "#d8576b"
             ],
             [
              0.6666666666666666,
              "#ed7953"
             ],
             [
              0.7777777777777778,
              "#fb9f3a"
             ],
             [
              0.8888888888888888,
              "#fdca26"
             ],
             [
              1,
              "#f0f921"
             ]
            ],
            "type": "heatmap"
           }
          ],
          "heatmapgl": [
           {
            "colorbar": {
             "outlinewidth": 0,
             "ticks": ""
            },
            "colorscale": [
             [
              0,
              "#0d0887"
             ],
             [
              0.1111111111111111,
              "#46039f"
             ],
             [
              0.2222222222222222,
              "#7201a8"
             ],
             [
              0.3333333333333333,
              "#9c179e"
             ],
             [
              0.4444444444444444,
              "#bd3786"
             ],
             [
              0.5555555555555556,
              "#d8576b"
             ],
             [
              0.6666666666666666,
              "#ed7953"
             ],
             [
              0.7777777777777778,
              "#fb9f3a"
             ],
             [
              0.8888888888888888,
              "#fdca26"
             ],
             [
              1,
              "#f0f921"
             ]
            ],
            "type": "heatmapgl"
           }
          ],
          "histogram": [
           {
            "marker": {
             "pattern": {
              "fillmode": "overlay",
              "size": 10,
              "solidity": 0.2
             }
            },
            "type": "histogram"
           }
          ],
          "histogram2d": [
           {
            "colorbar": {
             "outlinewidth": 0,
             "ticks": ""
            },
            "colorscale": [
             [
              0,
              "#0d0887"
             ],
             [
              0.1111111111111111,
              "#46039f"
             ],
             [
              0.2222222222222222,
              "#7201a8"
             ],
             [
              0.3333333333333333,
              "#9c179e"
             ],
             [
              0.4444444444444444,
              "#bd3786"
             ],
             [
              0.5555555555555556,
              "#d8576b"
             ],
             [
              0.6666666666666666,
              "#ed7953"
             ],
             [
              0.7777777777777778,
              "#fb9f3a"
             ],
             [
              0.8888888888888888,
              "#fdca26"
             ],
             [
              1,
              "#f0f921"
             ]
            ],
            "type": "histogram2d"
           }
          ],
          "histogram2dcontour": [
           {
            "colorbar": {
             "outlinewidth": 0,
             "ticks": ""
            },
            "colorscale": [
             [
              0,
              "#0d0887"
             ],
             [
              0.1111111111111111,
              "#46039f"
             ],
             [
              0.2222222222222222,
              "#7201a8"
             ],
             [
              0.3333333333333333,
              "#9c179e"
             ],
             [
              0.4444444444444444,
              "#bd3786"
             ],
             [
              0.5555555555555556,
              "#d8576b"
             ],
             [
              0.6666666666666666,
              "#ed7953"
             ],
             [
              0.7777777777777778,
              "#fb9f3a"
             ],
             [
              0.8888888888888888,
              "#fdca26"
             ],
             [
              1,
              "#f0f921"
             ]
            ],
            "type": "histogram2dcontour"
           }
          ],
          "mesh3d": [
           {
            "colorbar": {
             "outlinewidth": 0,
             "ticks": ""
            },
            "type": "mesh3d"
           }
          ],
          "parcoords": [
           {
            "line": {
             "colorbar": {
              "outlinewidth": 0,
              "ticks": ""
             }
            },
            "type": "parcoords"
           }
          ],
          "pie": [
           {
            "automargin": true,
            "type": "pie"
           }
          ],
          "scatter": [
           {
            "fillpattern": {
             "fillmode": "overlay",
             "size": 10,
             "solidity": 0.2
            },
            "type": "scatter"
           }
          ],
          "scatter3d": [
           {
            "line": {
             "colorbar": {
              "outlinewidth": 0,
              "ticks": ""
             }
            },
            "marker": {
             "colorbar": {
              "outlinewidth": 0,
              "ticks": ""
             }
            },
            "type": "scatter3d"
           }
          ],
          "scattercarpet": [
           {
            "marker": {
             "colorbar": {
              "outlinewidth": 0,
              "ticks": ""
             }
            },
            "type": "scattercarpet"
           }
          ],
          "scattergeo": [
           {
            "marker": {
             "colorbar": {
              "outlinewidth": 0,
              "ticks": ""
             }
            },
            "type": "scattergeo"
           }
          ],
          "scattergl": [
           {
            "marker": {
             "colorbar": {
              "outlinewidth": 0,
              "ticks": ""
             }
            },
            "type": "scattergl"
           }
          ],
          "scattermapbox": [
           {
            "marker": {
             "colorbar": {
              "outlinewidth": 0,
              "ticks": ""
             }
            },
            "type": "scattermapbox"
           }
          ],
          "scatterpolar": [
           {
            "marker": {
             "colorbar": {
              "outlinewidth": 0,
              "ticks": ""
             }
            },
            "type": "scatterpolar"
           }
          ],
          "scatterpolargl": [
           {
            "marker": {
             "colorbar": {
              "outlinewidth": 0,
              "ticks": ""
             }
            },
            "type": "scatterpolargl"
           }
          ],
          "scatterternary": [
           {
            "marker": {
             "colorbar": {
              "outlinewidth": 0,
              "ticks": ""
             }
            },
            "type": "scatterternary"
           }
          ],
          "surface": [
           {
            "colorbar": {
             "outlinewidth": 0,
             "ticks": ""
            },
            "colorscale": [
             [
              0,
              "#0d0887"
             ],
             [
              0.1111111111111111,
              "#46039f"
             ],
             [
              0.2222222222222222,
              "#7201a8"
             ],
             [
              0.3333333333333333,
              "#9c179e"
             ],
             [
              0.4444444444444444,
              "#bd3786"
             ],
             [
              0.5555555555555556,
              "#d8576b"
             ],
             [
              0.6666666666666666,
              "#ed7953"
             ],
             [
              0.7777777777777778,
              "#fb9f3a"
             ],
             [
              0.8888888888888888,
              "#fdca26"
             ],
             [
              1,
              "#f0f921"
             ]
            ],
            "type": "surface"
           }
          ],
          "table": [
           {
            "cells": {
             "fill": {
              "color": "#EBF0F8"
             },
             "line": {
              "color": "white"
             }
            },
            "header": {
             "fill": {
              "color": "#C8D4E3"
             },
             "line": {
              "color": "white"
             }
            },
            "type": "table"
           }
          ]
         },
         "layout": {
          "annotationdefaults": {
           "arrowcolor": "#2a3f5f",
           "arrowhead": 0,
           "arrowwidth": 1
          },
          "autotypenumbers": "strict",
          "coloraxis": {
           "colorbar": {
            "outlinewidth": 0,
            "ticks": ""
           }
          },
          "colorscale": {
           "diverging": [
            [
             0,
             "#8e0152"
            ],
            [
             0.1,
             "#c51b7d"
            ],
            [
             0.2,
             "#de77ae"
            ],
            [
             0.3,
             "#f1b6da"
            ],
            [
             0.4,
             "#fde0ef"
            ],
            [
             0.5,
             "#f7f7f7"
            ],
            [
             0.6,
             "#e6f5d0"
            ],
            [
             0.7,
             "#b8e186"
            ],
            [
             0.8,
             "#7fbc41"
            ],
            [
             0.9,
             "#4d9221"
            ],
            [
             1,
             "#276419"
            ]
           ],
           "sequential": [
            [
             0,
             "#0d0887"
            ],
            [
             0.1111111111111111,
             "#46039f"
            ],
            [
             0.2222222222222222,
             "#7201a8"
            ],
            [
             0.3333333333333333,
             "#9c179e"
            ],
            [
             0.4444444444444444,
             "#bd3786"
            ],
            [
             0.5555555555555556,
             "#d8576b"
            ],
            [
             0.6666666666666666,
             "#ed7953"
            ],
            [
             0.7777777777777778,
             "#fb9f3a"
            ],
            [
             0.8888888888888888,
             "#fdca26"
            ],
            [
             1,
             "#f0f921"
            ]
           ],
           "sequentialminus": [
            [
             0,
             "#0d0887"
            ],
            [
             0.1111111111111111,
             "#46039f"
            ],
            [
             0.2222222222222222,
             "#7201a8"
            ],
            [
             0.3333333333333333,
             "#9c179e"
            ],
            [
             0.4444444444444444,
             "#bd3786"
            ],
            [
             0.5555555555555556,
             "#d8576b"
            ],
            [
             0.6666666666666666,
             "#ed7953"
            ],
            [
             0.7777777777777778,
             "#fb9f3a"
            ],
            [
             0.8888888888888888,
             "#fdca26"
            ],
            [
             1,
             "#f0f921"
            ]
           ]
          },
          "colorway": [
           "#636efa",
           "#EF553B",
           "#00cc96",
           "#ab63fa",
           "#FFA15A",
           "#19d3f3",
           "#FF6692",
           "#B6E880",
           "#FF97FF",
           "#FECB52"
          ],
          "font": {
           "color": "#2a3f5f"
          },
          "geo": {
           "bgcolor": "white",
           "lakecolor": "white",
           "landcolor": "#E5ECF6",
           "showlakes": true,
           "showland": true,
           "subunitcolor": "white"
          },
          "hoverlabel": {
           "align": "left"
          },
          "hovermode": "closest",
          "mapbox": {
           "style": "light"
          },
          "paper_bgcolor": "white",
          "plot_bgcolor": "#E5ECF6",
          "polar": {
           "angularaxis": {
            "gridcolor": "white",
            "linecolor": "white",
            "ticks": ""
           },
           "bgcolor": "#E5ECF6",
           "radialaxis": {
            "gridcolor": "white",
            "linecolor": "white",
            "ticks": ""
           }
          },
          "scene": {
           "xaxis": {
            "backgroundcolor": "#E5ECF6",
            "gridcolor": "white",
            "gridwidth": 2,
            "linecolor": "white",
            "showbackground": true,
            "ticks": "",
            "zerolinecolor": "white"
           },
           "yaxis": {
            "backgroundcolor": "#E5ECF6",
            "gridcolor": "white",
            "gridwidth": 2,
            "linecolor": "white",
            "showbackground": true,
            "ticks": "",
            "zerolinecolor": "white"
           },
           "zaxis": {
            "backgroundcolor": "#E5ECF6",
            "gridcolor": "white",
            "gridwidth": 2,
            "linecolor": "white",
            "showbackground": true,
            "ticks": "",
            "zerolinecolor": "white"
           }
          },
          "shapedefaults": {
           "line": {
            "color": "#2a3f5f"
           }
          },
          "ternary": {
           "aaxis": {
            "gridcolor": "white",
            "linecolor": "white",
            "ticks": ""
           },
           "baxis": {
            "gridcolor": "white",
            "linecolor": "white",
            "ticks": ""
           },
           "bgcolor": "#E5ECF6",
           "caxis": {
            "gridcolor": "white",
            "linecolor": "white",
            "ticks": ""
           }
          },
          "title": {
           "x": 0.05
          },
          "xaxis": {
           "automargin": true,
           "gridcolor": "white",
           "linecolor": "white",
           "ticks": "",
           "title": {
            "standoff": 15
           },
           "zerolinecolor": "white",
           "zerolinewidth": 2
          },
          "yaxis": {
           "automargin": true,
           "gridcolor": "white",
           "linecolor": "white",
           "ticks": "",
           "title": {
            "standoff": 15
           },
           "zerolinecolor": "white",
           "zerolinewidth": 2
          }
         }
        },
        "width": 600,
        "xaxis": {
         "anchor": "y",
         "autorange": true,
         "domain": [
          0,
          1
         ],
         "range": [
          0,
          700
         ],
         "title": {
          "text": "depth"
         },
         "type": "linear"
        },
        "yaxis": {
         "anchor": "x",
         "autorange": true,
         "domain": [
          0,
          1
         ],
         "range": [
          0,
          797.8947368421052
         ],
         "title": {
          "text": "count"
         }
        }
       }
      },
      "image/png": "[encoded data removed]"
     },
     "metadata": {},
     "output_type": "display_data"
    }
   ],
   "source": [
    "fig = px.histogram(quake,   #specify what dataframe to use\n",
    "             x=\"depth\",  #specify the variable for the histogram \n",
    "             nbins=50,       #number of bins for the histogram \n",
    "             height=400,     #dimensions of the figure\n",
    "             width=600);\n",
    "fig.show()"
   ]
  },
  {
   "cell_type": "code",
   "execution_count": null,
   "id": "3fc6333c-128e-4d8d-9056-d6440c7f1d6a",
   "metadata": {},
   "outputs": [],
   "source": []
  },
  {
   "cell_type": "markdown",
   "id": "e684bc7d",
   "metadata": {},
   "source": [
    "We will now make a new plot of the location of the earthquakes. We will use Plotly tool. \n",
    "\n",
    "The markersize will be scaled with the earthquake magnitude. To do so, we add a ``marker_size`` series in the DataFrame"
   ]
  },
  {
   "cell_type": "code",
   "execution_count": 20,
   "id": "cfe6b327",
   "metadata": {},
   "outputs": [],
   "source": [
    "quake['marker_size'] =np.fix(np.exp(quake['magnitude'])) # add marker size as exp(mag)\n",
    "quake['magnitude bin'] = 0.5*np.fix(2*quake['magnitude']) # add marker size as exp(mag)"
   ]
  },
  {
   "cell_type": "markdown",
   "id": "7211fc83",
   "metadata": {},
   "source": [
    "## Mapping using Plotly\n",
    "\n",
    "Now we will plot the earthquakes locations on a map using the Plotly package. More tutorials on [Plotly](https://plotly.com/). Input of the function in the function is self-explanatory and typical of Python's function. The code [documentation](https://plotly.com/python/scatter-plots-on-maps/) of Plotly scatter_geo lists the variables."
   ]
  },
  {
   "cell_type": "code",
   "execution_count": 21,
   "id": "d239b1e2",
   "metadata": {},
   "outputs": [
    {
     "data": {
      "application/vnd.plotly.v1+json": {
       "config": {
        "plotlyServerURL": "https://plot.ly"
       },
       "data": [
        {
         "customdata": [
          [
           "VANUATU ISLANDS",
           6.3,
           34.4
          ],
          [
           "NEAR EAST COAST OF HONSHU",
           6.3,
           30.1
          ],
          [
           "SOUTH OF MARIANA ISLANDS",
           6.3,
           16.9
          ],
          [
           "NORTHERN CHILE",
           6.2,
           109.4
          ],
          [
           "NEAR COAST OF CENTRAL CHILE",
           6.6,
           25.7
          ],
          [
           "FOX ISLANDS",
           6.7,
           21.5
          ],
          [
           "NEW BRITAIN REGION",
           6.9,
           45.8
          ],
          [
           "NEW BRITAIN REGION",
           7.3,
           43.1
          ],
          [
           "FOX ISLANDS",
           6,
           35.6
          ],
          [
           "NEW BRITAIN REGION",
           6.3,
           41.1
          ],
          [
           "NORTH OF HALMAHERA",
           6.1,
           111.9
          ],
          [
           "MINDANAO",
           7.3,
           610.2
          ],
          [
           "MINDANAO",
           7.7,
           584.7
          ],
          [
           "MINDANAO",
           7.5,
           633.7
          ],
          [
           "MINDANAO",
           6.6,
           564.7
          ],
          [
           "MINDANAO",
           6.6,
           615.8
          ],
          [
           "OFF EAST COAST OF KAMCHATKA",
           6.3,
           30.3
          ],
          [
           "NORTHERN MOLUCCA SEA",
           6.3,
           50.6
          ],
          [
           "EASTERN NEW GUINEA REG.",
           6.5,
           219.7
          ],
          [
           "ANDREANOF ISLANDS",
           6.4,
           33.3
          ],
          [
           "NEW BRITAIN REGION",
           6.9,
           46
          ],
          [
           "KURIL ISLANDS",
           6,
           32
          ],
          [
           "VANUATU ISLANDS",
           7.3,
           33.5
          ],
          [
           "ECUADOR",
           7.1,
           206.5
          ],
          [
           "SOUTH OF MARIANA ISLANDS",
           6.9,
           16.4
          ],
          [
           "SOUTH OF MARIANA ISLANDS",
           6.1,
           21.6
          ],
          [
           "SOUTH OF MARIANA ISLANDS",
           6.3,
           28.4
          ],
          [
           "NEW BRITAIN REGION",
           6.3,
           180.8
          ],
          [
           "MAURITIUS - REUNION REGION",
           6.3,
           14.7
          ],
          [
           "FIJI ISLANDS REGION",
           6.2,
           600.8
          ],
          [
           "SOUTH OF MARIANA ISLANDS",
           6.2,
           18.3
          ],
          [
           "SOLOMON ISLANDS",
           6.1,
           23.5
          ],
          [
           "NORTHERN SUMATRA",
           6,
           33.2
          ],
          [
           "OFF COAST OF JALISCO",
           6.2,
           30
          ],
          [
           "ANDREANOF ISLANDS",
           6.5,
           45.8
          ],
          [
           "SOUTH ISLAND",
           7,
           4
          ],
          [
           "TONGA ISLANDS",
           6,
           64.9
          ],
          [
           "FIJI ISLANDS REGION",
           6.3,
           14.7
          ],
          [
           "VANUATU ISLANDS",
           6.3,
           50
          ],
          [
           "NEAR COAST OF CENTRAL CHILE",
           6.2,
           18.6
          ],
          [
           "HINDU KUSH REGION",
           6.2,
           215.4
          ],
          [
           "ARU ISLANDS REGION",
           6,
           20.4
          ],
          [
           "IRIAN JAYA REGION",
           6.2,
           18.3
          ],
          [
           "IRIAN JAYA REGION",
           7,
           20.5
          ],
          [
           "SOUTHWESTERN RYUKYU ISL.",
           6.3,
           32.8
          ],
          [
           "ANDREANOF ISLANDS",
           6.4,
           24.4
          ],
          [
           "ANDREANOF ISLANDS",
           6,
           32.4
          ],
          [
           "HALMAHERA",
           6.2,
           140.8
          ],
          [
           "GULF OF CALIFORNIA",
           6.7,
           13.9
          ],
          [
           "SOUTHERN SUMATRA",
           7.8,
           20
          ],
          [
           "SOUTHERN SUMATRA",
           6.3,
           22.6
          ],
          [
           "PACIFIC-ANTARCTIC RIDGE",
           6.3,
           10
          ],
          [
           "IRIAN JAYA REGION",
           6,
           24.6
          ],
          [
           "TONGA ISLANDS",
           6.1,
           33.1
          ],
          [
           "SOUTHEAST INDIAN RIDGE",
           6.5,
           15.3
          ],
          [
           "PACIFIC-ANTARCTIC RIDGE",
           6,
           22.8
          ],
          [
           "NEW BRITAIN REGION",
           6.1,
           73
          ],
          [
           "BONIN ISLANDS",
           6.8,
           485
          ],
          [
           "FIJI ISLANDS REGION",
           6,
           15
          ],
          [
           "NEW BRITAIN REGION",
           6.6,
           30.7
          ],
          [
           "SOUTH SANDWICH ISLANDS REGION",
           6.3,
           29
          ],
          [
           "SOLOMON ISLANDS",
           6.2,
           144.8
          ],
          [
           "BANDA SEA",
           6,
           140.4
          ],
          [
           "SOUTHERN IRAN",
           6.5,
           14.5
          ],
          [
           "BONIN ISLANDS",
           7.4,
           13.8
          ],
          [
           "BONIN ISLANDS",
           6.4,
           31.9
          ],
          [
           "NEAR ISLANDS",
           6.4,
           26.4
          ],
          [
           "PACIFIC-ANTARCTIC RIDGE",
           6,
           10
          ],
          [
           "VANUATU ISLANDS REGION",
           7.3,
           15.7
          ],
          [
           "SOUTH OF FIJI ISLANDS",
           6.3,
           550.9
          ],
          [
           "VANUATU ISLANDS",
           6.3,
           34.9
          ],
          [
           "SANTIAGO DEL ESTERO PROV.",
           7,
           584.3
          ],
          [
           "NEAR COAST OF CENTRAL CHILE",
           7.1,
           24.4
          ],
          [
           "SOUTHEAST OF LOYALTY ISLANDS",
           6.1,
           123.2
          ],
          [
           "VANUATU ISLANDS",
           6.5,
           20.7
          ],
          [
           "VANUATU ISLANDS",
           6.2,
           30
          ],
          [
           "BONIN ISLANDS",
           6.5,
           524.5
          ],
          [
           "LOYALTY ISLANDS",
           6.9,
           14.8
          ],
          [
           "LOYALTY ISLANDS",
           6,
           29.7
          ],
          [
           "SOUTHERN SUMATRA",
           6,
           39.1
          ],
          [
           "NORTHERN SUMATRA",
           6,
           23.7
          ],
          [
           "SOUTHWESTERN PAKISTAN",
           7.2,
           79.9
          ],
          [
           "TAJIKISTAN",
           6.1,
           101.9
          ],
          [
           "NORTHERN SUMATRA",
           6,
           23.8
          ],
          [
           "SOUTHERN IRAN",
           6.2,
           18.5
          ],
          [
           "JAN MAYEN ISLAND REGION",
           6.2,
           6.4
          ],
          [
           "TONGA ISLANDS",
           6,
           69.3
          ],
          [
           "MYANMAR-INDIA BORDER REGION",
           6.3,
           86.5
          ],
          [
           "SOLOMON ISLANDS",
           6.5,
           414.8
          ],
          [
           "CELEBES SEA",
           6.5,
           532.8
          ],
          [
           "CELEBES SEA",
           6.5,
           531.2
          ],
          [
           "NEAR COAST OF CENTRAL CHILE",
           6.8,
           12.8
          ],
          [
           "NEAR COAST OF CENTRAL CHILE",
           6,
           16.5
          ],
          [
           "NEAR COAST OF CENTRAL CHILE",
           6,
           10
          ],
          [
           "TONGA ISLANDS",
           6.1,
           85.9
          ],
          [
           "OFF COAST OF CENTRAL CHILE",
           6.6,
           17
          ],
          [
           "SULAWESI",
           6.1,
           26.8
          ],
          [
           "NEAR EAST COAST OF KAMCHATKA",
           6.2,
           39.1
          ],
          [
           "SOUTH OF FIJI ISLANDS",
           6.5,
           551.8
          ],
          [
           "SOUTH ISLAND",
           6.1,
           4.8
          ],
          [
           "OAXACA",
           6,
           130.6
          ],
          [
           "EASTER ISLAND REGION",
           6.1,
           3.8
          ],
          [
           "NORTHERN CHILE",
           6.3,
           114.5
          ],
          [
           "SOUTH SANDWICH ISLANDS REGION",
           6.5,
           92
          ],
          [
           "SOUTH SANDWICH ISLANDS REGION",
           6.5,
           101.2
          ],
          [
           "SOLOMON ISLANDS",
           6.4,
           44.1
          ],
          [
           "NEAR EAST COAST OF HONSHU",
           7.3,
           26.2
          ],
          [
           "NEAR EAST COAST OF HONSHU",
           6.1,
           25
          ],
          [
           "NEAR EAST COAST OF HONSHU",
           6,
           29.4
          ],
          [
           "NEAR EAST COAST OF HONSHU",
           6.5,
           14.7
          ],
          [
           "NEW BRITAIN REGION",
           6.3,
           51
          ],
          [
           "BALI SEA",
           6.6,
           518.6
          ],
          [
           "NEAR EAST COAST OF HONSHU",
           9.1,
           19.7
          ],
          [
           "OFF EAST COAST OF HONSHU",
           6.8,
           33
          ],
          [
           "NEAR EAST COAST OF HONSHU",
           6.3,
           35
          ],
          [
           "OFF EAST COAST OF HONSHU",
           6.4,
           35
          ],
          [
           "OFF EAST COAST OF HONSHU",
           6.3,
           9.5
          ],
          [
           "NEAR EAST COAST OF HONSHU",
           6.2,
           14
          ],
          [
           "NEAR EAST COAST OF HONSHU",
           6.3,
           19.5
          ],
          [
           "NEAR EAST COAST OF HONSHU",
           6.4,
           29.2
          ],
          [
           "OFF EAST COAST OF HONSHU",
           6.7,
           20
          ],
          [
           "NEAR EAST COAST OF HONSHU",
           6.2,
           26
          ],
          [
           "OFF EAST COAST OF HONSHU",
           6.2,
           35
          ],
          [
           "NEAR EAST COAST OF HONSHU",
           6.2,
           28.2
          ],
          [
           "OFF EAST COAST OF HONSHU",
           6.3,
           35
          ],
          [
           "NEAR EAST COAST OF HONSHU",
           7.9,
           25.4
          ],
          [
           "OFF EAST COAST OF HONSHU",
           6.6,
           23
          ],
          [
           "NEAR EAST COAST OF HONSHU",
           6.5,
           23
          ],
          [
           "NEAR EAST COAST OF HONSHU",
           6.2,
           23
          ],
          [
           "NEAR EAST COAST OF HONSHU",
           6.2,
           23.1
          ],
          [
           "OFF EAST COAST OF HONSHU",
           7.6,
           19.8
          ],
          [
           "OFF EAST COAST OF HONSHU",
           6.1,
           35
          ],
          [
           "OFF EAST COAST OF HONSHU",
           6.4,
           35
          ],
          [
           "OFF EAST COAST OF HONSHU",
           6.2,
           9
          ],
          [
           "OFF EAST COAST OF HONSHU",
           6.2,
           14
          ],
          [
           "OFF EAST COAST OF HONSHU",
           6.1,
           35
          ],
          [
           "NEAR EAST COAST OF HONSHU",
           6,
           33.4
          ],
          [
           "OFF EAST COAST OF HONSHU",
           6.3,
           30
          ],
          [
           "NEAR EAST COAST OF HONSHU",
           6.3,
           24.7
          ],
          [
           "OFF EAST COAST OF HONSHU",
           6.1,
           28.4
          ],
          [
           "NEAR EAST COAST OF HONSHU",
           6.1,
           25.3
          ],
          [
           "NEAR EAST COAST OF HONSHU",
           6.3,
           33.8
          ],
          [
           "NEAR EAST COAST OF HONSHU",
           6,
           27.1
          ],
          [
           "NEAR EAST COAST OF HONSHU",
           6.2,
           34.6
          ],
          [
           "OFF EAST COAST OF HONSHU",
           6.1,
           24.6
          ],
          [
           "NEAR EAST COAST OF HONSHU",
           6.5,
           26
          ],
          [
           "OFF EAST COAST OF HONSHU",
           6.1,
           24
          ],
          [
           "NEAR EAST COAST OF HONSHU",
           6,
           23
          ],
          [
           "NEAR EAST COAST OF HONSHU",
           6,
           29.1
          ],
          [
           "OFF EAST COAST OF HONSHU",
           6,
           4.2
          ],
          [
           "NEAR EAST COAST OF HONSHU",
           6,
           28.1
          ],
          [
           "NEAR EAST COAST OF HONSHU",
           6.5,
           18.9
          ],
          [
           "NEAR EAST COAST OF HONSHU",
           6.3,
           19.2
          ],
          [
           "NEAR EAST COAST OF HONSHU",
           6,
           19
          ],
          [
           "EASTERN HONSHU",
           6.3,
           14.6
          ],
          [
           "NEAR EAST COAST OF HONSHU",
           6.2,
           24.2
          ],
          [
           "NEAR EAST COAST OF HONSHU",
           6.5,
           33
          ],
          [
           "NEAR WEST COAST OF HONSHU",
           6.2,
           11.2
          ],
          [
           "NEAR EAST COAST OF HONSHU",
           6.1,
           14.7
          ],
          [
           "OFF EAST COAST OF HONSHU",
           6.5,
           24.8
          ],
          [
           "NEAR EAST COAST OF HONSHU",
           6.2,
           33.8
          ],
          [
           "NEAR EAST COAST OF HONSHU",
           6.2,
           24
          ],
          [
           "OFF EAST COAST OF HONSHU",
           6,
           18.8
          ],
          [
           "OFF EAST COAST OF HONSHU",
           6.1,
           30.9
          ],
          [
           "EASTERN HONSHU",
           6,
           14.9
          ],
          [
           "OFF EAST COAST OF HONSHU",
           6,
           22.9
          ],
          [
           "VANUATU ISLANDS",
           6.2,
           27.5
          ],
          [
           "NEAR EAST COAST OF HONSHU",
           6.1,
           37.7
          ],
          [
           "PHILIPPINE ISLANDS REGION",
           6,
           39.9
          ],
          [
           "OFF EAST COAST OF HONSHU",
           6.4,
           16.4
          ],
          [
           "NEAR EAST COAST OF HONSHU",
           6.2,
           28.4
          ],
          [
           "OFF EAST COAST OF HONSHU",
           6.3,
           19.2
          ],
          [
           "MYANMAR",
           6.8,
           12.8
          ],
          [
           "NEAR EAST COAST OF HONSHU",
           6.2,
           39
          ],
          [
           "FIJI ISLANDS REGION",
           6,
           22
          ],
          [
           "NEAR EAST COAST OF HONSHU",
           6.2,
           19.8
          ],
          [
           "OFF EAST COAST OF HONSHU",
           6.2,
           19.8
          ],
          [
           "FIJI ISLANDS REGION",
           6.4,
           19.4
          ],
          [
           "NEAR EAST COAST OF HONSHU",
           6,
           41.7
          ],
          [
           "CRETE",
           6.1,
           75.5
          ],
          [
           "FIJI ISLANDS REGION",
           6.4,
           547.2
          ],
          [
           "SOUTH OF JAVA",
           6.7,
           31.9
          ],
          [
           "CHIAPAS",
           6.7,
           165.1
          ],
          [
           "NEAR EAST COAST OF HONSHU",
           7.1,
           53.2
          ],
          [
           "KYUSHU",
           6,
           26.2
          ],
          [
           "NEAR EAST COAST OF HONSHU",
           6.7,
           13.3
          ],
          [
           "NEAR EAST COAST OF HONSHU",
           6.2,
           16.7
          ],
          [
           "OFF EAST COAST OF HONSHU",
           6,
           16.2
          ],
          [
           "SOUTH OF KERMADEC ISLANDS",
           6.5,
           98.1
          ],
          [
           "NEAR EAST COAST OF HONSHU",
           6.2,
           43.4
          ],
          [
           "SOLOMON ISLANDS",
           6.8,
           85.6
          ],
          [
           "NEAR EAST COAST OF HONSHU",
           6,
           31.7
          ],
          [
           "SULAWESI",
           6.1,
           28.3
          ],
          [
           "SOUTH OF PANAMA",
           6.2,
           10
          ],
          [
           "OFF EAST COAST OF HONSHU",
           6.1,
           19.7
          ],
          [
           "LOYALTY ISLANDS",
           6.8,
           33.4
          ],
          [
           "COSTA RICA",
           6,
           76.8
          ],
          [
           "NEAR EAST COAST OF HONSHU",
           6.1,
           38.6
          ],
          [
           "HINDU KUSH REGION",
           6,
           207.6
          ],
          [
           "CENTRAL MID-ATLANTIC RIDGE",
           6.1,
           18.9
          ],
          [
           "SOLOMON ISLANDS",
           6.5,
           46.9
          ],
          [
           "NEAR COAST OF CENTRAL CHILE",
           6.3,
           10
          ],
          [
           "OFF EAST COAST OF HONSHU",
           6.1,
           19.6
          ],
          [
           "WEST OF MACQUARIE ISLAND",
           6.4,
           14.4
          ],
          [
           "SOUTH ISLAND",
           6,
           8.7
          ],
          [
           "NORTHERN MOLUCCA SEA",
           6.4,
           66
          ],
          [
           "NEW BRITAIN REGION",
           6.3,
           26.9
          ],
          [
           "CHILE-BOLIVIA BORDER REGION",
           6.5,
           126.2
          ],
          [
           "SANTA CRUZ ISLANDS",
           6,
           18.7
          ],
          [
           "NEAR EAST COAST OF HONSHU",
           6.7,
           32.1
          ],
          [
           "FOX ISLANDS",
           7.3,
           49.8
          ],
          [
           "SANTA CRUZ ISLANDS",
           6.1,
           49.8
          ],
          [
           "IRIAN JAYA REGION",
           6.4,
           25.3
          ],
          [
           "KERMADEC ISLANDS REGION",
           7.6,
           25.4
          ],
          [
           "KERMADEC ISLANDS REGION",
           6,
           23.8
          ],
          [
           "OFF EAST COAST OF HONSHU",
           7,
           24.7
          ],
          [
           "NEGROS",
           6.5,
           21.6
          ],
          [
           "SOUTH SANDWICH ISLANDS REGION",
           6.1,
           8.6
          ],
          [
           "OFF COAST OF CENTRAL CHILE",
           6,
           20.5
          ],
          [
           "ALASKA PENINSULA",
           6.2,
           40.9
          ],
          [
           "TAJIKISTAN",
           6.2,
           19.5
          ],
          [
           "SOLOMON ISLANDS",
           6,
           30.8
          ],
          [
           "NEAR EAST COAST OF HONSHU",
           6.3,
           45.9
          ],
          [
           "NEAR EAST COAST OF HONSHU",
           6.3,
           41.1
          ],
          [
           "NEW IRELAND REGION",
           6.3,
           29.7
          ],
          [
           "GULF OF CALIFORNIA",
           6,
           17
          ],
          [
           "SOUTH OF FIJI ISLANDS",
           6.7,
           522.8
          ],
          [
           "NEAR EAST COAST OF HONSHU",
           6.4,
           48.1
          ],
          [
           "VANUATU ISLANDS REGION",
           6.1,
           22.8
          ],
          [
           "NEAR N COAST OF NEW GUINEA",
           6.6,
           19.6
          ],
          [
           "NEAR S. COAST OF HONSHU",
           6,
           23.1
          ],
          [
           "KURIL ISLANDS",
           6.1,
           49.8
          ],
          [
           "ASCENSION ISLAND REGION",
           6,
           11.7
          ],
          [
           "CERAM SEA",
           6,
           38.7
          ],
          [
           "OFF EAST COAST OF HONSHU",
           6.2,
           23.1
          ],
          [
           "FIJI ISLANDS REGION",
           6.2,
           405.9
          ],
          [
           "NEAR EAST COAST OF HONSHU",
           6.3,
           48.6
          ],
          [
           "VANUATU ISLANDS",
           7.1,
           34.6
          ],
          [
           "VANUATU ISLANDS",
           6.5,
           31.5
          ],
          [
           "VANUATU ISLANDS",
           7,
           31.5
          ],
          [
           "SUNDA STRAIT",
           6.1,
           33.4
          ],
          [
           "PERU-BRAZIL BORDER REGION",
           7,
           149.3
          ],
          [
           "VANUATU ISLANDS",
           6.1,
           18.9
          ],
          [
           "BANDA SEA",
           6.9,
           467.2
          ],
          [
           "SANTA CRUZ ISLANDS",
           6,
           52
          ],
          [
           "FOX ISLANDS",
           6.9,
           46
          ],
          [
           "SANTIAGO DEL ESTERO PROV.",
           6.7,
           592.7
          ],
          [
           "SOUTH SANDWICH ISLANDS REGION",
           6.4,
           96.3
          ],
          [
           "VANUATU ISLANDS",
           7,
           136.6
          ],
          [
           "TONGA ISLANDS",
           6.2,
           34.6
          ],
          [
           "NORTHERN SUMATRA",
           6.7,
           106.6
          ],
          [
           "AUCKLAND ISLANDS",
           6,
           15
          ],
          [
           "VANCOUVER ISLAND",
           6.5,
           15.4
          ],
          [
           "NEAR ISLANDS",
           6,
           19.4
          ],
          [
           "EAST OF NORTH ISLAND",
           6,
           42
          ],
          [
           "NEAR EAST COAST OF HONSHU",
           6.2,
           24.3
          ],
          [
           "FIJI ISLANDS REGION",
           7.3,
           629
          ],
          [
           "NEAR EAST COAST OF HONSHU",
           6.7,
           29.7
          ],
          [
           "OFF EAST COAST OF HONSHU",
           6,
           25.4
          ],
          [
           "SIKKIM",
           6.9,
           29.6
          ],
          [
           "TONGA ISLANDS",
           6.4,
           12.7
          ],
          [
           "SOUTH OF KERMADEC ISLANDS",
           6.1,
           41.7
          ],
          [
           "SOUTH OF BALI",
           6.2,
           63.2
          ],
          [
           "EASTERN NEW GUINEA REG.",
           6.5,
           43.2
          ],
          [
           "SOUTHEASTERN SIBERIA",
           6,
           13.9
          ],
          [
           "NEW BRITAIN REGION",
           6,
           29.8
          ],
          [
           "HOKKAIDO",
           6.2,
           189
          ],
          [
           "KERMADEC ISLANDS REGION",
           7.4,
           34.8
          ],
          [
           "TURKEY",
           7.1,
           7.6
          ],
          [
           "TURKEY",
           6,
           10.1
          ],
          [
           "FIJI ISLANDS REGION",
           6,
           606
          ],
          [
           "NEAR COAST OF PERU",
           7,
           29
          ],
          [
           "REVILLA GIGEDO ISLANDS REGION",
           6.2,
           30
          ],
          [
           "PACIFIC-ANTARCTIC RIDGE",
           6.2,
           10
          ],
          [
           "NICARAGUA",
           6,
           177.2
          ],
          [
           "NORTHEAST OF TAIWAN",
           6.9,
           228.2
          ],
          [
           "SOUTHERN EAST PACIFIC RISE",
           6,
           6.4
          ],
          [
           "SOUTHERN MOLUCCA SEA",
           6.4,
           24.4
          ],
          [
           "OFF COAST OF ECUADOR",
           6,
           19.6
          ],
          [
           "CENTRAL BOLIVIA",
           6.6,
           560.3
          ],
          [
           "NEAR EAST COAST OF HONSHU",
           6.1,
           42.7
          ],
          [
           "HOKKAIDO",
           6.2,
           48.2
          ],
          [
           "NEW IRELAND REGION",
           6.1,
           43.2
          ],
          [
           "LUZON",
           6,
           21.1
          ],
          [
           "NEAR COAST OF NORTHERN CHILE",
           6.1,
           13.8
          ],
          [
           "GUERRERO",
           6.5,
           65.4
          ],
          [
           "SOUTH SANDWICH ISLANDS REGION",
           6.3,
           130.6
          ],
          [
           "MINAHASSA PENINSULA",
           6.1,
           167.4
          ],
          [
           "EASTERN NEW GUINEA REG.",
           7.1,
           128.5
          ],
          [
           "TONGA ISLANDS",
           6,
           66.9
          ],
          [
           "SOUTHWESTERN SIBERIA",
           6.7,
           12.8
          ],
          [
           "SOUTHEAST OF HONSHU",
           6.8,
           359.7
          ],
          [
           "SANTA CRUZ ISLANDS",
           6.4,
           33.3
          ],
          [
           "OFF W COAST OF NORTHERN SUMATRA",
           7.2,
           20.9
          ],
          [
           "SOUTH SHETLAND ISLANDS",
           6.6,
           17.3
          ],
          [
           "SOUTH SHETLAND ISLANDS",
           6,
           23
          ],
          [
           "NEAR COAST OF CHIAPAS",
           6.2,
           63.5
          ],
          [
           "SOUTH SANDWICH ISLANDS REGION",
           6,
           18.7
          ],
          [
           "NEAR COAST OF CENTRAL CHILE",
           6.1,
           23.5
          ],
          [
           "SOUTH OF FIJI ISLANDS",
           6.3,
           579
          ],
          [
           "NEAR COAST OF PERU",
           6.4,
           34.2
          ],
          [
           "VANUATU ISLANDS",
           7,
           27.3
          ],
          [
           "VANUATU ISLANDS",
           6.1,
           24.7
          ],
          [
           "VANUATU ISLANDS",
           6.1,
           158.8
          ],
          [
           "VANUATU ISLANDS",
           6,
           19.5
          ],
          [
           "NEGROS",
           6.7,
           17.5
          ],
          [
           "NEGROS",
           6,
           12.6
          ],
          [
           "FIJI ISLANDS REGION",
           6,
           577.4
          ],
          [
           "SOLOMON ISLANDS",
           6.4,
           69.3
          ],
          [
           "SOUTH OF FIJI ISLANDS",
           6,
           17.2
          ],
          [
           "SOUTHWESTERN SIBERIA",
           6.7,
           13
          ],
          [
           "SOUTHEAST OF LOYALTY ISLANDS",
           6.6,
           17.4
          ],
          [
           "SANTIAGO DEL ESTERO PROV.",
           6.1,
           551.9
          ],
          [
           "VANUATU ISLANDS",
           6.6,
           33.7
          ],
          [
           "OFF EAST COAST OF HONSHU",
           7,
           19.2
          ],
          [
           "OFF EAST COAST OF HONSHU",
           6.1,
           14.4
          ],
          [
           "NEAR EAST COAST OF HONSHU",
           6,
           19.7
          ],
          [
           "NEW BRITAIN REGION",
           6.2,
           46.6
          ],
          [
           "IRIAN JAYA",
           6.3,
           69.2
          ],
          [
           "NEAR COAST OF GUERRERO",
           7.5,
           19.4
          ],
          [
           "EASTERN NEW GUINEA REG.",
           6.6,
           117.7
          ],
          [
           "NEAR COAST OF CENTRAL CHILE",
           7.1,
           28.2
          ],
          [
           "NORTHERN EAST PACIFIC RISE",
           6,
           10
          ],
          [
           "NEAR EAST COAST OF HONSHU",
           6,
           14.4
          ],
          [
           "NEAR COAST OF GUERRERO",
           6.1,
           16.3
          ],
          [
           "NEW IRELAND REGION",
           6.1,
           93.4
          ],
          [
           "OFF W COAST OF NORTHERN SUMATRA",
           8.6,
           26.3
          ],
          [
           "NORTH INDIAN OCEAN",
           6,
           10
          ],
          [
           "OFF W COAST OF NORTHERN SUMATRA",
           8.2,
           21.6
          ],
          [
           "OFF COAST OF OREGON",
           6,
           16.4
          ],
          [
           "MICHOACAN",
           6.7,
           27.6
          ],
          [
           "BAJA CALIFORNIA",
           6.1,
           17
          ],
          [
           "BAJA CALIFORNIA",
           7,
           10
          ],
          [
           "DRAKE PASSAGE",
           6.2,
           8.4
          ],
          [
           "VANUATU ISLANDS",
           6.3,
           11.4
          ],
          [
           "OFF W COAST OF NORTHERN SUMATRA",
           6.3,
           25
          ],
          [
           "NEAR COAST OF CENTRAL CHILE",
           6.7,
           29.7
          ],
          [
           "EASTERN NEW GUINEA REG.",
           6.9,
           208.2
          ],
          [
           "EAST OF SOUTH SANDWICH ISLANDS",
           6.2,
           13.6
          ],
          [
           "IRIAN JAYA REGION",
           6.7,
           24.4
          ],
          [
           "IRIAN JAYA REGION",
           6,
           24
          ],
          [
           "KERMADEC ISLANDS REGION",
           6,
           113.8
          ],
          [
           "TONGA ISLANDS",
           6.7,
           132.5
          ],
          [
           "NEAR COAST OF CHIAPAS",
           6,
           28.7
          ],
          [
           "PERU-BOLIVIA BORDER REGION",
           6.3,
           108.7
          ],
          [
           "OFF COAST OF SOUTHERN CHILE",
           6.3,
           35
          ],
          [
           "NORTHERN ITALY",
           6.1,
           17.7
          ],
          [
           "OFF EAST COAST OF HONSHU",
           6.4,
           12.8
          ],
          [
           "HOKKAIDO",
           6,
           64.1
          ],
          [
           "WESTERN INDIAN-ANTARCTIC RIDGE",
           6,
           19.1
          ],
          [
           "GREENLAND SEA",
           6.3,
           8.2
          ],
          [
           "BONIN ISLANDS",
           6,
           481.6
          ],
          [
           "SANTIAGO DEL ESTERO PROV.",
           6.7,
           591.1
          ],
          [
           "SALTA PROVINCE",
           6,
           539.4
          ],
          [
           "SOUTH OF PANAMA",
           6.3,
           15
          ],
          [
           "SOUTH OF PANAMA",
           6.3,
           9.5
          ],
          [
           "OFF EAST COAST OF HONSHU",
           6.1,
           20.8
          ],
          [
           "CHILE-ARGENTINA BORDER REGION",
           6,
           5.8
          ],
          [
           "SOUTHERN PERU",
           6.2,
           106.7
          ],
          [
           "DODECANESE ISLANDS",
           6.1,
           32
          ],
          [
           "LUZON",
           6,
           44.9
          ],
          [
           "NEAR EAST COAST OF HONSHU",
           6.3,
           45.1
          ],
          [
           "NEAR ISLANDS",
           6,
           20.2
          ],
          [
           "NORTHERN SUMATRA",
           6.1,
           101.9
          ],
          [
           "NEAR EAST COAST OF KAMCHATKA",
           6,
           16
          ],
          [
           "NORTHERN XINJIANG",
           6.3,
           17.1
          ],
          [
           "COOK STRAIT",
           6.3,
           239
          ],
          [
           "VANUATU ISLANDS",
           6.4,
           164.8
          ],
          [
           "KURIL ISLANDS",
           6,
           37.7
          ],
          [
           "KURIL ISLANDS",
           6,
           37.9
          ],
          [
           "NORTHERN SUMATRA",
           6.4,
           28.6
          ],
          [
           "SOLOMON ISLANDS",
           6.5,
           23.7
          ],
          [
           "MAURITIUS - REUNION REGION",
           6.6,
           16.2
          ],
          [
           "NEW IRELAND REGION",
           6.5,
           58.8
          ],
          [
           "PERU-BRAZIL BORDER REGION",
           6,
           148.8
          ],
          [
           "NEW IRELAND REGION",
           6.1,
           61.1
          ],
          [
           "FOX ISLANDS",
           6.2,
           12.3
          ],
          [
           "ARMENIA-AZERBAIJAN-IRAN BORD REG",
           6.5,
           8.7
          ],
          [
           "ARMENIA-AZERBAIJAN-IRAN BORD REG",
           6.3,
           18.9
          ],
          [
           "XIZANG",
           6.2,
           14
          ],
          [
           "SEA OF OKHOTSK",
           7.7,
           590.7
          ],
          [
           "SULAWESI",
           6.3,
           27.9
          ],
          [
           "NEAR N COAST OF NEW GUINEA",
           6.2,
           80.2
          ],
          [
           "NORTHERN MOLUCCA SEA",
           6.6,
           90.9
          ],
          [
           "OFF COAST OF CENTRAL AMERICA",
           7.3,
           16
          ],
          [
           "JAN MAYEN ISLAND REGION",
           6.7,
           11.1
          ],
          [
           "PHILIPPINE ISLANDS REGION",
           7.6,
           44.4
          ],
          [
           "SOUTH OF JAVA",
           6.3,
           34.8
          ],
          [
           "SANTA CRUZ ISLANDS",
           6,
           27
          ],
          [
           "COSTA RICA",
           7.6,
           20.7
          ],
          [
           "IRIAN JAYA REGION",
           6.1,
           32.3
          ],
          [
           "KURIL ISLANDS",
           6,
           54
          ],
          [
           "SOUTHERN SUMATRA",
           6.3,
           23.3
          ],
          [
           "BAJA CALIFORNIA",
           6.3,
           8.1
          ],
          [
           "ANDREANOF ISLANDS",
           6.5,
           26.8
          ],
          [
           "COLOMBIA",
           7.2,
           155.2
          ],
          [
           "OFF EAST COAST OF HONSHU",
           6,
           18
          ],
          [
           "GULF OF CALIFORNIA",
           6,
           17
          ],
          [
           "BANDA SEA",
           6.2,
           29.6
          ],
          [
           "WEST OF MACQUARIE ISLAND",
           6.6,
           12.1
          ],
          [
           "IRIAN JAYA REGION",
           6.6,
           34.6
          ],
          [
           "CELEBES SEA",
           6,
           338.4
          ],
          [
           "VANUATU ISLANDS",
           6.2,
           43.5
          ],
          [
           "COSTA RICA",
           6.4,
           22.3
          ],
          [
           "QUEEN CHARLOTTE ISLANDS REGION",
           7.8,
           7.4
          ],
          [
           "QUEEN CHARLOTTE ISLANDS REGION",
           6.4,
           5.1
          ],
          [
           "QUEEN CHARLOTTE ISLANDS REGION",
           6.2,
           9.5
          ],
          [
           "MINDANAO",
           6.1,
           55.5
          ],
          [
           "NEAR COAST OF CHIAPAS",
           7.4,
           38.7
          ],
          [
           "VANCOUVER ISLAND",
           6.2,
           11
          ],
          [
           "CENTRAL PERU",
           6,
           128.6
          ],
          [
           "MYANMAR",
           6.8,
           14.2
          ],
          [
           "NEAR COAST OF CHIAPAS",
           6.4,
           18.6
          ],
          [
           "GULF OF ALASKA",
           6.3,
           19
          ],
          [
           "OFF COAST OF SOUTHERN CHILE",
           6,
           35
          ],
          [
           "NEAR COAST OF CENTRAL CHILE",
           6.2,
           61.5
          ],
          [
           "GUERRERO",
           6.1,
           57.9
          ],
          [
           "KURIL ISLANDS",
           6.5,
           50.8
          ],
          [
           "NEW BRITAIN REGION",
           6,
           22.9
          ],
          [
           "NEAR N COAST OF NEW GUINEA",
           6,
           25
          ],
          [
           "VANUATU ISLANDS",
           6.1,
           40
          ],
          [
           "OFF EAST COAST OF HONSHU",
           7.2,
           35.3
          ],
          [
           "OFF EAST COAST OF HONSHU",
           6.2,
           31.9
          ],
          [
           "NORTH ISLAND",
           6.3,
           171
          ],
          [
           "BANDA SEA",
           7.1,
           161.5
          ],
          [
           "NORTHERN MOLUCCA SEA",
           6,
           43.8
          ],
          [
           "OFF W. COAST OF BAJA CALIFORNIA",
           6.4,
           15.8
          ],
          [
           "NEAR ISLANDS",
           6,
           38.8
          ],
          [
           "NEW IRELAND REGION",
           6.1,
           58.5
          ],
          [
           "MINAHASSA PENINSULA",
           6.1,
           46.4
          ],
          [
           "VANUATU ISLANDS",
           6.7,
           198.1
          ],
          [
           "SOUTHEASTERN ALASKA",
           7.5,
           3.1
          ],
          [
           "PACIFIC-ANTARCTIC RIDGE",
           6.1,
           10
          ],
          [
           "NORTHERN SUMATRA",
           6.1,
           24.6
          ],
          [
           "LAKE ISSYK-KUL REGION",
           6.2,
           14.3
          ],
          [
           "CENTRAL CHILE",
           6.8,
           46.1
          ],
          [
           "SANTA CRUZ ISLANDS",
           6.1,
           36
          ],
          [
           "SANTA CRUZ ISLANDS",
           6.1,
           22.2
          ],
          [
           "SANTA CRUZ ISLANDS",
           6,
           14.8
          ],
          [
           "SANTA CRUZ ISLANDS",
           6.4,
           30
          ],
          [
           "SANTA CRUZ ISLANDS",
           6.3,
           30
          ],
          [
           "HOKKAIDO",
           6.9,
           105
          ],
          [
           "SANTA CRUZ ISLANDS",
           6,
           7.5
          ],
          [
           "SANTA CRUZ ISLANDS",
           7.9,
           23.8
          ],
          [
           "SANTA CRUZ ISLANDS REGION",
           7.1,
           34
          ],
          [
           "SANTA CRUZ ISLANDS",
           7,
           9.9
          ],
          [
           "SANTA CRUZ ISLANDS REGION",
           6.1,
           29
          ],
          [
           "SANTA CRUZ ISLANDS",
           6.1,
           15
          ],
          [
           "SANTA CRUZ ISLANDS",
           6,
           25.3
          ],
          [
           "SANTA CRUZ ISLANDS",
           6.7,
           13.7
          ],
          [
           "SANTA CRUZ ISLANDS",
           6.8,
           12.7
          ],
          [
           "SANTA CRUZ ISLANDS",
           7,
           22.4
          ],
          [
           "COLOMBIA",
           7,
           144.2
          ],
          [
           "SANTA CRUZ ISLANDS",
           6.6,
           17.9
          ],
          [
           "SANTA CRUZ ISLANDS",
           6,
           35.7
          ],
          [
           "EASTERN SIBERIA",
           6.7,
           8.9
          ],
          [
           "MINDANAO",
           6.2,
           116.4
          ],
          [
           "SANTIAGO DEL ESTERO PROV.",
           6.1,
           585.6
          ],
          [
           "KURIL ISLANDS",
           6.8,
           52.8
          ],
          [
           "KURIL ISLANDS",
           6.4,
           58.3
          ],
          [
           "KURIL ISLANDS",
           6.5,
           58
          ],
          [
           "NEW BRITAIN REGION",
           6.5,
           28.9
          ],
          [
           "SOUTH SANDWICH ISLANDS REGION",
           6,
           52
          ],
          [
           "EAST OF KURIL ISLANDS",
           6,
           30
          ],
          [
           "VANUATU ISLANDS REGION",
           6,
           11.7
          ],
          [
           "GUATEMALA",
           6.2,
           193.7
          ],
          [
           "TAIWAN",
           6,
           18.6
          ],
          [
           "OFF EAST COAST OF HONSHU",
           6,
           16.2
          ],
          [
           "E. RUSSIA-N.E. CHINA BORDER REG.",
           6.3,
           571.3
          ],
          [
           "IRIAN JAYA",
           7,
           69.4
          ],
          [
           "SOUTHERN IRAN",
           6.3,
           12.8
          ],
          [
           "VANUATU ISLANDS",
           6,
           269.3
          ],
          [
           "SOLOMON ISLANDS",
           6.5,
           47.1
          ],
          [
           "SOUTHERN IRAN",
           7.7,
           63.1
          ],
          [
           "NEAR N COAST OF NEW GUINEA",
           6.6,
           16.3
          ],
          [
           "KURIL ISLANDS",
           7.2,
           109
          ],
          [
           "EAST OF KURIL ISLANDS",
           6.1,
           24.6
          ],
          [
           "SICHUAN",
           6.6,
           18
          ],
          [
           "BANDA SEA",
           6,
           113.9
          ],
          [
           "KURIL ISLANDS",
           6.1,
           32.8
          ],
          [
           "SOUTHEAST OF HONSHU",
           6.1,
           431.3
          ],
          [
           "MICHOACAN",
           6.1,
           31.5
          ],
          [
           "NEW IRELAND REGION",
           6.5,
           24.4
          ],
          [
           "KERMADEC ISLANDS REGION",
           6.2,
           355.4
          ],
          [
           "SOUTHERN IRAN",
           6.2,
           15.1
          ],
          [
           "TONGA ISLANDS",
           6.3,
           210.3
          ],
          [
           "MARIANA ISLANDS",
           6.8,
           611.7
          ],
          [
           "NEAR EAST COAST OF HONSHU",
           6,
           45.6
          ],
          [
           "OFF COAST OF SOUTHERN CHILE",
           6.3,
           35
          ],
          [
           "OFF EAST COAST OF KAMCHATKA",
           6,
           23.4
          ],
          [
           "OFF EAST COAST OF KAMCHATKA",
           6.2,
           45.9
          ],
          [
           "SOUTH OF FIJI ISLANDS",
           7.4,
           177.7
          ],
          [
           "TONGA ISLANDS",
           6.3,
           151.6
          ],
          [
           "SEA OF OKHOTSK",
           8.3,
           607
          ],
          [
           "SEA OF OKHOTSK",
           6.7,
           632
          ],
          [
           "TAIWAN",
           6.3,
           17
          ],
          [
           "SANTA CRUZ ISLANDS",
           6,
           53.6
          ],
          [
           "SOUTH OF JAVA",
           6.6,
           20.6
          ],
          [
           "SOUTH OF KERMADEC ISLANDS",
           6,
           210
          ],
          [
           "CRETE",
           6.3,
           21.5
          ],
          [
           "NEAR COAST OF NICARAGUA",
           6.4,
           41.4
          ],
          [
           "CRETE",
           6.1,
           25
          ],
          [
           "NORTHERN MID-ATLANTIC RIDGE",
           6.5,
           17.5
          ],
          [
           "NORTHERN SUMATRA",
           6.1,
           25.4
          ],
          [
           "SOLOMON ISLANDS",
           6,
           55.2
          ],
          [
           "SOUTHERN SUMATRA",
           6.1,
           26.1
          ],
          [
           "NEW IRELAND REGION",
           7.3,
           387.1
          ],
          [
           "NEW BRITAIN REGION",
           6.6,
           65.9
          ],
          [
           "SOUTH SANDWICH ISLANDS REGION",
           7.3,
           19.9
          ],
          [
           "SOUTHERN PERU",
           6,
           13
          ],
          [
           "COOK STRAIT",
           6.5,
           16.3
          ],
          [
           "GANSU",
           6,
           5.1
          ],
          [
           "PRINCE EDWARD ISLANDS REGION",
           6.3,
           3.2
          ],
          [
           "SOUTH OF FIJI ISLANDS",
           6,
           168
          ],
          [
           "VANUATU ISLANDS",
           6.1,
           141
          ],
          [
           "SOUTH SANDWICH ISLANDS REGION",
           6.3,
           17
          ],
          [
           "TONGA ISLANDS",
           6,
           29
          ],
          [
           "BANDA SEA",
           6.1,
           104.8
          ],
          [
           "KERMADEC ISLANDS REGION",
           6.2,
           341.4
          ],
          [
           "NEAR COAST OF NORTHERN PERU",
           6.2,
           12.8
          ],
          [
           "SOUTH OF PANAMA",
           6.6,
           18.6
          ],
          [
           "COOK STRAIT",
           6.5,
           13.8
          ],
          [
           "SOUTHWEST INDIAN RIDGE",
           6.2,
           10.9
          ],
          [
           "NEAR COAST OF GUERRERO",
           6.2,
           18.9
          ],
          [
           "KERMADEC ISLANDS REGION",
           6.2,
           485.1
          ],
          [
           "ANDREANOF ISLANDS",
           7,
           30.2
          ],
          [
           "ANDREANOF ISLANDS",
           6,
           27.6
          ],
          [
           "BANDA SEA",
           6.5,
           135.2
          ],
          [
           "QUEEN CHARLOTTE ISLANDS REGION",
           6.1,
           2.5
          ],
          [
           "SOUTHEAST OF HONSHU",
           6.5,
           414.4
          ],
          [
           "QUEEN CHARLOTTE ISLANDS REGION",
           6,
           10
          ],
          [
           "ANDREANOF ISLANDS",
           6.5,
           30.3
          ],
          [
           "ANDREANOF ISLANDS",
           6,
           30.2
          ],
          [
           "NORTHERN MID-ATLANTIC RIDGE",
           6,
           10.4
          ],
          [
           "PHILIPPINE ISLANDS REGION",
           6,
           189.4
          ],
          [
           "NEAR COAST OF CHIAPAS",
           6.4,
           74.1
          ],
          [
           "CENTRAL EAST PACIFIC RISE",
           6,
           13
          ],
          [
           "ANDREANOF ISLANDS",
           6.1,
           31.1
          ],
          [
           "FLORES SEA",
           6.1,
           550.1
          ],
          [
           "PAKISTAN",
           7.8,
           15.5
          ],
          [
           "SOUTHERN EAST PACIFIC RISE",
           6,
           10
          ],
          [
           "NEAR COAST OF PERU",
           7,
           38.2
          ],
          [
           "PAKISTAN",
           6.8,
           18.7
          ],
          [
           "KERMADEC ISLANDS",
           6.4,
           37.8
          ],
          [
           "SEA OF OKHOTSK",
           6.7,
           578.4
          ],
          [
           "MID-INDIAN RIDGE",
           6.4,
           11
          ],
          [
           "SOUTH OF MARIANA ISLANDS",
           6,
           118.4
          ],
          [
           "WEST CHILE RISE",
           6.2,
           12
          ],
          [
           "SAKHALIN",
           6.6,
           10
          ],
          [
           "KERMADEC ISLANDS",
           6.2,
           152.9
          ],
          [
           "NEAR COAST OF VENEZUELA",
           6,
           82.1
          ],
          [
           "CRETE",
           6.8,
           46.9
          ],
          [
           "MINDANAO",
           7.1,
           23.2
          ],
          [
           "SOLOMON ISLANDS",
           6.8,
           58
          ],
          [
           "GULF OF CALIFORNIA",
           6.6,
           15
          ],
          [
           "SOUTH OF FIJI ISLANDS",
           6,
           157.7
          ],
          [
           "EAST OF SOUTH SANDWICH ISLANDS",
           6.6,
           10
          ],
          [
           "OFF EAST COAST OF HONSHU",
           7.1,
           14.7
          ],
          [
           "BALLENY ISLANDS REGION",
           6,
           10
          ],
          [
           "OFF COAST OF CENTRAL CHILE",
           6.3,
           11.9
          ],
          [
           "TAIWAN",
           6.3,
           14.8
          ],
          [
           "NEAR COAST OF CENTRAL CHILE",
           6.5,
           19.8
          ],
          [
           "EASTER ISLAND REGION",
           6,
           8.5
          ],
          [
           "TONGA ISLANDS REGION",
           6.2,
           19.3
          ],
          [
           "CELEBES SEA",
           6,
           556.8
          ],
          [
           "NEAR EAST COAST OF KAMCHATKA",
           6.5,
           60.5
          ],
          [
           "SCOTIA SEA",
           6,
           10
          ],
          [
           "SCOTIA SEA",
           6.9,
           24
          ],
          [
           "SCOTIA SEA",
           7.8,
           7.9
          ],
          [
           "HALMAHERA",
           6.1,
           56.1
          ],
          [
           "MARIANA ISLANDS",
           6,
           531.1
          ],
          [
           "FIJI ISLANDS REGION",
           6.5,
           370.1
          ],
          [
           "KURIL ISLANDS",
           6,
           43.1
          ],
          [
           "SOUTH ATLANTIC OCEAN",
           6.9,
           10
          ],
          [
           "BANDA SEA",
           6.5,
           25.9
          ],
          [
           "NORTHERN SUMATRA",
           6,
           21.6
          ],
          [
           "KURIL ISLANDS",
           6.1,
           34.1
          ],
          [
           "MARIANA ISLANDS REGION",
           6.2,
           22.7
          ],
          [
           "VANUATU ISLANDS",
           6.5,
           194.8
          ],
          [
           "PUERTO RICO REGION",
           6.3,
           30.9
          ],
          [
           "NORTH ISLAND",
           6.3,
           32.9
          ],
          [
           "TONGA ISLANDS",
           6.2,
           10
          ],
          [
           "JAVA",
           6.2,
           87.8
          ],
          [
           "GREECE",
           6.1,
           13.8
          ],
          [
           "SOUTH SANDWICH ISLANDS REGION",
           6.2,
           142.9
          ],
          [
           "SOUTH OF KERMADEC ISLANDS",
           6.4,
           32.6
          ],
          [
           "GREECE",
           6,
           14.5
          ],
          [
           "VANUATU ISLANDS",
           6.5,
           124.6
          ],
          [
           "XIZANG",
           6.9,
           4.1
          ],
          [
           "NORTH ATLANTIC OCEAN",
           6.5,
           28.3
          ],
          [
           "FOX ISLANDS",
           6.1,
           271.2
          ],
          [
           "NEAR COAST OF NICARAGUA",
           6.2,
           70.4
          ],
          [
           "RYUKYU ISLANDS",
           6.5,
           118.9
          ],
          [
           "NEAR COAST OF CHIAPAS",
           6,
           33.1
          ],
          [
           "VANUATU ISLANDS",
           6.4,
           648
          ],
          [
           "OFF COAST OF NORTHERN CALIFORNIA",
           6.9,
           6.1
          ],
          [
           "EASTERN NEW GUINEA REG.",
           6,
           269.4
          ],
          [
           "EAST OF SOUTH SANDWICH ISLANDS",
           6.4,
           10
          ],
          [
           "BISMARCK SEA",
           6.1,
           16.3
          ],
          [
           "KYUSHU",
           6.3,
           83.4
          ],
          [
           "NEAR COAST OF PERU",
           6.1,
           10
          ],
          [
           "NEAR COAST OF NORTHERN PERU",
           6.3,
           26.5
          ],
          [
           "NEAR COAST OF NORTHERN CHILE",
           6.7,
           9.4
          ],
          [
           "NEAR COAST OF NORTHERN CHILE",
           6.4,
           5.3
          ],
          [
           "NICOBAR ISLANDS",
           6.4,
           19.3
          ],
          [
           "NEAR COAST OF NORTHERN CHILE",
           6.2,
           4.4
          ],
          [
           "NEAR COAST OF NORTHERN CHILE",
           6.2,
           13.9
          ],
          [
           "SOUTH OF FIJI ISLANDS",
           6.4,
           495.6
          ],
          [
           "SANTA CRUZ ISLANDS",
           6,
           109.7
          ],
          [
           "NEAR COAST OF NORTHERN CHILE",
           8.1,
           17.1
          ],
          [
           "OFF COAST OF NORTHERN CHILE",
           7,
           10.8
          ],
          [
           "SOUTH OF PANAMA",
           6,
           24.6
          ],
          [
           "NEAR COAST OF NORTHERN CHILE",
           6.6,
           10.6
          ],
          [
           "NEAR COAST OF NORTHERN CHILE",
           7.7,
           12
          ],
          [
           "NEAR COAST OF NORTHERN CHILE",
           6.5,
           13
          ],
          [
           "NEAR COAST OF NORTHERN CHILE",
           6.2,
           19.3
          ],
          [
           "SOLOMON ISLANDS",
           6,
           71
          ],
          [
           "NICARAGUA",
           6.1,
           12.6
          ],
          [
           "NEAR COAST OF NORTHERN CHILE",
           6.1,
           10.4
          ],
          [
           "SOLOMON ISLANDS",
           7.1,
           57.8
          ],
          [
           "SOLOMON ISLANDS",
           6.5,
           45.5
          ],
          [
           "NEAR COAST OF NICARAGUA",
           6.6,
           142.3
          ],
          [
           "SOLOMON ISLANDS",
           6.1,
           47.5
          ],
          [
           "SOLOMON ISLANDS",
           7.6,
           15.3
          ],
          [
           "SOLOMON ISLANDS",
           7.4,
           34.2
          ],
          [
           "SOLOMON ISLANDS",
           6.6,
           36
          ],
          [
           "BOUVET ISLAND REGION",
           6.8,
           10
          ],
          [
           "BALLENY ISLANDS REGION",
           6.2,
           10
          ],
          [
           "SANTA CRUZ ISLANDS REGION",
           6.1,
           21.4
          ],
          [
           "GUERRERO",
           7.3,
           24.4
          ],
          [
           "SOLOMON ISLANDS",
           6.6,
           40
          ],
          [
           "SOLOMON ISLANDS",
           7.5,
           39.8
          ],
          [
           "SOLOMON ISLANDS",
           6.2,
           32.5
          ],
          [
           "VANCOUVER ISLAND",
           6.6,
           9.8
          ],
          [
           "TONGA ISLANDS",
           6.1,
           39.4
          ],
          [
           "SOUTHEAST OF LOYALTY ISLANDS",
           6.6,
           116.4
          ],
          [
           "SOUTH OF FIJI ISLANDS",
           6.6,
           522.8
          ],
          [
           "SOUTH OF FIJI ISLANDS",
           6.4,
           627.3
          ],
          [
           "NEAR S. COAST OF HONSHU",
           6,
           161.4
          ],
          [
           "THAILAND",
           6.2,
           15.2
          ],
          [
           "WEST CHILE RISE",
           6.2,
           10
          ],
          [
           "SOLOMON ISLANDS",
           6,
           41
          ],
          [
           "GUERRERO",
           6.5,
           24.9
          ],
          [
           "TONGA ISLANDS",
           6,
           172.3
          ],
          [
           "GUERRERO",
           6.1,
           23.3
          ],
          [
           "SOUTHERN EAST PACIFIC RISE",
           6.4,
           7.1
          ],
          [
           "SOUTH OF PANAMA",
           6.5,
           13.1
          ],
          [
           "E. CAROLINE ISLANDS",
           6.2,
           27.2
          ],
          [
           "E. CAROLINE ISLANDS",
           6.3,
           16.7
          ],
          [
           "NEGROS",
           6.2,
           30.1
          ],
          [
           "OFF W COAST OF NORTHERN SUMATRA",
           6,
           32.9
          ],
          [
           "BAY OF BENGAL",
           6.1,
           45.1
          ],
          [
           "AEGEAN SEA",
           6.9,
           8.2
          ],
          [
           "OFF COAST OF JALISCO",
           6.2,
           10
          ],
          [
           "SOUTH INDIAN OCEAN",
           6.5,
           23.1
          ],
          [
           "VANUATU ISLANDS",
           6.2,
           59.6
          ],
          [
           "KERMADEC ISLANDS",
           6.9,
           20.8
          ],
          [
           "KERMADEC ISLANDS",
           6.5,
           26.5
          ],
          [
           "KERMADEC ISLANDS",
           6.7,
           19.6
          ],
          [
           "RAT ISLANDS",
           7.9,
           102.1
          ],
          [
           "RAT ISLANDS",
           6,
           106.4
          ],
          [
           "RAT ISLANDS",
           6,
           109.4
          ],
          [
           "RAT ISLANDS",
           6,
           105.9
          ],
          [
           "RAT ISLANDS",
           6.4,
           23.2
          ],
          [
           "VOLCANO ISLANDS",
           6.2,
           59.8
          ],
          [
           "SOUTH SANDWICH ISLANDS REGION",
           6.8,
           15.1
          ],
          [
           "SOUTH SANDWICH ISLANDS REGION",
           6,
           11.9
          ],
          [
           "TONGA ISLANDS",
           6.4,
           26
          ],
          [
           "TONGA ISLANDS",
           6.6,
           26
          ],
          [
           "BONIN ISLANDS",
           6.2,
           527.4
          ],
          [
           "BALLENY ISLANDS REGION",
           6.1,
           10
          ],
          [
           "BALLENY ISLANDS REGION",
           6,
           12
          ],
          [
           "KERMADEC ISLANDS REGION",
           6.4,
           35
          ],
          [
           "KERMADEC ISLANDS REGION",
           6.3,
           49.1
          ],
          [
           "NEW BRITAIN REGION",
           6.4,
           20
          ],
          [
           "OFF W COAST OF NORTHERN SUMATRA",
           6.1,
           20
          ],
          [
           "NEAR COAST OF CHIAPAS",
           6.9,
           53
          ],
          [
           "VANUATU ISLANDS",
           6.2,
           110.2
          ],
          [
           "VANUATU ISLANDS",
           6.2,
           114.6
          ],
          [
           "OFF EAST COAST OF HONSHU",
           6.6,
           20
          ],
          [
           "OFF EAST COAST OF HONSHU",
           6.5,
           12
          ],
          [
           "MINDANAO",
           6.3,
           20
          ],
          [
           "MINDANAO",
           6.2,
           50
          ],
          [
           "SOUTHEASTERN ALASKA",
           6,
           10
          ],
          [
           "TONGA ISLANDS",
           6.3,
           227.3
          ],
          [
           "TONGA ISLANDS",
           6.2,
           233.8
          ],
          [
           "OWEN FRACTURE ZONE REGION",
           6,
           10
          ],
          [
           "KURIL ISLANDS",
           6.3,
           61
          ],
          [
           "FIJI ISLANDS REGION",
           6.9,
           615.4
          ],
          [
           "SOUTHEASTERN ALASKA",
           6,
           10
          ],
          [
           "NORTHERN MID-ATLANTIC RIDGE",
           6.1,
           13.7
          ],
          [
           "OAXACA",
           6.4,
           99
          ],
          [
           "BISMARCK SEA",
           6.1,
           9.8
          ],
          [
           "BISMARCK SEA",
           6,
           12
          ],
          [
           "E. CAROLINE ISLANDS",
           6.8,
           0
          ],
          [
           "XIZANG",
           6,
           2
          ],
          [
           "YUNNAN",
           6.2,
           28
          ],
          [
           "BANDA SEA",
           6.2,
           10
          ],
          [
           "BANDA SEA",
           6.2,
           19.5
          ],
          [
           "HOKKAIDO",
           6.1,
           50.6
          ],
          [
           "HOKKAIDO",
           6.1,
           55.6
          ],
          [
           "IRAN-IRAQ BORDER REGION",
           6.2,
           10
          ],
          [
           "IRAN-IRAQ BORDER REGION",
           6,
           5
          ],
          [
           "NEAR COAST OF CENTRAL CHILE",
           6.4,
           32
          ],
          [
           "NORTHERN CALIFORNIA",
           6.1,
           13
          ],
          [
           "CENTRAL PERU",
           6.8,
           70
          ],
          [
           "CENTRAL PERU",
           6.8,
           74.4
          ],
          [
           "EASTER ISLAND REGION",
           6,
           14
          ],
          [
           "TONGA ISLANDS",
           6,
           32.4
          ],
          [
           "EASTER ISLAND REGION",
           6.1,
           10
          ],
          [
           "OFF COAST OF JALISCO",
           6.1,
           10
          ],
          [
           "SOUTHERN MOLUCCA SEA",
           6.3,
           39.9
          ],
          [
           "MARIANA ISLANDS",
           6.8,
           142.2
          ],
          [
           "JUJUY PROVINCE",
           6.2,
           204.5
          ],
          [
           "SOLOMON ISLANDS",
           6.1,
           19.7
          ],
          [
           "SOUTHERN ALASKA",
           6.3,
           106.9
          ],
          [
           "NEW BRITAIN REGION",
           6,
           57.9
          ],
          [
           "YUNNAN",
           6.1,
           12.8
          ],
          [
           "GULF OF CALIFORNIA",
           6.1,
           7.1
          ],
          [
           "SOUTHERN EAST PACIFIC RISE",
           7,
           4.2
          ],
          [
           "SOUTHERN EAST PACIFIC RISE",
           6.6,
           10.5
          ],
          [
           "HOKKAIDO",
           6,
           26.1
          ],
          [
           "OFF COAST OF CENTRAL AMERICA",
           7.3,
           63.9
          ],
          [
           "TONGA ISLANDS",
           6,
           1.6
          ],
          [
           "EASTER ISLAND REGION",
           6,
           8
          ],
          [
           "FIJI ISLANDS REGION",
           7.1,
           435.3
          ],
          [
           "BALLENY ISLANDS REGION",
           6,
           10
          ],
          [
           "MID-INDIAN RIDGE",
           6.3,
           7.4
          ],
          [
           "NEW BRITAIN REGION",
           6.6,
           53.4
          ],
          [
           "PRIMOR'YE",
           7.6,
           10
          ],
          [
           "FIJI ISLANDS REGION",
           6,
           10.7
          ],
          [
           "NORTHERN MOLUCCA SEA",
           7,
           47.8
          ],
          [
           "OFF E. COAST OF N. ISLAND",
           6.7,
           34.5
          ],
          [
           "PRINCE EDWARD ISLANDS REGION",
           6.2,
           12.2
          ],
          [
           "NORTHERN MOLUCCA SEA",
           6.5,
           45.2
          ],
          [
           "SICHUAN",
           6.1,
           2
          ],
          [
           "EASTERN HONSHU",
           6.2,
           9.9
          ],
          [
           "NORTHERN MOLUCCA SEA",
           6.8,
           47.7
          ],
          [
           "MINDANAO",
           6.6,
           614
          ],
          [
           "SOUTH OF PANAMA",
           6,
           15
          ],
          [
           "BANDA SEA",
           6,
           116
          ],
          [
           "SOLOMON ISLANDS",
           6.6,
           23
          ],
          [
           "NEAR COAST OF GUATEMALA",
           6,
           0
          ],
          [
           "SOUTH OF PANAMA",
           6.6,
           20
          ],
          [
           "TAIWAN REGION",
           6.1,
           256
          ],
          [
           "PHILIPPINE ISLANDS REGION",
           6,
           2
          ],
          [
           "NEAR EAST COAST OF HONSHU",
           6,
           31.3
          ],
          [
           "NORTHERN MOLUCCA SEA",
           6.4,
           71
          ],
          [
           "SOUTH OF PANAMA",
           6,
           10
          ],
          [
           "SOUTH OF PANAMA",
           6,
           35.2
          ],
          [
           "MINDANAO",
           6.1,
           8
          ],
          [
           "FIJI ISLANDS REGION",
           6,
           588
          ],
          [
           "SOUTHEAST OF EASTER ISLAND",
           6,
           10
          ],
          [
           "SOUTH OF PANAMA",
           6.5,
           7.9
          ],
          [
           "VANUATU ISLANDS",
           6.8,
           223.9
          ],
          [
           "FIJI ISLANDS REGION",
           6.2,
           485.7
          ],
          [
           "SOUTHEAST OF LOYALTY ISLANDS",
           6,
           16.8
          ],
          [
           "ADMIRALTY ISLANDS REGION",
           6,
           34
          ],
          [
           "MENDOZA PROVINCE",
           6.3,
           172.7
          ],
          [
           "JUJUY PROVINCE",
           6.7,
           203.6
          ],
          [
           "REYKJANES RIDGE",
           7.1,
           16.9
          ],
          [
           "TAIWAN REGION",
           6.2,
           30.5
          ],
          [
           "SOUTH SANDWICH ISLANDS REGION",
           6.3,
           18.1
          ],
          [
           "OFF EAST COAST OF HONSHU",
           6.7,
           10.8
          ],
          [
           "SANTA CRUZ ISLANDS REGION",
           6.1,
           29
          ],
          [
           "VANUATU ISLANDS",
           6.4,
           13.4
          ],
          [
           "OFF EAST COAST OF HONSHU",
           6.2,
           13.3
          ],
          [
           "OFF EAST COAST OF HONSHU",
           6,
           12.2
          ],
          [
           "OFF COAST OF JALISCO",
           6.2,
           10
          ],
          [
           "FLORES SEA",
           7,
           559.1
          ],
          [
           "SOUTHERN SUMATRA",
           6.2,
           33.5
          ],
          [
           "MID-INDIAN RIDGE",
           6,
           13.1
          ],
          [
           "NORTHERN COLOMBIA",
           6.2,
           162
          ],
          [
           "MINAHASSA PENINSULA",
           6.1,
           32.1
          ],
          [
           "NORTHERN MOLUCCA SEA",
           6.3,
           55.7
          ],
          [
           "NEAR COAST OF CENTRAL CHILE",
           6.1,
           9.7
          ],
          [
           "FIJI ISLANDS REGION",
           6.1,
           615.9
          ],
          [
           "NORTHERN CHILE",
           6.4,
           127.1
          ],
          [
           "NEW BRITAIN REGION",
           7.5,
           41.3
          ],
          [
           "SAMOA ISLANDS REGION",
           6,
           5.9
          ],
          [
           "SAMOA ISLANDS REGION",
           6.3,
           15.2
          ],
          [
           "SAMOA ISLANDS REGION",
           6.4,
           15.8
          ],
          [
           "NEW BRITAIN REGION",
           6,
           48.5
          ],
          [
           "TONGA ISLANDS",
           6.3,
           31.2
          ],
          [
           "CRETE",
           6.1,
           22.6
          ],
          [
           "FIJI ISLANDS REGION",
           6.5,
           12.6
          ],
          [
           "TAIWAN REGION",
           6.4,
           28.1
          ],
          [
           "TAIWAN REGION",
           6,
           31.4
          ],
          [
           "SANTA CRUZ ISLANDS",
           6.2,
           84.3
          ],
          [
           "SOUTH ISLAND",
           6,
           50.8
          ],
          [
           "QUEEN CHARLOTTE ISLANDS REGION",
           6.2,
           6.4
          ],
          [
           "NEPAL",
           7.9,
           13.4
          ],
          [
           "NEPAL",
           6.1,
           10
          ],
          [
           "NEPAL",
           6.7,
           14.7
          ],
          [
           "NEPAL",
           6.7,
           13.4
          ],
          [
           "FIJI ISLANDS REGION",
           6.1,
           584.1
          ],
          [
           "NEW BRITAIN REGION",
           6.6,
           54.7
          ],
          [
           "NEW BRITAIN REGION",
           6.7,
           63.6
          ],
          [
           "NEW BRITAIN REGION",
           6,
           45
          ],
          [
           "NEW BRITAIN REGION",
           7.5,
           29.6
          ],
          [
           "MOROCCO",
           6.1,
           14
          ],
          [
           "SOLOMON ISLANDS",
           7,
           30.4
          ],
          [
           "NEPAL",
           7.2,
           12.3
          ],
          [
           "NEPAL",
           6.1,
           13.8
          ],
          [
           "NEAR EAST COAST OF HONSHU",
           6.8,
           39.3
          ],
          [
           "SOUTHERN SUMATRA",
           6,
           158.5
          ],
          [
           "PACIFIC-ANTARCTIC RIDGE",
           6.6,
           17.8
          ],
          [
           "TONGA ISLANDS",
           6,
           198.6
          ],
          [
           "SANTA CRUZ ISLANDS REGION",
           6.8,
           18.5
          ],
          [
           "SOLOMON ISLANDS",
           7,
           19.6
          ],
          [
           "SOLOMON ISLANDS",
           6.9,
           8.3
          ],
          [
           "SOUTHERN MID-ATLANTIC RIDGE",
           6.3,
           11.7
          ],
          [
           "TONGA ISLANDS",
           6.3,
           15.1
          ],
          [
           "ALASKA PENINSULA",
           6.8,
           64.6
          ],
          [
           "BONIN ISLANDS",
           7.9,
           685.5
          ],
          [
           "TONGA ISLANDS",
           6,
           37.9
          ],
          [
           "SOUTHEAST OF HONSHU",
           6.2,
           10.3
          ],
          [
           "BORNEO",
           6,
           18.1
          ],
          [
           "HOKKAIDO",
           6.1,
           60.7
          ],
          [
           "NORTHERN CHILE",
           6.1,
           121.8
          ],
          [
           "SAMOA ISLANDS REGION",
           6,
           43.1
          ],
          [
           "FIJI ISLANDS REGION",
           6,
           656.1
          ],
          [
           "SOUTHERN MID-ATLANTIC RIDGE",
           6.9,
           27.1
          ],
          [
           "NEAR COAST OF CENTRAL CHILE",
           6.4,
           17.4
          ],
          [
           "FIJI ISLANDS REGION",
           6,
           570.9
          ],
          [
           "BONIN ISLANDS",
           6.5,
           472.3
          ],
          [
           "NEW BRITAIN REGION",
           6,
           44
          ],
          [
           "SOUTHERN XINJIANG",
           6.4,
           19
          ],
          [
           "LEYTE",
           6.1,
           50.8
          ],
          [
           "EAST OF KURIL ISLANDS",
           6.3,
           51.1
          ],
          [
           "SOLOMON ISLANDS",
           6.7,
           20
          ],
          [
           "NORTH ATLANTIC OCEAN",
           6.5,
           19.4
          ],
          [
           "SANTA CRUZ ISLANDS",
           6.9,
           11.8
          ],
          [
           "FOX ISLANDS",
           6.9,
           27.8
          ],
          [
           "IRIAN JAYA",
           7,
           47.8
          ],
          [
           "SOUTHERN ALASKA",
           6.4,
           121.2
          ],
          [
           "SOUTH OF FIJI ISLANDS",
           6,
           272.3
          ],
          [
           "SOLOMON ISLANDS",
           6.6,
           20
          ],
          [
           "SOLOMON ISLANDS",
           6.5,
           11.3
          ],
          [
           "MID-INDIAN RIDGE",
           6,
           15.4
          ],
          [
           "SOLOMON ISLANDS",
           6.4,
           19.2
          ],
          [
           "KERMADEC ISLANDS REGION",
           6,
           224.5
          ],
          [
           "SOUTHEAST OF HONSHU",
           6,
           8
          ],
          [
           "SOUTH OF FIJI ISLANDS",
           6,
           535
          ],
          [
           "SOUTH OF KERMADEC ISLANDS",
           6.3,
           17
          ],
          [
           "FOX ISLANDS",
           6,
           20
          ],
          [
           "GULF OF CALIFORNIA",
           6.7,
           10
          ],
          [
           "NORTHERN MOLUCCA SEA",
           6.3,
           41.5
          ],
          [
           "NORTHERN MOLUCCA SEA",
           6.3,
           41.55
          ],
          [
           "NEW BRITAIN REGION",
           6.1,
           6
          ],
          [
           "NEAR COAST OF CENTRAL CHILE",
           8.3,
           22.44
          ],
          [
           "NEAR COAST OF CENTRAL CHILE",
           6.4,
           26.7
          ],
          [
           "NEAR COAST OF CENTRAL CHILE",
           6.1,
           19.1
          ],
          [
           "NEAR COAST OF CENTRAL CHILE",
           6.1,
           35
          ],
          [
           "NEAR COAST OF CENTRAL CHILE",
           7,
           28.41
          ],
          [
           "NEAR COAST OF CENTRAL CHILE",
           6.4,
           42.32
          ],
          [
           "NEAR COAST OF CENTRAL CHILE",
           6.5,
           27
          ],
          [
           "NEAR COAST OF CENTRAL CHILE",
           6.8,
           23
          ],
          [
           "NEAR COAST OF CENTRAL CHILE",
           6.7,
           23
          ],
          [
           "OFF COAST OF CENTRAL CHILE",
           6.2,
           8
          ],
          [
           "NORTHERN MID-ATLANTIC RIDGE",
           6,
           10
          ],
          [
           "OFF COAST OF CENTRAL CHILE",
           6.1,
           6
          ],
          [
           "OFF COAST OF CENTRAL CHILE",
           6.2,
           18
          ],
          [
           "OFF COAST OF CENTRAL CHILE",
           6.2,
           18
          ],
          [
           "NEAR COAST OF CENTRAL CHILE",
           6.1,
           30
          ],
          [
           "NEAR COAST OF CENTRAL CHILE",
           6.1,
           30
          ],
          [
           "NEAR COAST OF CENTRAL CHILE",
           6.6,
           35
          ],
          [
           "NEAR COAST OF CENTRAL CHILE",
           6.1,
           58
          ],
          [
           "NEAR COAST OF CENTRAL CHILE",
           6,
           58
          ],
          [
           "IRIAN JAYA REGION",
           6.6,
           18
          ],
          [
           "IRIAN JAYA REGION",
           6.6,
           18
          ],
          [
           "NEAR COAST OF CENTRAL CHILE",
           6.3,
           46
          ],
          [
           "JUJUY PROVINCE",
           6,
           219
          ],
          [
           "PACIFIC-ANTARCTIC RIDGE",
           6.1,
           10
          ],
          [
           "EAST OF KURIL ISLANDS",
           6,
           12
          ],
          [
           "EAST OF KURIL ISLANDS",
           6,
           12
          ],
          [
           "TONGA ISLANDS",
           6,
           12
          ],
          [
           "VANUATU ISLANDS",
           7.1,
           135
          ],
          [
           "BOUVET ISLAND REGION",
           6.2,
           11
          ],
          [
           "PRINCE EDWARD ISLANDS REGION",
           6,
           10
          ],
          [
           "PRINCE EDWARD ISLANDS REGION",
           6,
           10
          ],
          [
           "HINDU KUSH REGION",
           7.5,
           231
          ],
          [
           "TIMOR REGION",
           6.5,
           20
          ],
          [
           "OFF COAST OF CENTRAL CHILE",
           6.2,
           13
          ],
          [
           "NEAR COAST OF CENTRAL CHILE",
           6.8,
           46
          ],
          [
           "NICOBAR ISLANDS",
           6.6,
           10
          ],
          [
           "ANDREANOF ISLANDS",
           6.5,
           15
          ],
          [
           "OFF COAST OF CENTRAL CHILE",
           6.9,
           12
          ],
          [
           "OFF COAST OF CENTRAL CHILE",
           6.9,
           10
          ],
          [
           "NORTHWEST OF RYUKYU ISLANDS",
           6.7,
           12
          ],
          [
           "GREECE",
           6.5,
           11
          ],
          [
           "SOLOMON ISLANDS",
           6.8,
           12.59
          ],
          [
           "BANDA SEA",
           6.1,
           82
          ],
          [
           "MARIANA ISLANDS",
           6,
           586.88
          ],
          [
           "PERU-BRAZIL BORDER REGION",
           7.6,
           606.21
          ],
          [
           "PERU-BRAZIL BORDER REGION",
           7.6,
           620.56
          ],
          [
           "PERU-BRAZIL BORDER REGION",
           6.7,
           602.75
          ],
          [
           "NEAR COAST OF NORTHERN CHILE",
           6.2,
           34
          ],
          [
           "SOUTHEAST INDIAN RIDGE",
           7.1,
           35
          ],
          [
           "TAJIKISTAN",
           7.2,
           22
          ],
          [
           "BANDA SEA",
           6.9,
           21
          ],
          [
           "FIJI ISLANDS REGION",
           6.1,
           10
          ],
          [
           "NEAR COAST OF CHIAPAS",
           6.6,
           85
          ],
          [
           "VANUATU ISLANDS",
           6,
           10
          ],
          [
           "BORNEO",
           6.1,
           14
          ],
          [
           "SOUTHERN EAST PACIFIC RISE",
           6.2,
           12.28
          ],
          [
           "AFGHANISTAN-TAJIKISTAN BORD REG.",
           6.3,
           206
          ],
          [
           "WESTERN INDIAN-ANTARCTIC RIDGE",
           6.3,
           10
          ],
          [
           "MYANMAR-INDIA BORDER REGION",
           6.7,
           55
          ],
          [
           "MYANMAR-INDIA BORDER REGION",
           6.7,
           55
          ],
          [
           "PACIFIC-ANTARCTIC RIDGE",
           6,
           10
          ],
          [
           "TALAUD ISLANDS",
           6.5,
           13
          ],
          [
           "HOKKAIDO",
           6.2,
           238.81
          ],
          [
           "SOUTHERN BOLIVIA",
           6.1,
           582.56
          ],
          [
           "HOKKAIDO",
           6.7,
           46
          ],
          [
           "OFF COAST OF JALISCO",
           6.6,
           10
          ],
          [
           "SOUTHERN ALASKA",
           7.1,
           125.6
          ],
          [
           "STRAIT OF GIBRALTAR",
           6.3,
           12
          ],
          [
           "KAMCHATKA PENINSULA",
           7.2,
           163.22
          ],
          [
           "BALLENY ISLANDS REGION",
           6,
           10
          ],
          [
           "KERMADEC ISLANDS REGION",
           6.2,
           391
          ],
          [
           "TAIWAN",
           6.4,
           23
          ],
          [
           "SOLOMON ISLANDS",
           6.4,
           31.62
          ],
          [
           "NEAR COAST OF CENTRAL CHILE",
           6.3,
           29
          ],
          [
           "SUMBA REGION",
           6.3,
           28
          ],
          [
           "SOUTHERN EAST PACIFIC RISE",
           6.1,
           13
          ],
          [
           "HALMAHERA",
           6,
           10
          ],
          [
           "WESTERN INDIAN-ANTARCTIC RIDGE",
           6.1,
           10
          ],
          [
           "SOUTHWEST OF SUMATRA",
           7.8,
           24
          ],
          [
           "ANDREANOF ISLANDS",
           6.3,
           19
          ],
          [
           "ANDREANOF ISLANDS",
           6,
           17
          ],
          [
           "LEEWARD ISLANDS",
           6,
           26
          ],
          [
           "NEAR EAST COAST OF KAMCHATKA",
           6.4,
           30
          ],
          [
           "NEAR N COAST OF NEW GUINEA",
           6.2,
           6
          ],
          [
           "ALASKA PENINSULA",
           6.2,
           11.4
          ],
          [
           "VANUATU ISLANDS",
           6.9,
           26
          ],
          [
           "VANUATU ISLANDS",
           6.7,
           24
          ],
          [
           "JAVA",
           6.1,
           29
          ],
          [
           "VANUATU ISLANDS",
           6.7,
           27.59
          ],
          [
           "AFGHANISTAN-TAJIKISTAN BORD REG.",
           6.6,
           212
          ],
          [
           "MYANMAR-INDIA BORDER REGION",
           6.9,
           136
          ],
          [
           "MINDANAO",
           6,
           17
          ],
          [
           "KYUSHU",
           6.2,
           9
          ],
          [
           "KYUSHU",
           6,
           8
          ],
          [
           "VANUATU ISLANDS",
           6.4,
           16
          ],
          [
           "OFF COAST OF CHIAPAS",
           6.1,
           22.41
          ],
          [
           "KYUSHU",
           7,
           10
          ],
          [
           "NEAR COAST OF ECUADOR",
           7.8,
           20.59
          ],
          [
           "SOUTH SANDWICH ISLANDS REGION",
           6.2,
           14
          ],
          [
           "NEAR COAST OF ECUADOR",
           6.2,
           14
          ],
          [
           "NEAR COAST OF ECUADOR",
           6,
           10
          ],
          [
           "NEAR COAST OF ECUADOR",
           6,
           10
          ],
          [
           "NEAR COAST OF CHIAPAS",
           6,
           16
          ],
          [
           "NEAR COAST OF CHIAPAS",
           6,
           16
          ],
          [
           "VANUATU ISLANDS",
           7,
           24
          ],
          [
           "NORTHERN EAST PACIFIC RISE",
           6.6,
           10
          ],
          [
           "NEAR COAST OF ECUADOR",
           6.7,
           16
          ],
          [
           "NEAR COAST OF ECUADOR",
           6.9,
           29.95
          ],
          [
           "NORTHERN TERRITORY",
           6,
           10
          ],
          [
           "FIJI ISLANDS REGION",
           6.4,
           567.48
          ],
          [
           "FIJI ISLANDS REGION",
           6.9,
           405.69
          ],
          [
           "SOUTH SANDWICH ISLANDS REGION",
           7.2,
           78
          ],
          [
           "TAIWAN REGION",
           6.4,
           246.4
          ],
          [
           "SOUTHERN SUMATRA",
           6.6,
           50
          ],
          [
           "BANDA SEA",
           6.3,
           429.62
          ],
          [
           "KERMADEC ISLANDS",
           6.1,
           43.83
          ],
          [
           "OFF COAST OF JALISCO",
           6.3,
           10
          ],
          [
           "NORTHERN MOLUCCA SEA",
           6.3,
           31
          ],
          [
           "SOUTH OF SUMBAWA",
           6.1,
           19
          ],
          [
           "NICARAGUA",
           6.1,
           10
          ],
          [
           "SOLOMON ISLANDS",
           6.2,
           30.4
          ],
          [
           "VANUATU ISLANDS",
           6.2,
           111
          ],
          [
           "VANUATU ISLANDS",
           6.3,
           13
          ],
          [
           "LOYALTY ISLANDS",
           6,
           15
          ],
          [
           "NORTHERN MID-ATLANTIC RIDGE",
           6.1,
           10
          ],
          [
           "NEW IRELAND REGION",
           6.3,
           354
          ],
          [
           "TAJIKISTAN-XINJIANG BORDER REG.",
           6.4,
           13
          ],
          [
           "VANUATU ISLANDS",
           6,
           27
          ],
          [
           "TONGA ISLANDS",
           6,
           8
          ],
          [
           "NEAR COAST OF ECUADOR",
           6.3,
           21
          ],
          [
           "KERMADEC ISLANDS REGION",
           6.3,
           12
          ],
          [
           "VANUATU ISLANDS",
           6.1,
           167
          ],
          [
           "NEAR COAST OF NORTHERN CHILE",
           6.1,
           72
          ],
          [
           "ADMIRALTY ISLANDS REGION",
           6.4,
           14
          ],
          [
           "MARIANA ISLANDS",
           7.7,
           207.62
          ],
          [
           "JUJUY PROVINCE",
           6.2,
           270
          ],
          [
           "VOLCANO ISLANDS",
           6.3,
           510
          ],
          [
           "SOUTHEAST OF LOYALTY ISLANDS",
           7.2,
           16.44
          ],
          [
           "SOUTH OF FIJI ISLANDS",
           6.2,
           114.09
          ],
          [
           "SOUTH GEORGIA ISLAND REGION",
           7.4,
           10
          ],
          [
           "OFF EAST COAST OF HONSHU",
           6,
           10
          ],
          [
           "OFF EAST COAST OF HONSHU",
           6,
           10
          ],
          [
           "SOUTH GEORGIA ISLAND REGION",
           6.4,
           10
          ],
          [
           "FLORES SEA",
           6,
           532.4
          ],
          [
           "CENTRAL ITALY",
           6.2,
           4.44
          ],
          [
           "MYANMAR",
           6.8,
           82
          ],
          [
           "NORTH OF ASCENSION ISLAND",
           7.1,
           10
          ],
          [
           "NEW IRELAND REGION",
           6.7,
           499.06
          ],
          [
           "OFF E. COAST OF N. ISLAND",
           7,
           19
          ],
          [
           "OFF E. COAST OF N. ISLAND",
           6.1,
           13.73
          ],
          [
           "KOMANDORSKIYE OSTROVA REGION",
           6.1,
           8
          ],
          [
           "MACQUARIE ISLAND REGION",
           6.1,
           10
          ],
          [
           "NORTHERN PERU",
           6.1,
           121
          ],
          [
           "NORTHERN COLOMBIA",
           6,
           18
          ],
          [
           "SOLOMON ISLANDS",
           6,
           14
          ],
          [
           "NEAR NORTH COAST OF IRIAN JAYA",
           6,
           9
          ],
          [
           "SOUTHEAST OF HONSHU",
           6.1,
           9
          ],
          [
           "OFF EAST COAST OF HONSHU",
           6.2,
           10
          ],
          [
           "MINDANAO",
           6.3,
           65
          ],
          [
           "TONGA ISLANDS",
           6.4,
           202
          ],
          [
           "FIJI ISLANDS REGION",
           6.9,
           596.4
          ],
          [
           "NEW BRITAIN REGION",
           6.3,
           442
          ],
          [
           "NEW BRITAIN REGION",
           6.9,
           35
          ],
          [
           "JAVA SEA",
           6.6,
           614
          ],
          [
           "WESTERN HONSHU",
           6.2,
           5.7
          ],
          [
           "TONGA ISLANDS",
           6.1,
           10
          ],
          [
           "CENTRAL ITALY",
           6.1,
           10
          ],
          [
           "CENTRAL ITALY",
           6.6,
           10
          ],
          [
           "CHILE-ARGENTINA BORDER REGION",
           6.4,
           90.79
          ],
          [
           "NEAR EAST COAST OF HONSHU",
           6.1,
           42.4
          ],
          [
           "SOUTH ISLAND",
           7.8,
           22
          ],
          [
           "SOUTH ISLAND",
           6.5,
           24
          ],
          [
           "SOUTH ISLAND",
           6.1,
           13.99
          ],
          [
           "SOUTH ISLAND",
           6.2,
           6.29
          ],
          [
           "SOUTH ISLAND",
           6.5,
           9
          ],
          [
           "SAN JUAN PROVINCE",
           6.4,
           115.79
          ],
          [
           "NEAR EAST COAST OF HONSHU",
           6.9,
           11.35
          ],
          [
           "OFF COAST OF CENTRAL AMERICA",
           7,
           10.34
          ],
          [
           "SOUTHERN XINJIANG",
           6.6,
           17
          ],
          [
           "SOUTHERN PERU",
           6.2,
           10
          ],
          [
           "NEAR ISLANDS",
           6,
           26.87
          ],
          [
           "BANDA SEA",
           6.3,
           526
          ],
          [
           "NORTHERN SUMATRA",
           6.5,
           13
          ],
          [
           "OFF COAST OF NORTHERN CALIFORNIA",
           6.5,
           12.08
          ],
          [
           "SOLOMON ISLANDS",
           7.8,
           41
          ],
          [
           "SOLOMON ISLANDS",
           6.5,
           12.26
          ],
          [
           "SOLOMON ISLANDS",
           6.9,
           21.06
          ],
          [
           "SOLOMON ISLANDS",
           6.1,
           157.05
          ],
          [
           "MARIANA ISLANDS REGION",
           6,
           22.37
          ],
          [
           "NEW IRELAND REGION",
           7.9,
           94.54
          ],
          [
           "NEW IRELAND REGION",
           6.3,
           26.5
          ],
          [
           "SOLOMON ISLANDS",
           6,
           39.11
          ],
          [
           "W. CAROLINE ISLANDS",
           6.2,
           12.43
          ],
          [
           "PERU-BRAZIL BORDER REGION",
           6.4,
           622.53
          ],
          [
           "SOLOMON ISLANDS",
           6.4,
           11.33
          ],
          [
           "BANDA SEA",
           6.7,
           152
          ],
          [
           "NEW IRELAND REGION",
           6,
           35
          ],
          [
           "SOUTHERN CHILE",
           7.6,
           38
          ],
          [
           "SUMBAWA REGION",
           6.3,
           79
          ],
          [
           "SOUTH OF FIJI ISLANDS",
           6.3,
           551.62
          ],
          [
           "SOUTH OF FIJI ISLANDS",
           6.9,
           12
          ],
          [
           "QUEEN ELIZABETH ISLANDS",
           6,
           31
          ],
          [
           "CELEBES SEA",
           7.3,
           612.71
          ],
          [
           "SOLOMON ISLANDS",
           6.3,
           28.65
          ],
          [
           "SOLOMON ISLANDS",
           6.5,
           36
          ],
          [
           "SOLOMON ISLANDS",
           7.9,
           135
          ],
          [
           "SOUTHWESTERN PAKISTAN",
           6.3,
           24.05
          ],
          [
           "MINDANAO",
           6.5,
           15
          ],
          [
           "JUJUY PROVINCE",
           6.3,
           222
          ],
          [
           "SOUTHERN BOLIVIA",
           6.5,
           595.98
          ],
          [
           "SOUTH OF FIJI ISLANDS",
           6.9,
           414.89
          ],
          [
           "SOLOMON ISLANDS",
           6.1,
           17
          ],
          [
           "NEW BRITAIN REGION",
           6.3,
           37
          ],
          [
           "NICOBAR ISLANDS",
           6,
           10
          ],
          [
           "SOLOMON ISLANDS",
           6,
           8.37
          ],
          [
           "NEAR ISLANDS",
           6.1,
           10
          ],
          [
           "NEAR EAST COAST OF KAMCHATKA",
           6.6,
           15.52
          ],
          [
           "BOTSWANA",
           6.5,
           29
          ],
          [
           "NORTHERN AND CENTRAL IRAN",
           6.1,
           13
          ],
          [
           "CHILE-ARGENTINA BORDER REGION",
           6.2,
           155
          ],
          [
           "FIJI ISLANDS REGION",
           6,
           628
          ],
          [
           "OFF COAST OF CENTRAL CHILE",
           6,
           21
          ],
          [
           "OFF COAST OF CENTRAL CHILE",
           6.9,
           28
          ],
          [
           "MINDANAO",
           6.9,
           26
          ],
          [
           "SOUTHEASTERN ALASKA",
           6.2,
           8
          ],
          [
           "SOUTHEASTERN ALASKA",
           6.2,
           2.53
          ],
          [
           "TAJIKISTAN",
           6,
           10
          ],
          [
           "ANDREANOF ISLANDS",
           6.2,
           10
          ],
          [
           "RYUKYU ISLANDS",
           6,
           10
          ],
          [
           "VANUATU ISLANDS",
           6.8,
           169
          ],
          [
           "SOUTH SANDWICH ISLANDS REGION",
           6.5,
           17.39
          ],
          [
           "OFF COAST OF CENTRAL AMERICA",
           6.2,
           10
          ],
          [
           "NEW BRITAIN REGION",
           6.2,
           10
          ],
          [
           "NEGROS",
           6,
           533
          ],
          [
           "SULAWESI",
           6.6,
           12
          ],
          [
           "NEAR ISLANDS",
           6.8,
           8.19
          ],
          [
           "AEGEAN SEA",
           6.3,
           12
          ],
          [
           "GUATEMALA",
           6.9,
           94
          ],
          [
           "KERMADEC ISLANDS",
           6,
           34
          ],
          [
           "SOUTH OF FIJI ISLANDS",
           6.1,
           511
          ],
          [
           "NEAR COAST OF GUATEMALA",
           6.8,
           46.82
          ],
          [
           "FIJI ISLANDS REGION",
           6.2,
           38.27
          ],
          [
           "KERMADEC ISLANDS",
           6,
           19
          ],
          [
           "KERMADEC ISLANDS REGION",
           6,
           414.61
          ],
          [
           "NEAR COAST OF ECUADOR",
           6,
           13
          ],
          [
           "LEYTE",
           6.5,
           6.96
          ],
          [
           "AUCKLAND ISLANDS",
           6.6,
           10
          ],
          [
           "NEW IRELAND REGION",
           6.4,
           34.78
          ],
          [
           "KOMANDORSKIYE OSTROVA REGION",
           6.3,
           10
          ],
          [
           "KOMANDORSKIYE OSTROVA REGION",
           7.7,
           10.99
          ],
          [
           "NEAR COAST OF PERU",
           6.4,
           44.92
          ],
          [
           "MAURITIUS - REUNION REGION",
           6,
           10
          ],
          [
           "DODECANESE ISLANDS",
           6.6,
           7
          ],
          [
           "SOUTHEAST OF RYUKYU ISLANDS",
           6,
           12
          ],
          [
           "NORTH ATLANTIC OCEAN",
           6,
           10
          ],
          [
           "GANSU",
           6.5,
           9
          ],
          [
           "NORTHERN XINJIANG",
           6.3,
           20
          ],
          [
           "MINDORO",
           6.2,
           172
          ],
          [
           "SOUTHERN SUMATRA",
           6.4,
           31
          ],
          [
           "NORTH OF ASCENSION ISLAND",
           6.6,
           10
          ],
          [
           "FIJI ISLANDS REGION",
           6.4,
           544
          ],
          [
           "ADMIRALTY ISLANDS REGION",
           6.3,
           8
          ],
          [
           "SOUTHERN SUMATRA",
           6.3,
           43.14
          ],
          [
           "NORTH KOREA",
           6.3,
           0
          ],
          [
           "SOUTH SANDWICH ISLANDS REGION",
           6,
           35
          ],
          [
           "BONIN ISLANDS",
           6.1,
           451
          ],
          [
           "NEAR COAST OF CHIAPAS",
           8.1,
           56.67
          ],
          [
           "CENTRAL MEXICO",
           7.1,
           51
          ],
          [
           "AUCKLAND ISLANDS",
           6.1,
           10
          ],
          [
           "OFF EAST COAST OF HONSHU",
           6.1,
           11
          ],
          [
           "VANUATU ISLANDS",
           6.4,
           197
          ],
          [
           "OAXACA",
           6.1,
           9.62
          ],
          [
           "SOUTH OF FIJI ISLANDS",
           6.4,
           98.07
          ],
          [
           "OFF EAST COAST OF HONSHU",
           6.2,
           9
          ],
          [
           "TONGA ISLANDS",
           6.1,
           10
          ],
          [
           "BALLENY ISLANDS REGION",
           6.3,
           10
          ],
          [
           "RAT ISLANDS",
           6.6,
           111.84
          ],
          [
           "NORTHERN CHILE",
           6.3,
           82.43
          ],
          [
           "BOUVET ISLAND REGION",
           6.7,
           9
          ],
          [
           "TONGA ISLANDS",
           6.1,
           10
          ],
          [
           "BANDA SEA",
           6.7,
           549.19
          ],
          [
           "SOUTHEAST OF LOYALTY ISLANDS",
           6.8,
           9.1
          ],
          [
           "SERAM",
           6.1,
           18.47
          ],
          [
           "LOYALTY ISLANDS",
           6.1,
           10
          ],
          [
           "LOYALTY ISLANDS",
           6.6,
           9.93
          ],
          [
           "LOYALTY ISLANDS",
           6,
           10
          ],
          [
           "TONGA ISLANDS",
           6.8,
           10
          ],
          [
           "NEW GUINEA",
           6.5,
           110.57
          ],
          [
           "SOUTHEAST OF HONSHU",
           6,
           12
          ],
          [
           "ASCENSION ISLAND REGION",
           6.1,
           10
          ],
          [
           "IRAN-IRAQ BORDER REGION",
           7.3,
           19
          ],
          [
           "COSTA RICA",
           6.5,
           19.36
          ],
          [
           "EASTERN XIZANG-INDIA BORDER REG.",
           6.4,
           8
          ],
          [
           "LOYALTY ISLANDS",
           6.3,
           4
          ],
          [
           "LOYALTY ISLANDS",
           6.6,
           16.51
          ],
          [
           "LOYALTY ISLANDS",
           7,
           10
          ],
          [
           "LOYALTY ISLANDS",
           6,
           10
          ],
          [
           "SAMOA ISLANDS REGION",
           6,
           6
          ],
          [
           "NEW IRELAND REGION",
           6,
           52
          ],
          [
           "CENTRAL MID-ATLANTIC RIDGE",
           6.5,
           10
          ],
          [
           "NORTHERN AND CENTRAL IRAN",
           6.1,
           9
          ],
          [
           "EASTERN NEW GUINEA REG.",
           6,
           39.53
          ],
          [
           "NEAR COAST OF ECUADOR",
           6.2,
           16
          ],
          [
           "W. CAROLINE ISLANDS",
           6.4,
           12.79
          ],
          [
           "W. CAROLINE ISLANDS",
           6.4,
           20.27
          ],
          [
           "W. CAROLINE ISLANDS",
           6.1,
           10
          ],
          [
           "NORTHERN AND CENTRAL IRAN",
           6,
           10
          ],
          [
           "NORTHERN AND CENTRAL IRAN",
           6,
           8
          ],
          [
           "BOUVET ISLAND REGION",
           6.5,
           10
          ],
          [
           "JAVA",
           6.5,
           90
          ],
          [
           "NORTH OF HONDURAS",
           7.5,
           10
          ],
          [
           "MYANMAR",
           6,
           9
          ],
          [
           "NEAR COAST OF PERU",
           7.1,
           39
          ],
          [
           "GULF OF CALIFORNIA",
           6.3,
           10
          ],
          [
           "NORTHERN CHILE",
           6.3,
           116
          ],
          [
           "JAVA",
           6,
           43.91
          ],
          [
           "GULF OF ALASKA",
           7.9,
           25
          ],
          [
           "HOKKAIDO",
           6.3,
           31
          ],
          [
           "KOMANDORSKIYE OSTROVA REGION",
           6.2,
           11.17
          ],
          [
           "NEAR N COAST OF NEW GUINEA",
           6.3,
           10
          ],
          [
           "SOUTHWEST OF AFRICA",
           6.6,
           10
          ],
          [
           "HINDU KUSH REGION",
           6.1,
           191.19
          ],
          [
           "FIJI ISLANDS REGION",
           6,
           10
          ],
          [
           "PACIFIC-ANTARCTIC RIDGE",
           6,
           10
          ],
          [
           "TAIWAN",
           6.1,
           12
          ],
          [
           "TAIWAN",
           6.4,
           17
          ],
          [
           "SOUTH OF MARIANA ISLANDS",
           6,
           10
          ],
          [
           "OAXACA",
           7.2,
           25.98
          ],
          [
           "NEW GUINEA",
           7.5,
           24.43
          ],
          [
           "NEW GUINEA",
           6,
           23.64
          ],
          [
           "CERAM SEA",
           6.1,
           9.91
          ],
          [
           "NEW GUINEA",
           6.3,
           19
          ],
          [
           "WEST OF MACQUARIE ISLAND",
           6.1,
           10
          ],
          [
           "NEW GUINEA",
           6.1,
           16
          ],
          [
           "NEW GUINEA",
           6,
           10
          ],
          [
           "NEW GUINEA",
           6.7,
           10
          ],
          [
           "NEW IRELAND REGION",
           6.8,
           22.53
          ],
          [
           "NEW BRITAIN REGION",
           6.3,
           33
          ],
          [
           "SOUTHEAST INDIAN RIDGE",
           6,
           10
          ],
          [
           "BANDA SEA",
           6.4,
           169
          ],
          [
           "NEW BRITAIN REGION",
           6.6,
           39.97
          ],
          [
           "NEW BRITAIN REGION",
           6.9,
           35
          ],
          [
           "SOUTH OF FIJI ISLANDS",
           6.1,
           83.52
          ],
          [
           "SOUTHERN BOLIVIA",
           6.8,
           559
          ],
          [
           "MINDANAO",
           6,
           34
          ],
          [
           "NEW GUINEA",
           6.3,
           17.59
          ],
          [
           "NEAR COAST OF CENTRAL CHILE",
           6.2,
           76.08
          ],
          [
           "NORTHERN MOLUCCA SEA",
           6,
           34
          ],
          [
           "PRINCE EDWARD ISLANDS REGION",
           6,
           10
          ],
          [
           "EASTER ISLAND REGION",
           6,
           10
          ],
          [
           "HAWAII",
           6.9,
           2.06
          ],
          [
           "LUZON",
           6.1,
           18
          ],
          [
           "NEW BRITAIN REGION",
           6,
           10
          ],
          [
           "AFGHANISTAN-TAJIKISTAN BORD REG.",
           6.2,
           116
          ],
          [
           "SOUTH OF KERMADEC ISLANDS",
           6.1,
           10
          ],
          [
           "VANUATU ISLANDS",
           6.1,
           28
          ],
          [
           "NEAR EAST COAST OF KAMCHATKA",
           6.1,
           45
          ],
          [
           "KERMADEC ISLANDS",
           6,
           35
          ],
          [
           "VANUATU ISLANDS",
           6.4,
           169.16
          ],
          [
           "EASTERN GULF OF ADEN",
           6,
           10
          ],
          [
           "EASTERN GULF OF ADEN",
           6,
           10
          ],
          [
           "SANTA CRUZ ISLANDS",
           6,
           37.96
          ],
          [
           "NEW BRITAIN REGION",
           6,
           29.62
          ],
          [
           "FLORES SEA",
           6,
           577.48
          ],
          [
           "SUMBAWA REGION",
           6.4,
           14
          ],
          [
           "SUMBAWA REGION",
           6.9,
           31
          ],
          [
           "NORTHERN ALASKA",
           6.3,
           2.2
          ],
          [
           "NORTHERN ALASKA",
           6,
           1.7
          ],
          [
           "SOUTH SANDWICH ISLANDS REGION",
           6.1,
           35
          ],
          [
           "ANDREANOF ISLANDS",
           6.6,
           20
          ],
          [
           "VOLCANO ISLANDS",
           6.3,
           20
          ],
          [
           "FLORES SEA",
           6.5,
           529
          ],
          [
           "COSTA RICA",
           6.1,
           15
          ],
          [
           "FIJI ISLANDS REGION",
           8.2,
           600
          ],
          [
           "FIJI ISLANDS REGION",
           6.3,
           575.76
          ],
          [
           "SUMBAWA REGION",
           6.3,
           21.41
          ],
          [
           "FIJI ISLANDS REGION",
           6.8,
           415.6
          ],
          [
           "SUMBAWA REGION",
           6.9,
           25.21
          ],
          [
           "NEAR COAST OF VENEZUELA",
           7.3,
           146.18
          ],
          [
           "VANUATU ISLANDS",
           6.5,
           11.14
          ],
          [
           "OFF COAST OF OREGON",
           6.2,
           10
          ],
          [
           "ANDREANOF ISLANDS",
           6,
           43.91
          ],
          [
           "PERU-BRAZIL BORDER REGION",
           7.1,
           609.48
          ],
          [
           "WESTERN IRAN",
           6,
           10
          ],
          [
           "TIMOR REGION",
           6.2,
           14
          ],
          [
           "MARIANA ISLANDS",
           6.4,
           55
          ],
          [
           "SOUTHEAST OF LOYALTY ISLANDS",
           7.1,
           26.68
          ],
          [
           "HOKKAIDO",
           6.6,
           35
          ],
          [
           "FIJI ISLANDS",
           7.9,
           617.87
          ],
          [
           "ECUADOR",
           6.2,
           93.53
          ],
          [
           "MINDANAO",
           6.2,
           10
          ],
          [
           "SOLOMON ISLANDS",
           6.5,
           68
          ],
          [
           "KERMADEC ISLANDS REGION",
           6.9,
           115
          ],
          [
           "SOUTHEAST OF LOYALTY ISLANDS",
           6.3,
           12
          ],
          [
           "SOUTH OF FIJI ISLANDS",
           6.5,
           576
          ],
          [
           "SOUTHWEST INDIAN RIDGE",
           6,
           10
          ],
          [
           "MINAHASSA PENINSULA",
           6.1,
           5.19
          ],
          [
           "MINAHASSA PENINSULA",
           7.5,
           10
          ],
          [
           "FIJI ISLANDS REGION",
           6.7,
           564.13
          ],
          [
           "SUMBA REGION",
           6,
           29
          ],
          [
           "KURIL ISLANDS",
           6.1,
           20
          ],
          [
           "BALI SEA",
           6,
           9
          ],
          [
           "NEW BRITAIN REGION",
           6.1,
           53.14
          ],
          [
           "NEW BRITAIN REGION",
           7,
           45.05
          ],
          [
           "NEW BRITAIN REGION",
           6.2,
           121
          ],
          [
           "KURIL ISLANDS",
           6.5,
           20
          ],
          [
           "NORTHWEST OF KURIL ISLANDS",
           6.7,
           461
          ],
          [
           "SOUTHEAST OF LOYALTY ISLANDS",
           6.3,
           10
          ],
          [
           "SOUTHEAST OF LOYALTY ISLANDS",
           6.4,
           10
          ],
          [
           "VANCOUVER ISLAND",
           6.6,
           10.96
          ],
          [
           "VANCOUVER ISLAND",
           6.8,
           10
          ],
          [
           "VANCOUVER ISLAND",
           6.5,
           10
          ],
          [
           "IONIAN SEA",
           6.8,
           14
          ],
          [
           "OFF COAST OF CENTRAL AMERICA",
           6.1,
           24.69
          ],
          [
           "DRAKE PASSAGE",
           6.3,
           10
          ],
          [
           "NORTH ISLAND",
           6.1,
           227.28
          ],
          [
           "NORTHERN CHILE",
           6.2,
           102
          ],
          [
           "MINDANAO",
           6,
           581
          ],
          [
           "JAN MAYEN ISLAND REGION",
           6.7,
           10
          ],
          [
           "TONGA ISLANDS",
           6.1,
           35
          ],
          [
           "NORTH ATLANTIC OCEAN",
           6.3,
           10
          ],
          [
           "NEAR EAST COAST OF KAMCHATKA",
           6.1,
           50.21
          ],
          [
           "SOUTH SANDWICH ISLANDS REGION",
           6.4,
           15
          ],
          [
           "SOUTHERN EAST PACIFIC RISE",
           6.3,
           10
          ],
          [
           "SOLOMON ISLANDS",
           6.1,
           8.84
          ],
          [
           "FIJI ISLANDS REGION",
           6.8,
           540
          ],
          [
           "CARIBBEAN SEA",
           6,
           10
          ],
          [
           "IRAN-IRAQ BORDER REGION",
           6.3,
           18
          ],
          [
           "SOUTHERN ALASKA",
           7,
           46.7
          ],
          [
           "BANDA SEA",
           6.4,
           136
          ],
          [
           "SOUTHEAST OF LOYALTY ISLANDS",
           6,
           10
          ],
          [
           "SOUTHEAST OF LOYALTY ISLANDS",
           7.5,
           10
          ],
          [
           "SOUTHEAST OF LOYALTY ISLANDS",
           6.6,
           10
          ],
          [
           "SOUTH SANDWICH ISLANDS REGION",
           7.1,
           164.66
          ],
          [
           "PACIFIC-ANTARCTIC RIDGE",
           6.3,
           10
          ],
          [
           "IRIAN JAYA",
           6.1,
           61.97
          ],
          [
           "SOUTHEAST OF EASTER ISLAND",
           6.3,
           10
          ],
          [
           "KOMANDORSKIYE OSTROVA REGION",
           7.3,
           16.56
          ],
          [
           "VANUATU ISLANDS",
           6,
           42
          ],
          [
           "TONGA ISLANDS",
           6.4,
           113
          ],
          [
           "KOMANDORSKIYE OSTROVA REGION",
           6.1,
           10
          ],
          [
           "MINDANAO",
           7,
           60.21
          ],
          [
           "ALASKA PENINSULA",
           6,
           31
          ],
          [
           "WESTERN BRAZIL",
           6.8,
           571.18
          ],
          [
           "NORTHERN MOLUCCA SEA",
           6.6,
           60
          ],
          [
           "KYUSHU",
           6.3,
           35
          ],
          [
           "VANUATU ISLANDS",
           6.6,
           35
          ],
          [
           "BISMARCK SEA",
           6.2,
           10
          ],
          [
           "VANUATU ISLANDS",
           6,
           45.06
          ],
          [
           "NEAR COAST OF CENTRAL CHILE",
           6.7,
           54.82
          ],
          [
           "SUMBA REGION",
           6,
           16.77
          ],
          [
           "SUMBA REGION",
           6.4,
           27.01
          ],
          [
           "PRINCE EDWARD ISLANDS REGION",
           6.7,
           13
          ],
          [
           "SOLOMON ISLANDS",
           6.2,
           361.92
          ],
          [
           "FIJI ISLANDS REGION",
           6.2,
           588
          ],
          [
           "NEAR COAST OF CHIAPAS",
           6.6,
           67.93
          ],
          [
           "SOUTHERN SUMATRA",
           6.1,
           20
          ],
          [
           "SOUTHERN SUMATRA",
           6,
           18
          ],
          [
           "MARIANA ISLANDS",
           6,
           144.32
          ],
          [
           "NORTHERN MID-ATLANTIC RIDGE",
           6.2,
           10
          ],
          [
           "NEW IRELAND REGION",
           6.4,
           368.12
          ],
          [
           "PERU-ECUADOR BORDER REGION",
           7.5,
           132.36
          ],
          [
           "CENTRAL PERU",
           7,
           267
          ],
          [
           "SOUTH OF KERMADEC ISLANDS",
           6.4,
           29
          ],
          [
           "PHILIPPINE ISLANDS REGION",
           6,
           30
          ],
          [
           "FIJI ISLANDS REGION",
           6.2,
           578.68
          ],
          [
           "D'ENTRECASTEAUX ISLANDS REGION",
           6.1,
           30
          ],
          [
           "CENTRAL BOLIVIA",
           6.3,
           359
          ],
          [
           "VANUATU ISLANDS",
           6.3,
           119
          ],
          [
           "COLOMBIA",
           6.1,
           122
          ],
          [
           "NORTHERN MOLUCCA SEA",
           6.1,
           45
          ],
          [
           "EAST OF KURIL ISLANDS",
           6.2,
           8.96
          ],
          [
           "NEW BRITAIN REGION",
           6.2,
           41
          ],
          [
           "NEAR COAST OF ECUADOR",
           6.2,
           18
          ],
          [
           "MAURITIUS - REUNION REGION",
           6,
           10
          ],
          [
           "RAT ISLANDS",
           6.4,
           7.9
          ],
          [
           "SOUTH SANDWICH ISLANDS REGION",
           6.4,
           58.6
          ],
          [
           "BANDA SEA",
           6.3,
           539
          ],
          [
           "SOUTH SANDWICH ISLANDS REGION",
           6.5,
           44.83
          ],
          [
           "OFF EAST COAST OF HONSHU",
           6,
           18
          ],
          [
           "SULAWESI",
           6.8,
           17.48
          ],
          [
           "TAIWAN",
           6.1,
           20
          ],
          [
           "WESTERN INDIAN-ANTARCTIC RIDGE",
           6.5,
           10
          ],
          [
           "LUZON",
           6.1,
           20
          ],
          [
           "SOUTH SANDWICH ISLANDS REGION",
           6,
           79
          ],
          [
           "SAMAR",
           6.4,
           54
          ],
          [
           "SOUTH OF FIJI ISLANDS",
           6,
           385.58
          ],
          [
           "CARLSBERG RIDGE",
           6.3,
           10
          ],
          [
           "SOLOMON ISLANDS",
           6.2,
           10
          ],
          [
           "EASTERN NEW GUINEA REG.",
           7.1,
           146
          ],
          [
           "KYUSHU",
           6.1,
           22
          ],
          [
           "PANAMA-COSTA RICA BORDER REGION",
           6,
           19
          ],
          [
           "NEW BRITAIN REGION",
           7.5,
           10
          ],
          [
           "SOUTHEAST OF LOYALTY ISLANDS",
           6.3,
           20
          ],
          [
           "SOUTHEAST OF LOYALTY ISLANDS",
           6,
           19.95
          ],
          [
           "SOUTHEAST OF LOYALTY ISLANDS",
           6.3,
           20
          ],
          [
           "ANDREANOF ISLANDS",
           6.1,
           30
          ],
          [
           "NORTHERN PERU",
           8,
           122.4
          ],
          [
           "EL SALVADOR",
           6.6,
           25
          ],
          [
           "FIJI ISLANDS REGION",
           6,
           177.85
          ],
          [
           "MINDANAO",
           6.1,
           90.21
          ],
          [
           "TONGA ISLANDS",
           6,
           10
          ],
          [
           "SOUTHEAST OF HONSHU",
           6.3,
           430.3
          ],
          [
           "OFF COAST OF CENTRAL CHILE",
           6.4,
           11
          ],
          [
           "TONGA ISLANDS",
           6.1,
           13
          ],
          [
           "KERMADEC ISLANDS",
           7.3,
           46
          ],
          [
           "KERMADEC ISLANDS REGION",
           6.3,
           31.52
          ],
          [
           "KERMADEC ISLANDS",
           6,
           16
          ],
          [
           "NEAR WEST COAST OF HONSHU",
           6.4,
           12
          ],
          [
           "KERMADEC ISLANDS",
           6.4,
           10
          ],
          [
           "IRIAN JAYA",
           6.3,
           10
          ],
          [
           "KERMADEC ISLANDS",
           6.3,
           14
          ],
          [
           "IRIAN JAYA",
           6.1,
           28
          ],
          [
           "BANDA SEA",
           7.3,
           212
          ],
          [
           "KOMANDORSKIYE OSTROVA REGION",
           6.3,
           10
          ],
          [
           "KOMANDORSKIYE OSTROVA REGION",
           6.3,
           10
          ],
          [
           "PANAMA-COSTA RICA BORDER REGION",
           6.2,
           26.22
          ],
          [
           "KERMADEC ISLANDS REGION",
           6.3,
           10
          ],
          [
           "MARIANA ISLANDS",
           6.4,
           410
          ],
          [
           "VANUATU ISLANDS",
           6,
           97.09
          ],
          [
           "QUEEN CHARLOTTE ISLANDS REGION",
           6.2,
           10
          ],
          [
           "CENTRAL CALIFORNIA",
           6.4,
           10.71
          ],
          [
           "CENTRAL CALIFORNIA",
           7.1,
           8
          ],
          [
           "NORTHERN MOLUCCA SEA",
           6.9,
           35
          ],
          [
           "SOLOMON ISLANDS",
           6,
           495.17
          ],
          [
           "NORTHWEST OF RYUKYU ISLANDS",
           6.1,
           251
          ],
          [
           "WESTERN AUSTRALIA",
           6.6,
           10
          ],
          [
           "HALMAHERA",
           7.3,
           10
          ],
          [
           "NEW BRITAIN REGION",
           6.2,
           58.97
          ],
          [
           "BALLENY ISLANDS REGION",
           6,
           10
          ],
          [
           "PHILIPPINE ISLANDS REGION",
           6,
           10
          ],
          [
           "NEAR S. COAST OF HONSHU",
           6.3,
           367
          ],
          [
           "VANUATU ISLANDS",
           6.6,
           181
          ],
          [
           "NEAR COAST OF CENTRAL CHILE",
           6.8,
           25
          ],
          [
           "SOUTHERN EAST PACIFIC RISE",
           6,
           10
          ],
          [
           "SOUTHWEST OF SUMATRA",
           6.9,
           52.76
          ],
          [
           "NEAR EAST COAST OF HONSHU",
           6.3,
           38
          ],
          [
           "SANTA CRUZ ISLANDS",
           6,
           36.88
          ],
          [
           "WESTERN INDIAN-ANTARCTIC RIDGE",
           6,
           10
          ],
          [
           "VANUATU ISLANDS",
           6,
           115
          ],
          [
           "SOUTH SANDWICH ISLANDS REGION",
           6.6,
           16
          ],
          [
           "OFF COAST OF OREGON",
           6.3,
           4.74
          ],
          [
           "FIJI ISLANDS REGION",
           6.6,
           591
          ],
          [
           "JAVA",
           6.1,
           610
          ],
          [
           "MONA PASSAGE",
           6,
           10
          ],
          [
           "SOUTHWEST INDIAN RIDGE",
           6,
           10
          ],
          [
           "SERAM",
           6.5,
           8.97
          ],
          [
           "CENTRAL CHILE",
           6.1,
           129
          ],
          [
           "KERMADEC ISLANDS",
           6.1,
           33
          ],
          [
           "MINDANAO",
           6.2,
           73
          ],
          [
           "OFF COAST OF CENTRAL CHILE",
           6.7,
           11
          ],
          [
           "MINDANAO",
           6.4,
           12.76
          ],
          [
           "VANUATU ISLANDS",
           6.4,
           231
          ],
          [
           "NORTH OF ASCENSION ISLAND",
           6.3,
           10
          ],
          [
           "MINDANAO",
           6.6,
           14.95
          ],
          [
           "MINDANAO",
           6.5,
           10
          ],
          [
           "SOUTH SANDWICH ISLANDS REGION",
           6.1,
           8
          ],
          [
           "NEAR COAST OF CENTRAL CHILE",
           6.1,
           53
          ],
          [
           "TONGA ISLANDS",
           6.6,
           10
          ],
          [
           "EAST OF SOUTH SANDWICH ISLANDS",
           6.3,
           10
          ],
          [
           "VANUATU ISLANDS",
           6,
           10
          ],
          [
           "VANUATU ISLANDS",
           6,
           10
          ],
          [
           "FIJI ISLANDS REGION",
           6.5,
           582.92
          ],
          [
           "TONGA ISLANDS",
           6.1,
           10
          ],
          [
           "NORTHERN MOLUCCA SEA",
           7.1,
           33
          ],
          [
           "NORTHERN MOLUCCA SEA",
           6,
           23
          ],
          [
           "OFF COAST OF CHIAPAS",
           6.3,
           14.16
          ],
          [
           "SEA OF OKHOTSK",
           6.3,
           486.81
          ],
          [
           "LAOS",
           6.2,
           10
          ],
          [
           "IRIAN JAYA REGION",
           6.2,
           5
          ],
          [
           "ANDREANOF ISLANDS",
           6.3,
           20
          ],
          [
           "ALBANIA",
           6.4,
           20
          ],
          [
           "CRETE",
           6,
           71.76
          ],
          [
           "ANDREANOF ISLANDS",
           6,
           28
          ],
          [
           "NEAR COAST OF NORTHERN CHILE",
           6,
           32.44
          ],
          [
           "VANUATU ISLANDS",
           6,
           266
          ],
          [
           "TONGA ISLANDS",
           6,
           10
          ],
          [
           "VANUATU ISLANDS",
           6,
           7.51
          ],
          [
           "MINDANAO",
           6.8,
           18
          ],
          [
           "HINDU KUSH REGION",
           6.1,
           212
          ],
          [
           "VANCOUVER ISLAND",
           6,
           10
          ],
          [
           "VANCOUVER ISLAND",
           6,
           10
          ],
          [
           "SANTIAGO DEL ESTERO PROV.",
           6,
           581.63
          ],
          [
           "COLOMBIA",
           6,
           11
          ],
          [
           "VANCOUVER ISLAND",
           6.3,
           6.38
          ],
          [
           "SOUTHERN EAST PACIFIC RISE",
           6.1,
           10
          ],
          [
           "NORTHERN SUMATRA",
           6.3,
           17
          ],
          [
           "PUERTO RICO REGION",
           6.4,
           8.07
          ],
          [
           "NEW BRITAIN REGION",
           6,
           117
          ],
          [
           "EASTERN SIBERIA",
           6.4,
           10
          ],
          [
           "NEAR NORTH COAST OF IRIAN JAYA",
           6,
           44
          ],
          [
           "SOUTHERN XINJIANG",
           6,
           5.57
          ],
          [
           "MINAHASSA PENINSULA",
           6.1,
           121.72
          ],
          [
           "SOUTH SANDWICH ISLANDS REGION",
           6.1,
           93
          ],
          [
           "ANDREANOF ISLANDS",
           6.2,
           10
          ],
          [
           "TURKEY",
           6.7,
           10
          ],
          [
           "ANDREANOF ISLANDS",
           6.1,
           17
          ],
          [
           "SOLOMON ISLANDS",
           6.3,
           21
          ],
          [
           "CUBA REGION",
           7.7,
           15.18
          ],
          [
           "NORTH OF HONDURAS",
           6.1,
           10
          ],
          [
           "SOLOMON ISLANDS",
           6,
           85
          ],
          [
           "JAVA",
           6.2,
           592.42
          ],
          [
           "MINDANAO",
           6,
           43.64
          ],
          [
           "SOUTH SANDWICH ISLANDS REGION",
           6,
           16
          ],
          [
           "NEW BRITAIN REGION",
           6.1,
           34
          ],
          [
           "KURIL ISLANDS",
           7,
           144
          ],
          [
           "TURKEY-IRAN BORDER REGION",
           6,
           10
          ],
          [
           "KERMADEC ISLANDS REGION",
           6.4,
           10
          ],
          [
           "SAMOA ISLANDS REGION",
           6,
           10
          ],
          [
           "VANUATU ISLANDS",
           6.1,
           176
          ],
          [
           "SOUTH OF BALI",
           6.2,
           20.68
          ],
          [
           "CENTRAL EAST PACIFIC RISE",
           6.1,
           10
          ],
          [
           "EAST OF KURIL ISLANDS",
           7.5,
           55.39
          ],
          [
           "MINDANAO",
           6.1,
           59
          ],
          [
           "WESTERN IDAHO",
           6.78,
           14.53
          ],
          [
           "NORTHERN MOLUCCA SEA",
           6,
           38.76
          ],
          [
           "MID-INDIAN RIDGE",
           6.1,
           10
          ],
          [
           "KERMADEC ISLANDS REGION",
           6,
           31
          ],
          [
           "NORTH OF HONDURAS",
           6,
           10
          ],
          [
           "BONIN ISLANDS",
           6.6,
           453
          ],
          [
           "NEAR EAST COAST OF HONSHU",
           6.3,
           38
          ],
          [
           "SOLOMON ISLANDS",
           6.2,
           12.94
          ],
          [
           "CRETE",
           6.6,
           16.99
          ],
          [
           "BANDA SEA",
           6.8,
           107
          ],
          [
           "SOLOMON ISLANDS",
           6.1,
           466.17
          ],
          [
           "SANTA CRUZ ISLANDS",
           6.6,
           107
          ],
          [
           "NEVADA",
           6.5,
           2.7
          ],
          [
           "OFF COAST OF CENTRAL MEXICO",
           6.1,
           10
          ],
          [
           "VANUATU ISLANDS",
           6.1,
           10
          ],
          [
           "SOUTHERN PERU",
           6.1,
           186
          ],
          [
           "NORTHERN CHILE",
           6.8,
           96.84
          ],
          [
           "SOUTH OF FIJI ISLANDS",
           6.1,
           90.47
          ],
          [
           "HALMAHERA",
           6.4,
           106.86
          ],
          [
           "SOUTHERN MID-ATLANTIC RIDGE",
           6,
           10
          ],
          [
           "RYUKYU ISLANDS",
           6.6,
           165
          ],
          [
           "MARIANA ISLANDS",
           6.2,
           622
          ],
          [
           "SOUTH OF KERMADEC ISLANDS",
           7.4,
           10
          ],
          [
           "ICELAND REGION",
           6,
           10
          ],
          [
           "MINAHASSA PENINSULA",
           6,
           109
          ],
          [
           "NEAR COAST OF OAXACA",
           7.4,
           20
          ],
          [
           "XIZANG",
           6.3,
           10
          ],
          [
           "W. CAROLINE ISLANDS",
           6.2,
           10
          ],
          [
           "JAVA SEA",
           6.7,
           538.73
          ],
          [
           "EASTERN NEW GUINEA REG.",
           7,
           73
          ],
          [
           "ANDAMAN ISLANDS",
           6.1,
           10
          ],
          [
           "SAMOA ISLANDS REGION",
           6.1,
           16
          ],
          [
           "FIJI ISLANDS REGION",
           6,
           605.2
          ],
          [
           "ALASKA PENINSULA",
           7.8,
           28
          ],
          [
           "SOUTH OF ALASKA",
           6.1,
           17.67
          ],
          [
           "XIZANG",
           6.3,
           10
          ],
          [
           "SOUTH SANDWICH ISLANDS REGION",
           6.4,
           10
          ],
          [
           "ALASKA PENINSULA",
           6.1,
           41.26
          ],
          [
           "MINDANAO",
           6.4,
           480.6
          ],
          [
           "BISMARCK SEA",
           6.1,
           10
          ],
          [
           "VANUATU ISLANDS",
           6.4,
           178.9
          ],
          [
           "PRINCE EDWARD ISLANDS REGION",
           6.3,
           10
          ],
          [
           "TANZANIA",
           6,
           17.55
          ],
          [
           "SAMAR",
           6.6,
           10
          ],
          [
           "SOUTHERN SUMATRA",
           6.8,
           22
          ],
          [
           "SOUTHERN SUMATRA",
           6.9,
           26
          ],
          [
           "BANDA SEA",
           6.9,
           627.76
          ],
          [
           "ASCENSION ISLAND REGION",
           6,
           10
          ],
          [
           "COSTA RICA",
           6,
           23.31
          ],
          [
           "NEW BRITAIN REGION",
           6,
           23
          ],
          [
           "NEW BRITAIN REGION",
           6.2,
           22
          ],
          [
           "CENTRAL MID-ATLANTIC RIDGE",
           6.5,
           10
          ],
          [
           "CHAGOS ARCHIPELAGO REGION",
           6.1,
           10
          ],
          [
           "NEAR COAST OF NORTHERN CHILE",
           6.8,
           23
          ],
          [
           "NEAR COAST OF CENTRAL CHILE",
           6.3,
           16.53
          ],
          [
           "NEAR COAST OF NORTHERN CHILE",
           6.5,
           14.52
          ],
          [
           "NEAR COAST OF CENTRAL CHILE",
           6.3,
           28.24
          ],
          [
           "VANUATU ISLANDS",
           6.2,
           10
          ],
          [
           "CENTRAL MID-ATLANTIC RIDGE",
           6.7,
           10
          ],
          [
           "MINDANAO",
           6.3,
           120
          ],
          [
           "VANUATU ISLANDS",
           6,
           10
          ],
          [
           "NORTHERN CHILE",
           6.2,
           51
          ],
          [
           "NEAR EAST COAST OF HONSHU",
           6.1,
           34
          ],
          [
           "KAMCHATKA PENINSULA",
           6.4,
           344
          ],
          [
           "FIJI ISLANDS",
           6,
           10
          ],
          [
           "CENTRAL MID-ATLANTIC RIDGE",
           6.9,
           10
          ],
          [
           "SOUTH OF AFRICA",
           6.1,
           10
          ],
          [
           "TONGA ISLANDS",
           6.4,
           28
          ],
          [
           "NEW BRITAIN REGION",
           6,
           109.22
          ],
          [
           "FIJI ISLANDS REGION",
           6,
           633.92
          ],
          [
           "EASTERN NEW GUINEA REG.",
           6.3,
           103.49
          ],
          [
           "SOUTH OF ALASKA",
           7.6,
           31.08
          ],
          [
           "SOUTH OF FIJI ISLANDS",
           6.1,
           454
          ],
          [
           "DODECANESE ISLANDS",
           7,
           21
          ],
          [
           "OFF COAST OF SOUTHERN CHILE",
           6,
           10
          ],
          [
           "SOUTH SHETLAND ISLANDS",
           6,
           10.82
          ],
          [
           "TONGA ISLANDS",
           6.1,
           28.17
          ],
          [
           "FIJI ISLANDS REGION",
           6,
           417
          ],
          [
           "MINDANAO",
           6,
           43
          ],
          [
           "OFF COAST OF CENTRAL CHILE",
           6.1,
           19.5
          ],
          [
           "PRIMOR'YE",
           6.4,
           589
          ],
          [
           "CHILE-ARGENTINA BORDER REGION",
           6.3,
           189
          ],
          [
           "FOX ISLANDS",
           6.4,
           23
          ],
          [
           "BALLENY ISLANDS REGION",
           6,
           10
          ],
          [
           "NORTHERN CHILE",
           6.1,
           105
          ],
          [
           "TAIWAN REGION",
           6.1,
           73.17
          ],
          [
           "CHILE-BOLIVIA BORDER REGION",
           6,
           114
          ],
          [
           "MINDANAO",
           6.1,
           14
          ],
          [
           "NEAR EAST COAST OF HONSHU",
           6.3,
           35
          ],
          [
           "W. CAROLINE ISLANDS",
           6.1,
           11
          ],
          [
           "MINDORO",
           6.3,
           109
          ],
          [
           "OFF COAST OF CENTRAL CHILE",
           6.7,
           10
          ],
          [
           "NORTHWESTERN BALKAN REGION",
           6.4,
           10
          ],
          [
           "ANDREANOF ISLANDS",
           6.1,
           21
          ],
          [
           "KERMADEC ISLANDS REGION",
           6.2,
           37.14
          ],
          [
           "MINAHASSA PENINSULA",
           6.1,
           148
          ],
          [
           "KERMADEC ISLANDS",
           6.3,
           224
          ],
          [
           "VANUATU ISLANDS",
           6.1,
           113
          ],
          [
           "SALTA PROVINCE",
           6.1,
           217
          ],
          [
           "VANUATU ISLANDS",
           6.1,
           160
          ],
          [
           "RUSSIA-MONGOLIA BORDER REGION",
           6.7,
           10
          ],
          [
           "SULAWESI",
           6.2,
           18
          ],
          [
           "SAN JUAN PROVINCE",
           6.4,
           20
          ],
          [
           "PHILIPPINE ISLANDS REGION",
           7,
           80
          ],
          [
           "SOUTH SHETLAND ISLANDS",
           6.9,
           9.8
          ],
          [
           "WEST CHILE RISE",
           6.7,
           10
          ],
          [
           "MINDANAO",
           6,
           24.92
          ],
          [
           "BISMARCK SEA",
           6.3,
           10
          ],
          [
           "SOUTHEAST OF LOYALTY ISLANDS",
           6,
           11
          ],
          [
           "SOUTHWEST OF SUMATRA",
           6.2,
           10
          ],
          [
           "SOUTHEAST OF LOYALTY ISLANDS",
           6.1,
           10
          ],
          [
           "SOUTHEAST OF LOYALTY ISLANDS",
           7.7,
           10
          ],
          [
           "SOUTHEAST OF LOYALTY ISLANDS",
           6.1,
           11.69
          ],
          [
           "SOUTHEAST OF LOYALTY ISLANDS",
           6.2,
           12
          ],
          [
           "SOUTHEAST OF LOYALTY ISLANDS",
           6,
           10
          ],
          [
           "NEAR EAST COAST OF HONSHU",
           7.1,
           51.89
          ],
          [
           "VANUATU ISLANDS",
           6.2,
           5.59
          ],
          [
           "TONGA ISLANDS REGION",
           6.7,
           14
          ],
          [
           "SOUTHEAST OF LOYALTY ISLANDS",
           6.1,
           12
          ],
          [
           "VANUATU ISLANDS",
           6.1,
           14
          ],
          [
           "FIJI ISLANDS REGION",
           6.1,
           2.41
          ],
          [
           "GREECE",
           6.3,
           8
          ],
          [
           "OFF E. COAST OF N. ISLAND",
           7.3,
           15.48
          ],
          [
           "VANUATU ISLANDS",
           6.1,
           173.3
          ],
          [
           "KERMADEC ISLANDS",
           7.4,
           43
          ],
          [
           "KERMADEC ISLANDS",
           8.1,
           28.94
          ],
          [
           "KERMADEC ISLANDS REGION",
           6.1,
           10
          ],
          [
           "KERMADEC ISLANDS REGION",
           6.1,
           25
          ],
          [
           "KERMADEC ISLANDS REGION",
           6.3,
           17
          ],
          [
           "KERMADEC ISLANDS REGION",
           6.2,
           14
          ],
          [
           "OFF E. COAST OF N. ISLAND",
           6.3,
           13
          ],
          [
           "KERMADEC ISLANDS REGION",
           6.1,
           10
          ],
          [
           "KERMADEC ISLANDS REGION",
           6.2,
           10
          ],
          [
           "KERMADEC ISLANDS REGION",
           6.2,
           15
          ],
          [
           "KERMADEC ISLANDS REGION",
           6.1,
           10
          ],
          [
           "KERMADEC ISLANDS REGION",
           6,
           14
          ],
          [
           "SOUTH SANDWICH ISLANDS REGION",
           6,
           10
          ],
          [
           "OFF EAST COAST OF KAMCHATKA",
           6.6,
           13.23
          ],
          [
           "NORTHERN ALGERIA",
           6,
           8
          ],
          [
           "NORTHERN MID-ATLANTIC RIDGE",
           6,
           8
          ],
          [
           "WEST OF MACQUARIE ISLAND",
           6,
           10
          ],
          [
           "NEAR EAST COAST OF HONSHU",
           7,
           43
          ],
          [
           "KERMADEC ISLANDS",
           6.5,
           20
          ],
          [
           "FIJI ISLANDS REGION",
           6,
           595
          ],
          [
           "EAST OF SOUTH SANDWICH ISLANDS",
           6.6,
           10
          ],
          [
           "OFF E. COAST OF N. ISLAND",
           6,
           10
          ],
          [
           "KERMADEC ISLANDS REGION",
           6.1,
           18
          ],
          [
           "JAVA",
           6,
           67
          ],
          [
           "CELEBES SEA",
           6.1,
           300
          ],
          [
           "NEAR N COAST OF NEW GUINEA",
           6,
           9
          ],
          [
           "OFF W COAST OF NORTHERN SUMATRA",
           6.1,
           9
          ],
          [
           "FIJI ISLANDS REGION",
           6.5,
           301
          ],
          [
           "FIJI ISLANDS REGION",
           6.4,
           246
          ],
          [
           "NEAR N COAST OF NEW GUINEA",
           6.1,
           10
          ],
          [
           "NORTHEASTERN INDIA",
           6,
           34
          ],
          [
           "KERMADEC ISLANDS REGION",
           6.1,
           10
          ],
          [
           "NEAR EAST COAST OF HONSHU",
           6.8,
           47.3
          ],
          [
           "WEST OF MACQUARIE ISLAND",
           6,
           10
          ],
          [
           "FIJI ISLANDS REGION",
           6.1,
           384
          ],
          [
           "NEAR COAST OF GUATEMALA",
           6,
           22
          ],
          [
           "MAURITIUS - REUNION REGION",
           6.7,
           10
          ],
          [
           "SOUTH OF PANAMA",
           6,
           10
          ],
          [
           "NEAR EAST COAST OF HONSHU",
           6,
           32
          ],
          [
           "OFF W COAST OF NORTHERN SUMATRA",
           6.7,
           11
          ],
          [
           "SOUTHERN EAST PACIFIC RISE",
           6.7,
           10
          ],
          [
           "YUNNAN",
           6.1,
           9
          ],
          [
           "QINGHAI",
           7.3,
           10
          ],
          [
           "FIJI ISLANDS REGION",
           6.5,
           10
          ],
          [
           "CENTRAL ALASKA",
           6.1,
           44
          ],
          [
           "NORTHERN MOLUCCA SEA",
           6.1,
           26
          ],
          [
           "KERMADEC ISLANDS",
           6.5,
           25
          ],
          [
           "FIJI ISLANDS REGION",
           6.1,
           600.72
          ],
          [
           "NEAR COAST OF CENTRAL CHILE",
           6,
           10
          ],
          [
           "CALIFORNIA-NEVADA BORDER REGION",
           6,
           7.45
          ],
          [
           "SOUTH OF PANAMA",
           6.1,
           4.070000000000001
          ],
          [
           "BISMARCK SEA",
           6,
           10
          ],
          [
           "SOUTH OF PANAMA",
           6.7,
           10
          ],
          [
           "MINDORO",
           6.7,
           110
          ],
          [
           "KERMADEC ISLANDS REGION",
           6.1,
           10
          ],
          [
           "MINAHASSA PENINSULA",
           6.2,
           10.67
          ],
          [
           "ALASKA PENINSULA",
           8.2,
           35
          ],
          [
           "PERU-ECUADOR BORDER REGION",
           6.2,
           33.67
          ],
          [
           "NICOBAR ISLANDS",
           6.1,
           10
          ],
          [
           "SOUTH SANDWICH ISLANDS REGION",
           7.5,
           47.23
          ],
          [
           "SOUTH SANDWICH ISLANDS REGION",
           8.1,
           55.73
          ],
          [
           "SOUTH SANDWICH ISLANDS REGION",
           6.7,
           35
          ],
          [
           "SOUTH SANDWICH ISLANDS REGION",
           6.1,
           35
          ],
          [
           "SOUTH SANDWICH ISLANDS REGION",
           6.3,
           10
          ],
          [
           "ALASKA PENINSULA",
           6.9,
           20.68
          ],
          [
           "HAITI REGION",
           7.2,
           10
          ],
          [
           "SOUTH SANDWICH ISLANDS REGION",
           6.9,
           16.61
          ],
          [
           "SOUTH SANDWICH ISLANDS REGION",
           6.1,
           33.52
          ],
          [
           "VANUATU ISLANDS",
           6.9,
           93
          ],
          [
           "SOUTH SANDWICH ISLANDS REGION",
           6,
           28
          ],
          [
           "SOUTH SANDWICH ISLANDS REGION",
           6.6,
           11.2
          ],
          [
           "SOUTH SANDWICH ISLANDS REGION",
           7.1,
           14
          ],
          [
           "KURIL ISLANDS",
           6,
           37.36
          ],
          [
           "KERMADEC ISLANDS",
           6.4,
           16
          ],
          [
           "FIJI ISLANDS REGION",
           6,
           10
          ],
          [
           "NEAR COAST OF GUERRERO",
           7,
           20
          ],
          [
           "CHILE-ARGENTINA BORDER REGION",
           6.2,
           193.38
          ],
          [
           "KURIL ISLANDS",
           6.1,
           35
          ],
          [
           "NEAR COAST OF CENTRAL CHILE",
           6.4,
           18.8
          ],
          [
           "NEAR COAST OF NICARAGUA",
           6.5,
           21
          ],
          [
           "ANDREANOF ISLANDS",
           6.1,
           18
          ],
          [
           "CRETE",
           6,
           8.71
          ],
          [
           "EAST OF KURIL ISLANDS",
           6.5,
           401.2
          ],
          [
           "SEA OF JAPAN",
           6.1,
           364
          ],
          [
           "VANUATU ISLANDS REGION",
           7.3,
           527
          ],
          [
           "MID-INDIAN RIDGE",
           6,
           10
          ],
          [
           "SOUTH SANDWICH ISLANDS REGION",
           6.3,
           10
          ],
          [
           "VANUATU ISLANDS REGION",
           6.9,
           535
          ],
          [
           "HAWAII",
           6.21,
           35.06
          ],
          [
           "ALASKA PENINSULA",
           6.9,
           69.1
          ],
          [
           "CRETE",
           6.4,
           10
          ],
          [
           "SOLOMON ISLANDS",
           6.4,
           33
          ],
          [
           "VANUATU ISLANDS",
           6.1,
           96.48
          ],
          [
           "SOUTH OF FIJI ISLANDS",
           6.1,
           487
          ],
          [
           "TAIWAN",
           6.2,
           69
          ],
          [
           "SOUTH SANDWICH ISLANDS REGION",
           6,
           22
          ],
          [
           "OFF W COAST OF NORTHERN SUMATRA",
           6,
           8
          ],
          [
           "SOUTHERN MOLUCCA SEA",
           6,
           34
          ],
          [
           "NEAR COAST OF NICARAGUA",
           6.3,
           20
          ],
          [
           "SOUTHEAST OF RYUKYU ISLANDS",
           6.6,
           12
          ],
          [
           "SOUTHEAST OF RYUKYU ISLANDS",
           6.6,
           10
          ],
          [
           "IRIAN JAYA REGION",
           6,
           10
          ],
          [
           "SOUTHERN IRAN",
           6,
           9
          ],
          [
           "SOUTHERN IRAN",
           6.3,
           10
          ],
          [
           "SOUTH INDIAN OCEAN",
           6,
           10
          ],
          [
           "NEW IRELAND REGION",
           6.2,
           34
          ],
          [
           "SANTA CRUZ ISLANDS",
           6.1,
           10
          ],
          [
           "MYANMAR-INDIA BORDER REGION",
           6.2,
           42.72
          ],
          [
           "NORTHERN PERU",
           7.5,
           126
          ],
          [
           "SOUTHEAST OF HONSHU",
           6.3,
           22.07
          ],
          [
           "SOUTHEAST OF HONSHU",
           6.6,
           10
          ],
          [
           "NEW IRELAND REGION",
           6.3,
           10
          ],
          [
           "NEW IRELAND REGION",
           6.1,
           10
          ],
          [
           "EASTER ISLAND REGION",
           6.1,
           10
          ],
          [
           "NORTH OF HALMAHERA",
           6,
           149
          ],
          [
           "RYUKYU ISLANDS",
           6,
           7
          ],
          [
           "WEST OF MACQUARIE ISLAND",
           6.6,
           10
          ],
          [
           "FLORES SEA",
           7.3,
           15.06
          ],
          [
           "SOUTH SANDWICH ISLANDS REGION",
           6,
           15
          ],
          [
           "PRINCE EDWARD ISLANDS REGION",
           6,
           10
          ],
          [
           "FIJI ISLANDS",
           6.2,
           10
          ],
          [
           "SOUTH SANDWICH ISLANDS REGION",
           6,
           10
          ],
          [
           "NEAR COAST OF NORTHERN CALIF.",
           6.2,
           27.04
          ],
          [
           "OFF COAST OF JALISCO",
           6,
           10
          ],
          [
           "FIJI ISLANDS REGION",
           6.1,
           639.16
          ],
          [
           "BANDA SEA",
           7.3,
           164.28
          ],
          [
           "VANUATU ISLANDS",
           6,
           104
          ],
          [
           "TAIWAN REGION",
           6.2,
           19
          ],
          [
           "BANDA SEA",
           6,
           544
          ],
          [
           "NEAR COAST OF NICARAGUA",
           6.1,
           17
          ],
          [
           "QINGHAI",
           6.6,
           13
          ],
          [
           "SOUTH OF KERMADEC ISLANDS",
           6.2,
           7
          ],
          [
           "NORTHERN MID-ATLANTIC RIDGE",
           6,
           10
          ],
          [
           "CYPRUS REGION",
           6.6,
           21
          ],
          [
           "FOX ISLANDS",
           6.8,
           22.32
          ],
          [
           "FOX ISLANDS",
           6.6,
           11.23
          ],
          [
           "SUNDA STRAIT",
           6.6,
           33
          ],
          [
           "SOLOMON ISLANDS",
           6.1,
           379
          ],
          [
           "SHIKOKU",
           6.3,
           39
          ],
          [
           "TALAUD ISLANDS",
           6,
           21
          ],
          [
           "FOX ISLANDS",
           6.2,
           29
          ],
          [
           "SOUTH SANDWICH ISLANDS REGION",
           6,
           11
          ],
          [
           "FIJI ISLANDS REGION",
           6.2,
           6.2
          ],
          [
           "SOUTH OF PANAMA",
           6.1,
           10
          ],
          [
           "KERMADEC ISLANDS REGION",
           6.5,
           8
          ],
          [
           "BANDA SEA",
           6,
           119
          ],
          [
           "NORTHERN PERU",
           6.5,
           110
          ],
          [
           "SOUTHEAST INDIAN RIDGE",
           6.3,
           10
          ],
          [
           "CENTRAL MID-ATLANTIC RIDGE",
           6.2,
           10
          ],
          [
           "SOUTH OF MARIANA ISLANDS",
           6,
           15
          ],
          [
           "GUATEMALA",
           6.2,
           69.6
          ],
          [
           "SOUTH OF FIJI ISLANDS",
           6.8,
           535
          ],
          [
           "BALLENY ISLANDS REGION",
           6.3,
           14
          ],
          [
           "JUJUY PROVINCE",
           6,
           251
          ],
          [
           "NORTHERN SUMATRA",
           6.1,
           4.94
          ],
          [
           "KERMADEC ISLANDS",
           6.6,
           24
          ],
          [
           "SOUTH SANDWICH ISLANDS REGION",
           6,
           20
          ],
          [
           "FIJI ISLANDS REGION",
           6.1,
           581.81
          ],
          [
           "LUZON",
           6.4,
           11
          ],
          [
           "LUZON",
           6.7,
           33
          ],
          [
           "SOUTHERN SUMATRA",
           6.7,
           28
          ],
          [
           "NEAR EAST COAST OF HONSHU",
           6,
           57.18
          ],
          [
           "NEAR EAST COAST OF HONSHU",
           7.3,
           59.85
          ],
          [
           "SOUTH OF FIJI ISLANDS",
           6.3,
           21
          ],
          [
           "KERMADEC ISLANDS REGION",
           6,
           47.57
          ],
          [
           "NORTHERN MID-ATLANTIC RIDGE",
           6.7,
           10
          ],
          [
           "TAIWAN",
           6.7,
           24
          ],
          [
           "VANUATU ISLANDS",
           6,
           115
          ],
          [
           "SOUTHEAST OF LOYALTY ISLANDS",
           6.9,
           10
          ],
          [
           "SOUTHEAST OF LOYALTY ISLANDS",
           7,
           10
          ],
          [
           "SOUTHEAST OF LOYALTY ISLANDS",
           6.4,
           20
          ],
          [
           "VANUATU ISLANDS",
           6,
           31
          ],
          [
           "VANUATU ISLANDS",
           6.3,
           17
          ],
          [
           "NEW BRITAIN REGION",
           6.1,
           149
          ],
          [
           "VANUATU ISLANDS",
           6.1,
           200.93
          ],
          [
           "MINDANAO",
           6.1,
           19
          ],
          [
           "MINDANAO",
           6,
           19
          ],
          [
           "NEAR COAST OF NICARAGUA",
           6.6,
           27
          ],
          [
           "BISMARCK SEA",
           6.1,
           10
          ],
          [
           "PHILIPPINE ISLANDS REGION",
           6,
           18
          ],
          [
           "TAIWAN REGION",
           6.3,
           27.02
          ],
          [
           "BISMARCK SEA",
           6.3,
           10
          ],
          [
           "JUJUY PROVINCE",
           6.8,
           220
          ],
          [
           "MACQUARIE ISLAND REGION",
           6.9,
           10
          ],
          [
           "LUZON",
           6.1,
           129
          ],
          [
           "SOUTH OF FIJI ISLANDS",
           6.3,
           602.01
          ],
          [
           "OFF EAST COAST OF HONSHU",
           6,
           12
          ],
          [
           "CENTRAL PERU",
           7.2,
           252
          ],
          [
           "SOUTHEAST OF LOYALTY ISLANDS",
           6.6,
           15
          ],
          [
           "SOUTHERN EAST PACIFIC RISE",
           6.2,
           10
          ],
          [
           "TIMOR REGION",
           6.2,
           49
          ],
          [
           "TONGA ISLANDS",
           6.3,
           237
          ],
          [
           "WEST OF MACQUARIE ISLAND",
           6.4,
           10
          ],
          [
           "RAT ISLANDS",
           6.3,
           105
          ],
          [
           "PERU-BRAZIL BORDER REGION",
           6.5,
           608.51
          ],
          [
           "SOUTHEASTERN AFGHANISTAN",
           6,
           10
          ],
          [
           "PHILIPPINE ISLANDS REGION",
           6,
           35.44
          ]
         ],
         "geo": "geo",
         "hovertemplate": "<b>%{hovertext}</b><br><br>marker_size=%{marker.size}<br>latitude=%{lat}<br>longitude=%{lon}<br>description=%{customdata[0]}<br>magnitude=%{marker.color}<br>depth=%{customdata[2]}<extra></extra>",
         "hovertext": [
          "VANUATU ISLANDS",
          "NEAR EAST COAST OF HONSHU",
          "SOUTH OF MARIANA ISLANDS",
          "NORTHERN CHILE",
          "NEAR COAST OF CENTRAL CHILE",
          "FOX ISLANDS",
          "NEW BRITAIN REGION",
          "NEW BRITAIN REGION",
          "FOX ISLANDS",
          "NEW BRITAIN REGION",
          "NORTH OF HALMAHERA",
          "MINDANAO",
          "MINDANAO",
          "MINDANAO",
          "MINDANAO",
          "MINDANAO",
          "OFF EAST COAST OF KAMCHATKA",
          "NORTHERN MOLUCCA SEA",
          "EASTERN NEW GUINEA REG.",
          "ANDREANOF ISLANDS",
          "NEW BRITAIN REGION",
          "KURIL ISLANDS",
          "VANUATU ISLANDS",
          "ECUADOR",
          "SOUTH OF MARIANA ISLANDS",
          "SOUTH OF MARIANA ISLANDS",
          "SOUTH OF MARIANA ISLANDS",
          "NEW BRITAIN REGION",
          "MAURITIUS - REUNION REGION",
          "FIJI ISLANDS REGION",
          "SOUTH OF MARIANA ISLANDS",
          "SOLOMON ISLANDS",
          "NORTHERN SUMATRA",
          "OFF COAST OF JALISCO",
          "ANDREANOF ISLANDS",
          "SOUTH ISLAND",
          "TONGA ISLANDS",
          "FIJI ISLANDS REGION",
          "VANUATU ISLANDS",
          "NEAR COAST OF CENTRAL CHILE",
          "HINDU KUSH REGION",
          "ARU ISLANDS REGION",
          "IRIAN JAYA REGION",
          "IRIAN JAYA REGION",
          "SOUTHWESTERN RYUKYU ISL.",
          "ANDREANOF ISLANDS",
          "ANDREANOF ISLANDS",
          "HALMAHERA",
          "GULF OF CALIFORNIA",
          "SOUTHERN SUMATRA",
          "SOUTHERN SUMATRA",
          "PACIFIC-ANTARCTIC RIDGE",
          "IRIAN JAYA REGION",
          "TONGA ISLANDS",
          "SOUTHEAST INDIAN RIDGE",
          "PACIFIC-ANTARCTIC RIDGE",
          "NEW BRITAIN REGION",
          "BONIN ISLANDS",
          "FIJI ISLANDS REGION",
          "NEW BRITAIN REGION",
          "SOUTH SANDWICH ISLANDS REGION",
          "SOLOMON ISLANDS",
          "BANDA SEA",
          "SOUTHERN IRAN",
          "BONIN ISLANDS",
          "BONIN ISLANDS",
          "NEAR ISLANDS",
          "PACIFIC-ANTARCTIC RIDGE",
          "VANUATU ISLANDS REGION",
          "SOUTH OF FIJI ISLANDS",
          "VANUATU ISLANDS",
          "SANTIAGO DEL ESTERO PROV.",
          "NEAR COAST OF CENTRAL CHILE",
          "SOUTHEAST OF LOYALTY ISLANDS",
          "VANUATU ISLANDS",
          "VANUATU ISLANDS",
          "BONIN ISLANDS",
          "LOYALTY ISLANDS",
          "LOYALTY ISLANDS",
          "SOUTHERN SUMATRA",
          "NORTHERN SUMATRA",
          "SOUTHWESTERN PAKISTAN",
          "TAJIKISTAN",
          "NORTHERN SUMATRA",
          "SOUTHERN IRAN",
          "JAN MAYEN ISLAND REGION",
          "TONGA ISLANDS",
          "MYANMAR-INDIA BORDER REGION",
          "SOLOMON ISLANDS",
          "CELEBES SEA",
          "CELEBES SEA",
          "NEAR COAST OF CENTRAL CHILE",
          "NEAR COAST OF CENTRAL CHILE",
          "NEAR COAST OF CENTRAL CHILE",
          "TONGA ISLANDS",
          "OFF COAST OF CENTRAL CHILE",
          "SULAWESI",
          "NEAR EAST COAST OF KAMCHATKA",
          "SOUTH OF FIJI ISLANDS",
          "SOUTH ISLAND",
          "OAXACA",
          "EASTER ISLAND REGION",
          "NORTHERN CHILE",
          "SOUTH SANDWICH ISLANDS REGION",
          "SOUTH SANDWICH ISLANDS REGION",
          "SOLOMON ISLANDS",
          "NEAR EAST COAST OF HONSHU",
          "NEAR EAST COAST OF HONSHU",
          "NEAR EAST COAST OF HONSHU",
          "NEAR EAST COAST OF HONSHU",
          "NEW BRITAIN REGION",
          "BALI SEA",
          "NEAR EAST COAST OF HONSHU",
          "OFF EAST COAST OF HONSHU",
          "NEAR EAST COAST OF HONSHU",
          "OFF EAST COAST OF HONSHU",
          "OFF EAST COAST OF HONSHU",
          "NEAR EAST COAST OF HONSHU",
          "NEAR EAST COAST OF HONSHU",
          "NEAR EAST COAST OF HONSHU",
          "OFF EAST COAST OF HONSHU",
          "NEAR EAST COAST OF HONSHU",
          "OFF EAST COAST OF HONSHU",
          "NEAR EAST COAST OF HONSHU",
          "OFF EAST COAST OF HONSHU",
          "NEAR EAST COAST OF HONSHU",
          "OFF EAST COAST OF HONSHU",
          "NEAR EAST COAST OF HONSHU",
          "NEAR EAST COAST OF HONSHU",
          "NEAR EAST COAST OF HONSHU",
          "OFF EAST COAST OF HONSHU",
          "OFF EAST COAST OF HONSHU",
          "OFF EAST COAST OF HONSHU",
          "OFF EAST COAST OF HONSHU",
          "OFF EAST COAST OF HONSHU",
          "OFF EAST COAST OF HONSHU",
          "NEAR EAST COAST OF HONSHU",
          "OFF EAST COAST OF HONSHU",
          "NEAR EAST COAST OF HONSHU",
          "OFF EAST COAST OF HONSHU",
          "NEAR EAST COAST OF HONSHU",
          "NEAR EAST COAST OF HONSHU",
          "NEAR EAST COAST OF HONSHU",
          "NEAR EAST COAST OF HONSHU",
          "OFF EAST COAST OF HONSHU",
          "NEAR EAST COAST OF HONSHU",
          "OFF EAST COAST OF HONSHU",
          "NEAR EAST COAST OF HONSHU",
          "NEAR EAST COAST OF HONSHU",
          "OFF EAST COAST OF HONSHU",
          "NEAR EAST COAST OF HONSHU",
          "NEAR EAST COAST OF HONSHU",
          "NEAR EAST COAST OF HONSHU",
          "NEAR EAST COAST OF HONSHU",
          "EASTERN HONSHU",
          "NEAR EAST COAST OF HONSHU",
          "NEAR EAST COAST OF HONSHU",
          "NEAR WEST COAST OF HONSHU",
          "NEAR EAST COAST OF HONSHU",
          "OFF EAST COAST OF HONSHU",
          "NEAR EAST COAST OF HONSHU",
          "NEAR EAST COAST OF HONSHU",
          "OFF EAST COAST OF HONSHU",
          "OFF EAST COAST OF HONSHU",
          "EASTERN HONSHU",
          "OFF EAST COAST OF HONSHU",
          "VANUATU ISLANDS",
          "NEAR EAST COAST OF HONSHU",
          "PHILIPPINE ISLANDS REGION",
          "OFF EAST COAST OF HONSHU",
          "NEAR EAST COAST OF HONSHU",
          "OFF EAST COAST OF HONSHU",
          "MYANMAR",
          "NEAR EAST COAST OF HONSHU",
          "FIJI ISLANDS REGION",
          "NEAR EAST COAST OF HONSHU",
          "OFF EAST COAST OF HONSHU",
          "FIJI ISLANDS REGION",
          "NEAR EAST COAST OF HONSHU",
          "CRETE",
          "FIJI ISLANDS REGION",
          "SOUTH OF JAVA",
          "CHIAPAS",
          "NEAR EAST COAST OF HONSHU",
          "KYUSHU",
          "NEAR EAST COAST OF HONSHU",
          "NEAR EAST COAST OF HONSHU",
          "OFF EAST COAST OF HONSHU",
          "SOUTH OF KERMADEC ISLANDS",
          "NEAR EAST COAST OF HONSHU",
          "SOLOMON ISLANDS",
          "NEAR EAST COAST OF HONSHU",
          "SULAWESI",
          "SOUTH OF PANAMA",
          "OFF EAST COAST OF HONSHU",
          "LOYALTY ISLANDS",
          "COSTA RICA",
          "NEAR EAST COAST OF HONSHU",
          "HINDU KUSH REGION",
          "CENTRAL MID-ATLANTIC RIDGE",
          "SOLOMON ISLANDS",
          "NEAR COAST OF CENTRAL CHILE",
          "OFF EAST COAST OF HONSHU",
          "WEST OF MACQUARIE ISLAND",
          "SOUTH ISLAND",
          "NORTHERN MOLUCCA SEA",
          "NEW BRITAIN REGION",
          "CHILE-BOLIVIA BORDER REGION",
          "SANTA CRUZ ISLANDS",
          "NEAR EAST COAST OF HONSHU",
          "FOX ISLANDS",
          "SANTA CRUZ ISLANDS",
          "IRIAN JAYA REGION",
          "KERMADEC ISLANDS REGION",
          "KERMADEC ISLANDS REGION",
          "OFF EAST COAST OF HONSHU",
          "NEGROS",
          "SOUTH SANDWICH ISLANDS REGION",
          "OFF COAST OF CENTRAL CHILE",
          "ALASKA PENINSULA",
          "TAJIKISTAN",
          "SOLOMON ISLANDS",
          "NEAR EAST COAST OF HONSHU",
          "NEAR EAST COAST OF HONSHU",
          "NEW IRELAND REGION",
          "GULF OF CALIFORNIA",
          "SOUTH OF FIJI ISLANDS",
          "NEAR EAST COAST OF HONSHU",
          "VANUATU ISLANDS REGION",
          "NEAR N COAST OF NEW GUINEA",
          "NEAR S. COAST OF HONSHU",
          "KURIL ISLANDS",
          "ASCENSION ISLAND REGION",
          "CERAM SEA",
          "OFF EAST COAST OF HONSHU",
          "FIJI ISLANDS REGION",
          "NEAR EAST COAST OF HONSHU",
          "VANUATU ISLANDS",
          "VANUATU ISLANDS",
          "VANUATU ISLANDS",
          "SUNDA STRAIT",
          "PERU-BRAZIL BORDER REGION",
          "VANUATU ISLANDS",
          "BANDA SEA",
          "SANTA CRUZ ISLANDS",
          "FOX ISLANDS",
          "SANTIAGO DEL ESTERO PROV.",
          "SOUTH SANDWICH ISLANDS REGION",
          "VANUATU ISLANDS",
          "TONGA ISLANDS",
          "NORTHERN SUMATRA",
          "AUCKLAND ISLANDS",
          "VANCOUVER ISLAND",
          "NEAR ISLANDS",
          "EAST OF NORTH ISLAND",
          "NEAR EAST COAST OF HONSHU",
          "FIJI ISLANDS REGION",
          "NEAR EAST COAST OF HONSHU",
          "OFF EAST COAST OF HONSHU",
          "SIKKIM",
          "TONGA ISLANDS",
          "SOUTH OF KERMADEC ISLANDS",
          "SOUTH OF BALI",
          "EASTERN NEW GUINEA REG.",
          "SOUTHEASTERN SIBERIA",
          "NEW BRITAIN REGION",
          "HOKKAIDO",
          "KERMADEC ISLANDS REGION",
          "TURKEY",
          "TURKEY",
          "FIJI ISLANDS REGION",
          "NEAR COAST OF PERU",
          "REVILLA GIGEDO ISLANDS REGION",
          "PACIFIC-ANTARCTIC RIDGE",
          "NICARAGUA",
          "NORTHEAST OF TAIWAN",
          "SOUTHERN EAST PACIFIC RISE",
          "SOUTHERN MOLUCCA SEA",
          "OFF COAST OF ECUADOR",
          "CENTRAL BOLIVIA",
          "NEAR EAST COAST OF HONSHU",
          "HOKKAIDO",
          "NEW IRELAND REGION",
          "LUZON",
          "NEAR COAST OF NORTHERN CHILE",
          "GUERRERO",
          "SOUTH SANDWICH ISLANDS REGION",
          "MINAHASSA PENINSULA",
          "EASTERN NEW GUINEA REG.",
          "TONGA ISLANDS",
          "SOUTHWESTERN SIBERIA",
          "SOUTHEAST OF HONSHU",
          "SANTA CRUZ ISLANDS",
          "OFF W COAST OF NORTHERN SUMATRA",
          "SOUTH SHETLAND ISLANDS",
          "SOUTH SHETLAND ISLANDS",
          "NEAR COAST OF CHIAPAS",
          "SOUTH SANDWICH ISLANDS REGION",
          "NEAR COAST OF CENTRAL CHILE",
          "SOUTH OF FIJI ISLANDS",
          "NEAR COAST OF PERU",
          "VANUATU ISLANDS",
          "VANUATU ISLANDS",
          "VANUATU ISLANDS",
          "VANUATU ISLANDS",
          "NEGROS",
          "NEGROS",
          "FIJI ISLANDS REGION",
          "SOLOMON ISLANDS",
          "SOUTH OF FIJI ISLANDS",
          "SOUTHWESTERN SIBERIA",
          "SOUTHEAST OF LOYALTY ISLANDS",
          "SANTIAGO DEL ESTERO PROV.",
          "VANUATU ISLANDS",
          "OFF EAST COAST OF HONSHU",
          "OFF EAST COAST OF HONSHU",
          "NEAR EAST COAST OF HONSHU",
          "NEW BRITAIN REGION",
          "IRIAN JAYA",
          "NEAR COAST OF GUERRERO",
          "EASTERN NEW GUINEA REG.",
          "NEAR COAST OF CENTRAL CHILE",
          "NORTHERN EAST PACIFIC RISE",
          "NEAR EAST COAST OF HONSHU",
          "NEAR COAST OF GUERRERO",
          "NEW IRELAND REGION",
          "OFF W COAST OF NORTHERN SUMATRA",
          "NORTH INDIAN OCEAN",
          "OFF W COAST OF NORTHERN SUMATRA",
          "OFF COAST OF OREGON",
          "MICHOACAN",
          "BAJA CALIFORNIA",
          "BAJA CALIFORNIA",
          "DRAKE PASSAGE",
          "VANUATU ISLANDS",
          "OFF W COAST OF NORTHERN SUMATRA",
          "NEAR COAST OF CENTRAL CHILE",
          "EASTERN NEW GUINEA REG.",
          "EAST OF SOUTH SANDWICH ISLANDS",
          "IRIAN JAYA REGION",
          "IRIAN JAYA REGION",
          "KERMADEC ISLANDS REGION",
          "TONGA ISLANDS",
          "NEAR COAST OF CHIAPAS",
          "PERU-BOLIVIA BORDER REGION",
          "OFF COAST OF SOUTHERN CHILE",
          "NORTHERN ITALY",
          "OFF EAST COAST OF HONSHU",
          "HOKKAIDO",
          "WESTERN INDIAN-ANTARCTIC RIDGE",
          "GREENLAND SEA",
          "BONIN ISLANDS",
          "SANTIAGO DEL ESTERO PROV.",
          "SALTA PROVINCE",
          "SOUTH OF PANAMA",
          "SOUTH OF PANAMA",
          "OFF EAST COAST OF HONSHU",
          "CHILE-ARGENTINA BORDER REGION",
          "SOUTHERN PERU",
          "DODECANESE ISLANDS",
          "LUZON",
          "NEAR EAST COAST OF HONSHU",
          "NEAR ISLANDS",
          "NORTHERN SUMATRA",
          "NEAR EAST COAST OF KAMCHATKA",
          "NORTHERN XINJIANG",
          "COOK STRAIT",
          "VANUATU ISLANDS",
          "KURIL ISLANDS",
          "KURIL ISLANDS",
          "NORTHERN SUMATRA",
          "SOLOMON ISLANDS",
          "MAURITIUS - REUNION REGION",
          "NEW IRELAND REGION",
          "PERU-BRAZIL BORDER REGION",
          "NEW IRELAND REGION",
          "FOX ISLANDS",
          "ARMENIA-AZERBAIJAN-IRAN BORD REG",
          "ARMENIA-AZERBAIJAN-IRAN BORD REG",
          "XIZANG",
          "SEA OF OKHOTSK",
          "SULAWESI",
          "NEAR N COAST OF NEW GUINEA",
          "NORTHERN MOLUCCA SEA",
          "OFF COAST OF CENTRAL AMERICA",
          "JAN MAYEN ISLAND REGION",
          "PHILIPPINE ISLANDS REGION",
          "SOUTH OF JAVA",
          "SANTA CRUZ ISLANDS",
          "COSTA RICA",
          "IRIAN JAYA REGION",
          "KURIL ISLANDS",
          "SOUTHERN SUMATRA",
          "BAJA CALIFORNIA",
          "ANDREANOF ISLANDS",
          "COLOMBIA",
          "OFF EAST COAST OF HONSHU",
          "GULF OF CALIFORNIA",
          "BANDA SEA",
          "WEST OF MACQUARIE ISLAND",
          "IRIAN JAYA REGION",
          "CELEBES SEA",
          "VANUATU ISLANDS",
          "COSTA RICA",
          "QUEEN CHARLOTTE ISLANDS REGION",
          "QUEEN CHARLOTTE ISLANDS REGION",
          "QUEEN CHARLOTTE ISLANDS REGION",
          "MINDANAO",
          "NEAR COAST OF CHIAPAS",
          "VANCOUVER ISLAND",
          "CENTRAL PERU",
          "MYANMAR",
          "NEAR COAST OF CHIAPAS",
          "GULF OF ALASKA",
          "OFF COAST OF SOUTHERN CHILE",
          "NEAR COAST OF CENTRAL CHILE",
          "GUERRERO",
          "KURIL ISLANDS",
          "NEW BRITAIN REGION",
          "NEAR N COAST OF NEW GUINEA",
          "VANUATU ISLANDS",
          "OFF EAST COAST OF HONSHU",
          "OFF EAST COAST OF HONSHU",
          "NORTH ISLAND",
          "BANDA SEA",
          "NORTHERN MOLUCCA SEA",
          "OFF W. COAST OF BAJA CALIFORNIA",
          "NEAR ISLANDS",
          "NEW IRELAND REGION",
          "MINAHASSA PENINSULA",
          "VANUATU ISLANDS",
          "SOUTHEASTERN ALASKA",
          "PACIFIC-ANTARCTIC RIDGE",
          "NORTHERN SUMATRA",
          "LAKE ISSYK-KUL REGION",
          "CENTRAL CHILE",
          "SANTA CRUZ ISLANDS",
          "SANTA CRUZ ISLANDS",
          "SANTA CRUZ ISLANDS",
          "SANTA CRUZ ISLANDS",
          "SANTA CRUZ ISLANDS",
          "HOKKAIDO",
          "SANTA CRUZ ISLANDS",
          "SANTA CRUZ ISLANDS",
          "SANTA CRUZ ISLANDS REGION",
          "SANTA CRUZ ISLANDS",
          "SANTA CRUZ ISLANDS REGION",
          "SANTA CRUZ ISLANDS",
          "SANTA CRUZ ISLANDS",
          "SANTA CRUZ ISLANDS",
          "SANTA CRUZ ISLANDS",
          "SANTA CRUZ ISLANDS",
          "COLOMBIA",
          "SANTA CRUZ ISLANDS",
          "SANTA CRUZ ISLANDS",
          "EASTERN SIBERIA",
          "MINDANAO",
          "SANTIAGO DEL ESTERO PROV.",
          "KURIL ISLANDS",
          "KURIL ISLANDS",
          "KURIL ISLANDS",
          "NEW BRITAIN REGION",
          "SOUTH SANDWICH ISLANDS REGION",
          "EAST OF KURIL ISLANDS",
          "VANUATU ISLANDS REGION",
          "GUATEMALA",
          "TAIWAN",
          "OFF EAST COAST OF HONSHU",
          "E. RUSSIA-N.E. CHINA BORDER REG.",
          "IRIAN JAYA",
          "SOUTHERN IRAN",
          "VANUATU ISLANDS",
          "SOLOMON ISLANDS",
          "SOUTHERN IRAN",
          "NEAR N COAST OF NEW GUINEA",
          "KURIL ISLANDS",
          "EAST OF KURIL ISLANDS",
          "SICHUAN",
          "BANDA SEA",
          "KURIL ISLANDS",
          "SOUTHEAST OF HONSHU",
          "MICHOACAN",
          "NEW IRELAND REGION",
          "KERMADEC ISLANDS REGION",
          "SOUTHERN IRAN",
          "TONGA ISLANDS",
          "MARIANA ISLANDS",
          "NEAR EAST COAST OF HONSHU",
          "OFF COAST OF SOUTHERN CHILE",
          "OFF EAST COAST OF KAMCHATKA",
          "OFF EAST COAST OF KAMCHATKA",
          "SOUTH OF FIJI ISLANDS",
          "TONGA ISLANDS",
          "SEA OF OKHOTSK",
          "SEA OF OKHOTSK",
          "TAIWAN",
          "SANTA CRUZ ISLANDS",
          "SOUTH OF JAVA",
          "SOUTH OF KERMADEC ISLANDS",
          "CRETE",
          "NEAR COAST OF NICARAGUA",
          "CRETE",
          "NORTHERN MID-ATLANTIC RIDGE",
          "NORTHERN SUMATRA",
          "SOLOMON ISLANDS",
          "SOUTHERN SUMATRA",
          "NEW IRELAND REGION",
          "NEW BRITAIN REGION",
          "SOUTH SANDWICH ISLANDS REGION",
          "SOUTHERN PERU",
          "COOK STRAIT",
          "GANSU",
          "PRINCE EDWARD ISLANDS REGION",
          "SOUTH OF FIJI ISLANDS",
          "VANUATU ISLANDS",
          "SOUTH SANDWICH ISLANDS REGION",
          "TONGA ISLANDS",
          "BANDA SEA",
          "KERMADEC ISLANDS REGION",
          "NEAR COAST OF NORTHERN PERU",
          "SOUTH OF PANAMA",
          "COOK STRAIT",
          "SOUTHWEST INDIAN RIDGE",
          "NEAR COAST OF GUERRERO",
          "KERMADEC ISLANDS REGION",
          "ANDREANOF ISLANDS",
          "ANDREANOF ISLANDS",
          "BANDA SEA",
          "QUEEN CHARLOTTE ISLANDS REGION",
          "SOUTHEAST OF HONSHU",
          "QUEEN CHARLOTTE ISLANDS REGION",
          "ANDREANOF ISLANDS",
          "ANDREANOF ISLANDS",
          "NORTHERN MID-ATLANTIC RIDGE",
          "PHILIPPINE ISLANDS REGION",
          "NEAR COAST OF CHIAPAS",
          "CENTRAL EAST PACIFIC RISE",
          "ANDREANOF ISLANDS",
          "FLORES SEA",
          "PAKISTAN",
          "SOUTHERN EAST PACIFIC RISE",
          "NEAR COAST OF PERU",
          "PAKISTAN",
          "KERMADEC ISLANDS",
          "SEA OF OKHOTSK",
          "MID-INDIAN RIDGE",
          "SOUTH OF MARIANA ISLANDS",
          "WEST CHILE RISE",
          "SAKHALIN",
          "KERMADEC ISLANDS",
          "NEAR COAST OF VENEZUELA",
          "CRETE",
          "MINDANAO",
          "SOLOMON ISLANDS",
          "GULF OF CALIFORNIA",
          "SOUTH OF FIJI ISLANDS",
          "EAST OF SOUTH SANDWICH ISLANDS",
          "OFF EAST COAST OF HONSHU",
          "BALLENY ISLANDS REGION",
          "OFF COAST OF CENTRAL CHILE",
          "TAIWAN",
          "NEAR COAST OF CENTRAL CHILE",
          "EASTER ISLAND REGION",
          "TONGA ISLANDS REGION",
          "CELEBES SEA",
          "NEAR EAST COAST OF KAMCHATKA",
          "SCOTIA SEA",
          "SCOTIA SEA",
          "SCOTIA SEA",
          "HALMAHERA",
          "MARIANA ISLANDS",
          "FIJI ISLANDS REGION",
          "KURIL ISLANDS",
          "SOUTH ATLANTIC OCEAN",
          "BANDA SEA",
          "NORTHERN SUMATRA",
          "KURIL ISLANDS",
          "MARIANA ISLANDS REGION",
          "VANUATU ISLANDS",
          "PUERTO RICO REGION",
          "NORTH ISLAND",
          "TONGA ISLANDS",
          "JAVA",
          "GREECE",
          "SOUTH SANDWICH ISLANDS REGION",
          "SOUTH OF KERMADEC ISLANDS",
          "GREECE",
          "VANUATU ISLANDS",
          "XIZANG",
          "NORTH ATLANTIC OCEAN",
          "FOX ISLANDS",
          "NEAR COAST OF NICARAGUA",
          "RYUKYU ISLANDS",
          "NEAR COAST OF CHIAPAS",
          "VANUATU ISLANDS",
          "OFF COAST OF NORTHERN CALIFORNIA",
          "EASTERN NEW GUINEA REG.",
          "EAST OF SOUTH SANDWICH ISLANDS",
          "BISMARCK SEA",
          "KYUSHU",
          "NEAR COAST OF PERU",
          "NEAR COAST OF NORTHERN PERU",
          "NEAR COAST OF NORTHERN CHILE",
          "NEAR COAST OF NORTHERN CHILE",
          "NICOBAR ISLANDS",
          "NEAR COAST OF NORTHERN CHILE",
          "NEAR COAST OF NORTHERN CHILE",
          "SOUTH OF FIJI ISLANDS",
          "SANTA CRUZ ISLANDS",
          "NEAR COAST OF NORTHERN CHILE",
          "OFF COAST OF NORTHERN CHILE",
          "SOUTH OF PANAMA",
          "NEAR COAST OF NORTHERN CHILE",
          "NEAR COAST OF NORTHERN CHILE",
          "NEAR COAST OF NORTHERN CHILE",
          "NEAR COAST OF NORTHERN CHILE",
          "SOLOMON ISLANDS",
          "NICARAGUA",
          "NEAR COAST OF NORTHERN CHILE",
          "SOLOMON ISLANDS",
          "SOLOMON ISLANDS",
          "NEAR COAST OF NICARAGUA",
          "SOLOMON ISLANDS",
          "SOLOMON ISLANDS",
          "SOLOMON ISLANDS",
          "SOLOMON ISLANDS",
          "BOUVET ISLAND REGION",
          "BALLENY ISLANDS REGION",
          "SANTA CRUZ ISLANDS REGION",
          "GUERRERO",
          "SOLOMON ISLANDS",
          "SOLOMON ISLANDS",
          "SOLOMON ISLANDS",
          "VANCOUVER ISLAND",
          "TONGA ISLANDS",
          "SOUTHEAST OF LOYALTY ISLANDS",
          "SOUTH OF FIJI ISLANDS",
          "SOUTH OF FIJI ISLANDS",
          "NEAR S. COAST OF HONSHU",
          "THAILAND",
          "WEST CHILE RISE",
          "SOLOMON ISLANDS",
          "GUERRERO",
          "TONGA ISLANDS",
          "GUERRERO",
          "SOUTHERN EAST PACIFIC RISE",
          "SOUTH OF PANAMA",
          "E. CAROLINE ISLANDS",
          "E. CAROLINE ISLANDS",
          "NEGROS",
          "OFF W COAST OF NORTHERN SUMATRA",
          "BAY OF BENGAL",
          "AEGEAN SEA",
          "OFF COAST OF JALISCO",
          "SOUTH INDIAN OCEAN",
          "VANUATU ISLANDS",
          "KERMADEC ISLANDS",
          "KERMADEC ISLANDS",
          "KERMADEC ISLANDS",
          "RAT ISLANDS",
          "RAT ISLANDS",
          "RAT ISLANDS",
          "RAT ISLANDS",
          "RAT ISLANDS",
          "VOLCANO ISLANDS",
          "SOUTH SANDWICH ISLANDS REGION",
          "SOUTH SANDWICH ISLANDS REGION",
          "TONGA ISLANDS",
          "TONGA ISLANDS",
          "BONIN ISLANDS",
          "BALLENY ISLANDS REGION",
          "BALLENY ISLANDS REGION",
          "KERMADEC ISLANDS REGION",
          "KERMADEC ISLANDS REGION",
          "NEW BRITAIN REGION",
          "OFF W COAST OF NORTHERN SUMATRA",
          "NEAR COAST OF CHIAPAS",
          "VANUATU ISLANDS",
          "VANUATU ISLANDS",
          "OFF EAST COAST OF HONSHU",
          "OFF EAST COAST OF HONSHU",
          "MINDANAO",
          "MINDANAO",
          "SOUTHEASTERN ALASKA",
          "TONGA ISLANDS",
          "TONGA ISLANDS",
          "OWEN FRACTURE ZONE REGION",
          "KURIL ISLANDS",
          "FIJI ISLANDS REGION",
          "SOUTHEASTERN ALASKA",
          "NORTHERN MID-ATLANTIC RIDGE",
          "OAXACA",
          "BISMARCK SEA",
          "BISMARCK SEA",
          "E. CAROLINE ISLANDS",
          "XIZANG",
          "YUNNAN",
          "BANDA SEA",
          "BANDA SEA",
          "HOKKAIDO",
          "HOKKAIDO",
          "IRAN-IRAQ BORDER REGION",
          "IRAN-IRAQ BORDER REGION",
          "NEAR COAST OF CENTRAL CHILE",
          "NORTHERN CALIFORNIA",
          "CENTRAL PERU",
          "CENTRAL PERU",
          "EASTER ISLAND REGION",
          "TONGA ISLANDS",
          "EASTER ISLAND REGION",
          "OFF COAST OF JALISCO",
          "SOUTHERN MOLUCCA SEA",
          "MARIANA ISLANDS",
          "JUJUY PROVINCE",
          "SOLOMON ISLANDS",
          "SOUTHERN ALASKA",
          "NEW BRITAIN REGION",
          "YUNNAN",
          "GULF OF CALIFORNIA",
          "SOUTHERN EAST PACIFIC RISE",
          "SOUTHERN EAST PACIFIC RISE",
          "HOKKAIDO",
          "OFF COAST OF CENTRAL AMERICA",
          "TONGA ISLANDS",
          "EASTER ISLAND REGION",
          "FIJI ISLANDS REGION",
          "BALLENY ISLANDS REGION",
          "MID-INDIAN RIDGE",
          "NEW BRITAIN REGION",
          "PRIMOR'YE",
          "FIJI ISLANDS REGION",
          "NORTHERN MOLUCCA SEA",
          "OFF E. COAST OF N. ISLAND",
          "PRINCE EDWARD ISLANDS REGION",
          "NORTHERN MOLUCCA SEA",
          "SICHUAN",
          "EASTERN HONSHU",
          "NORTHERN MOLUCCA SEA",
          "MINDANAO",
          "SOUTH OF PANAMA",
          "BANDA SEA",
          "SOLOMON ISLANDS",
          "NEAR COAST OF GUATEMALA",
          "SOUTH OF PANAMA",
          "TAIWAN REGION",
          "PHILIPPINE ISLANDS REGION",
          "NEAR EAST COAST OF HONSHU",
          "NORTHERN MOLUCCA SEA",
          "SOUTH OF PANAMA",
          "SOUTH OF PANAMA",
          "MINDANAO",
          "FIJI ISLANDS REGION",
          "SOUTHEAST OF EASTER ISLAND",
          "SOUTH OF PANAMA",
          "VANUATU ISLANDS",
          "FIJI ISLANDS REGION",
          "SOUTHEAST OF LOYALTY ISLANDS",
          "ADMIRALTY ISLANDS REGION",
          "MENDOZA PROVINCE",
          "JUJUY PROVINCE",
          "REYKJANES RIDGE",
          "TAIWAN REGION",
          "SOUTH SANDWICH ISLANDS REGION",
          "OFF EAST COAST OF HONSHU",
          "SANTA CRUZ ISLANDS REGION",
          "VANUATU ISLANDS",
          "OFF EAST COAST OF HONSHU",
          "OFF EAST COAST OF HONSHU",
          "OFF COAST OF JALISCO",
          "FLORES SEA",
          "SOUTHERN SUMATRA",
          "MID-INDIAN RIDGE",
          "NORTHERN COLOMBIA",
          "MINAHASSA PENINSULA",
          "NORTHERN MOLUCCA SEA",
          "NEAR COAST OF CENTRAL CHILE",
          "FIJI ISLANDS REGION",
          "NORTHERN CHILE",
          "NEW BRITAIN REGION",
          "SAMOA ISLANDS REGION",
          "SAMOA ISLANDS REGION",
          "SAMOA ISLANDS REGION",
          "NEW BRITAIN REGION",
          "TONGA ISLANDS",
          "CRETE",
          "FIJI ISLANDS REGION",
          "TAIWAN REGION",
          "TAIWAN REGION",
          "SANTA CRUZ ISLANDS",
          "SOUTH ISLAND",
          "QUEEN CHARLOTTE ISLANDS REGION",
          "NEPAL",
          "NEPAL",
          "NEPAL",
          "NEPAL",
          "FIJI ISLANDS REGION",
          "NEW BRITAIN REGION",
          "NEW BRITAIN REGION",
          "NEW BRITAIN REGION",
          "NEW BRITAIN REGION",
          "MOROCCO",
          "SOLOMON ISLANDS",
          "NEPAL",
          "NEPAL",
          "NEAR EAST COAST OF HONSHU",
          "SOUTHERN SUMATRA",
          "PACIFIC-ANTARCTIC RIDGE",
          "TONGA ISLANDS",
          "SANTA CRUZ ISLANDS REGION",
          "SOLOMON ISLANDS",
          "SOLOMON ISLANDS",
          "SOUTHERN MID-ATLANTIC RIDGE",
          "TONGA ISLANDS",
          "ALASKA PENINSULA",
          "BONIN ISLANDS",
          "TONGA ISLANDS",
          "SOUTHEAST OF HONSHU",
          "BORNEO",
          "HOKKAIDO",
          "NORTHERN CHILE",
          "SAMOA ISLANDS REGION",
          "FIJI ISLANDS REGION",
          "SOUTHERN MID-ATLANTIC RIDGE",
          "NEAR COAST OF CENTRAL CHILE",
          "FIJI ISLANDS REGION",
          "BONIN ISLANDS",
          "NEW BRITAIN REGION",
          "SOUTHERN XINJIANG",
          "LEYTE",
          "EAST OF KURIL ISLANDS",
          "SOLOMON ISLANDS",
          "NORTH ATLANTIC OCEAN",
          "SANTA CRUZ ISLANDS",
          "FOX ISLANDS",
          "IRIAN JAYA",
          "SOUTHERN ALASKA",
          "SOUTH OF FIJI ISLANDS",
          "SOLOMON ISLANDS",
          "SOLOMON ISLANDS",
          "MID-INDIAN RIDGE",
          "SOLOMON ISLANDS",
          "KERMADEC ISLANDS REGION",
          "SOUTHEAST OF HONSHU",
          "SOUTH OF FIJI ISLANDS",
          "SOUTH OF KERMADEC ISLANDS",
          "FOX ISLANDS",
          "GULF OF CALIFORNIA",
          "NORTHERN MOLUCCA SEA",
          "NORTHERN MOLUCCA SEA",
          "NEW BRITAIN REGION",
          "NEAR COAST OF CENTRAL CHILE",
          "NEAR COAST OF CENTRAL CHILE",
          "NEAR COAST OF CENTRAL CHILE",
          "NEAR COAST OF CENTRAL CHILE",
          "NEAR COAST OF CENTRAL CHILE",
          "NEAR COAST OF CENTRAL CHILE",
          "NEAR COAST OF CENTRAL CHILE",
          "NEAR COAST OF CENTRAL CHILE",
          "NEAR COAST OF CENTRAL CHILE",
          "OFF COAST OF CENTRAL CHILE",
          "NORTHERN MID-ATLANTIC RIDGE",
          "OFF COAST OF CENTRAL CHILE",
          "OFF COAST OF CENTRAL CHILE",
          "OFF COAST OF CENTRAL CHILE",
          "NEAR COAST OF CENTRAL CHILE",
          "NEAR COAST OF CENTRAL CHILE",
          "NEAR COAST OF CENTRAL CHILE",
          "NEAR COAST OF CENTRAL CHILE",
          "NEAR COAST OF CENTRAL CHILE",
          "IRIAN JAYA REGION",
          "IRIAN JAYA REGION",
          "NEAR COAST OF CENTRAL CHILE",
          "JUJUY PROVINCE",
          "PACIFIC-ANTARCTIC RIDGE",
          "EAST OF KURIL ISLANDS",
          "EAST OF KURIL ISLANDS",
          "TONGA ISLANDS",
          "VANUATU ISLANDS",
          "BOUVET ISLAND REGION",
          "PRINCE EDWARD ISLANDS REGION",
          "PRINCE EDWARD ISLANDS REGION",
          "HINDU KUSH REGION",
          "TIMOR REGION",
          "OFF COAST OF CENTRAL CHILE",
          "NEAR COAST OF CENTRAL CHILE",
          "NICOBAR ISLANDS",
          "ANDREANOF ISLANDS",
          "OFF COAST OF CENTRAL CHILE",
          "OFF COAST OF CENTRAL CHILE",
          "NORTHWEST OF RYUKYU ISLANDS",
          "GREECE",
          "SOLOMON ISLANDS",
          "BANDA SEA",
          "MARIANA ISLANDS",
          "PERU-BRAZIL BORDER REGION",
          "PERU-BRAZIL BORDER REGION",
          "PERU-BRAZIL BORDER REGION",
          "NEAR COAST OF NORTHERN CHILE",
          "SOUTHEAST INDIAN RIDGE",
          "TAJIKISTAN",
          "BANDA SEA",
          "FIJI ISLANDS REGION",
          "NEAR COAST OF CHIAPAS",
          "VANUATU ISLANDS",
          "BORNEO",
          "SOUTHERN EAST PACIFIC RISE",
          "AFGHANISTAN-TAJIKISTAN BORD REG.",
          "WESTERN INDIAN-ANTARCTIC RIDGE",
          "MYANMAR-INDIA BORDER REGION",
          "MYANMAR-INDIA BORDER REGION",
          "PACIFIC-ANTARCTIC RIDGE",
          "TALAUD ISLANDS",
          "HOKKAIDO",
          "SOUTHERN BOLIVIA",
          "HOKKAIDO",
          "OFF COAST OF JALISCO",
          "SOUTHERN ALASKA",
          "STRAIT OF GIBRALTAR",
          "KAMCHATKA PENINSULA",
          "BALLENY ISLANDS REGION",
          "KERMADEC ISLANDS REGION",
          "TAIWAN",
          "SOLOMON ISLANDS",
          "NEAR COAST OF CENTRAL CHILE",
          "SUMBA REGION",
          "SOUTHERN EAST PACIFIC RISE",
          "HALMAHERA",
          "WESTERN INDIAN-ANTARCTIC RIDGE",
          "SOUTHWEST OF SUMATRA",
          "ANDREANOF ISLANDS",
          "ANDREANOF ISLANDS",
          "LEEWARD ISLANDS",
          "NEAR EAST COAST OF KAMCHATKA",
          "NEAR N COAST OF NEW GUINEA",
          "ALASKA PENINSULA",
          "VANUATU ISLANDS",
          "VANUATU ISLANDS",
          "JAVA",
          "VANUATU ISLANDS",
          "AFGHANISTAN-TAJIKISTAN BORD REG.",
          "MYANMAR-INDIA BORDER REGION",
          "MINDANAO",
          "KYUSHU",
          "KYUSHU",
          "VANUATU ISLANDS",
          "OFF COAST OF CHIAPAS",
          "KYUSHU",
          "NEAR COAST OF ECUADOR",
          "SOUTH SANDWICH ISLANDS REGION",
          "NEAR COAST OF ECUADOR",
          "NEAR COAST OF ECUADOR",
          "NEAR COAST OF ECUADOR",
          "NEAR COAST OF CHIAPAS",
          "NEAR COAST OF CHIAPAS",
          "VANUATU ISLANDS",
          "NORTHERN EAST PACIFIC RISE",
          "NEAR COAST OF ECUADOR",
          "NEAR COAST OF ECUADOR",
          "NORTHERN TERRITORY",
          "FIJI ISLANDS REGION",
          "FIJI ISLANDS REGION",
          "SOUTH SANDWICH ISLANDS REGION",
          "TAIWAN REGION",
          "SOUTHERN SUMATRA",
          "BANDA SEA",
          "KERMADEC ISLANDS",
          "OFF COAST OF JALISCO",
          "NORTHERN MOLUCCA SEA",
          "SOUTH OF SUMBAWA",
          "NICARAGUA",
          "SOLOMON ISLANDS",
          "VANUATU ISLANDS",
          "VANUATU ISLANDS",
          "LOYALTY ISLANDS",
          "NORTHERN MID-ATLANTIC RIDGE",
          "NEW IRELAND REGION",
          "TAJIKISTAN-XINJIANG BORDER REG.",
          "VANUATU ISLANDS",
          "TONGA ISLANDS",
          "NEAR COAST OF ECUADOR",
          "KERMADEC ISLANDS REGION",
          "VANUATU ISLANDS",
          "NEAR COAST OF NORTHERN CHILE",
          "ADMIRALTY ISLANDS REGION",
          "MARIANA ISLANDS",
          "JUJUY PROVINCE",
          "VOLCANO ISLANDS",
          "SOUTHEAST OF LOYALTY ISLANDS",
          "SOUTH OF FIJI ISLANDS",
          "SOUTH GEORGIA ISLAND REGION",
          "OFF EAST COAST OF HONSHU",
          "OFF EAST COAST OF HONSHU",
          "SOUTH GEORGIA ISLAND REGION",
          "FLORES SEA",
          "CENTRAL ITALY",
          "MYANMAR",
          "NORTH OF ASCENSION ISLAND",
          "NEW IRELAND REGION",
          "OFF E. COAST OF N. ISLAND",
          "OFF E. COAST OF N. ISLAND",
          "KOMANDORSKIYE OSTROVA REGION",
          "MACQUARIE ISLAND REGION",
          "NORTHERN PERU",
          "NORTHERN COLOMBIA",
          "SOLOMON ISLANDS",
          "NEAR NORTH COAST OF IRIAN JAYA",
          "SOUTHEAST OF HONSHU",
          "OFF EAST COAST OF HONSHU",
          "MINDANAO",
          "TONGA ISLANDS",
          "FIJI ISLANDS REGION",
          "NEW BRITAIN REGION",
          "NEW BRITAIN REGION",
          "JAVA SEA",
          "WESTERN HONSHU",
          "TONGA ISLANDS",
          "CENTRAL ITALY",
          "CENTRAL ITALY",
          "CHILE-ARGENTINA BORDER REGION",
          "NEAR EAST COAST OF HONSHU",
          "SOUTH ISLAND",
          "SOUTH ISLAND",
          "SOUTH ISLAND",
          "SOUTH ISLAND",
          "SOUTH ISLAND",
          "SAN JUAN PROVINCE",
          "NEAR EAST COAST OF HONSHU",
          "OFF COAST OF CENTRAL AMERICA",
          "SOUTHERN XINJIANG",
          "SOUTHERN PERU",
          "NEAR ISLANDS",
          "BANDA SEA",
          "NORTHERN SUMATRA",
          "OFF COAST OF NORTHERN CALIFORNIA",
          "SOLOMON ISLANDS",
          "SOLOMON ISLANDS",
          "SOLOMON ISLANDS",
          "SOLOMON ISLANDS",
          "MARIANA ISLANDS REGION",
          "NEW IRELAND REGION",
          "NEW IRELAND REGION",
          "SOLOMON ISLANDS",
          "W. CAROLINE ISLANDS",
          "PERU-BRAZIL BORDER REGION",
          "SOLOMON ISLANDS",
          "BANDA SEA",
          "NEW IRELAND REGION",
          "SOUTHERN CHILE",
          "SUMBAWA REGION",
          "SOUTH OF FIJI ISLANDS",
          "SOUTH OF FIJI ISLANDS",
          "QUEEN ELIZABETH ISLANDS",
          "CELEBES SEA",
          "SOLOMON ISLANDS",
          "SOLOMON ISLANDS",
          "SOLOMON ISLANDS",
          "SOUTHWESTERN PAKISTAN",
          "MINDANAO",
          "JUJUY PROVINCE",
          "SOUTHERN BOLIVIA",
          "SOUTH OF FIJI ISLANDS",
          "SOLOMON ISLANDS",
          "NEW BRITAIN REGION",
          "NICOBAR ISLANDS",
          "SOLOMON ISLANDS",
          "NEAR ISLANDS",
          "NEAR EAST COAST OF KAMCHATKA",
          "BOTSWANA",
          "NORTHERN AND CENTRAL IRAN",
          "CHILE-ARGENTINA BORDER REGION",
          "FIJI ISLANDS REGION",
          "OFF COAST OF CENTRAL CHILE",
          "OFF COAST OF CENTRAL CHILE",
          "MINDANAO",
          "SOUTHEASTERN ALASKA",
          "SOUTHEASTERN ALASKA",
          "TAJIKISTAN",
          "ANDREANOF ISLANDS",
          "RYUKYU ISLANDS",
          "VANUATU ISLANDS",
          "SOUTH SANDWICH ISLANDS REGION",
          "OFF COAST OF CENTRAL AMERICA",
          "NEW BRITAIN REGION",
          "NEGROS",
          "SULAWESI",
          "NEAR ISLANDS",
          "AEGEAN SEA",
          "GUATEMALA",
          "KERMADEC ISLANDS",
          "SOUTH OF FIJI ISLANDS",
          "NEAR COAST OF GUATEMALA",
          "FIJI ISLANDS REGION",
          "KERMADEC ISLANDS",
          "KERMADEC ISLANDS REGION",
          "NEAR COAST OF ECUADOR",
          "LEYTE",
          "AUCKLAND ISLANDS",
          "NEW IRELAND REGION",
          "KOMANDORSKIYE OSTROVA REGION",
          "KOMANDORSKIYE OSTROVA REGION",
          "NEAR COAST OF PERU",
          "MAURITIUS - REUNION REGION",
          "DODECANESE ISLANDS",
          "SOUTHEAST OF RYUKYU ISLANDS",
          "NORTH ATLANTIC OCEAN",
          "GANSU",
          "NORTHERN XINJIANG",
          "MINDORO",
          "SOUTHERN SUMATRA",
          "NORTH OF ASCENSION ISLAND",
          "FIJI ISLANDS REGION",
          "ADMIRALTY ISLANDS REGION",
          "SOUTHERN SUMATRA",
          "NORTH KOREA",
          "SOUTH SANDWICH ISLANDS REGION",
          "BONIN ISLANDS",
          "NEAR COAST OF CHIAPAS",
          "CENTRAL MEXICO",
          "AUCKLAND ISLANDS",
          "OFF EAST COAST OF HONSHU",
          "VANUATU ISLANDS",
          "OAXACA",
          "SOUTH OF FIJI ISLANDS",
          "OFF EAST COAST OF HONSHU",
          "TONGA ISLANDS",
          "BALLENY ISLANDS REGION",
          "RAT ISLANDS",
          "NORTHERN CHILE",
          "BOUVET ISLAND REGION",
          "TONGA ISLANDS",
          "BANDA SEA",
          "SOUTHEAST OF LOYALTY ISLANDS",
          "SERAM",
          "LOYALTY ISLANDS",
          "LOYALTY ISLANDS",
          "LOYALTY ISLANDS",
          "TONGA ISLANDS",
          "NEW GUINEA",
          "SOUTHEAST OF HONSHU",
          "ASCENSION ISLAND REGION",
          "IRAN-IRAQ BORDER REGION",
          "COSTA RICA",
          "EASTERN XIZANG-INDIA BORDER REG.",
          "LOYALTY ISLANDS",
          "LOYALTY ISLANDS",
          "LOYALTY ISLANDS",
          "LOYALTY ISLANDS",
          "SAMOA ISLANDS REGION",
          "NEW IRELAND REGION",
          "CENTRAL MID-ATLANTIC RIDGE",
          "NORTHERN AND CENTRAL IRAN",
          "EASTERN NEW GUINEA REG.",
          "NEAR COAST OF ECUADOR",
          "W. CAROLINE ISLANDS",
          "W. CAROLINE ISLANDS",
          "W. CAROLINE ISLANDS",
          "NORTHERN AND CENTRAL IRAN",
          "NORTHERN AND CENTRAL IRAN",
          "BOUVET ISLAND REGION",
          "JAVA",
          "NORTH OF HONDURAS",
          "MYANMAR",
          "NEAR COAST OF PERU",
          "GULF OF CALIFORNIA",
          "NORTHERN CHILE",
          "JAVA",
          "GULF OF ALASKA",
          "HOKKAIDO",
          "KOMANDORSKIYE OSTROVA REGION",
          "NEAR N COAST OF NEW GUINEA",
          "SOUTHWEST OF AFRICA",
          "HINDU KUSH REGION",
          "FIJI ISLANDS REGION",
          "PACIFIC-ANTARCTIC RIDGE",
          "TAIWAN",
          "TAIWAN",
          "SOUTH OF MARIANA ISLANDS",
          "OAXACA",
          "NEW GUINEA",
          "NEW GUINEA",
          "CERAM SEA",
          "NEW GUINEA",
          "WEST OF MACQUARIE ISLAND",
          "NEW GUINEA",
          "NEW GUINEA",
          "NEW GUINEA",
          "NEW IRELAND REGION",
          "NEW BRITAIN REGION",
          "SOUTHEAST INDIAN RIDGE",
          "BANDA SEA",
          "NEW BRITAIN REGION",
          "NEW BRITAIN REGION",
          "SOUTH OF FIJI ISLANDS",
          "SOUTHERN BOLIVIA",
          "MINDANAO",
          "NEW GUINEA",
          "NEAR COAST OF CENTRAL CHILE",
          "NORTHERN MOLUCCA SEA",
          "PRINCE EDWARD ISLANDS REGION",
          "EASTER ISLAND REGION",
          "HAWAII",
          "LUZON",
          "NEW BRITAIN REGION",
          "AFGHANISTAN-TAJIKISTAN BORD REG.",
          "SOUTH OF KERMADEC ISLANDS",
          "VANUATU ISLANDS",
          "NEAR EAST COAST OF KAMCHATKA",
          "KERMADEC ISLANDS",
          "VANUATU ISLANDS",
          "EASTERN GULF OF ADEN",
          "EASTERN GULF OF ADEN",
          "SANTA CRUZ ISLANDS",
          "NEW BRITAIN REGION",
          "FLORES SEA",
          "SUMBAWA REGION",
          "SUMBAWA REGION",
          "NORTHERN ALASKA",
          "NORTHERN ALASKA",
          "SOUTH SANDWICH ISLANDS REGION",
          "ANDREANOF ISLANDS",
          "VOLCANO ISLANDS",
          "FLORES SEA",
          "COSTA RICA",
          "FIJI ISLANDS REGION",
          "FIJI ISLANDS REGION",
          "SUMBAWA REGION",
          "FIJI ISLANDS REGION",
          "SUMBAWA REGION",
          "NEAR COAST OF VENEZUELA",
          "VANUATU ISLANDS",
          "OFF COAST OF OREGON",
          "ANDREANOF ISLANDS",
          "PERU-BRAZIL BORDER REGION",
          "WESTERN IRAN",
          "TIMOR REGION",
          "MARIANA ISLANDS",
          "SOUTHEAST OF LOYALTY ISLANDS",
          "HOKKAIDO",
          "FIJI ISLANDS",
          "ECUADOR",
          "MINDANAO",
          "SOLOMON ISLANDS",
          "KERMADEC ISLANDS REGION",
          "SOUTHEAST OF LOYALTY ISLANDS",
          "SOUTH OF FIJI ISLANDS",
          "SOUTHWEST INDIAN RIDGE",
          "MINAHASSA PENINSULA",
          "MINAHASSA PENINSULA",
          "FIJI ISLANDS REGION",
          "SUMBA REGION",
          "KURIL ISLANDS",
          "BALI SEA",
          "NEW BRITAIN REGION",
          "NEW BRITAIN REGION",
          "NEW BRITAIN REGION",
          "KURIL ISLANDS",
          "NORTHWEST OF KURIL ISLANDS",
          "SOUTHEAST OF LOYALTY ISLANDS",
          "SOUTHEAST OF LOYALTY ISLANDS",
          "VANCOUVER ISLAND",
          "VANCOUVER ISLAND",
          "VANCOUVER ISLAND",
          "IONIAN SEA",
          "OFF COAST OF CENTRAL AMERICA",
          "DRAKE PASSAGE",
          "NORTH ISLAND",
          "NORTHERN CHILE",
          "MINDANAO",
          "JAN MAYEN ISLAND REGION",
          "TONGA ISLANDS",
          "NORTH ATLANTIC OCEAN",
          "NEAR EAST COAST OF KAMCHATKA",
          "SOUTH SANDWICH ISLANDS REGION",
          "SOUTHERN EAST PACIFIC RISE",
          "SOLOMON ISLANDS",
          "FIJI ISLANDS REGION",
          "CARIBBEAN SEA",
          "IRAN-IRAQ BORDER REGION",
          "SOUTHERN ALASKA",
          "BANDA SEA",
          "SOUTHEAST OF LOYALTY ISLANDS",
          "SOUTHEAST OF LOYALTY ISLANDS",
          "SOUTHEAST OF LOYALTY ISLANDS",
          "SOUTH SANDWICH ISLANDS REGION",
          "PACIFIC-ANTARCTIC RIDGE",
          "IRIAN JAYA",
          "SOUTHEAST OF EASTER ISLAND",
          "KOMANDORSKIYE OSTROVA REGION",
          "VANUATU ISLANDS",
          "TONGA ISLANDS",
          "KOMANDORSKIYE OSTROVA REGION",
          "MINDANAO",
          "ALASKA PENINSULA",
          "WESTERN BRAZIL",
          "NORTHERN MOLUCCA SEA",
          "KYUSHU",
          "VANUATU ISLANDS",
          "BISMARCK SEA",
          "VANUATU ISLANDS",
          "NEAR COAST OF CENTRAL CHILE",
          "SUMBA REGION",
          "SUMBA REGION",
          "PRINCE EDWARD ISLANDS REGION",
          "SOLOMON ISLANDS",
          "FIJI ISLANDS REGION",
          "NEAR COAST OF CHIAPAS",
          "SOUTHERN SUMATRA",
          "SOUTHERN SUMATRA",
          "MARIANA ISLANDS",
          "NORTHERN MID-ATLANTIC RIDGE",
          "NEW IRELAND REGION",
          "PERU-ECUADOR BORDER REGION",
          "CENTRAL PERU",
          "SOUTH OF KERMADEC ISLANDS",
          "PHILIPPINE ISLANDS REGION",
          "FIJI ISLANDS REGION",
          "D'ENTRECASTEAUX ISLANDS REGION",
          "CENTRAL BOLIVIA",
          "VANUATU ISLANDS",
          "COLOMBIA",
          "NORTHERN MOLUCCA SEA",
          "EAST OF KURIL ISLANDS",
          "NEW BRITAIN REGION",
          "NEAR COAST OF ECUADOR",
          "MAURITIUS - REUNION REGION",
          "RAT ISLANDS",
          "SOUTH SANDWICH ISLANDS REGION",
          "BANDA SEA",
          "SOUTH SANDWICH ISLANDS REGION",
          "OFF EAST COAST OF HONSHU",
          "SULAWESI",
          "TAIWAN",
          "WESTERN INDIAN-ANTARCTIC RIDGE",
          "LUZON",
          "SOUTH SANDWICH ISLANDS REGION",
          "SAMAR",
          "SOUTH OF FIJI ISLANDS",
          "CARLSBERG RIDGE",
          "SOLOMON ISLANDS",
          "EASTERN NEW GUINEA REG.",
          "KYUSHU",
          "PANAMA-COSTA RICA BORDER REGION",
          "NEW BRITAIN REGION",
          "SOUTHEAST OF LOYALTY ISLANDS",
          "SOUTHEAST OF LOYALTY ISLANDS",
          "SOUTHEAST OF LOYALTY ISLANDS",
          "ANDREANOF ISLANDS",
          "NORTHERN PERU",
          "EL SALVADOR",
          "FIJI ISLANDS REGION",
          "MINDANAO",
          "TONGA ISLANDS",
          "SOUTHEAST OF HONSHU",
          "OFF COAST OF CENTRAL CHILE",
          "TONGA ISLANDS",
          "KERMADEC ISLANDS",
          "KERMADEC ISLANDS REGION",
          "KERMADEC ISLANDS",
          "NEAR WEST COAST OF HONSHU",
          "KERMADEC ISLANDS",
          "IRIAN JAYA",
          "KERMADEC ISLANDS",
          "IRIAN JAYA",
          "BANDA SEA",
          "KOMANDORSKIYE OSTROVA REGION",
          "KOMANDORSKIYE OSTROVA REGION",
          "PANAMA-COSTA RICA BORDER REGION",
          "KERMADEC ISLANDS REGION",
          "MARIANA ISLANDS",
          "VANUATU ISLANDS",
          "QUEEN CHARLOTTE ISLANDS REGION",
          "CENTRAL CALIFORNIA",
          "CENTRAL CALIFORNIA",
          "NORTHERN MOLUCCA SEA",
          "SOLOMON ISLANDS",
          "NORTHWEST OF RYUKYU ISLANDS",
          "WESTERN AUSTRALIA",
          "HALMAHERA",
          "NEW BRITAIN REGION",
          "BALLENY ISLANDS REGION",
          "PHILIPPINE ISLANDS REGION",
          "NEAR S. COAST OF HONSHU",
          "VANUATU ISLANDS",
          "NEAR COAST OF CENTRAL CHILE",
          "SOUTHERN EAST PACIFIC RISE",
          "SOUTHWEST OF SUMATRA",
          "NEAR EAST COAST OF HONSHU",
          "SANTA CRUZ ISLANDS",
          "WESTERN INDIAN-ANTARCTIC RIDGE",
          "VANUATU ISLANDS",
          "SOUTH SANDWICH ISLANDS REGION",
          "OFF COAST OF OREGON",
          "FIJI ISLANDS REGION",
          "JAVA",
          "MONA PASSAGE",
          "SOUTHWEST INDIAN RIDGE",
          "SERAM",
          "CENTRAL CHILE",
          "KERMADEC ISLANDS",
          "MINDANAO",
          "OFF COAST OF CENTRAL CHILE",
          "MINDANAO",
          "VANUATU ISLANDS",
          "NORTH OF ASCENSION ISLAND",
          "MINDANAO",
          "MINDANAO",
          "SOUTH SANDWICH ISLANDS REGION",
          "NEAR COAST OF CENTRAL CHILE",
          "TONGA ISLANDS",
          "EAST OF SOUTH SANDWICH ISLANDS",
          "VANUATU ISLANDS",
          "VANUATU ISLANDS",
          "FIJI ISLANDS REGION",
          "TONGA ISLANDS",
          "NORTHERN MOLUCCA SEA",
          "NORTHERN MOLUCCA SEA",
          "OFF COAST OF CHIAPAS",
          "SEA OF OKHOTSK",
          "LAOS",
          "IRIAN JAYA REGION",
          "ANDREANOF ISLANDS",
          "ALBANIA",
          "CRETE",
          "ANDREANOF ISLANDS",
          "NEAR COAST OF NORTHERN CHILE",
          "VANUATU ISLANDS",
          "TONGA ISLANDS",
          "VANUATU ISLANDS",
          "MINDANAO",
          "HINDU KUSH REGION",
          "VANCOUVER ISLAND",
          "VANCOUVER ISLAND",
          "SANTIAGO DEL ESTERO PROV.",
          "COLOMBIA",
          "VANCOUVER ISLAND",
          "SOUTHERN EAST PACIFIC RISE",
          "NORTHERN SUMATRA",
          "PUERTO RICO REGION",
          "NEW BRITAIN REGION",
          "EASTERN SIBERIA",
          "NEAR NORTH COAST OF IRIAN JAYA",
          "SOUTHERN XINJIANG",
          "MINAHASSA PENINSULA",
          "SOUTH SANDWICH ISLANDS REGION",
          "ANDREANOF ISLANDS",
          "TURKEY",
          "ANDREANOF ISLANDS",
          "SOLOMON ISLANDS",
          "CUBA REGION",
          "NORTH OF HONDURAS",
          "SOLOMON ISLANDS",
          "JAVA",
          "MINDANAO",
          "SOUTH SANDWICH ISLANDS REGION",
          "NEW BRITAIN REGION",
          "KURIL ISLANDS",
          "TURKEY-IRAN BORDER REGION",
          "KERMADEC ISLANDS REGION",
          "SAMOA ISLANDS REGION",
          "VANUATU ISLANDS",
          "SOUTH OF BALI",
          "CENTRAL EAST PACIFIC RISE",
          "EAST OF KURIL ISLANDS",
          "MINDANAO",
          "WESTERN IDAHO",
          "NORTHERN MOLUCCA SEA",
          "MID-INDIAN RIDGE",
          "KERMADEC ISLANDS REGION",
          "NORTH OF HONDURAS",
          "BONIN ISLANDS",
          "NEAR EAST COAST OF HONSHU",
          "SOLOMON ISLANDS",
          "CRETE",
          "BANDA SEA",
          "SOLOMON ISLANDS",
          "SANTA CRUZ ISLANDS",
          "NEVADA",
          "OFF COAST OF CENTRAL MEXICO",
          "VANUATU ISLANDS",
          "SOUTHERN PERU",
          "NORTHERN CHILE",
          "SOUTH OF FIJI ISLANDS",
          "HALMAHERA",
          "SOUTHERN MID-ATLANTIC RIDGE",
          "RYUKYU ISLANDS",
          "MARIANA ISLANDS",
          "SOUTH OF KERMADEC ISLANDS",
          "ICELAND REGION",
          "MINAHASSA PENINSULA",
          "NEAR COAST OF OAXACA",
          "XIZANG",
          "W. CAROLINE ISLANDS",
          "JAVA SEA",
          "EASTERN NEW GUINEA REG.",
          "ANDAMAN ISLANDS",
          "SAMOA ISLANDS REGION",
          "FIJI ISLANDS REGION",
          "ALASKA PENINSULA",
          "SOUTH OF ALASKA",
          "XIZANG",
          "SOUTH SANDWICH ISLANDS REGION",
          "ALASKA PENINSULA",
          "MINDANAO",
          "BISMARCK SEA",
          "VANUATU ISLANDS",
          "PRINCE EDWARD ISLANDS REGION",
          "TANZANIA",
          "SAMAR",
          "SOUTHERN SUMATRA",
          "SOUTHERN SUMATRA",
          "BANDA SEA",
          "ASCENSION ISLAND REGION",
          "COSTA RICA",
          "NEW BRITAIN REGION",
          "NEW BRITAIN REGION",
          "CENTRAL MID-ATLANTIC RIDGE",
          "CHAGOS ARCHIPELAGO REGION",
          "NEAR COAST OF NORTHERN CHILE",
          "NEAR COAST OF CENTRAL CHILE",
          "NEAR COAST OF NORTHERN CHILE",
          "NEAR COAST OF CENTRAL CHILE",
          "VANUATU ISLANDS",
          "CENTRAL MID-ATLANTIC RIDGE",
          "MINDANAO",
          "VANUATU ISLANDS",
          "NORTHERN CHILE",
          "NEAR EAST COAST OF HONSHU",
          "KAMCHATKA PENINSULA",
          "FIJI ISLANDS",
          "CENTRAL MID-ATLANTIC RIDGE",
          "SOUTH OF AFRICA",
          "TONGA ISLANDS",
          "NEW BRITAIN REGION",
          "FIJI ISLANDS REGION",
          "EASTERN NEW GUINEA REG.",
          "SOUTH OF ALASKA",
          "SOUTH OF FIJI ISLANDS",
          "DODECANESE ISLANDS",
          "OFF COAST OF SOUTHERN CHILE",
          "SOUTH SHETLAND ISLANDS",
          "TONGA ISLANDS",
          "FIJI ISLANDS REGION",
          "MINDANAO",
          "OFF COAST OF CENTRAL CHILE",
          "PRIMOR'YE",
          "CHILE-ARGENTINA BORDER REGION",
          "FOX ISLANDS",
          "BALLENY ISLANDS REGION",
          "NORTHERN CHILE",
          "TAIWAN REGION",
          "CHILE-BOLIVIA BORDER REGION",
          "MINDANAO",
          "NEAR EAST COAST OF HONSHU",
          "W. CAROLINE ISLANDS",
          "MINDORO",
          "OFF COAST OF CENTRAL CHILE",
          "NORTHWESTERN BALKAN REGION",
          "ANDREANOF ISLANDS",
          "KERMADEC ISLANDS REGION",
          "MINAHASSA PENINSULA",
          "KERMADEC ISLANDS",
          "VANUATU ISLANDS",
          "SALTA PROVINCE",
          "VANUATU ISLANDS",
          "RUSSIA-MONGOLIA BORDER REGION",
          "SULAWESI",
          "SAN JUAN PROVINCE",
          "PHILIPPINE ISLANDS REGION",
          "SOUTH SHETLAND ISLANDS",
          "WEST CHILE RISE",
          "MINDANAO",
          "BISMARCK SEA",
          "SOUTHEAST OF LOYALTY ISLANDS",
          "SOUTHWEST OF SUMATRA",
          "SOUTHEAST OF LOYALTY ISLANDS",
          "SOUTHEAST OF LOYALTY ISLANDS",
          "SOUTHEAST OF LOYALTY ISLANDS",
          "SOUTHEAST OF LOYALTY ISLANDS",
          "SOUTHEAST OF LOYALTY ISLANDS",
          "NEAR EAST COAST OF HONSHU",
          "VANUATU ISLANDS",
          "TONGA ISLANDS REGION",
          "SOUTHEAST OF LOYALTY ISLANDS",
          "VANUATU ISLANDS",
          "FIJI ISLANDS REGION",
          "GREECE",
          "OFF E. COAST OF N. ISLAND",
          "VANUATU ISLANDS",
          "KERMADEC ISLANDS",
          "KERMADEC ISLANDS",
          "KERMADEC ISLANDS REGION",
          "KERMADEC ISLANDS REGION",
          "KERMADEC ISLANDS REGION",
          "KERMADEC ISLANDS REGION",
          "OFF E. COAST OF N. ISLAND",
          "KERMADEC ISLANDS REGION",
          "KERMADEC ISLANDS REGION",
          "KERMADEC ISLANDS REGION",
          "KERMADEC ISLANDS REGION",
          "KERMADEC ISLANDS REGION",
          "SOUTH SANDWICH ISLANDS REGION",
          "OFF EAST COAST OF KAMCHATKA",
          "NORTHERN ALGERIA",
          "NORTHERN MID-ATLANTIC RIDGE",
          "WEST OF MACQUARIE ISLAND",
          "NEAR EAST COAST OF HONSHU",
          "KERMADEC ISLANDS",
          "FIJI ISLANDS REGION",
          "EAST OF SOUTH SANDWICH ISLANDS",
          "OFF E. COAST OF N. ISLAND",
          "KERMADEC ISLANDS REGION",
          "JAVA",
          "CELEBES SEA",
          "NEAR N COAST OF NEW GUINEA",
          "OFF W COAST OF NORTHERN SUMATRA",
          "FIJI ISLANDS REGION",
          "FIJI ISLANDS REGION",
          "NEAR N COAST OF NEW GUINEA",
          "NORTHEASTERN INDIA",
          "KERMADEC ISLANDS REGION",
          "NEAR EAST COAST OF HONSHU",
          "WEST OF MACQUARIE ISLAND",
          "FIJI ISLANDS REGION",
          "NEAR COAST OF GUATEMALA",
          "MAURITIUS - REUNION REGION",
          "SOUTH OF PANAMA",
          "NEAR EAST COAST OF HONSHU",
          "OFF W COAST OF NORTHERN SUMATRA",
          "SOUTHERN EAST PACIFIC RISE",
          "YUNNAN",
          "QINGHAI",
          "FIJI ISLANDS REGION",
          "CENTRAL ALASKA",
          "NORTHERN MOLUCCA SEA",
          "KERMADEC ISLANDS",
          "FIJI ISLANDS REGION",
          "NEAR COAST OF CENTRAL CHILE",
          "CALIFORNIA-NEVADA BORDER REGION",
          "SOUTH OF PANAMA",
          "BISMARCK SEA",
          "SOUTH OF PANAMA",
          "MINDORO",
          "KERMADEC ISLANDS REGION",
          "MINAHASSA PENINSULA",
          "ALASKA PENINSULA",
          "PERU-ECUADOR BORDER REGION",
          "NICOBAR ISLANDS",
          "SOUTH SANDWICH ISLANDS REGION",
          "SOUTH SANDWICH ISLANDS REGION",
          "SOUTH SANDWICH ISLANDS REGION",
          "SOUTH SANDWICH ISLANDS REGION",
          "SOUTH SANDWICH ISLANDS REGION",
          "ALASKA PENINSULA",
          "HAITI REGION",
          "SOUTH SANDWICH ISLANDS REGION",
          "SOUTH SANDWICH ISLANDS REGION",
          "VANUATU ISLANDS",
          "SOUTH SANDWICH ISLANDS REGION",
          "SOUTH SANDWICH ISLANDS REGION",
          "SOUTH SANDWICH ISLANDS REGION",
          "KURIL ISLANDS",
          "KERMADEC ISLANDS",
          "FIJI ISLANDS REGION",
          "NEAR COAST OF GUERRERO",
          "CHILE-ARGENTINA BORDER REGION",
          "KURIL ISLANDS",
          "NEAR COAST OF CENTRAL CHILE",
          "NEAR COAST OF NICARAGUA",
          "ANDREANOF ISLANDS",
          "CRETE",
          "EAST OF KURIL ISLANDS",
          "SEA OF JAPAN",
          "VANUATU ISLANDS REGION",
          "MID-INDIAN RIDGE",
          "SOUTH SANDWICH ISLANDS REGION",
          "VANUATU ISLANDS REGION",
          "HAWAII",
          "ALASKA PENINSULA",
          "CRETE",
          "SOLOMON ISLANDS",
          "VANUATU ISLANDS",
          "SOUTH OF FIJI ISLANDS",
          "TAIWAN",
          "SOUTH SANDWICH ISLANDS REGION",
          "OFF W COAST OF NORTHERN SUMATRA",
          "SOUTHERN MOLUCCA SEA",
          "NEAR COAST OF NICARAGUA",
          "SOUTHEAST OF RYUKYU ISLANDS",
          "SOUTHEAST OF RYUKYU ISLANDS",
          "IRIAN JAYA REGION",
          "SOUTHERN IRAN",
          "SOUTHERN IRAN",
          "SOUTH INDIAN OCEAN",
          "NEW IRELAND REGION",
          "SANTA CRUZ ISLANDS",
          "MYANMAR-INDIA BORDER REGION",
          "NORTHERN PERU",
          "SOUTHEAST OF HONSHU",
          "SOUTHEAST OF HONSHU",
          "NEW IRELAND REGION",
          "NEW IRELAND REGION",
          "EASTER ISLAND REGION",
          "NORTH OF HALMAHERA",
          "RYUKYU ISLANDS",
          "WEST OF MACQUARIE ISLAND",
          "FLORES SEA",
          "SOUTH SANDWICH ISLANDS REGION",
          "PRINCE EDWARD ISLANDS REGION",
          "FIJI ISLANDS",
          "SOUTH SANDWICH ISLANDS REGION",
          "NEAR COAST OF NORTHERN CALIF.",
          "OFF COAST OF JALISCO",
          "FIJI ISLANDS REGION",
          "BANDA SEA",
          "VANUATU ISLANDS",
          "TAIWAN REGION",
          "BANDA SEA",
          "NEAR COAST OF NICARAGUA",
          "QINGHAI",
          "SOUTH OF KERMADEC ISLANDS",
          "NORTHERN MID-ATLANTIC RIDGE",
          "CYPRUS REGION",
          "FOX ISLANDS",
          "FOX ISLANDS",
          "SUNDA STRAIT",
          "SOLOMON ISLANDS",
          "SHIKOKU",
          "TALAUD ISLANDS",
          "FOX ISLANDS",
          "SOUTH SANDWICH ISLANDS REGION",
          "FIJI ISLANDS REGION",
          "SOUTH OF PANAMA",
          "KERMADEC ISLANDS REGION",
          "BANDA SEA",
          "NORTHERN PERU",
          "SOUTHEAST INDIAN RIDGE",
          "CENTRAL MID-ATLANTIC RIDGE",
          "SOUTH OF MARIANA ISLANDS",
          "GUATEMALA",
          "SOUTH OF FIJI ISLANDS",
          "BALLENY ISLANDS REGION",
          "JUJUY PROVINCE",
          "NORTHERN SUMATRA",
          "KERMADEC ISLANDS",
          "SOUTH SANDWICH ISLANDS REGION",
          "FIJI ISLANDS REGION",
          "LUZON",
          "LUZON",
          "SOUTHERN SUMATRA",
          "NEAR EAST COAST OF HONSHU",
          "NEAR EAST COAST OF HONSHU",
          "SOUTH OF FIJI ISLANDS",
          "KERMADEC ISLANDS REGION",
          "NORTHERN MID-ATLANTIC RIDGE",
          "TAIWAN",
          "VANUATU ISLANDS",
          "SOUTHEAST OF LOYALTY ISLANDS",
          "SOUTHEAST OF LOYALTY ISLANDS",
          "SOUTHEAST OF LOYALTY ISLANDS",
          "VANUATU ISLANDS",
          "VANUATU ISLANDS",
          "NEW BRITAIN REGION",
          "VANUATU ISLANDS",
          "MINDANAO",
          "MINDANAO",
          "NEAR COAST OF NICARAGUA",
          "BISMARCK SEA",
          "PHILIPPINE ISLANDS REGION",
          "TAIWAN REGION",
          "BISMARCK SEA",
          "JUJUY PROVINCE",
          "MACQUARIE ISLAND REGION",
          "LUZON",
          "SOUTH OF FIJI ISLANDS",
          "OFF EAST COAST OF HONSHU",
          "CENTRAL PERU",
          "SOUTHEAST OF LOYALTY ISLANDS",
          "SOUTHERN EAST PACIFIC RISE",
          "TIMOR REGION",
          "TONGA ISLANDS",
          "WEST OF MACQUARIE ISLAND",
          "RAT ISLANDS",
          "PERU-BRAZIL BORDER REGION",
          "SOUTHEASTERN AFGHANISTAN",
          "PHILIPPINE ISLANDS REGION"
         ],
         "lat": [
          -13.6098,
          39.6611,
          11.1664,
          -22.2789,
          -38.0635,
          52.7536,
          -5.9807,
          -6.0444,
          52.8204,
          -5.9808,
          3.0029,
          6.7113,
          6.4232,
          6.7403,
          6.1711,
          6.5583,
          52.4218,
          1.2978,
          -5.5179,
          51.3848,
          -5.8249,
          46.0031,
          -17.5345,
          -1.2779,
          12.4748,
          12.3454,
          12.2011,
          -5.7825,
          -17.8076,
          -20.8416,
          12.247,
          -6.5338,
          2.1984,
          18.5693,
          51.6273,
          -43.3608,
          -17.4526,
          -15.8867,
          -20.7545,
          -37.0545,
          36.5352,
          -5.2995,
          -4.9188,
          -4.9863,
          24.2175,
          51.3459,
          51.4225,
          2.7637,
          24.7878,
          -3.5248,
          -3.0065,
          -57.116,
          -4.6494,
          -20.519,
          -45.5992,
          -54.8356,
          -6.0155,
          28.3941,
          -15.8273,
          -6.1002,
          -56.4318,
          -6.5265,
          -7.2664,
          28.3681,
          26.8989,
          26.7742,
          52.9769,
          -63.5725,
          -19.8371,
          -23.4129,
          -19.7784,
          -26.8513,
          -38.3907,
          -22.2946,
          -19.2745,
          -19.3639,
          26.967,
          -20.6042,
          -20.6703,
          -5.1037,
          2.5751,
          28.6831,
          38.4018,
          2.165,
          28.151,
          70.8684,
          -21.9987,
          24.6094,
          -7.0927,
          4.1297,
          4.0464,
          -36.4604,
          -37.2361,
          -37.0037,
          -20.8515,
          -35.4868,
          -2.4897,
          55.8366,
          -26.0435,
          -43.4935,
          17.8214,
          -29.6428,
          -18.2064,
          -56.3864,
          -56.41,
          -10.3299,
          38.4407,
          38.2797,
          38.2992,
          38.2422,
          -6.1161,
          -6.8567,
          38.2963,
          37.31,
          37.5085,
          37.2979,
          37.6702,
          38.1298,
          39.0121,
          36.3894,
          38.9847,
          36.08,
          37.8839,
          37.215,
          37.9001,
          36.2274,
          36.0692,
          36.0675,
          38.3562,
          39.0176,
          38.051,
          37.8634,
          37.476,
          37.42,
          37.9801,
          37.2943,
          35.7965,
          37.3742,
          36.5753,
          38.0131,
          36.8615,
          38.9995,
          37.3577,
          36.607,
          37.0848,
          36.1862,
          37.3842,
          38.0146,
          37.4456,
          39.1383,
          39.2163,
          39.2219,
          35.9967,
          36.368,
          36.9993,
          39.3263,
          38.8,
          40.4044,
          39.0114,
          37.5898,
          37.2373,
          35.7263,
          37.7805,
          37.5873,
          35.3092,
          40.3505,
          -17.2434,
          40.1677,
          19.0747,
          37.216,
          37.3717,
          39.8638,
          20.6298,
          38.7487,
          -15.9229,
          38.3796,
          37.4403,
          -16.5479,
          38.9178,
          35.7317,
          -17.6066,
          -9.7342,
          17.2651,
          38.2513,
          30.0156,
          36.9529,
          35.4387,
          39.5855,
          -34.286,
          35.6424,
          -10.3584,
          39.1697,
          -4.4806,
          6.8511,
          38.2011,
          -20.3347,
          10.1114,
          37.4007,
          36.4257,
          0.4584,
          -6.066,
          -37.5547,
          37.3045,
          -55.8442,
          -43.5042,
          2.5446,
          -5.8845,
          -21.771,
          -11.4834,
          39.9763,
          51.9805,
          -10.9263,
          -2.3891,
          -29.3073,
          -29.2797,
          38.0553,
          9.5277,
          -60.9862,
          -33.8756,
          54.7716,
          40.1562,
          -10.3075,
          38.914,
          37.7399,
          -3.1908,
          25.09,
          -23.7284,
          36.9645,
          -17.0859,
          -3.5147,
          34.671,
          48.767,
          -7.1029,
          -2.3027,
          36.788,
          -16.5461,
          37.6698,
          -18.2774,
          -18.3179,
          -18.3312,
          -6.3564,
          -7.6203,
          -18.2161,
          -6.3592,
          -12.4548,
          52.1018,
          -28.4135,
          -56.5611,
          -20.6279,
          -15.2459,
          3.0253,
          -49.5923,
          49.3886,
          52.9685,
          -35.1395,
          36.2643,
          -21.593,
          40.2958,
          40.2313,
          27.8039,
          -15.4477,
          -32.4215,
          -9.3634,
          -6.6259,
          54.0736,
          -5.7682,
          43.8729,
          -28.8809,
          38.7294,
          38.5893,
          -17.9419,
          -14.5572,
          19.8381,
          -55.1068,
          11.6918,
          27.2502,
          -55.9968,
          -0.953,
          -1.7479,
          -15.3083,
          37.3769,
          41.8917,
          -5.5101,
          15.4295,
          -27.9324,
          17.9024,
          -56.049,
          0.0473,
          -7.5278,
          -16.112,
          51.8349,
          31.4682,
          -10.5892,
          2.4307,
          -60.701,
          -60.8685,
          14.933,
          -56.9317,
          -36.4552,
          -24.8986,
          -14.2139,
          -17.7532,
          -17.421,
          -18.9862,
          -17.9957,
          9.9194,
          9.8996,
          -18.012,
          -10.371,
          -24.6232,
          51.8008,
          -22.1221,
          -28.2579,
          -19.2236,
          40.842,
          40.8021,
          35.7476,
          -5.5834,
          -3.8333,
          16.4734,
          -6.2233,
          -35.2035,
          10.0652,
          39.8566,
          16.3729,
          -4.4789,
          2.2376,
          1.2181,
          0.7675,
          43.5513,
          18.2042,
          28.8579,
          28.8386,
          -57.5759,
          -18.9878,
          2.581,
          -32.6374,
          -5.5336,
          -59.1876,
          -1.6946,
          -1.6998,
          -28.6015,
          -18.7293,
          14.4544,
          -17.7968,
          -44.6403,
          44.873,
          39.5047,
          41.3569,
          -50.4928,
          73.0279,
          26.9015,
          -28.021,
          -22.1017,
          5.2944,
          5.4503,
          34.9765,
          -36.0516,
          -15.9117,
          36.3847,
          15.5423,
          38.9159,
          53.2638,
          3.0022,
          57.5012,
          43.4335,
          -40.06,
          -14.6567,
          45.4209,
          49.2472,
          2.6255,
          -9.669,
          -17.5507,
          -4.654,
          -8.454,
          -4.6627,
          52.4716,
          38.4023,
          38.3798,
          35.6526,
          49.75,
          -1.3518,
          -4.8489,
          2.1983,
          12.1318,
          71.4464,
          10.8107,
          -10.677,
          -12.5373,
          10.0242,
          -3.2181,
          49.2976,
          -3.3008,
          24.7742,
          51.5408,
          1.9079,
          39.8235,
          25.0882,
          -4.5414,
          -60.6414,
          -4.8858,
          4.1791,
          -13.573,
          10.0745,
          52.6777,
          52.5384,
          52.145,
          9.235,
          14.0318,
          49.1261,
          -8.9367,
          22.8908,
          14.0705,
          57.557,
          -45.669,
          -29.1789,
          18.1995,
          49.2365,
          -5.7528,
          -3.592,
          -17.0957,
          37.8201,
          37.9116,
          -38.3574,
          -6.4969,
          0.5606,
          31.1122,
          52.2361,
          -4.6402,
          -0.6936,
          -14.3591,
          55.2347,
          -62.5094,
          4.9625,
          42.5824,
          -28.1096,
          -10.6598,
          -10.6377,
          -11.1624,
          -11.0263,
          -11.1551,
          42.7847,
          -10.7807,
          -10.864,
          -11.2569,
          -10.5087,
          -10.8605,
          -11.2312,
          -11.7566,
          -11.0207,
          -10.8703,
          -10.8933,
          1.0345,
          -10.9577,
          -10.9733,
          67.5173,
          5.7785,
          -27.9052,
          50.7866,
          50.9049,
          50.8322,
          -6.6966,
          -58.9815,
          50.6623,
          -20.8706,
          14.5905,
          23.8815,
          39.5072,
          42.7359,
          -3.4714,
          28.4463,
          -19.103,
          -6.5017,
          27.9704,
          -3.2237,
          46.0722,
          49.9301,
          30.2688,
          -6.2786,
          50.0079,
          29.9644,
          18.0412,
          -3.8359,
          -28.7301,
          26.6583,
          -17.9392,
          18.7672,
          37.7604,
          -45.0062,
          52.414,
          52.2164,
          -23.0783,
          -20.6244,
          54.815,
          52.1357,
          23.8318,
          -11.4032,
          -9.9513,
          -33.9023,
          34.4507,
          11.7418,
          34.4242,
          10.6905,
          4.6907,
          -7.0042,
          -3.294,
          -4.0134,
          -6.036,
          -61.0527,
          -15.6661,
          -41.6856,
          34.5047,
          -46.0946,
          -23.1593,
          -15.3205,
          -58.0352,
          -15.2651,
          -7.1167,
          -30.6243,
          -5.4117,
          5.718,
          -41.7685,
          -34.8867,
          16.8572,
          -27.7888,
          51.5001,
          51.2897,
          -7.5393,
          51.0979,
          29.9768,
          51.1711,
          51.4813,
          51.5201,
          15.2518,
          20.1862,
          14.6678,
          -4.591,
          51.4857,
          -7.2679,
          26.9109,
          -49.9853,
          -15.9001,
          27.1617,
          -30.8752,
          53.1368,
          -38.707,
          12.2738,
          -36.6341,
          48.55,
          -30.729,
          10.8358,
          35.5277,
          9.8331,
          -6.4787,
          25.9612,
          -22.9722,
          -58.2594,
          37.1457,
          -61.7154,
          -35.4018,
          23.5436,
          -30.3139,
          -23.6356,
          -19.3532,
          4.6415,
          54.6769,
          -60.3091,
          -60.3079,
          -60.3783,
          2.7153,
          18.4629,
          -17.1613,
          45.4838,
          -53.9716,
          -7.0288,
          2.0171,
          44.4691,
          20.736,
          -13.8767,
          18.9922,
          -40.6371,
          -15.2955,
          -8.0446,
          38.191,
          -56.9339,
          -32.9594,
          38.2552,
          -15.0764,
          35.8767,
          14.596,
          53.5668,
          12.5888,
          27.4238,
          14.244,
          -14.835,
          40.7235,
          -5.538,
          -60.8439,
          -3.1902,
          33.6222,
          -14.1014,
          -5.6717,
          -19.9051,
          -20.06,
          7.6804,
          -19.8225,
          -19.7033,
          -26.1642,
          -12.1378,
          -19.6193,
          -19.962,
          7.851,
          -20.3644,
          -20.5887,
          -20.7493,
          -20.6075,
          -10.4868,
          12.4342,
          -20.6954,
          -6.6064,
          -6.8257,
          11.7198,
          -7.1283,
          -11.2581,
          -11.4669,
          -11.1251,
          -53.609,
          -62.8759,
          -11.1795,
          17.3211,
          -6.6474,
          -6.708,
          -7.0867,
          49.6483,
          -20.7344,
          -21.4381,
          -24.7338,
          -25.9072,
          34.8781,
          19.6152,
          -36.376,
          -7.0145,
          17.1486,
          -18.935,
          17.0579,
          -49.9255,
          7.1451,
          6.3681,
          6.3995,
          9.3491,
          4.2401,
          18.2405,
          40.2763,
          18.6938,
          -10.1131,
          -13.6006,
          -30.0038,
          -30.1376,
          -29.9857,
          51.7028,
          51.9569,
          51.9395,
          51.9553,
          52.0093,
          24.4506,
          -55.4757,
          -55.4186,
          -15.1011,
          -15.2351,
          28.3906,
          -62.3014,
          -62.31,
          -30.4601,
          -30.35,
          -6.2304,
          1.9335,
          14.724,
          -17.6864,
          -17.79,
          37.0052,
          36.97,
          5.7144,
          5.72,
          60.2995,
          -15.8239,
          -15.64,
          11.7093,
          44.6419,
          -19.8015,
          58.3062,
          23.86,
          17.81,
          -3.422,
          -3.34,
          0.8323,
          29.4507,
          27.217,
          -7.2741,
          -7.13,
          41.134,
          41.2001,
          32.711,
          32.5827,
          -32.6953,
          38.201,
          -14.52,
          -14.589,
          -26.7375,
          -21.5167,
          -26.9007,
          18.778,
          -0.2248,
          13.819,
          -23.7849,
          -9.4478,
          61.9863,
          -6.0426,
          23.3434,
          23.7886,
          -32.2989,
          -32.1606,
          41.0615,
          12.5893,
          -15.411,
          -31.9801,
          -19.8023,
          -61.261,
          -41.824,
          -6.027,
          46.93,
          -15.2636,
          1.834,
          -37.5989,
          -46.4072,
          2.2707,
          30.314,
          36.638,
          1.9648,
          6.1572,
          7.9824,
          -6.11,
          -6.5108,
          13.9741,
          7.9401,
          25.5403,
          11.645,
          37.4017,
          2.051,
          6.5189,
          7.958,
          8.6341,
          -20.295,
          -35.718,
          6.1087,
          -17.064,
          -20.9998,
          -21.396,
          -1.5827,
          -32.6484,
          -23.0653,
          52.5097,
          22.6103,
          -55.5186,
          39.9468,
          -10.7948,
          -16.4423,
          39.8189,
          39.8287,
          18.5597,
          -7.358,
          -0.7195,
          -41.3165,
          6.7968,
          -0.6168,
          1.6716,
          -36.1112,
          -17.9137,
          -18.3544,
          -4.7758,
          -15.4713,
          -15.4394,
          -15.5745,
          -4.9263,
          -15.3365,
          35.1952,
          -16.0488,
          24.0574,
          23.9819,
          -12.0844,
          -42.1047,
          51.642,
          28.1302,
          27.6342,
          28.1603,
          27.7365,
          -20.8766,
          -5.3537,
          -5.1981,
          -5.396,
          -5.5168,
          32.261,
          -7.3019,
          27.8014,
          27.5248,
          38.9005,
          -2.566,
          -54.385,
          -19.3863,
          -10.9253,
          -11.1336,
          -11.1646,
          -16.8146,
          -19.4781,
          56.7079,
          27.8281,
          -15.7607,
          30.7933,
          6.0439,
          41.5071,
          -22.4098,
          -15.6082,
          -20.3973,
          -35.3709,
          -36.3349,
          -20.4655,
          27.6883,
          -5.3924,
          37.4703,
          10.1385,
          43.9697,
          -9.3539,
          13.8008,
          -10.4574,
          52.2759,
          -2.7134,
          59.9722,
          -26.6318,
          -9.2843,
          -9.3071,
          -37.0222,
          -10.9382,
          -30.6497,
          31.1806,
          -24.2427,
          -32.8199,
          52.0985,
          24.913,
          1.88,
          1.8841,
          -6.0114,
          -31.5729,
          -31.618,
          -31.7502,
          -31.6,
          -31.5622,
          -31.1043,
          -31.4244,
          -31.52,
          -31.5173,
          -32.3681,
          15.2767,
          -29.6411,
          -32.33,
          -32.3335,
          -31.58,
          -31.5757,
          -31.7275,
          -31.44,
          -31.4441,
          -0.62,
          -0.6212,
          -30.8148,
          -23.8,
          -54.4856,
          48.86,
          48.8595,
          -16.2018,
          -14.8595,
          -54.2258,
          -45.81,
          -45.8146,
          36.5244,
          -8.3381,
          -29.4642,
          -30.8796,
          6.8431,
          51.6394,
          -29.5067,
          -29.5097,
          31.0009,
          38.67,
          -8.8994,
          -7.1484,
          18.7787,
          -10.5372,
          -10.0598,
          -9.1825,
          -24.828,
          -47.6165,
          38.2107,
          -4.1064,
          -16.7374,
          15.8009,
          -18.3819,
          3.6455,
          -55.755,
          36.4935,
          -50.5575,
          24.83,
          24.8036,
          -54.2906,
          3.8966,
          44.4761,
          -19.7597,
          41.9723,
          18.8288,
          59.6204,
          35.6493,
          54.0057,
          -63.2868,
          -30.7636,
          22.9387,
          -6.6214,
          -30.5723,
          -9.6338,
          -55.7848,
          0.8451,
          -51.7897,
          -4.9521,
          51.5648,
          51.5145,
          17.996,
          54.294,
          -3.3585,
          57.008,
          -14.3235,
          -14.0683,
          -8.2036,
          -13.9805,
          36.4725,
          23.0944,
          7.7917,
          32.788,
          32.6973,
          -14.5284,
          13.4008,
          32.7906,
          0.3819,
          -55.7283,
          0.639,
          0.7079,
          -0.2921,
          14.479,
          14.5178,
          -16.0429,
          10.2752,
          0.4261,
          0.4947,
          -25.5655,
          -20.8101,
          -21.9724,
          -56.2409,
          25.5615,
          -2.0967,
          -4.587,
          -30.0235,
          18.3637,
          1.2789,
          -11.2487,
          12.8318,
          -8.6757,
          -18.7609,
          -20.2793,
          -20.2072,
          22.6582,
          -3.4199,
          39.4793,
          -16.0558,
          -15.083,
          0.5812,
          -28.0052,
          -18.9285,
          -26.1049,
          -2.969,
          18.5439,
          -22.3087,
          24.9447,
          -22.4778,
          -25.1679,
          -55.2793,
          40.3564,
          40.2933,
          -55.2775,
          -7.2805,
          42.723,
          20.9224,
          -0.0471,
          -3.6914,
          -37.3586,
          -37.0522,
          54.4153,
          -54.6136,
          -5.573,
          7.3736,
          -9.329,
          -2.0829,
          30.5017,
          34.4619,
          6.5717,
          -18.1706,
          -19.7819,
          -4.2701,
          -6.0526,
          -4.8626,
          35.3676,
          -15.54,
          42.9343,
          42.8547,
          -35.1033,
          38.4973,
          -42.7245,
          -42.2377,
          -42.1762,
          -42.2972,
          -42.6058,
          -31.6428,
          37.3917,
          11.9597,
          39.23,
          -15.2943,
          52.2436,
          -7.3158,
          5.2834,
          40.4753,
          -10.676,
          -10.8416,
          -10.748,
          -5.6598,
          21.2897,
          -4.5049,
          -5.6497,
          -10.2273,
          8.3489,
          -9.9661,
          -10.2254,
          -7.5082,
          -5.2453,
          -43.4053,
          -9.0279,
          -23.2513,
          -19.3542,
          74.3918,
          4.4634,
          -10.1255,
          -10.3433,
          -6.2145,
          25.2011,
          9.9071,
          -23.8613,
          -19.2814,
          -23.2601,
          -7.3277,
          -5.9945,
          6.1292,
          -8.1364,
          52.7978,
          56.938,
          -22.6784,
          35.7999,
          -23.2706,
          -18.0851,
          -33.0361,
          -33.0291,
          5.5046,
          59.8298,
          59.8295,
          39.4996,
          51.7545,
          24.4494,
          -14.5884,
          -56.4277,
          12.9108,
          -4.0217,
          9.3849,
          -1.2872,
          54.0291,
          38.9154,
          14.9823,
          -30.5139,
          -24.0934,
          13.7527,
          -19.6664,
          -30.3103,
          -31.106,
          -0.2882,
          11.1111,
          -49.4802,
          -4.7722,
          54.5825,
          54.4715,
          -16.4206,
          -17.4154,
          36.9249,
          26.8975,
          13.396,
          33.1926,
          44.3014,
          13.9987,
          -3.7682,
          -1.0907,
          -17.9609,
          -1.4513,
          -1.159,
          41.3343,
          -57.7886,
          27.7829,
          15.0356,
          18.5678,
          -50.371,
          37.9814,
          -18.7854,
          16.7732,
          -23.7135,
          37.5033,
          -18.9903,
          -61.7431,
          52.4496,
          -18.5212,
          -54.2584,
          -20.5914,
          -7.2364,
          -21.6645,
          -3.7404,
          -21.7305,
          -21.6689,
          -21.7928,
          -15.3197,
          -4.2433,
          32.5208,
          -11.7424,
          34.9052,
          9.5147,
          29.8327,
          -21.654,
          -21.5112,
          -21.3337,
          -21.5115,
          -14.7255,
          -4.5778,
          -1.0802,
          30.7431,
          -6.1131,
          -0.4895,
          10.1164,
          10.009,
          10.0928,
          30.7196,
          30.8226,
          -54.2177,
          -7.4921,
          17.4743,
          18.3629,
          -15.7589,
          26.6795,
          -18.8524,
          -7.1958,
          56.0464,
          41.1034,
          55.5419,
          -3.5138,
          -53.0623,
          36.5432,
          -16.645,
          -65.8111,
          24.1572,
          24.1359,
          13.8205,
          16.3887,
          -6.0529,
          -6.4274,
          -2.7629,
          -6.5052,
          -60.2494,
          -6.1673,
          -6.3327,
          -6.2933,
          -4.3853,
          -5.4959,
          -45.7783,
          -6.6247,
          -5.4617,
          -5.4954,
          -24.8965,
          -20.6588,
          6.8325,
          -5.8411,
          -30.9862,
          1.4083,
          -42.7797,
          -24.2596,
          19.3127,
          14.5708,
          -5.8916,
          36.9916,
          -34.5893,
          -17.7964,
          51.4994,
          -30.5668,
          -18.9332,
          14.0625,
          13.8484,
          -11.5936,
          -6.1139,
          -7.1221,
          -8.2395,
          -8.2597,
          69.5619,
          69.5205,
          -58.1107,
          51.4215,
          23.4226,
          -7.4263,
          8.7694,
          -18.1125,
          -18.4447,
          -8.3298,
          -16.9783,
          -8.3303,
          10.7791,
          -16.0248,
          43.6449,
          51.5106,
          -11.0424,
          34.6111,
          -10.8859,
          16.8044,
          -22.0663,
          42.6861,
          -18.4952,
          -2.3453,
          7.2369,
          -10.0207,
          -31.7447,
          -21.988,
          -25.421,
          -37.811,
          -0.3991,
          -0.1781,
          -18.3465,
          -10.5574,
          49.3941,
          -7.453,
          -5.7498,
          -5.7078,
          -4.9624,
          49.2902,
          52.8549,
          -21.9362,
          -21.726,
          49.2496,
          49.3468,
          49.3142,
          37.5148,
          12.9489,
          -57.4045,
          -39.0541,
          -19.5882,
          7.7518,
          71.6264,
          -20.4538,
          15.5653,
          55.6324,
          -56.7065,
          -56.2363,
          -10.5489,
          -17.8735,
          13.1817,
          34.3464,
          61.3464,
          -7.3841,
          -21.9814,
          -21.9568,
          -22.0502,
          -58.5981,
          -55.6764,
          -3.9226,
          -36.1378,
          55.0999,
          -13.394,
          -20.2873,
          55.4171,
          5.8983,
          54.4266,
          -8.1486,
          2.2414,
          30.5926,
          -13.3312,
          -3.2525,
          -19.2079,
          -30.071,
          -10.3113,
          -10.4663,
          -43.1219,
          -7.0194,
          -21.0475,
          14.7628,
          -2.8458,
          -2.8834,
          19.02,
          35.4215,
          -3.3412,
          -2.199,
          -14.7016,
          -32.0238,
          10.384,
          -17.8512,
          -10.1395,
          -17.8744,
          -15.5965,
          4.5629,
          1.6617,
          50.5022,
          -5.7003,
          -1.944,
          -18.2058,
          52.1675,
          -55.9206,
          -6.8492,
          -58.6064,
          40.4096,
          -1.8518,
          23.9888,
          -51.0555,
          14.9236,
          -56.2633,
          11.8458,
          -24.7059,
          10.8649,
          -6.928,
          -6.973,
          31.7719,
          8.6227,
          -4.081,
          -21.6619,
          -21.7384,
          -21.6074,
          51.3078,
          -5.8132,
          13.1462,
          -21.7541,
          6.2643,
          -21.2091,
          29.0623,
          -30.0557,
          -21.1807,
          -30.644,
          -31.069,
          -30.9381,
          38.637,
          -30.6004,
          -2.243,
          -30.8598,
          -2.7756,
          -6.4078,
          56.208,
          56.1779,
          8.449,
          -30.3859,
          19.8515,
          -15.4376,
          51.2215,
          35.705167,
          35.7695,
          0.5126,
          -4.6408,
          29.3533,
          -18.2237,
          -0.529,
          -5.9904,
          -61.2936,
          20.8436,
          33.1461,
          -16.1985,
          -34.2367,
          -49.7307,
          -7.2668,
          37.7597,
          -11.3537,
          -50.3302,
          -14.2896,
          -60.2152,
          43.5436,
          -20.3599,
          -6.0708,
          19.077,
          -33.8146,
          -3.46,
          -40.8152,
          -30.1755,
          5.6929,
          -35.4756,
          6.7138,
          -19.0184,
          -1.0987,
          6.7587,
          6.9079,
          -55.6659,
          -31.8362,
          -18.5747,
          -57.9643,
          -13.8056,
          -13.7208,
          -21.9688,
          -18.8857,
          1.6199,
          1.5673,
          13.8855,
          53.1633,
          19.4533,
          1.6436,
          51.3809,
          41.5149,
          35.7272,
          51.1862,
          -18.5597,
          -19.0677,
          -15.2838,
          -14.3628,
          6.6969,
          36.545,
          50.6077,
          50.5169,
          -26.9915,
          3.5273,
          50.6081,
          -25.2226,
          2.3481,
          17.8672,
          -5.2046,
          62.358,
          -2.8617,
          39.8353,
          -0.1042,
          -59.2287,
          51.9836,
          38.3897,
          51.1338,
          -10.0929,
          19.418,
          18.9437,
          -10.418,
          -6.0817,
          5.469,
          -59.9212,
          -5.4925,
          45.6313,
          38.4933,
          -27.3664,
          -16.0252,
          -13.1364,
          -11.0521,
          -4.6744,
          48.9688,
          5.5779,
          44.4603,
          1.4204,
          -36.9637,
          -30.3889,
          16.9332,
          27.1271,
          38.8962,
          -6.4943,
          34.2045,
          -6.7949,
          -4.4543,
          -12.0662,
          38.1689,
          22.4152,
          -17.1569,
          -15.3164,
          -23.2955,
          -24.6914,
          2.9231,
          -15.7726,
          28.8591,
          18.9317,
          -33.2938,
          66.381,
          0.0368,
          15.8829,
          35.5948,
          12.0787,
          -5.5956,
          -7.8386,
          11.984,
          -15.2462,
          -20.8045,
          55.0298,
          54.9322,
          33.1463,
          -60.7812,
          54.8674,
          7.2781,
          -3.1912,
          -16.0919,
          -41.6794,
          -7.3327,
          12.0257,
          -4.3259,
          -4.2069,
          -6.6869,
          -7.1843,
          9.5996,
          -5.5603,
          -5.5454,
          0.7821,
          -4.0158,
          -27.9728,
          -28.0385,
          -27.9154,
          -30.3501,
          -17.1562,
          7.6929,
          6.2693,
          -17.1086,
          -21.3957,
          38.7513,
          55.9704,
          -15.095,
          0.9167,
          -48.0314,
          -19.5385,
          -6.0867,
          -18.0101,
          -6.114,
          54.6093,
          -25.64,
          37.9175,
          -44.4106,
          -62.2446,
          -15.2735,
          -19.6815,
          8.7567,
          -34.5982,
          48.2521,
          -24.3318,
          52.7516,
          -61.9496,
          -20.3662,
          24.7632,
          -21.8063,
          5.1775,
          40.8667,
          6.2544,
          13.8196,
          -39.3374,
          45.425,
          51.2327,
          -28.8796,
          0.0661,
          -29.4779,
          -20.7367,
          -24.0412,
          -16.0347,
          51.2774,
          -2.9711,
          -31.8304,
          5.0054,
          -61.8117,
          -36.2797,
          6.7492,
          -3.3226,
          -22.8357,
          -5.6783,
          -22.7405,
          -23.0508,
          -22.8106,
          -23.1944,
          -23.4143,
          37.7602,
          -17.8192,
          -17.8,
          -23.184,
          -18.9495,
          -14.8457,
          39.7547,
          -37.5431,
          -14.464,
          -29.6762,
          -29.7226,
          -28.3867,
          -28.4843,
          -28.749,
          -28.9144,
          -37.6099,
          -28.621,
          -28.4272,
          -28.3565,
          -28.2884,
          -28.1479,
          -59.883,
          54.7368,
          36.9202,
          47.2974,
          -59.6179,
          38.4754,
          -29.9502,
          -21.8006,
          -58.0139,
          -37.5205,
          -29.0489,
          -8.5528,
          4.1034,
          -3.4431,
          0.1887,
          -18.8773,
          -21.5917,
          -3.408,
          26.7746,
          -29.339,
          38.2296,
          -54.4068,
          -18.7443,
          13.2732,
          -17.3874,
          6.7138,
          37.7079,
          0.1364,
          -33.0647,
          25.7444,
          34.5884,
          -16.6009,
          62.4492,
          0.3164,
          -30.2162,
          -21.8115,
          -28.7299,
          38.5075,
          6.8258,
          -3.2305,
          7.3902,
          13.7007,
          -29.934,
          -0.7479,
          55.3635,
          -4.9142,
          8.8813,
          -57.5674,
          -58.4513,
          -59.9811,
          -60.3568,
          -60.4912,
          55.1733,
          18.4167,
          -58.3686,
          -58.0229,
          -14.8808,
          -59.6339,
          -60.1421,
          -60.2897,
          48.8617,
          -29.9211,
          -19.4163,
          16.9722,
          -23.8884,
          46.3971,
          -36.7771,
          12.1396,
          51.0872,
          35.2523,
          45.8,
          38.8937,
          -21.1265,
          -9.1778,
          -60.4129,
          -21.1889,
          18.820333,
          56.2584,
          35.1931,
          -8.8759,
          -13.7397,
          -25.316,
          24.511,
          -58.0382,
          0.2088,
          -0.0251,
          11.2204,
          23.5934,
          23.7,
          -4.3303,
          27.7158,
          27.7276,
          -37.5124,
          -5.3189,
          -10.7451,
          22.8217,
          -4.4528,
          31.1859,
          31.1,
          -3.5229,
          -3.5972,
          -28.4823,
          4.0932,
          29.4132,
          -60.7956,
          -7.6046,
          -60.1379,
          -47.1,
          -16.2662,
          -56.8533,
          40.390167,
          18.8469,
          -18.1104,
          -7.5465,
          -13.1864,
          23.9938,
          -4.8065,
          11.9368,
          37.8253,
          -33.7823,
          28.4926,
          35.2331,
          52.6563,
          52.6047,
          -6.8575,
          -6.4492,
          32.7437,
          3.6753,
          53.2402,
          -55.3696,
          -19.0992,
          5.4909,
          -29.568,
          -7.483,
          -4.4587,
          -48.033,
          -0.4019,
          11.7845,
          14.1827,
          -23.7682,
          -69.7825,
          -22.6656,
          0.214,
          -30.0757,
          -58.7315,
          -20.3797,
          14.0857,
          14.1,
          -0.63,
          37.6468,
          37.7302,
          -25.2976,
          -28.6575,
          10.7447,
          23.3873,
          -15.0825,
          -22.6709,
          -22.5855,
          -22.6577,
          -17.4723,
          -16.3146,
          -4.4226,
          -15.6793,
          7.2857,
          6.9686,
          11.5537,
          -3.9148,
          6.5295,
          24.0222,
          -3.352,
          -23.496,
          -54.132,
          14.0187,
          -26.2067,
          33.2279,
          -14.8942,
          -22.8434,
          -49.7722,
          -8.2486,
          -17.9665,
          -57.7326,
          52.0696,
          -9.0858,
          33.0545,
          19.0187
         ],
         "legendgroup": "",
         "lon": [
          166.6541,
          142.5792,
          146.0823,
          -68.3159,
          -73.4649,
          -169.7741,
          150.5165,
          150.6597,
          -169.5988,
          150.7497,
          128.1792,
          123.4876,
          123.5796,
          123.327,
          123.5626,
          123.3602,
          159.9224,
          126.2794,
          146.8594,
          -178.4933,
          150.7749,
          153.3012,
          168.0377,
          -77.3694,
          141.5621,
          141.5196,
          141.4826,
          148.3752,
          65.6026,
          -178.7564,
          141.5161,
          154.2374,
          96.7234,
          -107.1592,
          -176.0005,
          171.9023,
          -173.9414,
          -179.1931,
          169.9858,
          -73.5357,
          70.9695,
          133.8975,
          133.8073,
          133.775,
          125.2495,
          -175.3166,
          -175.1876,
          128.2214,
          -109.1744,
          100.1042,
          100.37,
          -142.4191,
          134.1064,
          -174.2158,
          96.3646,
          -131.5605,
          148.978,
          139.239,
          -178.7687,
          149.9248,
          -25.64,
          155.6959,
          128.7939,
          59.15,
          143.7048,
          143.6076,
          171.1047,
          -167.3744,
          167.9375,
          -179.7154,
          168.1477,
          -63.2373,
          -73.3993,
          171.6835,
          168.3791,
          168.2203,
          140.0156,
          168.5854,
          168.4717,
          102.6023,
          96.3816,
          63.9948,
          72.8467,
          96.8128,
          59.052,
          -6.9088,
          -175.5367,
          94.7347,
          155.3183,
          123.0624,
          123.0339,
          -73.1552,
          -73.4875,
          -73.1547,
          -175.5845,
          -73.1011,
          121.4687,
          162.2349,
          178.4765,
          172.713,
          -95.1708,
          -112.1246,
          -69.5006,
          -27.0253,
          -26.68,
          160.7456,
          142.9803,
          142.7003,
          142.8175,
          142.8725,
          149.7939,
          116.73,
          142.498,
          142.24,
          141.3588,
          143.4095,
          142.0447,
          142.4987,
          142.4312,
          141.9685,
          143.4632,
          141.83,
          144.3645,
          141.6791,
          143.9202,
          141.088,
          142.1388,
          141.7291,
          142.8821,
          142.4578,
          144.6297,
          144.2086,
          143.6188,
          142.6,
          142.7408,
          144.2262,
          140.9681,
          144.7599,
          141.8862,
          144.6021,
          141.8863,
          142.453,
          141.2805,
          141.5904,
          144.6323,
          141.6639,
          143.0104,
          142.7355,
          141.3108,
          143.0244,
          142.588,
          142.5316,
          141.8795,
          141.9634,
          138.542,
          142.9989,
          142.2,
          139.1538,
          142.7772,
          142.7512,
          141.297,
          141.7398,
          142.5003,
          142.3382,
          138.7209,
          143.3831,
          167.7566,
          142.3748,
          121.3065,
          144.0526,
          141.7926,
          143.5386,
          99.9178,
          141.9932,
          -179.2249,
          142.2157,
          142.3471,
          -177.3915,
          142.024,
          26.5466,
          -178.5336,
          107.7693,
          -94.1439,
          141.7296,
          131.8467,
          140.5842,
          140.7033,
          143.5608,
          179.9433,
          140.5521,
          161.2473,
          142.9387,
          122.8642,
          -82.3594,
          144.1542,
          168.2754,
          -84.1889,
          141.4566,
          70.7231,
          -25.6088,
          154.4323,
          -73.8322,
          143.9657,
          147.235,
          172.7842,
          126.4555,
          151.2013,
          -68.3834,
          165.4962,
          142.4621,
          -171.8201,
          165.9752,
          136.6608,
          -176.2572,
          -176.9594,
          143.3016,
          122.2457,
          -23.6628,
          -72.1007,
          -161.3162,
          71.5011,
          162.1389,
          141.9221,
          141.5594,
          150.7538,
          -109.5366,
          179.8252,
          141.0774,
          171.6788,
          144.9654,
          138.522,
          154.8391,
          -12.8059,
          128.0362,
          143.7765,
          -176.8522,
          141.6933,
          168.067,
          168.0913,
          168.2258,
          104.0049,
          -74.538,
          167.6056,
          126.7502,
          166.6817,
          -171.7181,
          -63.136,
          -26.9231,
          169.778,
          -173.5514,
          97.9991,
          164.231,
          -127.0648,
          172.9477,
          -178.8955,
          141.4344,
          -179.324,
          142.9239,
          143.1184,
          88.1536,
          -175.0799,
          -178.8015,
          114.5555,
          147.9311,
          123.8139,
          151.1049,
          142.5315,
          -176.0332,
          43.4465,
          43.1165,
          -179.4302,
          -76.1207,
          -109.1734,
          -128.9161,
          -85.7838,
          125.7234,
          -124.3666,
          126.8799,
          -81.7057,
          -65.1634,
          141.4629,
          142.7973,
          153.801,
          119.0982,
          -71.1344,
          -99.9298,
          -28.2135,
          123.0631,
          146.814,
          -173.7235,
          95.9643,
          138.1834,
          165.3084,
          93.2081,
          -55.8579,
          -56.0334,
          -93.1422,
          -25.2293,
          -73.1816,
          178.5999,
          -75.6584,
          167.1814,
          167.3213,
          168.9728,
          167.2275,
          123.2167,
          123.1748,
          -178.4364,
          161.1898,
          -177.2244,
          95.9804,
          170.3882,
          -63.2916,
          169.7495,
          145.0154,
          144.8561,
          140.8248,
          151.0915,
          140.263,
          -98.3694,
          146.0083,
          -72.1268,
          -104.1936,
          142.2045,
          -98.4615,
          153.5746,
          93.0144,
          91.7146,
          92.4284,
          -127.629,
          -102.8762,
          -113.0595,
          -113.127,
          -65.3721,
          168.7653,
          90.3359,
          -71.5641,
          147.125,
          -16.8077,
          134.3225,
          134.2387,
          -177.3408,
          -174.6864,
          -93.0427,
          -69.7926,
          -80.4601,
          11.2227,
          143.3862,
          142.1267,
          139.5911,
          5.5053,
          140.1681,
          -63.1134,
          -63.6574,
          -82.6322,
          -82.5631,
          141.2828,
          -70.8547,
          -72.4723,
          28.9676,
          119.6038,
          142.0492,
          171.6014,
          97.9116,
          163.4145,
          84.6125,
          173.66,
          167.3043,
          151.3906,
          156.1097,
          96.1109,
          159.8561,
          66.2905,
          153.1678,
          -74.2726,
          153.3404,
          -167.4225,
          46.838,
          46.7958,
          82.5417,
          145.3057,
          120.1275,
          144.6464,
          126.8696,
          -88.6604,
          -11.0341,
          126.8262,
          113.9646,
          166.5032,
          -85.3884,
          135.0978,
          155.6955,
          100.6703,
          -110.1836,
          -178.1844,
          -76.3716,
          143.2093,
          -109.6135,
          129.2347,
          153.9333,
          134.0822,
          124.5614,
          166.6105,
          -85.3716,
          -132.1724,
          -132.6591,
          -132.1115,
          126.2811,
          -92.0669,
          -128.5411,
          -75.0884,
          95.848,
          -92.3318,
          -142.8596,
          -77.0841,
          -71.3863,
          -100.5249,
          155.6545,
          151.6402,
          145.7396,
          167.6748,
          144.1594,
          143.9076,
          176.0726,
          129.8684,
          126.2235,
          -119.6273,
          174.0651,
          153.0768,
          123.8836,
          167.2778,
          -134.8008,
          -161.2762,
          95.9215,
          79.7217,
          -70.8883,
          166.4759,
          166.5421,
          165.4883,
          165.4374,
          165.4699,
          143.1474,
          165.3291,
          165.1418,
          164.93,
          165.8168,
          164.6145,
          165.8721,
          165.0307,
          165.7077,
          166.0088,
          166.1453,
          -77.462,
          165.8868,
          165.5442,
          142.7017,
          125.7792,
          -63.1349,
          157.4851,
          157.6005,
          157.625,
          148.2433,
          -24.5697,
          160.2335,
          173.4536,
          -90.4772,
          121.135,
          143.2662,
          131.064,
          138.4743,
          51.629,
          169.6524,
          154.6407,
          62.136,
          142.5671,
          150.924,
          157.7172,
          103.0202,
          130.2233,
          157.3684,
          138.9741,
          -102.1983,
          152.2033,
          -178.8979,
          57.8438,
          -175.1186,
          145.2903,
          141.5665,
          -80.7244,
          160.5733,
          160.2246,
          -177.2133,
          -175.7552,
          153.3912,
          151.5688,
          121.059,
          166.3017,
          107.3023,
          179.4859,
          25.044,
          -87.0457,
          25.1864,
          -42.6687,
          96.5824,
          155.7104,
          100.5312,
          153.9277,
          149.7262,
          -25.2274,
          -71.7458,
          174.3589,
          104.2608,
          34.8615,
          -177.1534,
          167.6206,
          -24.28,
          -173.4982,
          129.7914,
          -179.6421,
          -81.979,
          -78.1251,
          174.0796,
          54.1278,
          -99.5188,
          179.7461,
          -175.2137,
          -174.9417,
          128.2569,
          -130.4234,
          138.8376,
          -130.2671,
          -174.6949,
          -174.7733,
          -45.2139,
          122.3336,
          -92.0911,
          -104.8068,
          -174.6891,
          119.9508,
          65.5315,
          -113.7895,
          -74.6012,
          65.6192,
          -178.2538,
          152.8959,
          78.5007,
          141.7102,
          -97.6029,
          141.5,
          -178.4264,
          -62.3025,
          23.3718,
          124.1231,
          154.9648,
          -110.3639,
          -177.0404,
          -12.8022,
          144.754,
          154.8294,
          -73.1515,
          121.458,
          -71.5019,
          -112.6783,
          -172.6354,
          123.4,
          162.1432,
          -47.2872,
          -47.199,
          -46.5876,
          128.4474,
          145.165,
          -176.5188,
          150.9624,
          -54.9648,
          128.4151,
          96.8488,
          149.133,
          146.7654,
          167.2723,
          -66.8685,
          175.7893,
          -175.0125,
          109.2225,
          20.507,
          -27.3456,
          -177.9203,
          20.4368,
          167.4164,
          82.5807,
          -58.9719,
          -171.9271,
          -87.704,
          127.3279,
          -92.9925,
          169.8319,
          -125.0869,
          147.942,
          -20.1181,
          148.6003,
          131.8077,
          -76.352,
          -80.9351,
          -70.6156,
          -70.8284,
          94.2252,
          -70.9441,
          -70.7814,
          179.2589,
          166.6228,
          -70.7877,
          -71.0177,
          -82.3332,
          -70.5007,
          -70.4905,
          -70.5408,
          -70.5337,
          161.5607,
          -86.3301,
          -70.6616,
          155.0329,
          155.0053,
          -86.014,
          155.2626,
          162.1387,
          161.9601,
          161.9657,
          8.7098,
          156.0262,
          164.8414,
          -100.9938,
          155.1035,
          154.992,
          155.367,
          -127.6525,
          -174.6481,
          170.3099,
          179.0407,
          178.2219,
          139.366,
          99.7038,
          -96.9872,
          154.9469,
          -100.8113,
          -175.5746,
          -100.9323,
          -114.7631,
          -82.24,
          144.9367,
          144.9597,
          122.0352,
          92.7377,
          88.0647,
          25.3698,
          -107.4923,
          91.0383,
          166.8302,
          -177.5306,
          -177.4626,
          -177.401,
          178.6428,
          178.4431,
          178.4084,
          178.5736,
          176.7817,
          142.6581,
          -28.3956,
          -28.224,
          -175.5143,
          -175.458,
          138.8727,
          155.1868,
          154.99,
          -176.4451,
          -176.3,
          152.8075,
          96.9388,
          -92.4614,
          168.3982,
          168.3,
          142.4525,
          142.39,
          126.4776,
          126.51,
          -140.3366,
          -174.4517,
          -174.18,
          57.957,
          148.7838,
          -178.4001,
          -136.9601,
          -45.59,
          -95.501,
          146.769,
          146.72,
          146.1113,
          85.6385,
          103.458,
          128.0364,
          127.92,
          142.279,
          142.2065,
          47.638,
          47.7037,
          -71.4416,
          -122.086,
          -73.535,
          -73.45,
          -114.7147,
          -173.1919,
          -114.6166,
          -107.101,
          125.0265,
          144.4725,
          -66.5888,
          156.3501,
          -151.9157,
          149.5619,
          100.5005,
          -108.5064,
          -110.9241,
          -110.9204,
          143.2067,
          -88.072,
          -174.6758,
          -111.2272,
          -177.8334,
          154.2845,
          80.0437,
          148.263,
          140.63,
          173.1229,
          126.4628,
          179.6109,
          33.7019,
          127.0309,
          101.8032,
          137.8915,
          126.465,
          123.1261,
          -82.7339,
          130.4829,
          154.4603,
          -90.9751,
          -82.6865,
          122.4503,
          126.291,
          141.5534,
          126.544,
          -82.3463,
          -82.291,
          121.5213,
          -178.576,
          -103.6874,
          -82.6574,
          168.5545,
          -178.3597,
          170.1818,
          145.3149,
          -67.1501,
          -66.6621,
          -32.0209,
          121.444,
          -28.2292,
          143.1771,
          164.1384,
          168.2083,
          143.6157,
          143.5175,
          -106.9433,
          122.4906,
          98.7546,
          80.6147,
          -73.0377,
          122.4034,
          126.4339,
          -73.689,
          -178.3919,
          -69.1883,
          152.5778,
          -172.9783,
          -172.905,
          -172.9139,
          152.5135,
          -173.3351,
          26.8373,
          -178.4403,
          122.4319,
          122.5206,
          166.4836,
          173.108,
          -130.8588,
          84.7168,
          85.4762,
          84.8433,
          85.9788,
          -178.5801,
          151.8023,
          151.7512,
          151.7835,
          151.8641,
          -6.16,
          154.5554,
          86.126,
          86.1418,
          142.0217,
          102.223,
          -132.2658,
          -175.4708,
          164.1741,
          163.5935,
          163.2121,
          -14.2615,
          -175.936,
          -156.6764,
          140.4939,
          -173.4612,
          142.9777,
          116.6651,
          142.0564,
          -68.4519,
          -172.9521,
          -178.9194,
          -17.809,
          -73.6674,
          -178.3692,
          139.7885,
          151.5991,
          78.1205,
          125.977,
          148.0042,
          158.3424,
          -58.5702,
          165.1009,
          -169.5348,
          138.5428,
          -153.3246,
          -178.3155,
          158.0265,
          157.821,
          77.9536,
          163.8328,
          -179.0971,
          141.6,
          179.1278,
          -177.8599,
          -169.5349,
          -109.6226,
          126.43,
          126.4288,
          151.4768,
          -71.6744,
          -71.745,
          -71.7425,
          -71.9189,
          -71.4262,
          -71.6504,
          -71.6876,
          -71.81,
          -71.804,
          -72.2292,
          -45.9886,
          -72.077,
          -72.07,
          -72.0629,
          -71.74,
          -71.7431,
          -71.3792,
          -71.26,
          -71.2653,
          131.26,
          131.2622,
          -71.3217,
          -66.6,
          -135.708,
          156.23,
          156.2259,
          -173.2608,
          167.3028,
          6.1653,
          37.17,
          37.1711,
          70.3676,
          124.8754,
          -72.3015,
          -71.4519,
          94.648,
          -173.0746,
          -72.0068,
          -72.0585,
          128.8729,
          20.6,
          158.4217,
          129.9375,
          145.2659,
          -70.9437,
          -71.0184,
          -71.2574,
          -70.6009,
          85.0913,
          72.7797,
          129.5079,
          175.2475,
          -93.6294,
          169.3857,
          117.6359,
          -123.1158,
          71.1263,
          139.4489,
          93.66,
          93.6505,
          -136.2603,
          126.8569,
          141.0867,
          -63.3288,
          142.781,
          -106.9344,
          -153.3392,
          -3.6818,
          158.5128,
          169.1522,
          -179.9563,
          120.5928,
          154.7073,
          -71.5838,
          119.4013,
          -125.1669,
          129.0729,
          139.5956,
          94.3299,
          -173.9423,
          -174.1423,
          -60.7019,
          162.8129,
          144.887,
          -157.9321,
          166.8551,
          166.6245,
          107.3857,
          166.5943,
          71.1311,
          94.8654,
          122.0231,
          130.7042,
          130.7204,
          166.4334,
          -92.367,
          130.7543,
          -79.9218,
          -27.2307,
          -80.2104,
          -80.0352,
          -80.5039,
          -93.1509,
          -93.0882,
          167.3786,
          -103.7363,
          -79.7899,
          -79.616,
          129.8841,
          -178.6481,
          -178.2038,
          -26.9353,
          122.5458,
          100.6654,
          125.6264,
          -177.8359,
          -105.1731,
          126.3712,
          116.2669,
          -86.9633,
          160.559,
          168.8279,
          169.0737,
          168.7595,
          -45.1402,
          151.8796,
          73.3388,
          167.4701,
          -173.2011,
          -79.638,
          -176.443,
          169.0547,
          -70.5074,
          148.0345,
          145.541,
          -66.0261,
          142.0141,
          173.1108,
          -177.3437,
          -31.874,
          143.6799,
          143.7539,
          -31.7546,
          122.4255,
          13.1877,
          94.5687,
          -17.8294,
          152.7879,
          179.1461,
          178.9291,
          168.5415,
          158.7126,
          -76.9536,
          -76.1686,
          159.1673,
          140.5718,
          142.0478,
          141.6368,
          126.4918,
          -174.984,
          -178.2443,
          150.3605,
          148.8617,
          108.1627,
          133.8148,
          -174.8724,
          13.0434,
          13.0884,
          -70.9964,
          141.5658,
          173.0647,
          173.6075,
          173.6227,
          173.6997,
          173.2543,
          -68.7645,
          141.4025,
          -88.8355,
          74.0208,
          -70.8228,
          174.2012,
          123.3802,
          96.1678,
          -126.1528,
          161.3298,
          161.3137,
          161.1227,
          154.4882,
          144.4037,
          153.5216,
          153.9975,
          161.1952,
          137.6672,
          -70.9698,
          161.2183,
          127.9206,
          153.5754,
          -73.9403,
          118.6639,
          179.2383,
          176.058,
          -92.4041,
          122.575,
          161.0304,
          161.318,
          155.1442,
          63.2577,
          125.4516,
          -66.6592,
          -63.9047,
          -178.8033,
          155.748,
          149.3619,
          92.3167,
          160.7536,
          172.1993,
          162.7868,
          25.1558,
          60.4364,
          -67.7655,
          -178.3718,
          -72.0063,
          -72.0452,
          125.0719,
          -136.6764,
          -136.7042,
          71.4519,
          -178.6361,
          126.3182,
          167.3767,
          -25.7827,
          -90.0562,
          152.4893,
          123.9583,
          120.4335,
          170.9096,
          26.3713,
          -91.9882,
          -178.0541,
          179.6059,
          -90.9488,
          -176.4629,
          -177.6618,
          179.9269,
          -80.4935,
          124.6194,
          164.0251,
          153.1958,
          168.6467,
          168.8148,
          -73.6296,
          66.4836,
          27.4135,
          130.1836,
          -49.3259,
          103.8552,
          82.8268,
          120.6785,
          101.6228,
          -13.6631,
          -178.8406,
          148.0803,
          99.6881,
          129.0307,
          -25.5783,
          139.8041,
          -93.9067,
          -98.4808,
          162.5497,
          144.6601,
          169.0946,
          -94.9509,
          -176.9366,
          144.0201,
          -175.5659,
          154.5526,
          176.8078,
          -69.6411,
          8.6055,
          -173.8022,
          123.0401,
          169.209,
          127.7655,
          168.9362,
          168.8879,
          168.9185,
          -173.1682,
          143.4846,
          141.438,
          -14.1142,
          45.9563,
          -84.4865,
          94.9776,
          168.6995,
          168.5743,
          168.683,
          168.8229,
          -175.0735,
          153.2342,
          -23.4323,
          57.3138,
          147.6287,
          -80.3107,
          140.2197,
          140.1315,
          140.2016,
          57.2705,
          57.2861,
          2.1681,
          108.1743,
          -83.5193,
          96.0776,
          -74.7095,
          -111.107,
          -69.4564,
          105.9181,
          -149.0728,
          142.4323,
          166.4464,
          145.8477,
          9.6842,
          70.8155,
          -177.3954,
          -175.635,
          121.7078,
          121.658,
          146.4377,
          -97.9789,
          142.7703,
          143.2706,
          126.7272,
          143.255,
          150.7793,
          142.4795,
          142.594,
          142.6127,
          153.1874,
          151.4971,
          96.0692,
          129.8138,
          151.396,
          151.5068,
          -176.6055,
          -63.0058,
          126.7785,
          142.5282,
          -71.5566,
          126.8759,
          42.1877,
          -111.6536,
          -154.9975,
          123.9192,
          151.7962,
          71.3833,
          -178.4141,
          168.0564,
          157.8404,
          -178.0715,
          169.0224,
          51.7365,
          51.717,
          166.432,
          148.7302,
          122.7474,
          116.508,
          116.4363,
          -145.2998,
          -144.3602,
          -25.2588,
          -178.0516,
          143.3187,
          119.8341,
          -83.1531,
          -178.1536,
          -177.6404,
          116.5982,
          -178.0332,
          116.6312,
          -62.907,
          168.1307,
          -127.6031,
          -177.881,
          -70.8169,
          46.2422,
          124.1187,
          146.8395,
          170.0502,
          141.9294,
          179.3555,
          -78.8955,
          126.4781,
          161.5025,
          -179.3728,
          170.1584,
          178.2059,
          49.782,
          119.7702,
          119.8401,
          -178.0788,
          120.2417,
          156.2319,
          114.4555,
          151.3241,
          151.2197,
          151.7231,
          156.2968,
          153.2429,
          169.4899,
          169.4867,
          -129.4783,
          -129.2135,
          -129.6725,
          20.5635,
          -90.3848,
          -66.4086,
          174.9766,
          -69.2923,
          123.8646,
          -11.2502,
          -174.0081,
          -49.8719,
          162.0008,
          -25.546,
          -122.0441,
          163.1581,
          -178.9273,
          -81.0931,
          45.7432,
          -149.9552,
          128.7065,
          169.3156,
          169.4179,
          169.6677,
          -26.4656,
          -128.6835,
          140.2323,
          -101.0723,
          164.6993,
          166.8116,
          -175.0923,
          164.435,
          126.9209,
          -161.5131,
          -71.5834,
          126.7361,
          131.0371,
          166.8787,
          146.3564,
          168.6329,
          -71.4202,
          119.1472,
          119.0309,
          42.3568,
          156.3109,
          -178.9592,
          -92.2981,
          100.0764,
          100.1329,
          145.7965,
          -36.0786,
          152.1319,
          -77.0231,
          -70.135,
          -177.8845,
          126.006,
          -178.5889,
          152.0549,
          -65.9072,
          167.6551,
          -76.2231,
          126.38,
          159.9632,
          151.1053,
          -80.8089,
          65.3656,
          178.0679,
          -27.856,
          125.014,
          -25.2559,
          143.2985,
          122.5527,
          121.6934,
          139.4904,
          120.4972,
          -27.3509,
          125.1869,
          -178.7639,
          57.2283,
          160.1389,
          146.4505,
          131.8503,
          -82.8326,
          152.5694,
          169.7779,
          169.5741,
          169.4692,
          -178.2387,
          -75.2775,
          -89.3663,
          -176.3171,
          126.5518,
          -173.9076,
          139.2932,
          -72.0819,
          -174.169,
          -178.106,
          -178.0827,
          -177.5972,
          139.4804,
          -177.787,
          138.4599,
          -177.4658,
          138.5675,
          129.1692,
          164.1836,
          164.1101,
          -82.7677,
          -179.2332,
          144.3477,
          167.5238,
          -130.515,
          -117.506,
          -117.599333,
          126.1892,
          155.2241,
          128.1534,
          120.3574,
          128.0931,
          149.5517,
          154.063,
          121.9755,
          137.325,
          167.9982,
          -72.3079,
          -113.8331,
          104.8245,
          141.6089,
          166.2991,
          139.324,
          167.1983,
          -26.5801,
          -127.8761,
          -178.567,
          111.8422,
          -67.2701,
          56.2955,
          128.3683,
          -72.0019,
          -177.8611,
          126.5495,
          -73.1631,
          125.0012,
          169.4883,
          -13.8367,
          124.9952,
          125.1833,
          -26.2338,
          -71.3753,
          -175.272,
          -9.2701,
          167.7404,
          167.8086,
          -179.4911,
          -175.3598,
          126.414,
          126.4136,
          -93.2133,
          153.6852,
          101.3558,
          132.8148,
          -175.5108,
          19.5212,
          23.2673,
          -178.1011,
          -70.6504,
          169.5748,
          -175.1193,
          167.7089,
          125.1739,
          70.4485,
          -129.9268,
          -129.7573,
          -63.3748,
          -74.0501,
          -129.9656,
          -115.8438,
          96.3575,
          -66.828,
          151.2659,
          171.0611,
          139.327,
          77.1097,
          123.8025,
          -26.2889,
          -177.855,
          39.0883,
          -179.8892,
          161.0606,
          -78.7582,
          -80.742,
          161.2756,
          113.0778,
          126.494,
          -25.5526,
          152.1522,
          148.9293,
          44.3729,
          -175.6074,
          -172.1911,
          167.0277,
          115.1378,
          -104.9519,
          157.6914,
          125.0427,
          -115.1356,
          126.4306,
          77.4459,
          -176.3478,
          -85.7099,
          140.1312,
          142.0319,
          154.2794,
          25.7124,
          129.8613,
          154.7127,
          166.6482,
          -117.8497,
          -108.1275,
          167.8644,
          -70.7643,
          -68.4217,
          -176.731,
          128.2477,
          -13.0475,
          128.2713,
          145.1116,
          -177.8383,
          -18.707,
          123.7866,
          -96.0101,
          82.4158,
          140.2462,
          110.6952,
          147.7754,
          94.8885,
          -172.6977,
          -178.6325,
          -158.5217,
          -159.0423,
          86.8666,
          -25.4055,
          -161.1436,
          124.1199,
          148.6412,
          168.078,
          42.4486,
          39.8126,
          124.1272,
          101.1342,
          101.2411,
          123.4829,
          -12.9718,
          -84.6396,
          151.8642,
          151.8365,
          -29.8656,
          70.1973,
          -71.3031,
          -71.2874,
          -71.3716,
          -71.4938,
          167.5321,
          -37.2174,
          125.8285,
          168.4935,
          -69.9093,
          142.2499,
          158.4171,
          179.8689,
          -26.8408,
          31.7636,
          -174.1217,
          148.6576,
          -178.4762,
          146.1686,
          -159.6519,
          -179.9572,
          26.7901,
          -79.3773,
          -58.1635,
          -173.5473,
          -177.5446,
          126.291,
          -73.0671,
          140.7971,
          -67.0203,
          -168.2307,
          154.7341,
          -69.0663,
          122.0098,
          -68.7079,
          125.4248,
          142.5814,
          133.6362,
          120.6592,
          -74.9881,
          16.2581,
          -179.8028,
          -177.1885,
          122.9532,
          -178.7021,
          169.8821,
          -66.5729,
          167.8826,
          100.437,
          118.8893,
          -68.8059,
          127.5185,
          -55.4903,
          -97.8,
          125.1711,
          146.1444,
          171.6558,
          101.6516,
          171.6427,
          171.657,
          171.173,
          171.5876,
          171.8212,
          141.7196,
          167.5901,
          -167.8,
          171.7786,
          168.0652,
          -176.7452,
          22.1756,
          179.3584,
          167.32,
          -177.8415,
          -177.2791,
          -176.6895,
          -176.6398,
          -176.5578,
          -176.5961,
          179.6102,
          -177.0026,
          -177.6936,
          -177.8739,
          -177.6224,
          -176.6448,
          -29.4687,
          163.1803,
          5.2011,
          -27.2713,
          150.3277,
          141.6328,
          -177.6507,
          -179.3796,
          -7.843,
          179.6745,
          -176.6124,
          112.5149,
          124.6588,
          145.7324,
          96.5564,
          -176.2536,
          -177.1205,
          145.5163,
          92.4364,
          -176.3205,
          141.6646,
          144.1948,
          -177.5658,
          -90.2668,
          66.3135,
          -82.4136,
          141.7784,
          96.6442,
          -109.3943,
          100.0155,
          98.2402,
          -177.3725,
          -148.2512,
          126.3003,
          -177.8449,
          -179.4094,
          -71.6247,
          -119.499833,
          -82.6774,
          146.8022,
          -82.7821,
          120.7392,
          -176.8665,
          121.9314,
          -157.8876,
          -80.6155,
          94.0183,
          -25.0316,
          -25.327,
          -26.4306,
          -26.7611,
          -27.1773,
          -157.6531,
          -73.4804,
          -23.3552,
          -25.4166,
          167.0605,
          -26.3467,
          -24.2444,
          -24.8801,
          154.9099,
          -177.3798,
          -176.0692,
          -99.7429,
          -67.0152,
          152.4831,
          -73.9329,
          -87.8647,
          -179.0119,
          25.2595,
          153.5,
          135.4444,
          174.8958,
          67.2614,
          -27.4942,
          174.5221,
          -155.527167,
          -156.5532,
          26.2556,
          158.4681,
          166.9399,
          179.604,
          121.8314,
          -25.2196,
          96.7094,
          124.3326,
          -86.527,
          126.4478,
          126.4,
          134.1802,
          56.0743,
          56.066,
          51.2613,
          153.696,
          166.5044,
          93.52,
          -76.8109,
          142.4783,
          142.8,
          151.1842,
          151.3388,
          -112.0255,
          128.1359,
          129.3846,
          154.1393,
          122.2273,
          -23.8499,
          33.4549,
          178.5788,
          -24.0922,
          -124.298,
          -107.0648,
          -179.352,
          127.5764,
          166.8148,
          122.2595,
          125.0808,
          -87.1387,
          101.2819,
          179.574,
          -43.6433,
          31.9468,
          -167.9169,
          -168.155,
          105.2858,
          154.8224,
          132.0432,
          126.6579,
          -166.682,
          -28.7839,
          -176.3135,
          -82.5881,
          -176.7255,
          128.3132,
          -76.9313,
          99.4949,
          -19.8761,
          144.2903,
          -91.3669,
          179.9981,
          165.4105,
          -66.2653,
          100.0895,
          -177.7277,
          -24.9167,
          -178.4313,
          119.373,
          119.4,
          98.6294,
          141.6735,
          141.5951,
          -176.2998,
          -177.3998,
          -43.382,
          121.6071,
          167.4442,
          170.3778,
          170.3749,
          170.8084,
          167.8625,
          166.8601,
          152.0245,
          167.8466,
          126.9523,
          126.9241,
          -86.9604,
          146.6901,
          127.1315,
          122.5011,
          146.3603,
          -66.6519,
          159.0545,
          120.6494,
          178.4435,
          141.4121,
          -70.1969,
          172.1356,
          -114.9698,
          127.2072,
          -174.9684,
          148.6945,
          178.3009,
          -71.205,
          69.4828,
          121.3552
         ],
         "marker": {
          "color": [
           6.3,
           6.3,
           6.3,
           6.2,
           6.6,
           6.7,
           6.9,
           7.3,
           6,
           6.3,
           6.1,
           7.3,
           7.7,
           7.5,
           6.6,
           6.6,
           6.3,
           6.3,
           6.5,
           6.4,
           6.9,
           6,
           7.3,
           7.1,
           6.9,
           6.1,
           6.3,
           6.3,
           6.3,
           6.2,
           6.2,
           6.1,
           6,
           6.2,
           6.5,
           7,
           6,
           6.3,
           6.3,
           6.2,
           6.2,
           6,
           6.2,
           7,
           6.3,
           6.4,
           6,
           6.2,
           6.7,
           7.8,
           6.3,
           6.3,
           6,
           6.1,
           6.5,
           6,
           6.1,
           6.8,
           6,
           6.6,
           6.3,
           6.2,
           6,
           6.5,
           7.4,
           6.4,
           6.4,
           6,
           7.3,
           6.3,
           6.3,
           7,
           7.1,
           6.1,
           6.5,
           6.2,
           6.5,
           6.9,
           6,
           6,
           6,
           7.2,
           6.1,
           6,
           6.2,
           6.2,
           6,
           6.3,
           6.5,
           6.5,
           6.5,
           6.8,
           6,
           6,
           6.1,
           6.6,
           6.1,
           6.2,
           6.5,
           6.1,
           6,
           6.1,
           6.3,
           6.5,
           6.5,
           6.4,
           7.3,
           6.1,
           6,
           6.5,
           6.3,
           6.6,
           9.1,
           6.8,
           6.3,
           6.4,
           6.3,
           6.2,
           6.3,
           6.4,
           6.7,
           6.2,
           6.2,
           6.2,
           6.3,
           7.9,
           6.6,
           6.5,
           6.2,
           6.2,
           7.6,
           6.1,
           6.4,
           6.2,
           6.2,
           6.1,
           6,
           6.3,
           6.3,
           6.1,
           6.1,
           6.3,
           6,
           6.2,
           6.1,
           6.5,
           6.1,
           6,
           6,
           6,
           6,
           6.5,
           6.3,
           6,
           6.3,
           6.2,
           6.5,
           6.2,
           6.1,
           6.5,
           6.2,
           6.2,
           6,
           6.1,
           6,
           6,
           6.2,
           6.1,
           6,
           6.4,
           6.2,
           6.3,
           6.8,
           6.2,
           6,
           6.2,
           6.2,
           6.4,
           6,
           6.1,
           6.4,
           6.7,
           6.7,
           7.1,
           6,
           6.7,
           6.2,
           6,
           6.5,
           6.2,
           6.8,
           6,
           6.1,
           6.2,
           6.1,
           6.8,
           6,
           6.1,
           6,
           6.1,
           6.5,
           6.3,
           6.1,
           6.4,
           6,
           6.4,
           6.3,
           6.5,
           6,
           6.7,
           7.3,
           6.1,
           6.4,
           7.6,
           6,
           7,
           6.5,
           6.1,
           6,
           6.2,
           6.2,
           6,
           6.3,
           6.3,
           6.3,
           6,
           6.7,
           6.4,
           6.1,
           6.6,
           6,
           6.1,
           6,
           6,
           6.2,
           6.2,
           6.3,
           7.1,
           6.5,
           7,
           6.1,
           7,
           6.1,
           6.9,
           6,
           6.9,
           6.7,
           6.4,
           7,
           6.2,
           6.7,
           6,
           6.5,
           6,
           6,
           6.2,
           7.3,
           6.7,
           6,
           6.9,
           6.4,
           6.1,
           6.2,
           6.5,
           6,
           6,
           6.2,
           7.4,
           7.1,
           6,
           6,
           7,
           6.2,
           6.2,
           6,
           6.9,
           6,
           6.4,
           6,
           6.6,
           6.1,
           6.2,
           6.1,
           6,
           6.1,
           6.5,
           6.3,
           6.1,
           7.1,
           6,
           6.7,
           6.8,
           6.4,
           7.2,
           6.6,
           6,
           6.2,
           6,
           6.1,
           6.3,
           6.4,
           7,
           6.1,
           6.1,
           6,
           6.7,
           6,
           6,
           6.4,
           6,
           6.7,
           6.6,
           6.1,
           6.6,
           7,
           6.1,
           6,
           6.2,
           6.3,
           7.5,
           6.6,
           7.1,
           6,
           6,
           6.1,
           6.1,
           8.6,
           6,
           8.2,
           6,
           6.7,
           6.1,
           7,
           6.2,
           6.3,
           6.3,
           6.7,
           6.9,
           6.2,
           6.7,
           6,
           6,
           6.7,
           6,
           6.3,
           6.3,
           6.1,
           6.4,
           6,
           6,
           6.3,
           6,
           6.7,
           6,
           6.3,
           6.3,
           6.1,
           6,
           6.2,
           6.1,
           6,
           6.3,
           6,
           6.1,
           6,
           6.3,
           6.3,
           6.4,
           6,
           6,
           6.4,
           6.5,
           6.6,
           6.5,
           6,
           6.1,
           6.2,
           6.5,
           6.3,
           6.2,
           7.7,
           6.3,
           6.2,
           6.6,
           7.3,
           6.7,
           7.6,
           6.3,
           6,
           7.6,
           6.1,
           6,
           6.3,
           6.3,
           6.5,
           7.2,
           6,
           6,
           6.2,
           6.6,
           6.6,
           6,
           6.2,
           6.4,
           7.8,
           6.4,
           6.2,
           6.1,
           7.4,
           6.2,
           6,
           6.8,
           6.4,
           6.3,
           6,
           6.2,
           6.1,
           6.5,
           6,
           6,
           6.1,
           7.2,
           6.2,
           6.3,
           7.1,
           6,
           6.4,
           6,
           6.1,
           6.1,
           6.7,
           7.5,
           6.1,
           6.1,
           6.2,
           6.8,
           6.1,
           6.1,
           6,
           6.4,
           6.3,
           6.9,
           6,
           7.9,
           7.1,
           7,
           6.1,
           6.1,
           6,
           6.7,
           6.8,
           7,
           7,
           6.6,
           6,
           6.7,
           6.2,
           6.1,
           6.8,
           6.4,
           6.5,
           6.5,
           6,
           6,
           6,
           6.2,
           6,
           6,
           6.3,
           7,
           6.3,
           6,
           6.5,
           7.7,
           6.6,
           7.2,
           6.1,
           6.6,
           6,
           6.1,
           6.1,
           6.1,
           6.5,
           6.2,
           6.2,
           6.3,
           6.8,
           6,
           6.3,
           6,
           6.2,
           7.4,
           6.3,
           8.3,
           6.7,
           6.3,
           6,
           6.6,
           6,
           6.3,
           6.4,
           6.1,
           6.5,
           6.1,
           6,
           6.1,
           7.3,
           6.6,
           7.3,
           6,
           6.5,
           6,
           6.3,
           6,
           6.1,
           6.3,
           6,
           6.1,
           6.2,
           6.2,
           6.6,
           6.5,
           6.2,
           6.2,
           6.2,
           7,
           6,
           6.5,
           6.1,
           6.5,
           6,
           6.5,
           6,
           6,
           6,
           6.4,
           6,
           6.1,
           6.1,
           7.8,
           6,
           7,
           6.8,
           6.4,
           6.7,
           6.4,
           6,
           6.2,
           6.6,
           6.2,
           6,
           6.8,
           7.1,
           6.8,
           6.6,
           6,
           6.6,
           7.1,
           6,
           6.3,
           6.3,
           6.5,
           6,
           6.2,
           6,
           6.5,
           6,
           6.9,
           7.8,
           6.1,
           6,
           6.5,
           6,
           6.9,
           6.5,
           6,
           6.1,
           6.2,
           6.5,
           6.3,
           6.3,
           6.2,
           6.2,
           6.1,
           6.2,
           6.4,
           6,
           6.5,
           6.9,
           6.5,
           6.1,
           6.2,
           6.5,
           6,
           6.4,
           6.9,
           6,
           6.4,
           6.1,
           6.3,
           6.1,
           6.3,
           6.7,
           6.4,
           6.4,
           6.2,
           6.2,
           6.4,
           6,
           8.1,
           7,
           6,
           6.6,
           7.7,
           6.5,
           6.2,
           6,
           6.1,
           6.1,
           7.1,
           6.5,
           6.6,
           6.1,
           7.6,
           7.4,
           6.6,
           6.8,
           6.2,
           6.1,
           7.3,
           6.6,
           7.5,
           6.2,
           6.6,
           6.1,
           6.6,
           6.6,
           6.4,
           6,
           6.2,
           6.2,
           6,
           6.5,
           6,
           6.1,
           6.4,
           6.5,
           6.2,
           6.3,
           6.2,
           6,
           6.1,
           6.9,
           6.2,
           6.5,
           6.2,
           6.9,
           6.5,
           6.7,
           7.9,
           6,
           6,
           6,
           6.4,
           6.2,
           6.8,
           6,
           6.4,
           6.6,
           6.2,
           6.1,
           6,
           6.4,
           6.3,
           6.4,
           6.1,
           6.9,
           6.2,
           6.2,
           6.6,
           6.5,
           6.3,
           6.2,
           6,
           6.3,
           6.2,
           6,
           6.3,
           6.9,
           6,
           6.1,
           6.4,
           6.1,
           6,
           6.8,
           6,
           6.2,
           6.2,
           6.2,
           6.1,
           6.1,
           6.2,
           6,
           6.4,
           6.1,
           6.8,
           6.8,
           6,
           6,
           6.1,
           6.1,
           6.3,
           6.8,
           6.2,
           6.1,
           6.3,
           6,
           6.1,
           6.1,
           7,
           6.6,
           6,
           7.3,
           6,
           6,
           7.1,
           6,
           6.3,
           6.6,
           7.6,
           6,
           7,
           6.7,
           6.2,
           6.5,
           6.1,
           6.2,
           6.8,
           6.6,
           6,
           6,
           6.6,
           6,
           6.6,
           6.1,
           6,
           6,
           6.4,
           6,
           6,
           6.1,
           6,
           6,
           6.5,
           6.8,
           6.2,
           6,
           6,
           6.3,
           6.7,
           7.1,
           6.2,
           6.3,
           6.7,
           6.1,
           6.4,
           6.2,
           6,
           6.2,
           7,
           6.2,
           6,
           6.2,
           6.1,
           6.3,
           6.1,
           6.1,
           6.4,
           7.5,
           6,
           6.3,
           6.4,
           6,
           6.3,
           6.1,
           6.5,
           6.4,
           6,
           6.2,
           6,
           6.2,
           7.9,
           6.1,
           6.7,
           6.7,
           6.1,
           6.6,
           6.7,
           6,
           7.5,
           6.1,
           7,
           7.2,
           6.1,
           6.8,
           6,
           6.6,
           6,
           6.8,
           7,
           6.9,
           6.3,
           6.3,
           6.8,
           7.9,
           6,
           6.2,
           6,
           6.1,
           6.1,
           6,
           6,
           6.9,
           6.4,
           6,
           6.5,
           6,
           6.4,
           6.1,
           6.3,
           6.7,
           6.5,
           6.9,
           6.9,
           7,
           6.4,
           6,
           6.6,
           6.5,
           6,
           6.4,
           6,
           6,
           6,
           6.3,
           6,
           6.7,
           6.3,
           6.3,
           6.1,
           8.3,
           6.4,
           6.1,
           6.1,
           7,
           6.4,
           6.5,
           6.8,
           6.7,
           6.2,
           6,
           6.1,
           6.2,
           6.2,
           6.1,
           6.1,
           6.6,
           6.1,
           6,
           6.6,
           6.6,
           6.3,
           6,
           6.1,
           6,
           6,
           6,
           7.1,
           6.2,
           6,
           6,
           7.5,
           6.5,
           6.2,
           6.8,
           6.6,
           6.5,
           6.9,
           6.9,
           6.7,
           6.5,
           6.8,
           6.1,
           6,
           7.6,
           7.6,
           6.7,
           6.2,
           7.1,
           7.2,
           6.9,
           6.1,
           6.6,
           6,
           6.1,
           6.2,
           6.3,
           6.3,
           6.7,
           6.7,
           6,
           6.5,
           6.2,
           6.1,
           6.7,
           6.6,
           7.1,
           6.3,
           7.2,
           6,
           6.2,
           6.4,
           6.4,
           6.3,
           6.3,
           6.1,
           6,
           6.1,
           7.8,
           6.3,
           6,
           6,
           6.4,
           6.2,
           6.2,
           6.9,
           6.7,
           6.1,
           6.7,
           6.6,
           6.9,
           6,
           6.2,
           6,
           6.4,
           6.1,
           7,
           7.8,
           6.2,
           6.2,
           6,
           6,
           6,
           6,
           7,
           6.6,
           6.7,
           6.9,
           6,
           6.4,
           6.9,
           7.2,
           6.4,
           6.6,
           6.3,
           6.1,
           6.3,
           6.3,
           6.1,
           6.1,
           6.2,
           6.2,
           6.3,
           6,
           6.1,
           6.3,
           6.4,
           6,
           6,
           6.3,
           6.3,
           6.1,
           6.1,
           6.4,
           7.7,
           6.2,
           6.3,
           7.2,
           6.2,
           7.4,
           6,
           6,
           6.4,
           6,
           6.2,
           6.8,
           7.1,
           6.7,
           7,
           6.1,
           6.1,
           6.1,
           6.1,
           6,
           6,
           6,
           6.1,
           6.2,
           6.3,
           6.4,
           6.9,
           6.3,
           6.9,
           6.6,
           6.2,
           6.1,
           6.1,
           6.6,
           6.4,
           6.1,
           7.8,
           6.5,
           6.1,
           6.2,
           6.5,
           6.4,
           6.9,
           7,
           6.6,
           6.2,
           6,
           6.3,
           6.5,
           6.5,
           7.8,
           6.5,
           6.9,
           6.1,
           6,
           7.9,
           6.3,
           6,
           6.2,
           6.4,
           6.4,
           6.7,
           6,
           7.6,
           6.3,
           6.3,
           6.9,
           6,
           7.3,
           6.3,
           6.5,
           7.9,
           6.3,
           6.5,
           6.3,
           6.5,
           6.9,
           6.1,
           6.3,
           6,
           6,
           6.1,
           6.6,
           6.5,
           6.1,
           6.2,
           6,
           6,
           6.9,
           6.9,
           6.2,
           6.2,
           6,
           6.2,
           6,
           6.8,
           6.5,
           6.2,
           6.2,
           6,
           6.6,
           6.8,
           6.3,
           6.9,
           6,
           6.1,
           6.8,
           6.2,
           6,
           6,
           6,
           6.5,
           6.6,
           6.4,
           6.3,
           7.7,
           6.4,
           6,
           6.6,
           6,
           6,
           6.5,
           6.3,
           6.2,
           6.4,
           6.6,
           6.4,
           6.3,
           6.3,
           6.3,
           6,
           6.1,
           8.1,
           7.1,
           6.1,
           6.1,
           6.4,
           6.1,
           6.4,
           6.2,
           6.1,
           6.3,
           6.6,
           6.3,
           6.7,
           6.1,
           6.7,
           6.8,
           6.1,
           6.1,
           6.6,
           6,
           6.8,
           6.5,
           6,
           6.1,
           7.3,
           6.5,
           6.4,
           6.3,
           6.6,
           7,
           6,
           6,
           6,
           6.5,
           6.1,
           6,
           6.2,
           6.4,
           6.4,
           6.1,
           6,
           6,
           6.5,
           6.5,
           7.5,
           6,
           7.1,
           6.3,
           6.3,
           6,
           7.9,
           6.3,
           6.2,
           6.3,
           6.6,
           6.1,
           6,
           6,
           6.1,
           6.4,
           6,
           7.2,
           7.5,
           6,
           6.1,
           6.3,
           6.1,
           6.1,
           6,
           6.7,
           6.8,
           6.3,
           6,
           6.4,
           6.6,
           6.9,
           6.1,
           6.8,
           6,
           6.3,
           6.2,
           6,
           6,
           6,
           6.9,
           6.1,
           6,
           6.2,
           6.1,
           6.1,
           6.1,
           6,
           6.4,
           6,
           6,
           6,
           6,
           6,
           6.4,
           6.9,
           6.3,
           6,
           6.1,
           6.6,
           6.3,
           6.5,
           6.1,
           8.2,
           6.3,
           6.3,
           6.8,
           6.9,
           7.3,
           6.5,
           6.2,
           6,
           7.1,
           6,
           6.2,
           6.4,
           7.1,
           6.6,
           7.9,
           6.2,
           6.2,
           6.5,
           6.9,
           6.3,
           6.5,
           6,
           6.1,
           7.5,
           6.7,
           6,
           6.1,
           6,
           6.1,
           7,
           6.2,
           6.5,
           6.7,
           6.3,
           6.4,
           6.6,
           6.8,
           6.5,
           6.8,
           6.1,
           6.3,
           6.1,
           6.2,
           6,
           6.7,
           6.1,
           6.3,
           6.1,
           6.4,
           6.3,
           6.1,
           6.8,
           6,
           6.3,
           7,
           6.4,
           6,
           7.5,
           6.6,
           7.1,
           6.3,
           6.1,
           6.3,
           7.3,
           6,
           6.4,
           6.1,
           7,
           6,
           6.8,
           6.6,
           6.3,
           6.6,
           6.2,
           6,
           6.7,
           6,
           6.4,
           6.7,
           6.2,
           6.2,
           6.6,
           6.1,
           6,
           6,
           6.2,
           6.4,
           7.5,
           7,
           6.4,
           6,
           6.2,
           6.1,
           6.3,
           6.3,
           6.1,
           6.1,
           6.2,
           6.2,
           6.2,
           6,
           6.4,
           6.4,
           6.3,
           6.5,
           6,
           6.8,
           6.1,
           6.5,
           6.1,
           6,
           6.4,
           6,
           6.3,
           6.2,
           7.1,
           6.1,
           6,
           7.5,
           6.3,
           6,
           6.3,
           6.1,
           8,
           6.6,
           6,
           6.1,
           6,
           6.3,
           6.4,
           6.1,
           7.3,
           6.3,
           6,
           6.4,
           6.4,
           6.3,
           6.3,
           6.1,
           7.3,
           6.3,
           6.3,
           6.2,
           6.3,
           6.4,
           6,
           6.2,
           6.4,
           7.1,
           6.9,
           6,
           6.1,
           6.6,
           7.3,
           6.2,
           6,
           6,
           6.3,
           6.6,
           6.8,
           6,
           6.9,
           6.3,
           6,
           6,
           6,
           6.6,
           6.3,
           6.6,
           6.1,
           6,
           6,
           6.5,
           6.1,
           6.1,
           6.2,
           6.7,
           6.4,
           6.4,
           6.3,
           6.6,
           6.5,
           6.1,
           6.1,
           6.6,
           6.3,
           6,
           6,
           6.5,
           6.1,
           7.1,
           6,
           6.3,
           6.3,
           6.2,
           6.2,
           6.3,
           6.4,
           6,
           6,
           6,
           6,
           6,
           6,
           6.8,
           6.1,
           6,
           6,
           6,
           6,
           6.3,
           6.1,
           6.3,
           6.4,
           6,
           6.4,
           6,
           6,
           6.1,
           6.1,
           6.2,
           6.7,
           6.1,
           6.3,
           7.7,
           6.1,
           6,
           6.2,
           6,
           6,
           6.1,
           7,
           6,
           6.4,
           6,
           6.1,
           6.2,
           6.1,
           7.5,
           6.1,
           6.78,
           6,
           6.1,
           6,
           6,
           6.6,
           6.3,
           6.2,
           6.6,
           6.8,
           6.1,
           6.6,
           6.5,
           6.1,
           6.1,
           6.1,
           6.8,
           6.1,
           6.4,
           6,
           6.6,
           6.2,
           7.4,
           6,
           6,
           7.4,
           6.3,
           6.2,
           6.7,
           7,
           6.1,
           6.1,
           6,
           7.8,
           6.1,
           6.3,
           6.4,
           6.1,
           6.4,
           6.1,
           6.4,
           6.3,
           6,
           6.6,
           6.8,
           6.9,
           6.9,
           6,
           6,
           6,
           6.2,
           6.5,
           6.1,
           6.8,
           6.3,
           6.5,
           6.3,
           6.2,
           6.7,
           6.3,
           6,
           6.2,
           6.1,
           6.4,
           6,
           6.9,
           6.1,
           6.4,
           6,
           6,
           6.3,
           7.6,
           6.1,
           7,
           6,
           6,
           6.1,
           6,
           6,
           6.1,
           6.4,
           6.3,
           6.4,
           6,
           6.1,
           6.1,
           6,
           6.1,
           6.3,
           6.1,
           6.3,
           6.7,
           6.4,
           6.1,
           6.2,
           6.1,
           6.3,
           6.1,
           6.1,
           6.1,
           6.7,
           6.2,
           6.4,
           7,
           6.9,
           6.7,
           6,
           6.3,
           6,
           6.2,
           6.1,
           7.7,
           6.1,
           6.2,
           6,
           7.1,
           6.2,
           6.7,
           6.1,
           6.1,
           6.1,
           6.3,
           7.3,
           6.1,
           7.4,
           8.1,
           6.1,
           6.1,
           6.3,
           6.2,
           6.3,
           6.1,
           6.2,
           6.2,
           6.1,
           6,
           6,
           6.6,
           6,
           6,
           6,
           7,
           6.5,
           6,
           6.6,
           6,
           6.1,
           6,
           6.1,
           6,
           6.1,
           6.5,
           6.4,
           6.1,
           6,
           6.1,
           6.8,
           6,
           6.1,
           6,
           6.7,
           6,
           6,
           6.7,
           6.7,
           6.1,
           7.3,
           6.5,
           6.1,
           6.1,
           6.5,
           6.1,
           6,
           6,
           6.1,
           6,
           6.7,
           6.7,
           6.1,
           6.2,
           8.2,
           6.2,
           6.1,
           7.5,
           8.1,
           6.7,
           6.1,
           6.3,
           6.9,
           7.2,
           6.9,
           6.1,
           6.9,
           6,
           6.6,
           7.1,
           6,
           6.4,
           6,
           7,
           6.2,
           6.1,
           6.4,
           6.5,
           6.1,
           6,
           6.5,
           6.1,
           7.3,
           6,
           6.3,
           6.9,
           6.21,
           6.9,
           6.4,
           6.4,
           6.1,
           6.1,
           6.2,
           6,
           6,
           6,
           6.3,
           6.6,
           6.6,
           6,
           6,
           6.3,
           6,
           6.2,
           6.1,
           6.2,
           7.5,
           6.3,
           6.6,
           6.3,
           6.1,
           6.1,
           6,
           6,
           6.6,
           7.3,
           6,
           6,
           6.2,
           6,
           6.2,
           6,
           6.1,
           7.3,
           6,
           6.2,
           6,
           6.1,
           6.6,
           6.2,
           6,
           6.6,
           6.8,
           6.6,
           6.6,
           6.1,
           6.3,
           6,
           6.2,
           6,
           6.2,
           6.1,
           6.5,
           6,
           6.5,
           6.3,
           6.2,
           6,
           6.2,
           6.8,
           6.3,
           6,
           6.1,
           6.6,
           6,
           6.1,
           6.4,
           6.7,
           6.7,
           6,
           7.3,
           6.3,
           6,
           6.7,
           6.7,
           6,
           6.9,
           7,
           6.4,
           6,
           6.3,
           6.1,
           6.1,
           6.1,
           6,
           6.6,
           6.1,
           6,
           6.3,
           6.3,
           6.8,
           6.9,
           6.1,
           6.3,
           6,
           7.2,
           6.6,
           6.2,
           6.2,
           6.3,
           6.4,
           6.3,
           6.5,
           6,
           6
          ],
          "coloraxis": "coloraxis",
          "size": [
           544,
           544,
           544,
           492,
           735,
           812,
           992,
           1480,
           403,
           544,
           445,
           1480,
           2208,
           1808,
           735,
           735,
           544,
           544,
           665,
           601,
           992,
           403,
           1480,
           1211,
           992,
           445,
           544,
           544,
           544,
           492,
           492,
           445,
           403,
           492,
           665,
           1096,
           403,
           544,
           544,
           492,
           492,
           403,
           492,
           1096,
           544,
           601,
           403,
           492,
           812,
           2440,
           544,
           544,
           403,
           445,
           665,
           403,
           445,
           897,
           403,
           735,
           544,
           492,
           403,
           665,
           1635,
           601,
           601,
           403,
           1480,
           544,
           544,
           1096,
           1211,
           445,
           665,
           492,
           665,
           992,
           403,
           403,
           403,
           1339,
           445,
           403,
           492,
           492,
           403,
           544,
           665,
           665,
           665,
           897,
           403,
           403,
           445,
           735,
           445,
           492,
           665,
           445,
           403,
           445,
           544,
           665,
           665,
           601,
           1480,
           445,
           403,
           665,
           544,
           735,
           8955,
           897,
           544,
           601,
           544,
           492,
           544,
           601,
           812,
           492,
           492,
           492,
           544,
           2697,
           735,
           665,
           492,
           492,
           1998,
           445,
           601,
           492,
           492,
           445,
           403,
           544,
           544,
           445,
           445,
           544,
           403,
           492,
           445,
           665,
           445,
           403,
           403,
           403,
           403,
           665,
           544,
           403,
           544,
           492,
           665,
           492,
           445,
           665,
           492,
           492,
           403,
           445,
           403,
           403,
           492,
           445,
           403,
           601,
           492,
           544,
           897,
           492,
           403,
           492,
           492,
           601,
           403,
           445,
           601,
           812,
           812,
           1211,
           403,
           812,
           492,
           403,
           665,
           492,
           897,
           403,
           445,
           492,
           445,
           897,
           403,
           445,
           403,
           445,
           665,
           544,
           445,
           601,
           403,
           601,
           544,
           665,
           403,
           812,
           1480,
           445,
           601,
           1998,
           403,
           1096,
           665,
           445,
           403,
           492,
           492,
           403,
           544,
           544,
           544,
           403,
           812,
           601,
           445,
           735,
           403,
           445,
           403,
           403,
           492,
           492,
           544,
           1211,
           665,
           1096,
           445,
           1096,
           445,
           992,
           403,
           992,
           812,
           601,
           1096,
           492,
           812,
           403,
           665,
           403,
           403,
           492,
           1480,
           812,
           403,
           992,
           601,
           445,
           492,
           665,
           403,
           403,
           492,
           1635,
           1211,
           403,
           403,
           1096,
           492,
           492,
           403,
           992,
           403,
           601,
           403,
           735,
           445,
           492,
           445,
           403,
           445,
           665,
           544,
           445,
           1211,
           403,
           812,
           897,
           601,
           1339,
           735,
           403,
           492,
           403,
           445,
           544,
           601,
           1096,
           445,
           445,
           403,
           812,
           403,
           403,
           601,
           403,
           812,
           735,
           445,
           735,
           1096,
           445,
           403,
           492,
           544,
           1808,
           735,
           1211,
           403,
           403,
           445,
           445,
           5431,
           403,
           3640,
           403,
           812,
           445,
           1096,
           492,
           544,
           544,
           812,
           992,
           492,
           812,
           403,
           403,
           812,
           403,
           544,
           544,
           445,
           601,
           403,
           403,
           544,
           403,
           812,
           403,
           544,
           544,
           445,
           403,
           492,
           445,
           403,
           544,
           403,
           445,
           403,
           544,
           544,
           601,
           403,
           403,
           601,
           665,
           735,
           665,
           403,
           445,
           492,
           665,
           544,
           492,
           2208,
           544,
           492,
           735,
           1480,
           812,
           1998,
           544,
           403,
           1998,
           445,
           403,
           544,
           544,
           665,
           1339,
           403,
           403,
           492,
           735,
           735,
           403,
           492,
           601,
           2440,
           601,
           492,
           445,
           1635,
           492,
           403,
           897,
           601,
           544,
           403,
           492,
           445,
           665,
           403,
           403,
           445,
           1339,
           492,
           544,
           1211,
           403,
           601,
           403,
           445,
           445,
           812,
           1808,
           445,
           445,
           492,
           897,
           445,
           445,
           403,
           601,
           544,
           992,
           403,
           2697,
           1211,
           1096,
           445,
           445,
           403,
           812,
           897,
           1096,
           1096,
           735,
           403,
           812,
           492,
           445,
           897,
           601,
           665,
           665,
           403,
           403,
           403,
           492,
           403,
           403,
           544,
           1096,
           544,
           403,
           665,
           2208,
           735,
           1339,
           445,
           735,
           403,
           445,
           445,
           445,
           665,
           492,
           492,
           544,
           897,
           403,
           544,
           403,
           492,
           1635,
           544,
           4023,
           812,
           544,
           403,
           735,
           403,
           544,
           601,
           445,
           665,
           445,
           403,
           445,
           1480,
           735,
           1480,
           403,
           665,
           403,
           544,
           403,
           445,
           544,
           403,
           445,
           492,
           492,
           735,
           665,
           492,
           492,
           492,
           1096,
           403,
           665,
           445,
           665,
           403,
           665,
           403,
           403,
           403,
           601,
           403,
           445,
           445,
           2440,
           403,
           1096,
           897,
           601,
           812,
           601,
           403,
           492,
           735,
           492,
           403,
           897,
           1211,
           897,
           735,
           403,
           735,
           1211,
           403,
           544,
           544,
           665,
           403,
           492,
           403,
           665,
           403,
           992,
           2440,
           445,
           403,
           665,
           403,
           992,
           665,
           403,
           445,
           492,
           665,
           544,
           544,
           492,
           492,
           445,
           492,
           601,
           403,
           665,
           992,
           665,
           445,
           492,
           665,
           403,
           601,
           992,
           403,
           601,
           445,
           544,
           445,
           544,
           812,
           601,
           601,
           492,
           492,
           601,
           403,
           3294,
           1096,
           403,
           735,
           2208,
           665,
           492,
           403,
           445,
           445,
           1211,
           665,
           735,
           445,
           1998,
           1635,
           735,
           897,
           492,
           445,
           1480,
           735,
           1808,
           492,
           735,
           445,
           735,
           735,
           601,
           403,
           492,
           492,
           403,
           665,
           403,
           445,
           601,
           665,
           492,
           544,
           492,
           403,
           445,
           992,
           492,
           665,
           492,
           992,
           665,
           812,
           2697,
           403,
           403,
           403,
           601,
           492,
           897,
           403,
           601,
           735,
           492,
           445,
           403,
           601,
           544,
           601,
           445,
           992,
           492,
           492,
           735,
           665,
           544,
           492,
           403,
           544,
           492,
           403,
           544,
           992,
           403,
           445,
           601,
           445,
           403,
           897,
           403,
           492,
           492,
           492,
           445,
           445,
           492,
           403,
           601,
           445,
           897,
           897,
           403,
           403,
           445,
           445,
           544,
           897,
           492,
           445,
           544,
           403,
           445,
           445,
           1096,
           735,
           403,
           1480,
           403,
           403,
           1211,
           403,
           544,
           735,
           1998,
           403,
           1096,
           812,
           492,
           665,
           445,
           492,
           897,
           735,
           403,
           403,
           735,
           403,
           735,
           445,
           403,
           403,
           601,
           403,
           403,
           445,
           403,
           403,
           665,
           897,
           492,
           403,
           403,
           544,
           812,
           1211,
           492,
           544,
           812,
           445,
           601,
           492,
           403,
           492,
           1096,
           492,
           403,
           492,
           445,
           544,
           445,
           445,
           601,
           1808,
           403,
           544,
           601,
           403,
           544,
           445,
           665,
           601,
           403,
           492,
           403,
           492,
           2697,
           445,
           812,
           812,
           445,
           735,
           812,
           403,
           1808,
           445,
           1096,
           1339,
           445,
           897,
           403,
           735,
           403,
           897,
           1096,
           992,
           544,
           544,
           897,
           2697,
           403,
           492,
           403,
           445,
           445,
           403,
           403,
           992,
           601,
           403,
           665,
           403,
           601,
           445,
           544,
           812,
           665,
           992,
           992,
           1096,
           601,
           403,
           735,
           665,
           403,
           601,
           403,
           403,
           403,
           544,
           403,
           812,
           544,
           544,
           445,
           4023,
           601,
           445,
           445,
           1096,
           601,
           665,
           897,
           812,
           492,
           403,
           445,
           492,
           492,
           445,
           445,
           735,
           445,
           403,
           735,
           735,
           544,
           403,
           445,
           403,
           403,
           403,
           1211,
           492,
           403,
           403,
           1808,
           665,
           492,
           897,
           735,
           665,
           992,
           992,
           812,
           665,
           897,
           445,
           403,
           1998,
           1998,
           812,
           492,
           1211,
           1339,
           992,
           445,
           735,
           403,
           445,
           492,
           544,
           544,
           812,
           812,
           403,
           665,
           492,
           445,
           812,
           735,
           1211,
           544,
           1339,
           403,
           492,
           601,
           601,
           544,
           544,
           445,
           403,
           445,
           2440,
           544,
           403,
           403,
           601,
           492,
           492,
           992,
           812,
           445,
           812,
           735,
           992,
           403,
           492,
           403,
           601,
           445,
           1096,
           2440,
           492,
           492,
           403,
           403,
           403,
           403,
           1096,
           735,
           812,
           992,
           403,
           601,
           992,
           1339,
           601,
           735,
           544,
           445,
           544,
           544,
           445,
           445,
           492,
           492,
           544,
           403,
           445,
           544,
           601,
           403,
           403,
           544,
           544,
           445,
           445,
           601,
           2208,
           492,
           544,
           1339,
           492,
           1635,
           403,
           403,
           601,
           403,
           492,
           897,
           1211,
           812,
           1096,
           445,
           445,
           445,
           445,
           403,
           403,
           403,
           445,
           492,
           544,
           601,
           992,
           544,
           992,
           735,
           492,
           445,
           445,
           735,
           601,
           445,
           2440,
           665,
           445,
           492,
           665,
           601,
           992,
           1096,
           735,
           492,
           403,
           544,
           665,
           665,
           2440,
           665,
           992,
           445,
           403,
           2697,
           544,
           403,
           492,
           601,
           601,
           812,
           403,
           1998,
           544,
           544,
           992,
           403,
           1480,
           544,
           665,
           2697,
           544,
           665,
           544,
           665,
           992,
           445,
           544,
           403,
           403,
           445,
           735,
           665,
           445,
           492,
           403,
           403,
           992,
           992,
           492,
           492,
           403,
           492,
           403,
           897,
           665,
           492,
           492,
           403,
           735,
           897,
           544,
           992,
           403,
           445,
           897,
           492,
           403,
           403,
           403,
           665,
           735,
           601,
           544,
           2208,
           601,
           403,
           735,
           403,
           403,
           665,
           544,
           492,
           601,
           735,
           601,
           544,
           544,
           544,
           403,
           445,
           3294,
           1211,
           445,
           445,
           601,
           445,
           601,
           492,
           445,
           544,
           735,
           544,
           812,
           445,
           812,
           897,
           445,
           445,
           735,
           403,
           897,
           665,
           403,
           445,
           1480,
           665,
           601,
           544,
           735,
           1096,
           403,
           403,
           403,
           665,
           445,
           403,
           492,
           601,
           601,
           445,
           403,
           403,
           665,
           665,
           1808,
           403,
           1211,
           544,
           544,
           403,
           2697,
           544,
           492,
           544,
           735,
           445,
           403,
           403,
           445,
           601,
           403,
           1339,
           1808,
           403,
           445,
           544,
           445,
           445,
           403,
           812,
           897,
           544,
           403,
           601,
           735,
           992,
           445,
           897,
           403,
           544,
           492,
           403,
           403,
           403,
           992,
           445,
           403,
           492,
           445,
           445,
           445,
           403,
           601,
           403,
           403,
           403,
           403,
           403,
           601,
           992,
           544,
           403,
           445,
           735,
           544,
           665,
           445,
           3640,
           544,
           544,
           897,
           992,
           1480,
           665,
           492,
           403,
           1211,
           403,
           492,
           601,
           1211,
           735,
           2697,
           492,
           492,
           665,
           992,
           544,
           665,
           403,
           445,
           1808,
           812,
           403,
           445,
           403,
           445,
           1096,
           492,
           665,
           812,
           544,
           601,
           735,
           897,
           665,
           897,
           445,
           544,
           445,
           492,
           403,
           812,
           445,
           544,
           445,
           601,
           544,
           445,
           897,
           403,
           544,
           1096,
           601,
           403,
           1808,
           735,
           1211,
           544,
           445,
           544,
           1480,
           403,
           601,
           445,
           1096,
           403,
           897,
           735,
           544,
           735,
           492,
           403,
           812,
           403,
           601,
           812,
           492,
           492,
           735,
           445,
           403,
           403,
           492,
           601,
           1808,
           1096,
           601,
           403,
           492,
           445,
           544,
           544,
           445,
           445,
           492,
           492,
           492,
           403,
           601,
           601,
           544,
           665,
           403,
           897,
           445,
           665,
           445,
           403,
           601,
           403,
           544,
           492,
           1211,
           445,
           403,
           1808,
           544,
           403,
           544,
           445,
           2980,
           735,
           403,
           445,
           403,
           544,
           601,
           445,
           1480,
           544,
           403,
           601,
           601,
           544,
           544,
           445,
           1480,
           544,
           544,
           492,
           544,
           601,
           403,
           492,
           601,
           1211,
           992,
           403,
           445,
           735,
           1480,
           492,
           403,
           403,
           544,
           735,
           897,
           403,
           992,
           544,
           403,
           403,
           403,
           735,
           544,
           735,
           445,
           403,
           403,
           665,
           445,
           445,
           492,
           812,
           601,
           601,
           544,
           735,
           665,
           445,
           445,
           735,
           544,
           403,
           403,
           665,
           445,
           1211,
           403,
           544,
           544,
           492,
           492,
           544,
           601,
           403,
           403,
           403,
           403,
           403,
           403,
           897,
           445,
           403,
           403,
           403,
           403,
           544,
           445,
           544,
           601,
           403,
           601,
           403,
           403,
           445,
           445,
           492,
           812,
           445,
           544,
           2208,
           445,
           403,
           492,
           403,
           403,
           445,
           1096,
           403,
           601,
           403,
           445,
           492,
           445,
           1808,
           445,
           880,
           403,
           445,
           403,
           403,
           735,
           544,
           492,
           735,
           897,
           445,
           735,
           665,
           445,
           445,
           445,
           897,
           445,
           601,
           403,
           735,
           492,
           1635,
           403,
           403,
           1635,
           544,
           492,
           812,
           1096,
           445,
           445,
           403,
           2440,
           445,
           544,
           601,
           445,
           601,
           445,
           601,
           544,
           403,
           735,
           897,
           992,
           992,
           403,
           403,
           403,
           492,
           665,
           445,
           897,
           544,
           665,
           544,
           492,
           812,
           544,
           403,
           492,
           445,
           601,
           403,
           992,
           445,
           601,
           403,
           403,
           544,
           1998,
           445,
           1096,
           403,
           403,
           445,
           403,
           403,
           445,
           601,
           544,
           601,
           403,
           445,
           445,
           403,
           445,
           544,
           445,
           544,
           812,
           601,
           445,
           492,
           445,
           544,
           445,
           445,
           445,
           812,
           492,
           601,
           1096,
           992,
           812,
           403,
           544,
           403,
           492,
           445,
           2208,
           445,
           492,
           403,
           1211,
           492,
           812,
           445,
           445,
           445,
           544,
           1480,
           445,
           1635,
           3294,
           445,
           445,
           544,
           492,
           544,
           445,
           492,
           492,
           445,
           403,
           403,
           735,
           403,
           403,
           403,
           1096,
           665,
           403,
           735,
           403,
           445,
           403,
           445,
           403,
           445,
           665,
           601,
           445,
           403,
           445,
           897,
           403,
           445,
           403,
           812,
           403,
           403,
           812,
           812,
           445,
           1480,
           665,
           445,
           445,
           665,
           445,
           403,
           403,
           445,
           403,
           812,
           812,
           445,
           492,
           3640,
           492,
           445,
           1808,
           3294,
           812,
           445,
           544,
           992,
           1339,
           992,
           445,
           992,
           403,
           735,
           1211,
           403,
           601,
           403,
           1096,
           492,
           445,
           601,
           665,
           445,
           403,
           665,
           445,
           1480,
           403,
           544,
           992,
           497,
           992,
           601,
           601,
           445,
           445,
           492,
           403,
           403,
           403,
           544,
           735,
           735,
           403,
           403,
           544,
           403,
           492,
           445,
           492,
           1808,
           544,
           735,
           544,
           445,
           445,
           403,
           403,
           735,
           1480,
           403,
           403,
           492,
           403,
           492,
           403,
           445,
           1480,
           403,
           492,
           403,
           445,
           735,
           492,
           403,
           735,
           897,
           735,
           735,
           445,
           544,
           403,
           492,
           403,
           492,
           445,
           665,
           403,
           665,
           544,
           492,
           403,
           492,
           897,
           544,
           403,
           445,
           735,
           403,
           445,
           601,
           812,
           812,
           403,
           1480,
           544,
           403,
           812,
           812,
           403,
           992,
           1096,
           601,
           403,
           544,
           445,
           445,
           445,
           403,
           735,
           445,
           403,
           544,
           544,
           897,
           992,
           445,
           544,
           403,
           1339,
           735,
           492,
           492,
           544,
           601,
           544,
           665,
           403,
           403
          ],
          "sizemode": "area",
          "sizeref": 22.3875,
          "symbol": "circle"
         },
         "mode": "markers",
         "name": "",
         "showlegend": false,
         "type": "scattergeo"
        }
       ],
       "layout": {
        "coloraxis": {
         "cmax": 9,
         "cmin": 6,
         "colorbar": {
          "title": {
           "text": "magnitude"
          }
         },
         "colorscale": [
          [
           0,
           "#0d0887"
          ],
          [
           0.1111111111111111,
           "#46039f"
          ],
          [
           0.2222222222222222,
           "#7201a8"
          ],
          [
           0.3333333333333333,
           "#9c179e"
          ],
          [
           0.4444444444444444,
           "#bd3786"
          ],
          [
           0.5555555555555556,
           "#d8576b"
          ],
          [
           0.6666666666666666,
           "#ed7953"
          ],
          [
           0.7777777777777778,
           "#fb9f3a"
          ],
          [
           0.8888888888888888,
           "#fdca26"
          ],
          [
           1,
           "#f0f921"
          ]
         ]
        },
        "geo": {
         "center": {},
         "domain": {
          "x": [
           0,
           1
          ],
          "y": [
           0,
           1
          ]
         },
         "projection": {
          "type": "orthographic"
         },
         "resolution": 110,
         "showcountries": true
        },
        "height": 600,
        "legend": {
         "itemsizing": "constant",
         "tracegroupgap": 0
        },
        "margin": {
         "t": 60
        },
        "template": {
         "data": {
          "bar": [
           {
            "error_x": {
             "color": "#2a3f5f"
            },
            "error_y": {
             "color": "#2a3f5f"
            },
            "marker": {
             "line": {
              "color": "#E5ECF6",
              "width": 0.5
             },
             "pattern": {
              "fillmode": "overlay",
              "size": 10,
              "solidity": 0.2
             }
            },
            "type": "bar"
           }
          ],
          "barpolar": [
           {
            "marker": {
             "line": {
              "color": "#E5ECF6",
              "width": 0.5
             },
             "pattern": {
              "fillmode": "overlay",
              "size": 10,
              "solidity": 0.2
             }
            },
            "type": "barpolar"
           }
          ],
          "carpet": [
           {
            "aaxis": {
             "endlinecolor": "#2a3f5f",
             "gridcolor": "white",
             "linecolor": "white",
             "minorgridcolor": "white",
             "startlinecolor": "#2a3f5f"
            },
            "baxis": {
             "endlinecolor": "#2a3f5f",
             "gridcolor": "white",
             "linecolor": "white",
             "minorgridcolor": "white",
             "startlinecolor": "#2a3f5f"
            },
            "type": "carpet"
           }
          ],
          "choropleth": [
           {
            "colorbar": {
             "outlinewidth": 0,
             "ticks": ""
            },
            "type": "choropleth"
           }
          ],
          "contour": [
           {
            "colorbar": {
             "outlinewidth": 0,
             "ticks": ""
            },
            "colorscale": [
             [
              0,
              "#0d0887"
             ],
             [
              0.1111111111111111,
              "#46039f"
             ],
             [
              0.2222222222222222,
              "#7201a8"
             ],
             [
              0.3333333333333333,
              "#9c179e"
             ],
             [
              0.4444444444444444,
              "#bd3786"
             ],
             [
              0.5555555555555556,
              "#d8576b"
             ],
             [
              0.6666666666666666,
              "#ed7953"
             ],
             [
              0.7777777777777778,
              "#fb9f3a"
             ],
             [
              0.8888888888888888,
              "#fdca26"
             ],
             [
              1,
              "#f0f921"
             ]
            ],
            "type": "contour"
           }
          ],
          "contourcarpet": [
           {
            "colorbar": {
             "outlinewidth": 0,
             "ticks": ""
            },
            "type": "contourcarpet"
           }
          ],
          "heatmap": [
           {
            "colorbar": {
             "outlinewidth": 0,
             "ticks": ""
            },
            "colorscale": [
             [
              0,
              "#0d0887"
             ],
             [
              0.1111111111111111,
              "#46039f"
             ],
             [
              0.2222222222222222,
              "#7201a8"
             ],
             [
              0.3333333333333333,
              "#9c179e"
             ],
             [
              0.4444444444444444,
              "#bd3786"
             ],
             [
              0.5555555555555556,
              "#d8576b"
             ],
             [
              0.6666666666666666,
              "#ed7953"
             ],
             [
              0.7777777777777778,
              "#fb9f3a"
             ],
             [
              0.8888888888888888,
              "#fdca26"
             ],
             [
              1,
              "#f0f921"
             ]
            ],
            "type": "heatmap"
           }
          ],
          "heatmapgl": [
           {
            "colorbar": {
             "outlinewidth": 0,
             "ticks": ""
            },
            "colorscale": [
             [
              0,
              "#0d0887"
             ],
             [
              0.1111111111111111,
              "#46039f"
             ],
             [
              0.2222222222222222,
              "#7201a8"
             ],
             [
              0.3333333333333333,
              "#9c179e"
             ],
             [
              0.4444444444444444,
              "#bd3786"
             ],
             [
              0.5555555555555556,
              "#d8576b"
             ],
             [
              0.6666666666666666,
              "#ed7953"
             ],
             [
              0.7777777777777778,
              "#fb9f3a"
             ],
             [
              0.8888888888888888,
              "#fdca26"
             ],
             [
              1,
              "#f0f921"
             ]
            ],
            "type": "heatmapgl"
           }
          ],
          "histogram": [
           {
            "marker": {
             "pattern": {
              "fillmode": "overlay",
              "size": 10,
              "solidity": 0.2
             }
            },
            "type": "histogram"
           }
          ],
          "histogram2d": [
           {
            "colorbar": {
             "outlinewidth": 0,
             "ticks": ""
            },
            "colorscale": [
             [
              0,
              "#0d0887"
             ],
             [
              0.1111111111111111,
              "#46039f"
             ],
             [
              0.2222222222222222,
              "#7201a8"
             ],
             [
              0.3333333333333333,
              "#9c179e"
             ],
             [
              0.4444444444444444,
              "#bd3786"
             ],
             [
              0.5555555555555556,
              "#d8576b"
             ],
             [
              0.6666666666666666,
              "#ed7953"
             ],
             [
              0.7777777777777778,
              "#fb9f3a"
             ],
             [
              0.8888888888888888,
              "#fdca26"
             ],
             [
              1,
              "#f0f921"
             ]
            ],
            "type": "histogram2d"
           }
          ],
          "histogram2dcontour": [
           {
            "colorbar": {
             "outlinewidth": 0,
             "ticks": ""
            },
            "colorscale": [
             [
              0,
              "#0d0887"
             ],
             [
              0.1111111111111111,
              "#46039f"
             ],
             [
              0.2222222222222222,
              "#7201a8"
             ],
             [
              0.3333333333333333,
              "#9c179e"
             ],
             [
              0.4444444444444444,
              "#bd3786"
             ],
             [
              0.5555555555555556,
              "#d8576b"
             ],
             [
              0.6666666666666666,
              "#ed7953"
             ],
             [
              0.7777777777777778,
              "#fb9f3a"
             ],
             [
              0.8888888888888888,
              "#fdca26"
             ],
             [
              1,
              "#f0f921"
             ]
            ],
            "type": "histogram2dcontour"
           }
          ],
          "mesh3d": [
           {
            "colorbar": {
             "outlinewidth": 0,
             "ticks": ""
            },
            "type": "mesh3d"
           }
          ],
          "parcoords": [
           {
            "line": {
             "colorbar": {
              "outlinewidth": 0,
              "ticks": ""
             }
            },
            "type": "parcoords"
           }
          ],
          "pie": [
           {
            "automargin": true,
            "type": "pie"
           }
          ],
          "scatter": [
           {
            "fillpattern": {
             "fillmode": "overlay",
             "size": 10,
             "solidity": 0.2
            },
            "type": "scatter"
           }
          ],
          "scatter3d": [
           {
            "line": {
             "colorbar": {
              "outlinewidth": 0,
              "ticks": ""
             }
            },
            "marker": {
             "colorbar": {
              "outlinewidth": 0,
              "ticks": ""
             }
            },
            "type": "scatter3d"
           }
          ],
          "scattercarpet": [
           {
            "marker": {
             "colorbar": {
              "outlinewidth": 0,
              "ticks": ""
             }
            },
            "type": "scattercarpet"
           }
          ],
          "scattergeo": [
           {
            "marker": {
             "colorbar": {
              "outlinewidth": 0,
              "ticks": ""
             }
            },
            "type": "scattergeo"
           }
          ],
          "scattergl": [
           {
            "marker": {
             "colorbar": {
              "outlinewidth": 0,
              "ticks": ""
             }
            },
            "type": "scattergl"
           }
          ],
          "scattermapbox": [
           {
            "marker": {
             "colorbar": {
              "outlinewidth": 0,
              "ticks": ""
             }
            },
            "type": "scattermapbox"
           }
          ],
          "scatterpolar": [
           {
            "marker": {
             "colorbar": {
              "outlinewidth": 0,
              "ticks": ""
             }
            },
            "type": "scatterpolar"
           }
          ],
          "scatterpolargl": [
           {
            "marker": {
             "colorbar": {
              "outlinewidth": 0,
              "ticks": ""
             }
            },
            "type": "scatterpolargl"
           }
          ],
          "scatterternary": [
           {
            "marker": {
             "colorbar": {
              "outlinewidth": 0,
              "ticks": ""
             }
            },
            "type": "scatterternary"
           }
          ],
          "surface": [
           {
            "colorbar": {
             "outlinewidth": 0,
             "ticks": ""
            },
            "colorscale": [
             [
              0,
              "#0d0887"
             ],
             [
              0.1111111111111111,
              "#46039f"
             ],
             [
              0.2222222222222222,
              "#7201a8"
             ],
             [
              0.3333333333333333,
              "#9c179e"
             ],
             [
              0.4444444444444444,
              "#bd3786"
             ],
             [
              0.5555555555555556,
              "#d8576b"
             ],
             [
              0.6666666666666666,
              "#ed7953"
             ],
             [
              0.7777777777777778,
              "#fb9f3a"
             ],
             [
              0.8888888888888888,
              "#fdca26"
             ],
             [
              1,
              "#f0f921"
             ]
            ],
            "type": "surface"
           }
          ],
          "table": [
           {
            "cells": {
             "fill": {
              "color": "#EBF0F8"
             },
             "line": {
              "color": "white"
             }
            },
            "header": {
             "fill": {
              "color": "#C8D4E3"
             },
             "line": {
              "color": "white"
             }
            },
            "type": "table"
           }
          ]
         },
         "layout": {
          "annotationdefaults": {
           "arrowcolor": "#2a3f5f",
           "arrowhead": 0,
           "arrowwidth": 1
          },
          "autotypenumbers": "strict",
          "coloraxis": {
           "colorbar": {
            "outlinewidth": 0,
            "ticks": ""
           }
          },
          "colorscale": {
           "diverging": [
            [
             0,
             "#8e0152"
            ],
            [
             0.1,
             "#c51b7d"
            ],
            [
             0.2,
             "#de77ae"
            ],
            [
             0.3,
             "#f1b6da"
            ],
            [
             0.4,
             "#fde0ef"
            ],
            [
             0.5,
             "#f7f7f7"
            ],
            [
             0.6,
             "#e6f5d0"
            ],
            [
             0.7,
             "#b8e186"
            ],
            [
             0.8,
             "#7fbc41"
            ],
            [
             0.9,
             "#4d9221"
            ],
            [
             1,
             "#276419"
            ]
           ],
           "sequential": [
            [
             0,
             "#0d0887"
            ],
            [
             0.1111111111111111,
             "#46039f"
            ],
            [
             0.2222222222222222,
             "#7201a8"
            ],
            [
             0.3333333333333333,
             "#9c179e"
            ],
            [
             0.4444444444444444,
             "#bd3786"
            ],
            [
             0.5555555555555556,
             "#d8576b"
            ],
            [
             0.6666666666666666,
             "#ed7953"
            ],
            [
             0.7777777777777778,
             "#fb9f3a"
            ],
            [
             0.8888888888888888,
             "#fdca26"
            ],
            [
             1,
             "#f0f921"
            ]
           ],
           "sequentialminus": [
            [
             0,
             "#0d0887"
            ],
            [
             0.1111111111111111,
             "#46039f"
            ],
            [
             0.2222222222222222,
             "#7201a8"
            ],
            [
             0.3333333333333333,
             "#9c179e"
            ],
            [
             0.4444444444444444,
             "#bd3786"
            ],
            [
             0.5555555555555556,
             "#d8576b"
            ],
            [
             0.6666666666666666,
             "#ed7953"
            ],
            [
             0.7777777777777778,
             "#fb9f3a"
            ],
            [
             0.8888888888888888,
             "#fdca26"
            ],
            [
             1,
             "#f0f921"
            ]
           ]
          },
          "colorway": [
           "#636efa",
           "#EF553B",
           "#00cc96",
           "#ab63fa",
           "#FFA15A",
           "#19d3f3",
           "#FF6692",
           "#B6E880",
           "#FF97FF",
           "#FECB52"
          ],
          "font": {
           "color": "#2a3f5f"
          },
          "geo": {
           "bgcolor": "white",
           "lakecolor": "white",
           "landcolor": "#E5ECF6",
           "showlakes": true,
           "showland": true,
           "subunitcolor": "white"
          },
          "hoverlabel": {
           "align": "left"
          },
          "hovermode": "closest",
          "mapbox": {
           "style": "light"
          },
          "paper_bgcolor": "white",
          "plot_bgcolor": "#E5ECF6",
          "polar": {
           "angularaxis": {
            "gridcolor": "white",
            "linecolor": "white",
            "ticks": ""
           },
           "bgcolor": "#E5ECF6",
           "radialaxis": {
            "gridcolor": "white",
            "linecolor": "white",
            "ticks": ""
           }
          },
          "scene": {
           "xaxis": {
            "backgroundcolor": "#E5ECF6",
            "gridcolor": "white",
            "gridwidth": 2,
            "linecolor": "white",
            "showbackground": true,
            "ticks": "",
            "zerolinecolor": "white"
           },
           "yaxis": {
            "backgroundcolor": "#E5ECF6",
            "gridcolor": "white",
            "gridwidth": 2,
            "linecolor": "white",
            "showbackground": true,
            "ticks": "",
            "zerolinecolor": "white"
           },
           "zaxis": {
            "backgroundcolor": "#E5ECF6",
            "gridcolor": "white",
            "gridwidth": 2,
            "linecolor": "white",
            "showbackground": true,
            "ticks": "",
            "zerolinecolor": "white"
           }
          },
          "shapedefaults": {
           "line": {
            "color": "#2a3f5f"
           }
          },
          "ternary": {
           "aaxis": {
            "gridcolor": "white",
            "linecolor": "white",
            "ticks": ""
           },
           "baxis": {
            "gridcolor": "white",
            "linecolor": "white",
            "ticks": ""
           },
           "bgcolor": "#E5ECF6",
           "caxis": {
            "gridcolor": "white",
            "linecolor": "white",
            "ticks": ""
           }
          },
          "title": {
           "x": 0.05
          },
          "xaxis": {
           "automargin": true,
           "gridcolor": "white",
           "linecolor": "white",
           "ticks": "",
           "title": {
            "standoff": 15
           },
           "zerolinecolor": "white",
           "zerolinewidth": 2
          },
          "yaxis": {
           "automargin": true,
           "gridcolor": "white",
           "linecolor": "white",
           "ticks": "",
           "title": {
            "standoff": 15
           },
           "zerolinecolor": "white",
           "zerolinewidth": 2
          }
         }
        },
        "width": 600
       }
      },
      "image/png": "[encoded data removed]"
     },
     "metadata": {},
     "output_type": "display_data"
    }
   ],
   "source": [
    "fig = px.scatter_geo(quake,\n",
    "                     lat='latitude',lon='longitude', \n",
    "                     range_color=(6,9),\n",
    "                     height=600, width=600,\n",
    "                     size='marker_size', color='magnitude',\n",
    "                     hover_name=\"description\",\n",
    "                     hover_data=['description','magnitude','depth']);\n",
    "fig.update_geos(resolution=110, showcountries=True)\n",
    "fig.update_geos(resolution=110, showcountries=True,projection_type=\"orthographic\")\n"
   ]
  },
  {
   "cell_type": "code",
   "execution_count": null,
   "id": "97c76de6-ea8a-4660-af7b-22d752378293",
   "metadata": {},
   "outputs": [],
   "source": []
  },
  {
   "cell_type": "code",
   "execution_count": null,
   "id": "c01fbd96-419b-4937-8c06-8fa085d2af80",
   "metadata": {},
   "outputs": [],
   "source": []
  },
  {
   "cell_type": "markdown",
   "id": "5e62e8a4",
   "metadata": {},
   "source": [
    "The data was sorted by time. We now want to sort and show the data instead by magnitude. We use the pandas function ``sort`` to create a new DataFrame with sorted values."
   ]
  },
  {
   "cell_type": "code",
   "execution_count": null,
   "id": "aaf5d9b8",
   "metadata": {},
   "outputs": [],
   "source": [
    "quakes2plot=quake.sort_values(by='magnitude bin')\n",
    "\n",
    "quakes2plot.head()"
   ]
  },
  {
   "cell_type": "markdown",
   "id": "6070d810",
   "metadata": {},
   "source": [
    "Now we will plot again using Plotly"
   ]
  },
  {
   "cell_type": "code",
   "execution_count": null,
   "id": "141a51fd",
   "metadata": {},
   "outputs": [],
   "source": [
    "fig = px.scatter_geo(quakes2plot,\n",
    "                     lat='latitude',lon='longitude', \n",
    "                     range_color=(6,9),\n",
    "                     height=600, width=600,\n",
    "                     size='marker_size', color='magnitude',\n",
    "                     hover_name=\"description\",\n",
    "                     hover_data=['description','magnitude','depth']);\n",
    "fig.update_geos(resolution=110, showcountries=True)\n",
    "# fig.update_geos(resolution=110, showcountries=True,projection_type=\"orthographic\")\n"
   ]
  },
  {
   "cell_type": "markdown",
   "id": "79cc6849",
   "metadata": {},
   "source": [
    "## Creating a new DataFrame from a text file\n",
    "\n",
    "The python package pandas is also very useful to parse many text files that are more or less formated as one observation per row and one column for each feature."
   ]
  },
  {
   "cell_type": "markdown",
   "id": "43d2662f",
   "metadata": {},
   "source": [
    "As an example, we are going to look at the list of seismic stations from the Northern California seismic network, available [here](http://ncedc.org/ftp/pub/doc/NC.info/NC.channel.summary.day):\n",
    "\n"
   ]
  },
  {
   "cell_type": "code",
   "execution_count": null,
   "id": "e2b0db2d",
   "metadata": {},
   "outputs": [],
   "source": [
    "url = 'http://ncedc.org/ftp/pub/doc/NC.info/NC.channel.summary.day'"
   ]
  },
  {
   "cell_type": "markdown",
   "id": "c3737498",
   "metadata": {},
   "source": [
    "However, many options are available if the file is not well formatted. See more in this [tutorial](https://pandas.pydata.org/pandas-docs/stable/reference/api/pandas.read_csv.html):\n",
    "\n"
   ]
  },
  {
   "cell_type": "code",
   "execution_count": null,
   "id": "8de7981b",
   "metadata": {},
   "outputs": [],
   "source": [
    "# this gets the file linked in the URL page and convert it to a string\n",
    "s = requests.get(url).content "
   ]
  },
  {
   "cell_type": "code",
   "execution_count": null,
   "id": "d148953b",
   "metadata": {},
   "outputs": [],
   "source": [
    "\n",
    "# this will convert the string, decode it , and make it a table\n",
    "data = pd.read_csv(io.StringIO(s.decode('utf-8')), header=None, skiprows=2, sep='\\s+', usecols=list(range(0, 13)))\n",
    "# because columns/keys were not assigned, assign them now\n",
    "data.columns = ['station', 'network', 'channel', 'location', 'rate', 'start_time', 'end_time', 'latitude', 'longitude', 'elevation', 'depth', 'dip', 'azimuth']"
   ]
  },
  {
   "cell_type": "markdown",
   "id": "a2a04924",
   "metadata": {},
   "source": [
    "Let us look at the data. They are now stored into a pandas dataframe. Read the top of the table:"
   ]
  },
  {
   "cell_type": "code",
   "execution_count": null,
   "id": "a39168b5",
   "metadata": {},
   "outputs": [],
   "source": [
    "data.head()"
   ]
  },
  {
   "cell_type": "markdown",
   "id": "896206be",
   "metadata": {},
   "source": [
    "We can output the first element of the DataFrame:"
   ]
  },
  {
   "cell_type": "code",
   "execution_count": null,
   "id": "a28662a7",
   "metadata": {},
   "outputs": [],
   "source": [
    "data.iloc[0]"
   ]
  },
  {
   "cell_type": "code",
   "execution_count": null,
   "id": "4c7799bb",
   "metadata": {},
   "outputs": [],
   "source": [
    "data.iloc[:, 0]"
   ]
  },
  {
   "cell_type": "markdown",
   "id": "f1ba79a1",
   "metadata": {},
   "source": [
    "The DataFrame may have bad values. A typical data cleaning involves removing Nan and Zeros for instance."
   ]
  },
  {
   "cell_type": "code",
   "execution_count": null,
   "id": "22a698f8",
   "metadata": {},
   "outputs": [],
   "source": [
    "data.dropna(inplace=True)\n",
    "data=data[data.longitude!=0]"
   ]
  },
  {
   "cell_type": "markdown",
   "id": "23510633",
   "metadata": {},
   "source": [
    "Use Plotly to map the stations."
   ]
  },
  {
   "cell_type": "code",
   "execution_count": null,
   "id": "eaf74a8a",
   "metadata": {},
   "outputs": [],
   "source": [
    "fig = px.scatter_geo(data,\n",
    "                     lat='latitude',lon='longitude', \n",
    "                     range_color=(6,9),\n",
    "                     height=600, width=600,\n",
    "                     hover_name=\"station\",\n",
    "                     hover_data=['network','station','channel','rate']);\n",
    "fig.update_geos(resolution=110, showcountries=True)\n"
   ]
  },
  {
   "cell_type": "code",
   "execution_count": null,
   "id": "f7fdd0e5",
   "metadata": {},
   "outputs": [],
   "source": [
    "fig = px.scatter_mapbox(data,\n",
    "                     lat='latitude',lon='longitude', \n",
    "                     range_color=(6,9),mapbox_style=\"carto-positron\",\n",
    "                     height=600, width=500,\n",
    "                     hover_name=\"station\",\n",
    "                     hover_data=['network','station','channel','rate']);\n",
    "fig.update_layout(title=\"Northern California Seismic Network\")\n",
    "fig.show()"
   ]
  },
  {
   "cell_type": "markdown",
   "id": "3991c460",
   "metadata": {},
   "source": [
    "## Pandas: data selection\n",
    "We can filter the data with the value taken by a given column:"
   ]
  },
  {
   "cell_type": "code",
   "execution_count": null,
   "id": "93c2423f",
   "metadata": {},
   "outputs": [],
   "source": [
    "data.loc[data.station=='KCPB']"
   ]
  },
  {
   "cell_type": "code",
   "execution_count": null,
   "id": "38240e8c",
   "metadata": {},
   "outputs": [],
   "source": [
    "# Select two stations, use the typical \"OR\" |\n",
    "data.loc[(data.station=='KCPB') | (data.station=='KHBB')]"
   ]
  },
  {
   "cell_type": "code",
   "execution_count": null,
   "id": "94f128ac",
   "metadata": {},
   "outputs": [],
   "source": [
    "# Select two stations, use the typical \"AND\" &\n",
    "data.loc[(data.station=='KCPB') & (data.channel=='HNZ')]"
   ]
  },
  {
   "cell_type": "code",
   "execution_count": null,
   "id": "435c696c",
   "metadata": {},
   "outputs": [],
   "source": [
    "# or like this\n",
    "data.loc[data.station.isin(['KCPB', 'KHBB'])]"
   ]
  },
  {
   "cell_type": "markdown",
   "id": "0c8cf1c9",
   "metadata": {},
   "source": [
    "We can access to a brief summary of the data:"
   ]
  },
  {
   "cell_type": "code",
   "execution_count": null,
   "id": "f86eb768",
   "metadata": {},
   "outputs": [],
   "source": [
    "data.station.describe()"
   ]
  },
  {
   "cell_type": "code",
   "execution_count": null,
   "id": "5b1aed53",
   "metadata": {},
   "outputs": [],
   "source": [
    "data.elevation.describe()"
   ]
  },
  {
   "cell_type": "markdown",
   "id": "84e821e4",
   "metadata": {},
   "source": [
    "We can perform standard operations on the whole data set:"
   ]
  },
  {
   "cell_type": "code",
   "execution_count": null,
   "id": "99f17636",
   "metadata": {},
   "outputs": [],
   "source": [
    "data.mean()"
   ]
  },
  {
   "cell_type": "markdown",
   "id": "f13dea1f",
   "metadata": {},
   "source": [
    "In the case of a categorical variable, we can get the list of possile values that this variable can take:"
   ]
  },
  {
   "cell_type": "code",
   "execution_count": null,
   "id": "de5c4ffc",
   "metadata": {},
   "outputs": [],
   "source": [
    "data.channel.unique()"
   ]
  },
  {
   "cell_type": "markdown",
   "id": "2750a7ec",
   "metadata": {},
   "source": [
    "and get the number of times that each value is taken:"
   ]
  },
  {
   "cell_type": "code",
   "execution_count": null,
   "id": "50049411",
   "metadata": {},
   "outputs": [],
   "source": [
    "data.station.value_counts()"
   ]
  },
  {
   "cell_type": "markdown",
   "id": "b92f2364",
   "metadata": {},
   "source": [
    "The second option is to use the apply function:"
   ]
  },
  {
   "cell_type": "code",
   "execution_count": null,
   "id": "9d2fd2c5",
   "metadata": {},
   "outputs": [],
   "source": [
    "data_elevation_mean=data.elevation.unique().mean()\n",
    "def remean_elevation(row):\n",
    "    row.elevation = row.elevation - data_elevation_mean\n",
    "    return row\n",
    "data.apply(remean_elevation, axis='columns')"
   ]
  },
  {
   "cell_type": "markdown",
   "id": "5bfaf7a3",
   "metadata": {},
   "source": [
    "We can also carry out simple operations on columns, provided they make sense."
   ]
  },
  {
   "cell_type": "code",
   "execution_count": null,
   "id": "720d9c32",
   "metadata": {},
   "outputs": [],
   "source": [
    "netsta=(data.network + '.' + data.station)\n",
    "print(netsta)\n",
    "print(type(netsta))"
   ]
  },
  {
   "cell_type": "code",
   "execution_count": null,
   "id": "6f67e2f2",
   "metadata": {},
   "outputs": [],
   "source": [
    "netsta=(data.network + '.' + data.station).values\n",
    "print(netsta)\n",
    "print(type(netsta))"
   ]
  },
  {
   "cell_type": "markdown",
   "id": "0b4800d2",
   "metadata": {},
   "source": [
    "A useful feature is to group the rows depending on the value of a categorical variable, and then apply the same operation to all the groups. For instance, we want to know how many times each station appears in the file:"
   ]
  },
  {
   "cell_type": "code",
   "execution_count": null,
   "id": "eb628370",
   "metadata": {},
   "outputs": [],
   "source": [
    "data.groupby('station').station.count()"
   ]
  },
  {
   "cell_type": "markdown",
   "id": "b104a322",
   "metadata": {},
   "source": [
    "We can have access to the data type of each column:"
   ]
  },
  {
   "cell_type": "code",
   "execution_count": null,
   "id": "7a8a5666",
   "metadata": {},
   "outputs": [],
   "source": [
    "data.dtypes"
   ]
  },
  {
   "cell_type": "markdown",
   "id": "1dc2becd",
   "metadata": {},
   "source": [
    "Here, pandas does not recognize the start_time and end_time columns as a datetime format, so we cannot use datetime operations on them. We first need to convert these columns into a datetime format:"
   ]
  },
  {
   "cell_type": "code",
   "execution_count": null,
   "id": "81aceba7",
   "metadata": {},
   "outputs": [],
   "source": [
    "data.start_time.values()"
   ]
  },
  {
   "cell_type": "code",
   "execution_count": null,
   "id": "42ca267f",
   "metadata": {},
   "outputs": [],
   "source": [
    "type(data['start_time'][0])"
   ]
  },
  {
   "cell_type": "code",
   "execution_count": null,
   "id": "985b6de3",
   "metadata": {},
   "outputs": [],
   "source": [
    "# Transform column from string into datetime format\n",
    "startdate = pd.to_datetime(data['start_time'], format='%Y/%m/%d,%H:%M:%S')\n",
    "data['start_time'] = startdate\n",
    "print(data['start_time'] )\n",
    "type(data['start_time'][0])"
   ]
  },
  {
   "cell_type": "code",
   "execution_count": null,
   "id": "43af3a25",
   "metadata": {},
   "outputs": [],
   "source": [
    "print(data['end_time'])"
   ]
  },
  {
   "cell_type": "code",
   "execution_count": null,
   "id": "a5afd1b1",
   "metadata": {},
   "outputs": [],
   "source": [
    "# do the same for end times\n",
    "# Avoid 'OutOfBoundsDatetime' error with year 3000\n",
    "enddate = data['end_time'].str.replace('3000', '2025')\n",
    "enddate = pd.to_datetime(enddate, format='%Y/%m/%d,%H:%M:%S')\n",
    "data['end_time'] = enddate"
   ]
  },
  {
   "cell_type": "markdown",
   "id": "5fe088ce",
   "metadata": {},
   "source": [
    "We can now look when each seismic station was installed:"
   ]
  },
  {
   "cell_type": "code",
   "execution_count": null,
   "id": "6aea9f1f",
   "metadata": {},
   "outputs": [],
   "source": [
    "data.groupby('station').apply(lambda df: df.start_time.min())"
   ]
  },
  {
   "cell_type": "markdown",
   "id": "d107f1b9",
   "metadata": {},
   "source": [
    "The ``agg`` function allows to carry out several operations to each group of rows:"
   ]
  },
  {
   "cell_type": "markdown",
   "id": "0a86283e",
   "metadata": {},
   "source": [
    "Select the stations that were deployed first and recovered last"
   ]
  },
  {
   "cell_type": "code",
   "execution_count": null,
   "id": "2f2fe517",
   "metadata": {},
   "outputs": [],
   "source": [
    "data.groupby(['station']).agg({'start_time':lambda x: min(x), 'end_time':lambda x: max(x)})"
   ]
  },
  {
   "cell_type": "markdown",
   "id": "b8509ce2",
   "metadata": {},
   "source": [
    "We can also make groups by selecting the values of two categorical variables:"
   ]
  },
  {
   "cell_type": "code",
   "execution_count": null,
   "id": "dc59c0b1",
   "metadata": {},
   "outputs": [],
   "source": [
    "data.groupby(['station', 'channel']).agg({'start_time':lambda x: min(x), 'end_time':lambda x: max(x)})"
   ]
  },
  {
   "cell_type": "markdown",
   "id": "8ff5c978",
   "metadata": {},
   "source": [
    "Previously, we just printed the output, but we can also store it in a new variable:"
   ]
  },
  {
   "cell_type": "code",
   "execution_count": null,
   "id": "81c5a7f7",
   "metadata": {},
   "outputs": [],
   "source": [
    "data_grouped = data.groupby(['station', 'channel']).agg({'start_time':lambda x: min(x), 'end_time':lambda x: max(x)})"
   ]
  },
  {
   "cell_type": "markdown",
   "id": "77003692",
   "metadata": {},
   "source": [
    "Print the new dataframe and look at the rows indexes. Anything wrong?"
   ]
  },
  {
   "cell_type": "code",
   "execution_count": null,
   "id": "49ceaad6",
   "metadata": {},
   "outputs": [],
   "source": [
    "# enter code here"
   ]
  },
  {
   "cell_type": "markdown",
   "id": "21a14e87",
   "metadata": {},
   "source": [
    "When we select only some rows, the index is not automatically reset to start at 0. We can do it manually. Many functions in pandas have also an option to reset the index, and option to transform the dataframe in place, instead of saving the results in another variable."
   ]
  },
  {
   "cell_type": "code",
   "execution_count": null,
   "id": "75e91221",
   "metadata": {},
   "outputs": [],
   "source": [
    "data_grouped.reset_index()"
   ]
  },
  {
   "cell_type": "markdown",
   "id": "ca2c76c3",
   "metadata": {},
   "source": [
    "It is also possible to sort the dataset by value."
   ]
  },
  {
   "cell_type": "code",
   "execution_count": null,
   "id": "00fe3413",
   "metadata": {},
   "outputs": [],
   "source": [
    "data_grouped.sort_values(by='start_time')"
   ]
  },
  {
   "cell_type": "markdown",
   "id": "d6cdcd7c",
   "metadata": {},
   "source": [
    "We can apply the sorting to several columns:"
   ]
  },
  {
   "cell_type": "code",
   "execution_count": null,
   "id": "166b989c",
   "metadata": {},
   "outputs": [],
   "source": [
    "data_grouped.sort_values(by=['start_time', 'end_time'])"
   ]
  },
  {
   "cell_type": "markdown",
   "id": "23573492",
   "metadata": {},
   "source": [
    "## CSV vs Parquet\n",
    "\n",
    "Parquet is a compressed data format that stores and compress the culumns. It is fast for I/O and compact formt.\n",
    "\n",
    "Save ``data`` into a CSV file:"
   ]
  },
  {
   "cell_type": "code",
   "execution_count": null,
   "id": "62e8b69a",
   "metadata": {},
   "outputs": [],
   "source": [
    "%timeit data.to_csv(\"my_metadata.csv\")\n",
    "!ls -lh my_metadata.csv"
   ]
  },
  {
   "cell_type": "markdown",
   "id": "15631b4c",
   "metadata": {},
   "source": [
    "Try and save in Parquet, compare time and memory"
   ]
  },
  {
   "cell_type": "code",
   "execution_count": null,
   "id": "246e059c",
   "metadata": {},
   "outputs": [],
   "source": [
    "%timeit data.to_parquet(\"my_metadata.pq\")\n",
    "!ls -lh my_metadata.pq"
   ]
  }
 ],
 "metadata": {
  "kernelspec": {
   "display_name": "Python 3 (ipykernel)",
   "language": "python",
   "name": "python3"
  },
  "language_info": {
   "codemirror_mode": {
    "name": "ipython",
    "version": 3
   },
   "file_extension": ".py",
   "mimetype": "text/x-python",
   "name": "python",
   "nbconvert_exporter": "python",
   "pygments_lexer": "ipython3",
   "version": "3.8.13"
  },
  "vscode": {
   "interpreter": {
    "hash": "a6825af05e3ea1f79f5651bdd3095330bdaee3a1e3958825bcb0ebbb42c21bf2"
   }
  }
 },
 "nbformat": 4,
 "nbformat_minor": 5
}
