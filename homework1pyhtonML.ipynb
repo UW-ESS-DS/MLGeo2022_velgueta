{
 "cells": [
  {
   "cell_type": "code",
   "execution_count": 17,
   "id": "96ce3fd3-3cdb-427f-bbd3-a633fdab1d40",
   "metadata": {},
   "outputs": [],
   "source": [
    "import numpy as np\n",
    "import matplotlib.pyplot as mp\n",
    "import scipy as sp"
   ]
  },
  {
   "cell_type": "code",
   "execution_count": null,
   "id": "41ccb335-db65-4bae-8797-3b5b930e1eef",
   "metadata": {},
   "outputs": [],
   "source": []
  },
  {
   "cell_type": "code",
   "execution_count": 2,
   "id": "ffc934b9-35e9-4c58-90ea-c6ff9f849af7",
   "metadata": {},
   "outputs": [],
   "source": [
    "#declare list and NumPy arrays\n",
    "#declare basic python functions, and make simple Matplotlib figures to be saved in PNGs."
   ]
  },
  {
   "cell_type": "code",
   "execution_count": 3,
   "id": "899db64e-180e-4ee5-822b-bc335623e495",
   "metadata": {},
   "outputs": [
    {
     "name": "stdout",
     "output_type": "stream",
     "text": [
      "[0, 2, 4, 6, 8, 10, 12, 14, 16, 18, 20]\n"
     ]
    }
   ],
   "source": [
    "#making a list \n",
    "x=[0,2,4,6,8,10,12,14,16,18,20]\n",
    "print(x)\n"
   ]
  },
  {
   "cell_type": "code",
   "execution_count": 4,
   "id": "7e32023b-16ea-4c49-ae7b-fa0e6dfcbfc0",
   "metadata": {},
   "outputs": [
    {
     "name": "stdout",
     "output_type": "stream",
     "text": [
      "[ 0  2  4  6  8 10 12 14 16 18 20]\n"
     ]
    }
   ],
   "source": [
    "x_tranp=np.transpose(x)\n",
    "print(x_tranp)\n"
   ]
  },
  {
   "cell_type": "code",
   "execution_count": 9,
   "id": "bf139b9e-5d8a-4c7d-a6af-bf3a9d98a1bb",
   "metadata": {},
   "outputs": [
    {
     "name": "stdout",
     "output_type": "stream",
     "text": [
      "[0 1 2 3 4 5 6 7 8 9]\n",
      "[ 5  6  7  8  9 10 11 12 13 14 15 16 17 18 19 20 21 22 23 24 25 26 27 28\n",
      " 29 30 31 32 33 34 35 36 37 38 39 40 41 42 43 44 45 46 47 48 49 50 51 52\n",
      " 53 54 55 56 57 58 59 60 61 62 63 64 65 66 67 68 69 70 71 72 73 74 75 76\n",
      " 77 78 79 80 81 82 83 84 85 86 87 88 89 90 91 92 93 94 95 96 97 98 99]\n",
      "[ 5 10 15 20 25 30 35 40 45 50 55 60 65 70 75 80 85 90 95]\n"
     ]
    }
   ],
   "source": [
    "#NumPy arrays\n",
    "z=np.arange(10)\n",
    "print(z)\n",
    "zz=np.arange(5,100)\n",
    "print(zz)\n",
    "zzz=np.arange(5,100,5)\n",
    "print(zzz)"
   ]
  },
  {
   "cell_type": "code",
   "execution_count": 10,
   "id": "43128e3a-0953-49ee-83f1-6f12fdc430ef",
   "metadata": {},
   "outputs": [],
   "source": [
    "#declare basic python functions\n",
    "#atempt"
   ]
  },
  {
   "cell_type": "code",
   "execution_count": 11,
   "id": "96deafee-f6a6-4a4f-b03e-dfb26c1c5df2",
   "metadata": {},
   "outputs": [
    {
     "name": "stdout",
     "output_type": "stream",
     "text": [
      "H\n",
      "e\n",
      "l\n",
      "l\n",
      "o\n",
      " \n",
      "W\n",
      "o\n",
      "r\n",
      "l\n",
      "d\n"
     ]
    }
   ],
   "source": [
    "st = \"Hello World\"\n",
    "for x in st:\n",
    "    print(x)\n",
    "    "
   ]
  },
  {
   "cell_type": "code",
   "execution_count": null,
   "id": "68a08305-b29c-4b27-8062-6bd8b5d181d3",
   "metadata": {},
   "outputs": [],
   "source": []
  },
  {
   "cell_type": "code",
   "execution_count": 15,
   "id": "db31b68b-adf6-4284-8d74-cded0a99b2f7",
   "metadata": {},
   "outputs": [],
   "source": [
    "for w in range(10):\n",
    "    if w == 5:\n",
    "        break\n",
    "    "
   ]
  },
  {
   "cell_type": "code",
   "execution_count": 45,
   "id": "53da9fc7-d9b7-4a6d-bb6f-922913ad9ba7",
   "metadata": {},
   "outputs": [
    {
     "data": {
      "image/png": "[encoded data removed]",
      "text/plain": [
       "<Figure size 432x288 with 1 Axes>"
      ]
     },
     "metadata": {
      "needs_background": "light"
     },
     "output_type": "display_data"
    }
   ],
   "source": [
    "t=np.arange(5,50,5)\n",
    "space_x=t*t\n",
    "\n",
    "figure=mp.plot(t,space_x)\n",
    "mp.title('parábola')\n",
    "mp.xlabel('Time (s)')\n",
    "mp.ylabel('Distance (m)')\n",
    "mp.rc('font',size=20)\n",
    "mp.savefig('figure.png', format=\"png\")\n",
    "mp.show()\n"
   ]
  },
  {
   "cell_type": "code",
   "execution_count": null,
   "id": "b8ee610a-4f5f-4a14-b825-ef00eedf39d7",
   "metadata": {},
   "outputs": [],
   "source": []
  },
  {
   "cell_type": "code",
   "execution_count": null,
   "id": "8279cab8-56d5-4337-ae95-b04fc3f05527",
   "metadata": {},
   "outputs": [],
   "source": []
  },
  {
   "cell_type": "code",
   "execution_count": null,
   "id": "3dd95480-9de9-4eea-800b-3990f0a3ee22",
   "metadata": {},
   "outputs": [],
   "source": []
  },
  {
   "cell_type": "code",
   "execution_count": null,
   "id": "5eba3829-32ad-4f7f-a550-d2628874ae3b",
   "metadata": {},
   "outputs": [],
   "source": []
  },
  {
   "cell_type": "code",
   "execution_count": null,
   "id": "e99f1694-9fdf-4d4d-b427-491ca54ab6e2",
   "metadata": {},
   "outputs": [],
   "source": []
  },
  {
   "cell_type": "code",
   "execution_count": null,
   "id": "cbd3e13f-a55b-4e0f-9d9c-84231740e02d",
   "metadata": {},
   "outputs": [],
   "source": []
  },
  {
   "cell_type": "code",
   "execution_count": null,
   "id": "5f9d5471-9942-4bad-b800-86773e10f87e",
   "metadata": {},
   "outputs": [],
   "source": []
  },
  {
   "cell_type": "code",
   "execution_count": null,
   "id": "0136b3a1-14e8-418b-8889-63e92c47e00b",
   "metadata": {},
   "outputs": [],
   "source": []
  },
  {
   "cell_type": "code",
   "execution_count": null,
   "id": "9ef3f9aa-9f18-46f8-90e3-f0b3ffeb20f8",
   "metadata": {},
   "outputs": [],
   "source": []
  },
  {
   "cell_type": "code",
   "execution_count": null,
   "id": "991d8ddf-e9c2-4856-87ff-0c3f49e86f7c",
   "metadata": {},
   "outputs": [],
   "source": []
  },
  {
   "cell_type": "code",
   "execution_count": null,
   "id": "9b061f7e-63ee-4020-a601-4448c631639d",
   "metadata": {},
   "outputs": [],
   "source": []
  },
  {
   "cell_type": "code",
   "execution_count": null,
   "id": "b02a023b-ae2c-4a86-8f4b-9ceb7d854ae8",
   "metadata": {},
   "outputs": [],
   "source": []
  },
  {
   "cell_type": "code",
   "execution_count": null,
   "id": "9ca232ab-e65b-49ed-aabd-3ed790a7bf06",
   "metadata": {},
   "outputs": [],
   "source": []
  },
  {
   "cell_type": "code",
   "execution_count": null,
   "id": "0a00f44e-a648-47d6-a984-0be097a1721e",
   "metadata": {},
   "outputs": [],
   "source": []
  },
  {
   "cell_type": "code",
   "execution_count": null,
   "id": "00eb327b-a9a7-4f09-b385-bfe7ca5c43bc",
   "metadata": {},
   "outputs": [],
   "source": []
  },
  {
   "cell_type": "code",
   "execution_count": null,
   "id": "e151fa68-2c9a-4da3-82d5-a44cb88bca2f",
   "metadata": {},
   "outputs": [],
   "source": []
  },
  {
   "cell_type": "code",
   "execution_count": null,
   "id": "0f6e5b6b-2fed-4a9a-b8f6-57c1836b2b6a",
   "metadata": {},
   "outputs": [],
   "source": []
  },
  {
   "cell_type": "code",
   "execution_count": null,
   "id": "8cf805ff-f8b1-451d-8907-239f8ba57ec2",
   "metadata": {},
   "outputs": [],
   "source": []
  },
  {
   "cell_type": "code",
   "execution_count": null,
   "id": "e6812f1e-b1d5-4dce-b133-4077c130ba03",
   "metadata": {},
   "outputs": [],
   "source": []
  },
  {
   "cell_type": "code",
   "execution_count": null,
   "id": "fb042946-f1e0-4a00-b1ed-15defed9d925",
   "metadata": {},
   "outputs": [],
   "source": []
  },
  {
   "cell_type": "code",
   "execution_count": null,
   "id": "ad93fb23-c30c-4246-bb65-fc3707e35980",
   "metadata": {},
   "outputs": [],
   "source": []
  },
  {
   "cell_type": "code",
   "execution_count": null,
   "id": "990ebc4f-cb65-45e4-8ec1-899f13965256",
   "metadata": {},
   "outputs": [],
   "source": []
  },
  {
   "cell_type": "code",
   "execution_count": null,
   "id": "3e11b867-eb52-466f-851d-988e703aa55b",
   "metadata": {},
   "outputs": [],
   "source": []
  }
 ],
 "metadata": {
  "kernelspec": {
   "display_name": "Python 3 (ipykernel)",
   "language": "python",
   "name": "python3"
  },
  "language_info": {
   "codemirror_mode": {
    "name": "ipython",
    "version": 3
   },
   "file_extension": ".py",
   "mimetype": "text/x-python",
   "name": "python",
   "nbconvert_exporter": "python",
   "pygments_lexer": "ipython3",
   "version": "3.8.13"
  }
 },
 "nbformat": 4,
 "nbformat_minor": 5
}
